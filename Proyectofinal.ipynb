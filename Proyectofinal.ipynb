{
 "cells": [
  {
   "cell_type": "markdown",
   "id": "443d80fb",
   "metadata": {},
   "source": [
    "Base de dato de injuries"
   ]
  },
  {
   "cell_type": "code",
   "execution_count": null,
   "id": "2be8b18d",
   "metadata": {},
   "outputs": [],
   "source": [
    "import pandas as pd\n",
    "import re\n",
    "\n",
    "def extract_injury_info(text):\n",
    "    if not isinstance(text, str) or pd.isna(text):\n",
    "        return pd.Series({\n",
    "            'anatomical_area': 'not_specified',\n",
    "            'injury_type': 'not_specified',\n",
    "            'status': 'not_specified'\n",
    "        })\n",
    "    \n",
    "    # Limpieza básica del texto\n",
    "    text = text.lower().strip()\n",
    "    text = re.sub(r'\\s+', ' ', text)  # quita espacios duplicados\n",
    "    text = re.sub(r'[(){}[\\]]', '', text)  # quita paréntesis y corchetes\n",
    "\n",
    "    # Correcciones de errores comunes\n",
    "    typo_corrections = {\n",
    "        \"outindefinetily\": \"out indefinitely\",\n",
    "        \"outindefinately\": \"out indefinitely\",\n",
    "        \"out indefinately\": \"out indefinitely\",\n",
    "        \"out indefinetly\": \"out indefinitely\",\n",
    "        \"out indefinetely\": \"out indefinitely\"\n",
    "    }\n",
    "    for typo, correction in typo_corrections.items():\n",
    "        text = text.replace(typo, correction)\n",
    "\n",
    "    # Anatomical areas\n",
    "    anatomical_areas = {\n",
    "        'knee': r'knee|patella|acl|mcl|pcl',\n",
    "        'ankle': r'ankle',\n",
    "        'shoulder': r'shoulder',\n",
    "        'wrist': r'wrist',\n",
    "        'back': r'back',\n",
    "        'hamstring': r'hamstring',\n",
    "        'achilles': r'achilles',\n",
    "        'foot': r'foot',\n",
    "        'hip': r'hip',\n",
    "        'elbow': r'elbow',\n",
    "        'hand': r'hand|finger|pinky|thumb',\n",
    "        'neck': r'neck',\n",
    "        'groin': r'groin',\n",
    "        'quad': r'quad'\n",
    "    }\n",
    "\n",
    "    # Injury types\n",
    "    injury_types = {\n",
    "        'fracture': r'fracture|broken|stress fracture',\n",
    "        'sprain': r'sprain',\n",
    "        'dislocation': r'dislocat|luxation',\n",
    "        'tear': r'tear|rupture|torn',\n",
    "        'surgery': r'surgery|procedure',\n",
    "        'strain': r'strain|pull',\n",
    "        'contusion': r'contusion|bruise',\n",
    "        'pain': r'pain|soreness|tightness'\n",
    "    }\n",
    "\n",
    "    # Anatomical area\n",
    "    anatomical_area = 'not_specified'\n",
    "    for area, pattern in anatomical_areas.items():\n",
    "        if re.search(pattern, text):\n",
    "            anatomical_area = area\n",
    "            break\n",
    "\n",
    "    # Injury type\n",
    "    injury_type = 'other'\n",
    "    for injury, pattern in injury_types.items():\n",
    "        if re.search(pattern, text):\n",
    "            injury_type = injury\n",
    "            break\n",
    "\n",
    "    # Injury status\n",
    "    if \"out indefinitely\" in text:\n",
    "        status = 'out_indefinitely'\n",
    "    elif re.search(r'out for season|il|inactive', text):\n",
    "        status = 'IL'\n",
    "    elif re.search(r'returned to lineup|activated|available', text):\n",
    "        status = 'returned'\n",
    "    else:\n",
    "        status = 'active'\n",
    "\n",
    "    return pd.Series({\n",
    "        'anatomical_area': anatomical_area,\n",
    "        'injury_type': injury_type,\n",
    "        'status': status\n",
    "    })\n",
    "\n",
    "\n",
    "# Load the dataset\n",
    "lesiones = pd.read_csv(r'C:\\Users\\CamiUribe\\OneDrive\\Desktop\\Lesiones 2010-2020 con ID.csv')\n",
    "\n",
    "# Clean column names\n",
    "lesiones.columns = lesiones.columns.str.strip()\n",
    "\n",
    "# Print column names to verify\n",
    "print(\"Columnas en el DataFrame:\", lesiones.columns)\n",
    "\n",
    "# Check the first few rows of the DataFrame\n",
    "print(lesiones.head())\n",
    "\n",
    "# Apply the function to the 'Notes' column\n",
    "if 'Notes' in lesiones.columns:\n",
    "    # Apply the function and create a DataFrame directly\n",
    "    parsed_data = lesiones['Notes'].apply(extract_injury_info)\n",
    "    \n",
    "    # No need to convert to list, parsed_data is already a DataFrame\n",
    "    lesiones = pd.concat([lesiones, parsed_data], axis=1)\n",
    "\n",
    "    # Display the updated DataFrame\n",
    "    print(lesiones[['Notes', 'anatomical_area', 'injury_type', 'status']].head())\n",
    "else:\n",
    "    print(\"La columna 'Notes' no se encuentra en el DataFrame.\")\n",
    "\n",
    "\n",
    "print(lesiones)\n",
    "\n",
    "\n",
    "\n"
   ]
  },
  {
   "cell_type": "markdown",
   "id": "1826b8b6",
   "metadata": {},
   "source": [
    "Analiis EDA del archivo "
   ]
  },
  {
   "cell_type": "code",
   "execution_count": null,
   "id": "f60f7bdc",
   "metadata": {},
   "outputs": [],
   "source": [
    "#tipos de datos en la tabla\n",
    "lesiones.info()"
   ]
  },
  {
   "cell_type": "code",
   "execution_count": null,
   "id": "31c51000",
   "metadata": {},
   "outputs": [],
   "source": [
    "# hallazgo de nulos\n",
    "lesiones.isnull().sum()"
   ]
  },
  {
   "cell_type": "code",
   "execution_count": null,
   "id": "b9e9bbf1",
   "metadata": {},
   "outputs": [],
   "source": [
    "duplicado = lesiones.duplicated()\n",
    "print('Los duplicados son:', duplicado)"
   ]
  },
  {
   "cell_type": "markdown",
   "id": "e456dbb2",
   "metadata": {},
   "source": [
    "ANALISIS DESCRIPTIVO "
   ]
  },
  {
   "cell_type": "code",
   "execution_count": null,
   "id": "5af59c18",
   "metadata": {},
   "outputs": [],
   "source": [
    "# Analisis descriptivo\n",
    "lesiones.describe()\n"
   ]
  },
  {
   "cell_type": "code",
   "execution_count": null,
   "id": "a13b7b6a",
   "metadata": {},
   "outputs": [],
   "source": [
    "# Analisis descptivo (graficas)\n",
    "import seaborn as sns\n",
    "import matplotlib.pyplot as plt\n",
    "\n",
    "print(lesiones.head())\n",
    "\n",
    "#calculo de frecuencias absolutas\n",
    "\n",
    "columnas = ['Relinquished', 'Notes', 'ID', 'anatomical_area', 'injury_type', 'status']\n",
    "\n",
    "for col in columnas:\n",
    "    print(f\"Frecuencia absoluta de '{col}':\")\n",
    "    print(lesiones[col].value_counts(dropna=False))\n",
    "    print(\"\\n\" + \"-\"*50 + \"\\n\")"
   ]
  },
  {
   "cell_type": "code",
   "execution_count": null,
   "id": "0c2ab5ee",
   "metadata": {},
   "outputs": [],
   "source": [
    "#calculo de frecuencias absolutas\n",
    "\n",
    "columnas = ['Relinquished', 'Notes', 'anatomical_area', 'injury_type', 'status']\n",
    "\n",
    "\n",
    "for col in columnas:\n",
    "    frecuencias = lesiones[col].value_counts(dropna=False).head(10)  # Solo las 10 más frecuentes\n",
    "\n",
    "    plt.figure(figsize=(10, 5))\n",
    "    frecuencias.plot(kind='bar', color='skyblue', edgecolor='black')\n",
    "\n",
    "    plt.title(f\"Top 10 categorías de '{col}'\", fontsize=14)\n",
    "    plt.xlabel(col, fontsize=12)\n",
    "    plt.ylabel(\"Frecuencia\", fontsize=12)\n",
    "    plt.xticks(rotation=45, ha='right')\n",
    "    plt.tight_layout()\n",
    "    plt.grid(axis='y', linestyle='--', alpha=0.7)"
   ]
  },
  {
   "cell_type": "code",
   "execution_count": null,
   "id": "6387fa35",
   "metadata": {},
   "outputs": [],
   "source": [
    "#Frecuencia relativas> \n",
    "\n",
    "columns = ['Relinquished', 'Notes', 'anatomical_area', 'injury_type', 'status']\n",
    "\n",
    "for col in columns:\n",
    "    frecuencia_rel = lesiones[col].value_counts(normalize=True, dropna=False).head(10) * 100\n",
    "\n",
    "    plt.figure(figsize=(10, 5))\n",
    "    frecuencia_rel.plot(kind='bar', color='red', edgecolor='black')\n",
    "\n",
    "    plt.title(f\"Top 10 categorías de '{col}'\", fontsize=14)\n",
    "    plt.xlabel(col, fontsize=12)\n",
    "    plt.ylabel(\"Frecuencia relativa (%)\", fontsize=12)\n",
    "    plt.xticks(rotation=45, ha='right')\n",
    "    plt.tight_layout()\n",
    "    plt.grid(axis='y', linestyle='--', alpha=0.7)\n",
    "\n",
    "    plt.show()\n"
   ]
  },
  {
   "cell_type": "code",
   "execution_count": 13,
   "id": "30606414",
   "metadata": {},
   "outputs": [
    {
     "name": "stdout",
     "output_type": "stream",
     "text": [
      "Moda de 'Date': ['16-04-14']\n",
      "--------------------------------------------------\n",
      "Moda de 'Relinquished': ['Kevin Love']\n",
      "--------------------------------------------------\n",
      "Moda de 'Notes': ['activated from IL']\n",
      "--------------------------------------------------\n",
      "Moda de 'anatomical_area': ['not_specified']\n",
      "--------------------------------------------------\n",
      "Moda de 'injury_type': ['other']\n",
      "--------------------------------------------------\n",
      "Moda de 'status': ['IL']\n",
      "--------------------------------------------------\n"
     ]
    }
   ],
   "source": [
    "# MODA \n",
    "columnas = ['Date','Relinquished', 'Notes', 'anatomical_area', 'injury_type', 'status']\n",
    "\n",
    "for col in columnas:\n",
    "    moda = lesiones[col].mode()\n",
    "    print(f\"Moda de '{col}': {list(moda)}\")  # En lista por si hay más de una\n",
    "    print(\"-\" * 50)"
   ]
  },
  {
   "cell_type": "code",
   "execution_count": 18,
   "id": "3d420991",
   "metadata": {},
   "outputs": [
    {
     "name": "stdout",
     "output_type": "stream",
     "text": [
      "la media es: 2015-09-05 05:46:29.551743232\n"
     ]
    }
   ],
   "source": [
    "# Media de la fecha\n",
    "lesiones['Date'] = pd.to_datetime(lesiones['Date'])\n",
    "\n",
    "Media_Date= lesiones['Date'].mean()\n",
    "print(\"la media es:\", Media_Date)"
   ]
  }
 ],
 "metadata": {
  "kernelspec": {
   "display_name": "Python 3",
   "language": "python",
   "name": "python3"
  },
  "language_info": {
   "codemirror_mode": {
    "name": "ipython",
    "version": 3
   },
   "file_extension": ".py",
   "mimetype": "text/x-python",
   "name": "python",
   "nbconvert_exporter": "python",
   "pygments_lexer": "ipython3",
   "version": "3.13.5"
  }
 },
 "nbformat": 4,
 "nbformat_minor": 5
}
