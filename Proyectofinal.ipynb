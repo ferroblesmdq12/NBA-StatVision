{
 "cells": [
  {
   "cell_type": "markdown",
   "id": "443d80fb",
   "metadata": {},
   "source": [
    "Base de dato de injuries"
   ]
  },
  {
   "cell_type": "code",
   "execution_count": 2,
   "id": "2be8b18d",
   "metadata": {},
   "outputs": [
    {
     "name": "stdout",
     "output_type": "stream",
     "text": [
      "Columnas en el DataFrame: Index(['Date', 'Team', 'Nombre', 'Acquired', 'Relinquished', 'Notes', 'ID'], dtype='object')\n",
      "       Date     Team         Nombre Acquired   Relinquished  \\\n",
      "0  03-10-10    Bulls  Carlos Boozer      NaN  Carlos Boozer   \n",
      "1  06-10-10  Pistons  Jonas Jerebko      NaN  Jonas Jerebko   \n",
      "2  06-10-10  Pistons  Terrico White      NaN  Terrico White   \n",
      "3  08-10-10  Blazers     Jeff Ayres      NaN     Jeff Ayres   \n",
      "4  08-10-10     Nets    Troy Murphy      NaN    Troy Murphy   \n",
      "\n",
      "                                               Notes      ID  \n",
      "0  fractured bone in right pinky finger (out inde...    2430  \n",
      "1      torn right Achilles tendon (out indefinitely)  201973  \n",
      "2  broken fifth metatarsal in right foot (out ind...  202358  \n",
      "3          torn ACL in right knee (out indefinitely)  201965  \n",
      "4             strained lower back (out indefinitely)    2211  \n",
      "                                               Notes anatomical_area  \\\n",
      "0  fractured bone in right pinky finger (out inde...   not_specified   \n",
      "1      torn right Achilles tendon (out indefinitely)        achilles   \n",
      "2  broken fifth metatarsal in right foot (out ind...            foot   \n",
      "3          torn ACL in right knee (out indefinitely)            knee   \n",
      "4             strained lower back (out indefinitely)            back   \n",
      "\n",
      "  injury_type  status  \n",
      "0    fracture  active  \n",
      "1        tear      IL  \n",
      "2    fracture  active  \n",
      "3        tear  active  \n",
      "4      strain  active  \n",
      "           Date     Team         Nombre      Acquired   Relinquished  \\\n",
      "0      03-10-10    Bulls  Carlos Boozer           NaN  Carlos Boozer   \n",
      "1      06-10-10  Pistons  Jonas Jerebko           NaN  Jonas Jerebko   \n",
      "2      06-10-10  Pistons  Terrico White           NaN  Terrico White   \n",
      "3      08-10-10  Blazers     Jeff Ayres           NaN     Jeff Ayres   \n",
      "4      08-10-10     Nets    Troy Murphy           NaN    Troy Murphy   \n",
      "...         ...      ...            ...           ...            ...   \n",
      "27100  30-09-20   Lakers   Dion Waiters  Dion Waiters            NaN   \n",
      "27101  02-10-20     Heat    Bam Adebayo           NaN    Bam Adebayo   \n",
      "27102  02-10-20     Heat   Goran Dragic           NaN   Goran Dragic   \n",
      "27103  02-10-20     Heat    Chris Silva   Chris Silva            NaN   \n",
      "27104  06-10-20     Heat    Bam Adebayo   Bam Adebayo            NaN   \n",
      "\n",
      "                                                   Notes       ID  \\\n",
      "0      fractured bone in right pinky finger (out inde...     2430   \n",
      "1          torn right Achilles tendon (out indefinitely)   201973   \n",
      "2      broken fifth metatarsal in right foot (out ind...   202358   \n",
      "3              torn ACL in right knee (out indefinitely)   201965   \n",
      "4                 strained lower back (out indefinitely)     2211   \n",
      "...                                                  ...      ...   \n",
      "27100                                  activated from IL   203079   \n",
      "27101                                strained neck (DTD)  1628389   \n",
      "27102  placed on IL with torn plantar fascia in left ...   201609   \n",
      "27103                                  activated from IL  1629735   \n",
      "27104                                 returned to lineup  1628389   \n",
      "\n",
      "      anatomical_area injury_type    status  \n",
      "0       not_specified    fracture    active  \n",
      "1            achilles        tear        IL  \n",
      "2                foot    fracture    active  \n",
      "3                knee        tear    active  \n",
      "4                back      strain    active  \n",
      "...               ...         ...       ...  \n",
      "27100   not_specified       other        IL  \n",
      "27101            neck      strain    active  \n",
      "27102            foot        tear        IL  \n",
      "27103   not_specified       other        IL  \n",
      "27104   not_specified       other  returned  \n",
      "\n",
      "[27105 rows x 10 columns]\n"
     ]
    }
   ],
   "source": [
    "import pandas as pd\n",
    "import re\n",
    "\n",
    "def extract_injury_info(text):\n",
    "    if not isinstance(text, str) or pd.isna(text):\n",
    "        return pd.Series({\n",
    "            'anatomical_area': 'not_specified',\n",
    "            'injury_type': 'not_specified',\n",
    "            'status': 'not_specified'\n",
    "        })\n",
    "    \n",
    "    text = text.lower().strip()\n",
    "    \n",
    "    # Anatomical areas\n",
    "    anatomical_areas = {\n",
    "        'knee': r'knee|patella|acl|mcl|pcl',\n",
    "        'ankle': r'ankle',\n",
    "        'shoulder': r'shoulder',\n",
    "        'wrist': r'wrist',\n",
    "        'back': r'back',\n",
    "        'hamstring': r'hamstring',\n",
    "        'achilles': r'achilles',\n",
    "        'foot': r'foot',\n",
    "        'hip': r'hip',\n",
    "        'elbow': r'elbow',\n",
    "        'hand': r'hand',\n",
    "        'neck': r'neck',\n",
    "        'groin': r'groin',\n",
    "        'quad': r'quad'\n",
    "    }\n",
    "    \n",
    "    # Injury types\n",
    "    injury_types = {\n",
    "        'fracture': r'fracture|broken|stress fracture',\n",
    "        'sprain': r'sprain',\n",
    "        'dislocation': r'dislocat|luxation',\n",
    "        'tear': r'tear|rupture|torn',\n",
    "        'surgery': r'surgery|procedure',\n",
    "        'strain': r'strain|pull',\n",
    "        'contusion': r'contusion|bruise',\n",
    "        'pain': r'pain|soreness|tightness'\n",
    "    }\n",
    "    \n",
    "    # Extract anatomical area\n",
    "    anatomical_area = 'not_specified'\n",
    "    for area, pattern in anatomical_areas.items():\n",
    "        if re.search(pattern, text):\n",
    "            anatomical_area = area\n",
    "            break\n",
    "    \n",
    "    # Extract injury type\n",
    "    injury_type = 'other'\n",
    "    for injury, pattern in injury_types.items():\n",
    "        if re.search(pattern, text):\n",
    "            injury_type = injury\n",
    "            break\n",
    "    \n",
    "    # Determine status\n",
    "    status = 'active'\n",
    "    if re.search(r'out for season|il|inactive', text):\n",
    "        status = 'IL'\n",
    "    elif re.search(r'returned to lineup|activated|available', text):\n",
    "        status = 'returned'\n",
    "    \n",
    "    return pd.Series({\n",
    "        'anatomical_area': anatomical_area,\n",
    "        'injury_type': injury_type,\n",
    "        'status': status\n",
    "    })\n",
    "\n",
    "# Load the dataset\n",
    "lesiones = pd.read_csv(r'C:\\Users\\CamiUribe\\OneDrive\\Desktop\\Lesiones 2010-2020 con ID.csv')\n",
    "\n",
    "# Clean column names\n",
    "lesiones.columns = lesiones.columns.str.strip()\n",
    "\n",
    "# Print column names to verify\n",
    "print(\"Columnas en el DataFrame:\", lesiones.columns)\n",
    "\n",
    "# Check the first few rows of the DataFrame\n",
    "print(lesiones.head())\n",
    "\n",
    "# Apply the function to the 'Notes' column\n",
    "if 'Notes' in lesiones.columns:\n",
    "    # Apply the function and create a DataFrame directly\n",
    "    parsed_data = lesiones['Notes'].apply(extract_injury_info)\n",
    "    \n",
    "    # No need to convert to list, parsed_data is already a DataFrame\n",
    "    lesiones = pd.concat([lesiones, parsed_data], axis=1)\n",
    "\n",
    "    # Display the updated DataFrame\n",
    "    print(lesiones[['Notes', 'anatomical_area', 'injury_type', 'status']].head())\n",
    "else:\n",
    "    print(\"La columna 'Notes' no se encuentra en el DataFrame.\")\n",
    "\n",
    "\n",
    "print(lesiones)\n",
    "\n",
    "\n",
    "\n"
   ]
  },
  {
   "cell_type": "markdown",
   "id": "1826b8b6",
   "metadata": {},
   "source": [
    "Analiis EDA del archivo "
   ]
  },
  {
   "cell_type": "code",
   "execution_count": 5,
   "id": "f60f7bdc",
   "metadata": {},
   "outputs": [
    {
     "name": "stdout",
     "output_type": "stream",
     "text": [
      "<class 'pandas.core.frame.DataFrame'>\n",
      "RangeIndex: 27105 entries, 0 to 27104\n",
      "Data columns (total 10 columns):\n",
      " #   Column           Non-Null Count  Dtype \n",
      "---  ------           --------------  ----- \n",
      " 0   Date             27105 non-null  object\n",
      " 1   Team             27103 non-null  object\n",
      " 2   Nombre           27101 non-null  object\n",
      " 3   Acquired         9542 non-null   object\n",
      " 4   Relinquished     17560 non-null  object\n",
      " 5   Notes            27105 non-null  object\n",
      " 6   ID               27105 non-null  object\n",
      " 7   anatomical_area  27105 non-null  object\n",
      " 8   injury_type      27105 non-null  object\n",
      " 9   status           27105 non-null  object\n",
      "dtypes: object(10)\n",
      "memory usage: 2.1+ MB\n"
     ]
    }
   ],
   "source": [
    "#tipos de datos en la tabla\n",
    "lesiones.info()"
   ]
  },
  {
   "cell_type": "code",
   "execution_count": 4,
   "id": "31c51000",
   "metadata": {},
   "outputs": [
    {
     "data": {
      "application/vnd.microsoft.datawrangler.viewer.v0+json": {
       "columns": [
        {
         "name": "index",
         "rawType": "object",
         "type": "string"
        },
        {
         "name": "0",
         "rawType": "int64",
         "type": "integer"
        }
       ],
       "ref": "67a648c7-5b33-4e05-abf2-b2fc1330a406",
       "rows": [
        [
         "Date",
         "0"
        ],
        [
         "Team",
         "2"
        ],
        [
         "Nombre",
         "4"
        ],
        [
         "Acquired",
         "17563"
        ],
        [
         "Relinquished",
         "9545"
        ],
        [
         "Notes",
         "0"
        ],
        [
         "ID",
         "0"
        ],
        [
         "anatomical_area",
         "0"
        ],
        [
         "injury_type",
         "0"
        ],
        [
         "status",
         "0"
        ]
       ],
       "shape": {
        "columns": 1,
        "rows": 10
       }
      },
      "text/plain": [
       "Date                   0\n",
       "Team                   2\n",
       "Nombre                 4\n",
       "Acquired           17563\n",
       "Relinquished        9545\n",
       "Notes                  0\n",
       "ID                     0\n",
       "anatomical_area        0\n",
       "injury_type            0\n",
       "status                 0\n",
       "dtype: int64"
      ]
     },
     "execution_count": 4,
     "metadata": {},
     "output_type": "execute_result"
    }
   ],
   "source": [
    "# hallazgo de nulos\n",
    "lesiones.isnull().sum()"
   ]
  },
  {
   "cell_type": "code",
   "execution_count": 3,
   "id": "b9e9bbf1",
   "metadata": {},
   "outputs": [
    {
     "name": "stdout",
     "output_type": "stream",
     "text": [
      "Los duplicados son: 0        False\n",
      "1        False\n",
      "2        False\n",
      "3        False\n",
      "4        False\n",
      "         ...  \n",
      "27100    False\n",
      "27101    False\n",
      "27102    False\n",
      "27103    False\n",
      "27104    False\n",
      "Length: 27105, dtype: bool\n"
     ]
    }
   ],
   "source": [
    "duplicado = lesiones.duplicated()\n",
    "print('Los duplicados son:', duplicado)"
   ]
  },
  {
   "cell_type": "code",
   "execution_count": 6,
   "id": "bfcd1736",
   "metadata": {},
   "outputs": [
    {
     "data": {
      "application/vnd.microsoft.datawrangler.viewer.v0+json": {
       "columns": [
        {
         "name": "index",
         "rawType": "object",
         "type": "string"
        },
        {
         "name": "Date",
         "rawType": "object",
         "type": "unknown"
        },
        {
         "name": "Team",
         "rawType": "object",
         "type": "unknown"
        },
        {
         "name": "Nombre",
         "rawType": "object",
         "type": "unknown"
        },
        {
         "name": "Acquired",
         "rawType": "object",
         "type": "unknown"
        },
        {
         "name": "Relinquished",
         "rawType": "object",
         "type": "unknown"
        },
        {
         "name": "Notes",
         "rawType": "object",
         "type": "unknown"
        },
        {
         "name": "ID",
         "rawType": "object",
         "type": "unknown"
        },
        {
         "name": "anatomical_area",
         "rawType": "object",
         "type": "unknown"
        },
        {
         "name": "injury_type",
         "rawType": "object",
         "type": "unknown"
        },
        {
         "name": "status",
         "rawType": "object",
         "type": "unknown"
        }
       ],
       "ref": "9ac843de-bee6-4ab7-b701-80299a524d84",
       "rows": [
        [
         "count",
         "27105",
         "27103",
         "27101",
         "9542",
         "17560",
         "27105",
         "27105",
         "27105",
         "27105",
         "27105"
        ],
        [
         "unique",
         "2103",
         "32",
         "1158",
         "1111",
         "1156",
         "3114",
         "1148",
         "15",
         "9",
         "3"
        ],
        [
         "top",
         "16-04-14",
         "Spurs",
         "Kevin Love",
         "Dwyane Wade",
         "Kevin Love",
         "activated from IL",
         "201567",
         "not_specified",
         "other",
         "IL"
        ],
        [
         "freq",
         "76",
         "1163",
         "139",
         "54",
         "101",
         "7342",
         "139",
         "17270",
         "20536",
         "16824"
        ]
       ],
       "shape": {
        "columns": 10,
        "rows": 4
       }
      },
      "text/html": [
       "<div>\n",
       "<style scoped>\n",
       "    .dataframe tbody tr th:only-of-type {\n",
       "        vertical-align: middle;\n",
       "    }\n",
       "\n",
       "    .dataframe tbody tr th {\n",
       "        vertical-align: top;\n",
       "    }\n",
       "\n",
       "    .dataframe thead th {\n",
       "        text-align: right;\n",
       "    }\n",
       "</style>\n",
       "<table border=\"1\" class=\"dataframe\">\n",
       "  <thead>\n",
       "    <tr style=\"text-align: right;\">\n",
       "      <th></th>\n",
       "      <th>Date</th>\n",
       "      <th>Team</th>\n",
       "      <th>Nombre</th>\n",
       "      <th>Acquired</th>\n",
       "      <th>Relinquished</th>\n",
       "      <th>Notes</th>\n",
       "      <th>ID</th>\n",
       "      <th>anatomical_area</th>\n",
       "      <th>injury_type</th>\n",
       "      <th>status</th>\n",
       "    </tr>\n",
       "  </thead>\n",
       "  <tbody>\n",
       "    <tr>\n",
       "      <th>count</th>\n",
       "      <td>27105</td>\n",
       "      <td>27103</td>\n",
       "      <td>27101</td>\n",
       "      <td>9542</td>\n",
       "      <td>17560</td>\n",
       "      <td>27105</td>\n",
       "      <td>27105</td>\n",
       "      <td>27105</td>\n",
       "      <td>27105</td>\n",
       "      <td>27105</td>\n",
       "    </tr>\n",
       "    <tr>\n",
       "      <th>unique</th>\n",
       "      <td>2103</td>\n",
       "      <td>32</td>\n",
       "      <td>1158</td>\n",
       "      <td>1111</td>\n",
       "      <td>1156</td>\n",
       "      <td>3114</td>\n",
       "      <td>1148</td>\n",
       "      <td>15</td>\n",
       "      <td>9</td>\n",
       "      <td>3</td>\n",
       "    </tr>\n",
       "    <tr>\n",
       "      <th>top</th>\n",
       "      <td>16-04-14</td>\n",
       "      <td>Spurs</td>\n",
       "      <td>Kevin Love</td>\n",
       "      <td>Dwyane Wade</td>\n",
       "      <td>Kevin Love</td>\n",
       "      <td>activated from IL</td>\n",
       "      <td>201567</td>\n",
       "      <td>not_specified</td>\n",
       "      <td>other</td>\n",
       "      <td>IL</td>\n",
       "    </tr>\n",
       "    <tr>\n",
       "      <th>freq</th>\n",
       "      <td>76</td>\n",
       "      <td>1163</td>\n",
       "      <td>139</td>\n",
       "      <td>54</td>\n",
       "      <td>101</td>\n",
       "      <td>7342</td>\n",
       "      <td>139</td>\n",
       "      <td>17270</td>\n",
       "      <td>20536</td>\n",
       "      <td>16824</td>\n",
       "    </tr>\n",
       "  </tbody>\n",
       "</table>\n",
       "</div>"
      ],
      "text/plain": [
       "            Date   Team      Nombre     Acquired Relinquished  \\\n",
       "count      27105  27103       27101         9542        17560   \n",
       "unique      2103     32        1158         1111         1156   \n",
       "top     16-04-14  Spurs  Kevin Love  Dwyane Wade   Kevin Love   \n",
       "freq          76   1163         139           54          101   \n",
       "\n",
       "                    Notes      ID anatomical_area injury_type status  \n",
       "count               27105   27105           27105       27105  27105  \n",
       "unique               3114    1148              15           9      3  \n",
       "top     activated from IL  201567   not_specified       other     IL  \n",
       "freq                 7342     139           17270       20536  16824  "
      ]
     },
     "execution_count": 6,
     "metadata": {},
     "output_type": "execute_result"
    }
   ],
   "source": [
    "# Analisis descriptivo\n",
    "lesiones.describe()\n"
   ]
  }
 ],
 "metadata": {
  "kernelspec": {
   "display_name": "Python 3",
   "language": "python",
   "name": "python3"
  },
  "language_info": {
   "codemirror_mode": {
    "name": "ipython",
    "version": 3
   },
   "file_extension": ".py",
   "mimetype": "text/x-python",
   "name": "python",
   "nbconvert_exporter": "python",
   "pygments_lexer": "ipython3",
   "version": "3.13.5"
  }
 },
 "nbformat": 4,
 "nbformat_minor": 5
}
