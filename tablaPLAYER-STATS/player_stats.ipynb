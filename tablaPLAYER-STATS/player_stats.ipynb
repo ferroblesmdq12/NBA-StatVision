{
 "cells": [
  {
   "cell_type": "markdown",
   "id": "4be9dd7b",
   "metadata": {},
   "source": [
    "Tabla Player Stats"
   ]
  },
  {
   "cell_type": "code",
   "execution_count": 10,
   "id": "681bc805",
   "metadata": {},
   "outputs": [],
   "source": [
    "import pandas as pd \n",
    "import numpy as np \n"
   ]
  },
  {
   "cell_type": "code",
   "execution_count": 11,
   "id": "75c56ae8",
   "metadata": {},
   "outputs": [],
   "source": [
    "player_stats = pd.read_csv(r\"C:\\Users\\mcatvd01\\Desktop\\Henry\\Tabla Player Stats - other_stats.csv\")"
   ]
  },
  {
   "cell_type": "code",
   "execution_count": 12,
   "id": "1145e6d9",
   "metadata": {},
   "outputs": [
    {
     "data": {
      "application/vnd.microsoft.datawrangler.viewer.v0+json": {
       "columns": [
        {
         "name": "index",
         "rawType": "int64",
         "type": "integer"
        },
        {
         "name": "id_del_partido",
         "rawType": "int64",
         "type": "integer"
        },
        {
         "name": "id_equipo_local",
         "rawType": "int64",
         "type": "integer"
        },
        {
         "name": "nombre_equipo_local",
         "rawType": "object",
         "type": "string"
        },
        {
         "name": "ciudad_equipo_local",
         "rawType": "object",
         "type": "string"
        },
        {
         "name": "pts_paint_home",
         "rawType": "int64",
         "type": "integer"
        },
        {
         "name": "pts_2nd_chance_home",
         "rawType": "int64",
         "type": "integer"
        },
        {
         "name": "pts_fb_home",
         "rawType": "int64",
         "type": "integer"
        },
        {
         "name": "largest_lead_home",
         "rawType": "int64",
         "type": "integer"
        },
        {
         "name": "lead_changes",
         "rawType": "int64",
         "type": "integer"
        },
        {
         "name": "times_tied",
         "rawType": "int64",
         "type": "integer"
        },
        {
         "name": "team_turnovers_home",
         "rawType": "float64",
         "type": "float"
        },
        {
         "name": "total_turnovers_home",
         "rawType": "float64",
         "type": "float"
        },
        {
         "name": "team_rebounds_home",
         "rawType": "float64",
         "type": "float"
        },
        {
         "name": "pts_off_to_home",
         "rawType": "float64",
         "type": "float"
        },
        {
         "name": "id_equipo_visitante",
         "rawType": "int64",
         "type": "integer"
        },
        {
         "name": "nombre_equipo_visitante",
         "rawType": "object",
         "type": "string"
        },
        {
         "name": "ciudad_equipo_visitante",
         "rawType": "object",
         "type": "string"
        },
        {
         "name": "pts_paint_away",
         "rawType": "int64",
         "type": "integer"
        },
        {
         "name": "pts_2nd_chance_away",
         "rawType": "int64",
         "type": "integer"
        },
        {
         "name": "pts_fb_away",
         "rawType": "int64",
         "type": "integer"
        },
        {
         "name": "largest_lead_away",
         "rawType": "int64",
         "type": "integer"
        },
        {
         "name": "team_turnovers_away",
         "rawType": "float64",
         "type": "float"
        },
        {
         "name": "total_turnovers_away",
         "rawType": "float64",
         "type": "float"
        },
        {
         "name": "team_rebounds_away",
         "rawType": "float64",
         "type": "float"
        },
        {
         "name": "pts_off_to_away",
         "rawType": "float64",
         "type": "float"
        }
       ],
       "ref": "7eec884c-43c1-4a29-b30d-a0c7e178446a",
       "rows": [
        [
         "0",
         "29600012",
         "1610612756",
         "PHX",
         "Phoenix",
         "44",
         "18",
         "2",
         "1",
         "4",
         "1",
         "0.0",
         "12.0",
         "11.0",
         null,
         "1610612747",
         "LAL",
         "Los Angeles",
         "42",
         "10",
         "13",
         "19",
         "0.0",
         "23.0",
         "11.0",
         null
        ],
        [
         "1",
         "29600005",
         "1610612737",
         "ATL",
         "Atlanta",
         "32",
         "9",
         "6",
         "0",
         "0",
         "0",
         "1.0",
         "24.0",
         "7.0",
         null,
         "1610612748",
         "MIA",
         "Miami",
         "32",
         "15",
         "14",
         "16",
         "1.0",
         "19.0",
         "6.0",
         null
        ],
        [
         "2",
         "29600002",
         "1610612739",
         "CLE",
         "Cleveland",
         "36",
         "14",
         "6",
         "20",
         "1",
         "1",
         "0.0",
         "15.0",
         "5.0",
         null,
         "1610612751",
         "NJN",
         "New Jersey",
         "26",
         "16",
         "4",
         "2",
         "1.0",
         "22.0",
         "12.0",
         null
        ],
        [
         "3",
         "29600007",
         "1610612754",
         "IND",
         "Indiana",
         "34",
         "11",
         "4",
         "10",
         "7",
         "4",
         "0.0",
         "18.0",
         "8.0",
         null,
         "1610612765",
         "DET",
         "Detroit",
         "30",
         "14",
         "7",
         "9",
         "2.0",
         "19.0",
         "10.0",
         null
        ],
        [
         "4",
         "29600013",
         "1610612746",
         "LAC",
         "Los Angeles",
         "40",
         "19",
         "2",
         "12",
         "5",
         "4",
         "0.0",
         "20.0",
         "7.0",
         null,
         "1610612744",
         "GSW",
         "Golden State",
         "30",
         "9",
         "2",
         "6",
         "0.0",
         "20.0",
         "7.0",
         null
        ]
       ],
       "shape": {
        "columns": 25,
        "rows": 5
       }
      },
      "text/html": [
       "<div>\n",
       "<style scoped>\n",
       "    .dataframe tbody tr th:only-of-type {\n",
       "        vertical-align: middle;\n",
       "    }\n",
       "\n",
       "    .dataframe tbody tr th {\n",
       "        vertical-align: top;\n",
       "    }\n",
       "\n",
       "    .dataframe thead th {\n",
       "        text-align: right;\n",
       "    }\n",
       "</style>\n",
       "<table border=\"1\" class=\"dataframe\">\n",
       "  <thead>\n",
       "    <tr style=\"text-align: right;\">\n",
       "      <th></th>\n",
       "      <th>id_del_partido</th>\n",
       "      <th>id_equipo_local</th>\n",
       "      <th>nombre_equipo_local</th>\n",
       "      <th>ciudad_equipo_local</th>\n",
       "      <th>pts_paint_home</th>\n",
       "      <th>pts_2nd_chance_home</th>\n",
       "      <th>pts_fb_home</th>\n",
       "      <th>largest_lead_home</th>\n",
       "      <th>lead_changes</th>\n",
       "      <th>times_tied</th>\n",
       "      <th>...</th>\n",
       "      <th>nombre_equipo_visitante</th>\n",
       "      <th>ciudad_equipo_visitante</th>\n",
       "      <th>pts_paint_away</th>\n",
       "      <th>pts_2nd_chance_away</th>\n",
       "      <th>pts_fb_away</th>\n",
       "      <th>largest_lead_away</th>\n",
       "      <th>team_turnovers_away</th>\n",
       "      <th>total_turnovers_away</th>\n",
       "      <th>team_rebounds_away</th>\n",
       "      <th>pts_off_to_away</th>\n",
       "    </tr>\n",
       "  </thead>\n",
       "  <tbody>\n",
       "    <tr>\n",
       "      <th>0</th>\n",
       "      <td>29600012</td>\n",
       "      <td>1610612756</td>\n",
       "      <td>PHX</td>\n",
       "      <td>Phoenix</td>\n",
       "      <td>44</td>\n",
       "      <td>18</td>\n",
       "      <td>2</td>\n",
       "      <td>1</td>\n",
       "      <td>4</td>\n",
       "      <td>1</td>\n",
       "      <td>...</td>\n",
       "      <td>LAL</td>\n",
       "      <td>Los Angeles</td>\n",
       "      <td>42</td>\n",
       "      <td>10</td>\n",
       "      <td>13</td>\n",
       "      <td>19</td>\n",
       "      <td>0.0</td>\n",
       "      <td>23.0</td>\n",
       "      <td>11.0</td>\n",
       "      <td>NaN</td>\n",
       "    </tr>\n",
       "    <tr>\n",
       "      <th>1</th>\n",
       "      <td>29600005</td>\n",
       "      <td>1610612737</td>\n",
       "      <td>ATL</td>\n",
       "      <td>Atlanta</td>\n",
       "      <td>32</td>\n",
       "      <td>9</td>\n",
       "      <td>6</td>\n",
       "      <td>0</td>\n",
       "      <td>0</td>\n",
       "      <td>0</td>\n",
       "      <td>...</td>\n",
       "      <td>MIA</td>\n",
       "      <td>Miami</td>\n",
       "      <td>32</td>\n",
       "      <td>15</td>\n",
       "      <td>14</td>\n",
       "      <td>16</td>\n",
       "      <td>1.0</td>\n",
       "      <td>19.0</td>\n",
       "      <td>6.0</td>\n",
       "      <td>NaN</td>\n",
       "    </tr>\n",
       "    <tr>\n",
       "      <th>2</th>\n",
       "      <td>29600002</td>\n",
       "      <td>1610612739</td>\n",
       "      <td>CLE</td>\n",
       "      <td>Cleveland</td>\n",
       "      <td>36</td>\n",
       "      <td>14</td>\n",
       "      <td>6</td>\n",
       "      <td>20</td>\n",
       "      <td>1</td>\n",
       "      <td>1</td>\n",
       "      <td>...</td>\n",
       "      <td>NJN</td>\n",
       "      <td>New Jersey</td>\n",
       "      <td>26</td>\n",
       "      <td>16</td>\n",
       "      <td>4</td>\n",
       "      <td>2</td>\n",
       "      <td>1.0</td>\n",
       "      <td>22.0</td>\n",
       "      <td>12.0</td>\n",
       "      <td>NaN</td>\n",
       "    </tr>\n",
       "    <tr>\n",
       "      <th>3</th>\n",
       "      <td>29600007</td>\n",
       "      <td>1610612754</td>\n",
       "      <td>IND</td>\n",
       "      <td>Indiana</td>\n",
       "      <td>34</td>\n",
       "      <td>11</td>\n",
       "      <td>4</td>\n",
       "      <td>10</td>\n",
       "      <td>7</td>\n",
       "      <td>4</td>\n",
       "      <td>...</td>\n",
       "      <td>DET</td>\n",
       "      <td>Detroit</td>\n",
       "      <td>30</td>\n",
       "      <td>14</td>\n",
       "      <td>7</td>\n",
       "      <td>9</td>\n",
       "      <td>2.0</td>\n",
       "      <td>19.0</td>\n",
       "      <td>10.0</td>\n",
       "      <td>NaN</td>\n",
       "    </tr>\n",
       "    <tr>\n",
       "      <th>4</th>\n",
       "      <td>29600013</td>\n",
       "      <td>1610612746</td>\n",
       "      <td>LAC</td>\n",
       "      <td>Los Angeles</td>\n",
       "      <td>40</td>\n",
       "      <td>19</td>\n",
       "      <td>2</td>\n",
       "      <td>12</td>\n",
       "      <td>5</td>\n",
       "      <td>4</td>\n",
       "      <td>...</td>\n",
       "      <td>GSW</td>\n",
       "      <td>Golden State</td>\n",
       "      <td>30</td>\n",
       "      <td>9</td>\n",
       "      <td>2</td>\n",
       "      <td>6</td>\n",
       "      <td>0.0</td>\n",
       "      <td>20.0</td>\n",
       "      <td>7.0</td>\n",
       "      <td>NaN</td>\n",
       "    </tr>\n",
       "  </tbody>\n",
       "</table>\n",
       "<p>5 rows × 25 columns</p>\n",
       "</div>"
      ],
      "text/plain": [
       "   id_del_partido  id_equipo_local nombre_equipo_local ciudad_equipo_local  \\\n",
       "0        29600012       1610612756                 PHX             Phoenix   \n",
       "1        29600005       1610612737                 ATL             Atlanta   \n",
       "2        29600002       1610612739                 CLE           Cleveland   \n",
       "3        29600007       1610612754                 IND             Indiana   \n",
       "4        29600013       1610612746                 LAC         Los Angeles   \n",
       "\n",
       "   pts_paint_home  pts_2nd_chance_home  pts_fb_home  largest_lead_home  \\\n",
       "0              44                   18            2                  1   \n",
       "1              32                    9            6                  0   \n",
       "2              36                   14            6                 20   \n",
       "3              34                   11            4                 10   \n",
       "4              40                   19            2                 12   \n",
       "\n",
       "   lead_changes  times_tied  ...  nombre_equipo_visitante  \\\n",
       "0             4           1  ...                      LAL   \n",
       "1             0           0  ...                      MIA   \n",
       "2             1           1  ...                      NJN   \n",
       "3             7           4  ...                      DET   \n",
       "4             5           4  ...                      GSW   \n",
       "\n",
       "   ciudad_equipo_visitante  pts_paint_away  pts_2nd_chance_away  pts_fb_away  \\\n",
       "0              Los Angeles              42                   10           13   \n",
       "1                    Miami              32                   15           14   \n",
       "2               New Jersey              26                   16            4   \n",
       "3                  Detroit              30                   14            7   \n",
       "4             Golden State              30                    9            2   \n",
       "\n",
       "  largest_lead_away team_turnovers_away  total_turnovers_away  \\\n",
       "0                19                 0.0                  23.0   \n",
       "1                16                 1.0                  19.0   \n",
       "2                 2                 1.0                  22.0   \n",
       "3                 9                 2.0                  19.0   \n",
       "4                 6                 0.0                  20.0   \n",
       "\n",
       "   team_rebounds_away  pts_off_to_away  \n",
       "0                11.0              NaN  \n",
       "1                 6.0              NaN  \n",
       "2                12.0              NaN  \n",
       "3                10.0              NaN  \n",
       "4                 7.0              NaN  \n",
       "\n",
       "[5 rows x 25 columns]"
      ]
     },
     "execution_count": 12,
     "metadata": {},
     "output_type": "execute_result"
    }
   ],
   "source": [
    "player_stats.head()"
   ]
  },
  {
   "cell_type": "code",
   "execution_count": 13,
   "id": "f17e8edb",
   "metadata": {},
   "outputs": [
    {
     "data": {
      "text/plain": [
       "(28271, 25)"
      ]
     },
     "execution_count": 13,
     "metadata": {},
     "output_type": "execute_result"
    }
   ],
   "source": [
    "np.shape(player_stats)"
   ]
  },
  {
   "cell_type": "code",
   "execution_count": 14,
   "id": "b576bfa6",
   "metadata": {},
   "outputs": [
    {
     "data": {
      "application/vnd.microsoft.datawrangler.viewer.v0+json": {
       "columns": [
        {
         "name": "index",
         "rawType": "object",
         "type": "string"
        },
        {
         "name": "0",
         "rawType": "int64",
         "type": "integer"
        }
       ],
       "ref": "3999850f-5bb0-4d30-8ff1-64913cf680e8",
       "rows": [
        [
         "id_del_partido",
         "0"
        ],
        [
         "id_equipo_local",
         "0"
        ],
        [
         "nombre_equipo_local",
         "0"
        ],
        [
         "ciudad_equipo_local",
         "0"
        ],
        [
         "pts_paint_home",
         "0"
        ],
        [
         "pts_2nd_chance_home",
         "0"
        ],
        [
         "pts_fb_home",
         "0"
        ],
        [
         "largest_lead_home",
         "0"
        ],
        [
         "lead_changes",
         "0"
        ],
        [
         "times_tied",
         "0"
        ],
        [
         "team_turnovers_home",
         "2"
        ],
        [
         "total_turnovers_home",
         "316"
        ],
        [
         "team_rebounds_home",
         "1998"
        ],
        [
         "pts_off_to_home",
         "2123"
        ],
        [
         "id_equipo_visitante",
         "0"
        ],
        [
         "nombre_equipo_visitante",
         "0"
        ],
        [
         "ciudad_equipo_visitante",
         "0"
        ],
        [
         "pts_paint_away",
         "0"
        ],
        [
         "pts_2nd_chance_away",
         "0"
        ],
        [
         "pts_fb_away",
         "0"
        ],
        [
         "largest_lead_away",
         "0"
        ],
        [
         "team_turnovers_away",
         "2"
        ],
        [
         "total_turnovers_away",
         "316"
        ],
        [
         "team_rebounds_away",
         "1998"
        ],
        [
         "pts_off_to_away",
         "2123"
        ]
       ],
       "shape": {
        "columns": 1,
        "rows": 25
       }
      },
      "text/plain": [
       "id_del_partido                0\n",
       "id_equipo_local               0\n",
       "nombre_equipo_local           0\n",
       "ciudad_equipo_local           0\n",
       "pts_paint_home                0\n",
       "pts_2nd_chance_home           0\n",
       "pts_fb_home                   0\n",
       "largest_lead_home             0\n",
       "lead_changes                  0\n",
       "times_tied                    0\n",
       "team_turnovers_home           2\n",
       "total_turnovers_home        316\n",
       "team_rebounds_home         1998\n",
       "pts_off_to_home            2123\n",
       "id_equipo_visitante           0\n",
       "nombre_equipo_visitante       0\n",
       "ciudad_equipo_visitante       0\n",
       "pts_paint_away                0\n",
       "pts_2nd_chance_away           0\n",
       "pts_fb_away                   0\n",
       "largest_lead_away             0\n",
       "team_turnovers_away           2\n",
       "total_turnovers_away        316\n",
       "team_rebounds_away         1998\n",
       "pts_off_to_away            2123\n",
       "dtype: int64"
      ]
     },
     "execution_count": 14,
     "metadata": {},
     "output_type": "execute_result"
    }
   ],
   "source": [
    "player_stats.isnull().sum()"
   ]
  },
  {
   "cell_type": "code",
   "execution_count": 15,
   "id": "85795ac4",
   "metadata": {},
   "outputs": [
    {
     "data": {
      "text/plain": [
       "Index(['id_del_partido', 'id_equipo_local', 'nombre_equipo_local',\n",
       "       'ciudad_equipo_local', 'pts_paint_home', 'pts_2nd_chance_home',\n",
       "       'pts_fb_home', 'largest_lead_home', 'lead_changes', 'times_tied',\n",
       "       'team_turnovers_home', 'total_turnovers_home', 'team_rebounds_home',\n",
       "       'pts_off_to_home', 'id_equipo_visitante', 'nombre_equipo_visitante',\n",
       "       'ciudad_equipo_visitante', 'pts_paint_away', 'pts_2nd_chance_away',\n",
       "       'pts_fb_away', 'largest_lead_away', 'team_turnovers_away',\n",
       "       'total_turnovers_away', 'team_rebounds_away', 'pts_off_to_away'],\n",
       "      dtype='object')"
      ]
     },
     "execution_count": 15,
     "metadata": {},
     "output_type": "execute_result"
    }
   ],
   "source": [
    "player_stats.columns"
   ]
  },
  {
   "cell_type": "code",
   "execution_count": 16,
   "id": "b73790f8",
   "metadata": {},
   "outputs": [],
   "source": [
    "player_stats.to_csv(\"player_stats.csv\", index=False)"
   ]
  }
 ],
 "metadata": {
  "kernelspec": {
   "display_name": "Python 3",
   "language": "python",
   "name": "python3"
  },
  "language_info": {
   "codemirror_mode": {
    "name": "ipython",
    "version": 3
   },
   "file_extension": ".py",
   "mimetype": "text/x-python",
   "name": "python",
   "nbconvert_exporter": "python",
   "pygments_lexer": "ipython3",
   "version": "3.13.5"
  }
 },
 "nbformat": 4,
 "nbformat_minor": 5
}
