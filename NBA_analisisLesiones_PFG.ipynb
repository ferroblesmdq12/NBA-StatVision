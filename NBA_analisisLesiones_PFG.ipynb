{
 "cells": [
  {
   "cell_type": "markdown",
   "id": "6e192a06",
   "metadata": {},
   "source": [
    "# PROYECTO FINAL GRUPAL  - NBA-StatVision - Lesiones\n"
   ]
  },
  {
   "cell_type": "markdown",
   "id": "7be4d95a",
   "metadata": {},
   "source": []
  },
  {
   "cell_type": "markdown",
   "id": "987699b5",
   "metadata": {},
   "source": [
    "### Importacion de librerias\n"
   ]
  },
  {
   "cell_type": "code",
   "execution_count": 1,
   "id": "8c73471e",
   "metadata": {},
   "outputs": [],
   "source": [
    "import pandas as pd \n",
    "import numpy as np \n"
   ]
  },
  {
   "cell_type": "markdown",
   "id": "35cef32d",
   "metadata": {},
   "source": [
    "Importamos dataframe \"play_by_play\" pero solo leemos la primer fila que es el nombre de la columna\n"
   ]
  },
  {
   "cell_type": "code",
   "execution_count": 8,
   "id": "809cfe2b",
   "metadata": {},
   "outputs": [],
   "source": [
    "## creamos variable para alojar la ruta del archivo\n",
    "ruta_archivo_csv = r'C:\\Users\\Fernando\\Desktop\\CSV de NBA\\archive\\csv\\play_by_play.csv'\n",
    "\n",
    "# df = pd.read_csv(ruta_archivo_csv)\n",
    "\n",
    "## Leemos solo la primer fila con el nombre de las columnas.\n",
    "def obtener_nombre_columnas(ruta_archivo_csv):\n",
    "    \n",
    "    columnas = pd.read_csv(ruta_archivo_csv, nrows=0).columns.tolist()\n",
    "    return columnas\n",
    "\n",
    "\n"
   ]
  },
  {
   "cell_type": "markdown",
   "id": "94c72430",
   "metadata": {},
   "source": [
    "Vemos los nombres de las columnas de \"play_by_play\" (esto es porque nos trae la primer fila del dataset)"
   ]
  },
  {
   "cell_type": "code",
   "execution_count": 11,
   "id": "bc1db12b",
   "metadata": {},
   "outputs": [
    {
     "name": "stdout",
     "output_type": "stream",
     "text": [
      "Columnas del archivo 'play_by_play': \n",
      "- game_id\n",
      "- eventnum\n",
      "- eventmsgtype\n",
      "- eventmsgactiontype\n",
      "- period\n",
      "- wctimestring\n",
      "- pctimestring\n",
      "- homedescription\n",
      "- neutraldescription\n",
      "- visitordescription\n",
      "- score\n",
      "- scoremargin\n",
      "- person1type\n",
      "- player1_id\n",
      "- player1_name\n",
      "- player1_team_id\n",
      "- player1_team_city\n",
      "- player1_team_nickname\n",
      "- player1_team_abbreviation\n",
      "- person2type\n",
      "- player2_id\n",
      "- player2_name\n",
      "- player2_team_id\n",
      "- player2_team_city\n",
      "- player2_team_nickname\n",
      "- player2_team_abbreviation\n",
      "- person3type\n",
      "- player3_id\n",
      "- player3_name\n",
      "- player3_team_id\n",
      "- player3_team_city\n",
      "- player3_team_nickname\n",
      "- player3_team_abbreviation\n",
      "- video_available_flag\n"
     ]
    }
   ],
   "source": [
    "primera_fila = obtener_nombre_columnas(ruta_archivo_csv)\n",
    "# mostramos las columnas:\n",
    "print(\"Columnas del archivo 'play_by_play': \")\n",
    "for col in primera_fila:\n",
    "    print(\"-\", col)"
   ]
  },
  {
   "cell_type": "markdown",
   "id": "d7c575e8",
   "metadata": {},
   "source": [
    "Este data set no tiene datos de fecha, solo 'game_id', entonces deberemos buscar en otro dataset, si hay game_id con fechas."
   ]
  },
  {
   "cell_type": "markdown",
   "id": "c1750dda",
   "metadata": {},
   "source": [
    "Buscamos en el dataset 'game_info' para ver si contiene una columna de fechas."
   ]
  },
  {
   "cell_type": "code",
   "execution_count": 13,
   "id": "edcc5d12",
   "metadata": {},
   "outputs": [
    {
     "data": {
      "application/vnd.microsoft.datawrangler.viewer.v0+json": {
       "columns": [
        {
         "name": "index",
         "rawType": "int64",
         "type": "integer"
        },
        {
         "name": "game_id",
         "rawType": "int64",
         "type": "integer"
        },
        {
         "name": "game_date",
         "rawType": "object",
         "type": "string"
        },
        {
         "name": "attendance",
         "rawType": "float64",
         "type": "float"
        },
        {
         "name": "game_time",
         "rawType": "object",
         "type": "unknown"
        }
       ],
       "ref": "fe6a9f02-85ce-465a-aac4-e8567ec1bbba",
       "rows": [
        [
         "0",
         "24600001",
         "1946-11-01 00:00:00",
         null,
         null
        ],
        [
         "1",
         "24600003",
         "1946-11-02 00:00:00",
         null,
         null
        ],
        [
         "2",
         "24600002",
         "1946-11-02 00:00:00",
         null,
         null
        ],
        [
         "3",
         "24600004",
         "1946-11-02 00:00:00",
         null,
         null
        ],
        [
         "4",
         "24600005",
         "1946-11-02 00:00:00",
         null,
         null
        ],
        [
         "5",
         "24600006",
         "1946-11-03 00:00:00",
         null,
         null
        ],
        [
         "6",
         "24600008",
         "1946-11-05 00:00:00",
         null,
         null
        ],
        [
         "7",
         "24600009",
         "1946-11-05 00:00:00",
         null,
         null
        ],
        [
         "8",
         "24600011",
         "1946-11-07 00:00:00",
         null,
         null
        ],
        [
         "9",
         "24600012",
         "1946-11-07 00:00:00",
         null,
         null
        ],
        [
         "10",
         "24600010",
         "1946-11-07 00:00:00",
         null,
         null
        ],
        [
         "11",
         "24600013",
         "1946-11-08 00:00:00",
         null,
         null
        ],
        [
         "12",
         "24600014",
         "1946-11-09 00:00:00",
         "2206.0",
         null
        ],
        [
         "13",
         "24600015",
         "1946-11-09 00:00:00",
         null,
         null
        ],
        [
         "14",
         "24600016",
         "1946-11-09 00:00:00",
         null,
         null
        ],
        [
         "15",
         "24600017",
         "1946-11-09 00:00:00",
         null,
         null
        ],
        [
         "16",
         "24600018",
         "1946-11-10 00:00:00",
         null,
         null
        ],
        [
         "17",
         "24600020",
         "1946-11-11 00:00:00",
         null,
         null
        ],
        [
         "18",
         "24600019",
         "1946-11-11 00:00:00",
         null,
         null
        ],
        [
         "19",
         "24600022",
         "1946-11-13 00:00:00",
         null,
         null
        ],
        [
         "20",
         "24600024",
         "1946-11-14 00:00:00",
         null,
         null
        ],
        [
         "21",
         "24600023",
         "1946-11-14 00:00:00",
         null,
         null
        ],
        [
         "22",
         "24600029",
         "1946-11-16 00:00:00",
         null,
         null
        ],
        [
         "23",
         "24600030",
         "1946-11-16 00:00:00",
         null,
         null
        ],
        [
         "24",
         "24600026",
         "1946-11-16 00:00:00",
         null,
         null
        ],
        [
         "25",
         "24600028",
         "1946-11-16 00:00:00",
         null,
         null
        ],
        [
         "26",
         "24600031",
         "1946-11-17 00:00:00",
         null,
         null
        ],
        [
         "27",
         "24600032",
         "1946-11-18 00:00:00",
         null,
         null
        ],
        [
         "28",
         "24600033",
         "1946-11-18 00:00:00",
         null,
         null
        ],
        [
         "29",
         "24600034",
         "1946-11-19 00:00:00",
         null,
         null
        ],
        [
         "30",
         "24600035",
         "1946-11-19 00:00:00",
         null,
         null
        ],
        [
         "31",
         "24600037",
         "1946-11-20 00:00:00",
         null,
         null
        ],
        [
         "32",
         "24600036",
         "1946-11-20 00:00:00",
         null,
         null
        ],
        [
         "33",
         "24600039",
         "1946-11-21 00:00:00",
         null,
         null
        ],
        [
         "34",
         "24600040",
         "1946-11-21 00:00:00",
         null,
         null
        ],
        [
         "35",
         "24600042",
         "1946-11-22 00:00:00",
         null,
         null
        ],
        [
         "36",
         "24600045",
         "1946-11-23 00:00:00",
         null,
         null
        ],
        [
         "37",
         "24600043",
         "1946-11-23 00:00:00",
         null,
         null
        ],
        [
         "38",
         "24600044",
         "1946-11-23 00:00:00",
         null,
         null
        ],
        [
         "39",
         "24600049",
         "1946-11-25 00:00:00",
         null,
         null
        ],
        [
         "40",
         "24600053",
         "1946-11-26 00:00:00",
         null,
         null
        ],
        [
         "41",
         "24600052",
         "1946-11-26 00:00:00",
         null,
         null
        ],
        [
         "42",
         "24600051",
         "1946-11-26 00:00:00",
         null,
         null
        ],
        [
         "43",
         "24600055",
         "1946-11-27 00:00:00",
         null,
         null
        ],
        [
         "44",
         "24600056",
         "1946-11-27 00:00:00",
         null,
         null
        ],
        [
         "45",
         "24600057",
         "1946-11-28 00:00:00",
         null,
         null
        ],
        [
         "46",
         "24600058",
         "1946-11-28 00:00:00",
         null,
         null
        ],
        [
         "47",
         "24600059",
         "1946-11-28 00:00:00",
         null,
         null
        ],
        [
         "48",
         "24600060",
         "1946-11-28 00:00:00",
         null,
         null
        ],
        [
         "49",
         "24600064",
         "1946-11-30 00:00:00",
         null,
         null
        ]
       ],
       "shape": {
        "columns": 4,
        "rows": 2000
       }
      },
      "text/html": [
       "<div>\n",
       "<style scoped>\n",
       "    .dataframe tbody tr th:only-of-type {\n",
       "        vertical-align: middle;\n",
       "    }\n",
       "\n",
       "    .dataframe tbody tr th {\n",
       "        vertical-align: top;\n",
       "    }\n",
       "\n",
       "    .dataframe thead th {\n",
       "        text-align: right;\n",
       "    }\n",
       "</style>\n",
       "<table border=\"1\" class=\"dataframe\">\n",
       "  <thead>\n",
       "    <tr style=\"text-align: right;\">\n",
       "      <th></th>\n",
       "      <th>game_id</th>\n",
       "      <th>game_date</th>\n",
       "      <th>attendance</th>\n",
       "      <th>game_time</th>\n",
       "    </tr>\n",
       "  </thead>\n",
       "  <tbody>\n",
       "    <tr>\n",
       "      <th>0</th>\n",
       "      <td>24600001</td>\n",
       "      <td>1946-11-01 00:00:00</td>\n",
       "      <td>NaN</td>\n",
       "      <td>NaN</td>\n",
       "    </tr>\n",
       "    <tr>\n",
       "      <th>1</th>\n",
       "      <td>24600003</td>\n",
       "      <td>1946-11-02 00:00:00</td>\n",
       "      <td>NaN</td>\n",
       "      <td>NaN</td>\n",
       "    </tr>\n",
       "    <tr>\n",
       "      <th>2</th>\n",
       "      <td>24600002</td>\n",
       "      <td>1946-11-02 00:00:00</td>\n",
       "      <td>NaN</td>\n",
       "      <td>NaN</td>\n",
       "    </tr>\n",
       "    <tr>\n",
       "      <th>3</th>\n",
       "      <td>24600004</td>\n",
       "      <td>1946-11-02 00:00:00</td>\n",
       "      <td>NaN</td>\n",
       "      <td>NaN</td>\n",
       "    </tr>\n",
       "    <tr>\n",
       "      <th>4</th>\n",
       "      <td>24600005</td>\n",
       "      <td>1946-11-02 00:00:00</td>\n",
       "      <td>NaN</td>\n",
       "      <td>NaN</td>\n",
       "    </tr>\n",
       "    <tr>\n",
       "      <th>...</th>\n",
       "      <td>...</td>\n",
       "      <td>...</td>\n",
       "      <td>...</td>\n",
       "      <td>...</td>\n",
       "    </tr>\n",
       "    <tr>\n",
       "      <th>1995</th>\n",
       "      <td>25200088</td>\n",
       "      <td>1952-12-05 00:00:00</td>\n",
       "      <td>NaN</td>\n",
       "      <td>NaN</td>\n",
       "    </tr>\n",
       "    <tr>\n",
       "      <th>1996</th>\n",
       "      <td>25200090</td>\n",
       "      <td>1952-12-06 00:00:00</td>\n",
       "      <td>NaN</td>\n",
       "      <td>NaN</td>\n",
       "    </tr>\n",
       "    <tr>\n",
       "      <th>1997</th>\n",
       "      <td>25200092</td>\n",
       "      <td>1952-12-06 00:00:00</td>\n",
       "      <td>NaN</td>\n",
       "      <td>NaN</td>\n",
       "    </tr>\n",
       "    <tr>\n",
       "      <th>1998</th>\n",
       "      <td>25200091</td>\n",
       "      <td>1952-12-06 00:00:00</td>\n",
       "      <td>NaN</td>\n",
       "      <td>NaN</td>\n",
       "    </tr>\n",
       "    <tr>\n",
       "      <th>1999</th>\n",
       "      <td>25200089</td>\n",
       "      <td>1952-12-06 00:00:00</td>\n",
       "      <td>NaN</td>\n",
       "      <td>NaN</td>\n",
       "    </tr>\n",
       "  </tbody>\n",
       "</table>\n",
       "<p>2000 rows × 4 columns</p>\n",
       "</div>"
      ],
      "text/plain": [
       "       game_id            game_date  attendance game_time\n",
       "0     24600001  1946-11-01 00:00:00         NaN       NaN\n",
       "1     24600003  1946-11-02 00:00:00         NaN       NaN\n",
       "2     24600002  1946-11-02 00:00:00         NaN       NaN\n",
       "3     24600004  1946-11-02 00:00:00         NaN       NaN\n",
       "4     24600005  1946-11-02 00:00:00         NaN       NaN\n",
       "...        ...                  ...         ...       ...\n",
       "1995  25200088  1952-12-05 00:00:00         NaN       NaN\n",
       "1996  25200090  1952-12-06 00:00:00         NaN       NaN\n",
       "1997  25200092  1952-12-06 00:00:00         NaN       NaN\n",
       "1998  25200091  1952-12-06 00:00:00         NaN       NaN\n",
       "1999  25200089  1952-12-06 00:00:00         NaN       NaN\n",
       "\n",
       "[2000 rows x 4 columns]"
      ]
     },
     "execution_count": 13,
     "metadata": {},
     "output_type": "execute_result"
    }
   ],
   "source": [
    "## Definimos la ruta donde se encuentra\n",
    "ruta_game_info = r'C:\\Users\\Fernando\\Desktop\\CSV de NBA\\archive\\csv\\game_info.csv' \n",
    "\n",
    "## Leemos el dataset\n",
    "df = pd.read_csv(ruta_game_info)\n",
    "\n",
    "## Lo mostramos \n",
    "df.head(2000)\n"
   ]
  },
  {
   "cell_type": "markdown",
   "id": "d98994ef",
   "metadata": {},
   "source": [
    "Como tiene columna de fechas, vamos a filtrar los id que estén entre 2013 y 2023"
   ]
  },
  {
   "cell_type": "code",
   "execution_count": 14,
   "id": "e54553d4",
   "metadata": {},
   "outputs": [
    {
     "name": "stdout",
     "output_type": "stream",
     "text": [
      "Cantidad de partidos entre 2013 y 2023: 11714\n"
     ]
    }
   ],
   "source": [
    "# Cargamos nuevamente el data set, para \"parsear\" la columna 'game_date'.\n",
    "df_games = pd.read_csv(ruta_game_info, parse_dates=['game_date'])\n",
    "\n",
    "# Filtrar por fechas:\n",
    "\n",
    "games_filtred = df_games [\n",
    "    (df_games['game_date'] >= '2013-01-01') &\n",
    "    (df_games['game_date'] <= '2023-01-01')\n",
    "]\n",
    "\n",
    "# obtener el set de 'game_id' válidos\n",
    "game_ids_validos = set(games_filtred['game_id'])\n",
    "print(f'Cantidad de partidos entre 2013 y 2023: {len(game_ids_validos)}')"
   ]
  },
  {
   "cell_type": "markdown",
   "id": "a0015773",
   "metadata": {},
   "source": [
    " Uso de Chunksize para filtrar el dataset de 'play_by_play' con los 'game_id' obtenidos"
   ]
  },
  {
   "cell_type": "code",
   "execution_count": 17,
   "id": "999e337e",
   "metadata": {},
   "outputs": [],
   "source": [
    "# Creamos una lista para los Chunks\n",
    "\n",
    "chunks = []\n",
    "\n",
    "for chunk in pd.read_csv(r'C:\\Users\\Fernando\\Desktop\\CSV de NBA\\archive\\csv\\play_by_play.csv', chunksize=100000):\n",
    "    chunk_filtrado = chunk[chunk['game_id'].isin(game_ids_validos)]\n",
    "    chunks.append(chunk_filtrado) ## llena la lista \n",
    "\n",
    "# Concatenamos los chunks\n",
    "play_by_play_filtrado = pd.concat(chunks, ignore_index=True)\n",
    "\n",
    "# mostramos el dataset filtrado\n",
    "# print(play_by_play_filtrado.shape)\n",
    "# play_by_play_filtrado.head()\n",
    "\n",
    "\n",
    "\n"
   ]
  },
  {
   "cell_type": "markdown",
   "id": "2d0cf1e4",
   "metadata": {},
   "source": [
    "Guardamos el dataset en un archivo nuevo de .CSV \n"
   ]
  },
  {
   "cell_type": "code",
   "execution_count": 18,
   "id": "368f84cf",
   "metadata": {},
   "outputs": [],
   "source": [
    "play_by_play_filtrado.to_csv(r'C:\\Users\\Fernando\\Desktop\\CSV de NBA\\archive\\csv\\juego_por_juevo.csv', index=False)\n",
    "#Se guarda el archivo nuevo ya con los id de juego pertenecientes al rango de fecha que especificamos.\n"
   ]
  },
  {
   "cell_type": "markdown",
   "id": "d32f832d",
   "metadata": {},
   "source": [
    "DESDE ACA COMIENZA A TRABAJAR FELI. "
   ]
  },
  {
   "cell_type": "markdown",
   "id": "de0d7065",
   "metadata": {},
   "source": [
    "comienzo de rama"
   ]
  }
 ],
 "metadata": {
  "kernelspec": {
   "display_name": "Python 3",
   "language": "python",
   "name": "python3"
  },
  "language_info": {
   "codemirror_mode": {
    "name": "ipython",
    "version": 3
   },
   "file_extension": ".py",
   "mimetype": "text/x-python",
   "name": "python",
   "nbconvert_exporter": "python",
   "pygments_lexer": "ipython3",
   "version": "3.13.5"
  }
 },
 "nbformat": 4,
 "nbformat_minor": 5
}
