{
 "cells": [
  {
   "cell_type": "markdown",
   "id": "6e192a06",
   "metadata": {},
   "source": [
    "# PROYECTO FINAL GRUPAL  - NBA-StatVision - Lesiones\n"
   ]
  },
  {
   "cell_type": "markdown",
   "id": "7be4d95a",
   "metadata": {},
   "source": []
  },
  {
   "cell_type": "markdown",
   "id": "987699b5",
   "metadata": {},
   "source": [
    "### Importacion de librerias\n"
   ]
  },
  {
   "cell_type": "code",
   "execution_count": 5,
   "id": "8c73471e",
   "metadata": {},
   "outputs": [],
   "source": [
    "import pandas as pd \n",
    "import numpy as np \n"
   ]
  },
  {
   "cell_type": "markdown",
   "id": "35cef32d",
   "metadata": {},
   "source": [
    "Importamos dataframe \"play_by_play\" pero solo leemos la primer fila que es el nombre de la columna\n"
   ]
  },
  {
   "cell_type": "code",
   "execution_count": 6,
   "id": "809cfe2b",
   "metadata": {},
   "outputs": [],
   "source": [
    "## creamos variable para alojar la ruta del archivo\n",
    "ruta_archivo_csv = r'C:\\Users\\Fernando\\Desktop\\NBA Statvision\\archive\\csv\\play_by_play.csv'\n",
    "\n",
    "# df = pd.read_csv(ruta_archivo_csv)\n",
    "\n",
    "## Leemos solo la primer fila con el nombre de las columnas.\n",
    "def obtener_nombre_columnas(ruta_archivo_csv):\n",
    "    \n",
    "    columnas = pd.read_csv(ruta_archivo_csv, nrows=0).columns.tolist()\n",
    "    return columnas\n",
    "\n",
    "\n"
   ]
  },
  {
   "cell_type": "markdown",
   "id": "94c72430",
   "metadata": {},
   "source": [
    "Vemos los nombres de las columnas de \"play_by_play\" (esto es porque nos trae la primer fila del dataset)"
   ]
  },
  {
   "cell_type": "code",
   "execution_count": 7,
   "id": "bc1db12b",
   "metadata": {},
   "outputs": [
    {
     "name": "stdout",
     "output_type": "stream",
     "text": [
      "Columnas del archivo 'play_by_play': \n",
      "- game_id\n",
      "- eventnum\n",
      "- eventmsgtype\n",
      "- eventmsgactiontype\n",
      "- period\n",
      "- wctimestring\n",
      "- pctimestring\n",
      "- homedescription\n",
      "- neutraldescription\n",
      "- visitordescription\n",
      "- score\n",
      "- scoremargin\n",
      "- person1type\n",
      "- player1_id\n",
      "- player1_name\n",
      "- player1_team_id\n",
      "- player1_team_city\n",
      "- player1_team_nickname\n",
      "- player1_team_abbreviation\n",
      "- person2type\n",
      "- player2_id\n",
      "- player2_name\n",
      "- player2_team_id\n",
      "- player2_team_city\n",
      "- player2_team_nickname\n",
      "- player2_team_abbreviation\n",
      "- person3type\n",
      "- player3_id\n",
      "- player3_name\n",
      "- player3_team_id\n",
      "- player3_team_city\n",
      "- player3_team_nickname\n",
      "- player3_team_abbreviation\n",
      "- video_available_flag\n"
     ]
    }
   ],
   "source": [
    "primera_fila = obtener_nombre_columnas(ruta_archivo_csv)\n",
    "# mostramos las columnas:\n",
    "print(\"Columnas del archivo 'play_by_play': \")\n",
    "for col in primera_fila:\n",
    "    print(\"-\", col)"
   ]
  },
  {
   "cell_type": "markdown",
   "id": "d7c575e8",
   "metadata": {},
   "source": [
    "Este data set no tiene datos de fecha, solo 'game_id', entonces deberemos buscar en otro dataset, si hay game_id con fechas."
   ]
  },
  {
   "cell_type": "markdown",
   "id": "c1750dda",
   "metadata": {},
   "source": [
    "Buscamos en el dataset 'game_info' para ver si contiene una columna de fechas."
   ]
  },
  {
   "cell_type": "code",
   "execution_count": 8,
   "id": "edcc5d12",
   "metadata": {},
   "outputs": [
    {
     "data": {
      "application/vnd.microsoft.datawrangler.viewer.v0+json": {
       "columns": [
        {
         "name": "index",
         "rawType": "int64",
         "type": "integer"
        },
        {
         "name": "game_id",
         "rawType": "int64",
         "type": "integer"
        },
        {
         "name": "game_date",
         "rawType": "object",
         "type": "string"
        },
        {
         "name": "attendance",
         "rawType": "float64",
         "type": "float"
        },
        {
         "name": "game_time",
         "rawType": "object",
         "type": "unknown"
        }
       ],
       "ref": "d0449574-28bb-46af-bc87-de171754b903",
       "rows": [
        [
         "0",
         "24600001",
         "1946-11-01 00:00:00",
         null,
         null
        ],
        [
         "1",
         "24600003",
         "1946-11-02 00:00:00",
         null,
         null
        ],
        [
         "2",
         "24600002",
         "1946-11-02 00:00:00",
         null,
         null
        ],
        [
         "3",
         "24600004",
         "1946-11-02 00:00:00",
         null,
         null
        ],
        [
         "4",
         "24600005",
         "1946-11-02 00:00:00",
         null,
         null
        ],
        [
         "5",
         "24600006",
         "1946-11-03 00:00:00",
         null,
         null
        ],
        [
         "6",
         "24600008",
         "1946-11-05 00:00:00",
         null,
         null
        ],
        [
         "7",
         "24600009",
         "1946-11-05 00:00:00",
         null,
         null
        ],
        [
         "8",
         "24600011",
         "1946-11-07 00:00:00",
         null,
         null
        ],
        [
         "9",
         "24600012",
         "1946-11-07 00:00:00",
         null,
         null
        ],
        [
         "10",
         "24600010",
         "1946-11-07 00:00:00",
         null,
         null
        ],
        [
         "11",
         "24600013",
         "1946-11-08 00:00:00",
         null,
         null
        ],
        [
         "12",
         "24600014",
         "1946-11-09 00:00:00",
         "2206.0",
         null
        ],
        [
         "13",
         "24600015",
         "1946-11-09 00:00:00",
         null,
         null
        ],
        [
         "14",
         "24600016",
         "1946-11-09 00:00:00",
         null,
         null
        ],
        [
         "15",
         "24600017",
         "1946-11-09 00:00:00",
         null,
         null
        ],
        [
         "16",
         "24600018",
         "1946-11-10 00:00:00",
         null,
         null
        ],
        [
         "17",
         "24600020",
         "1946-11-11 00:00:00",
         null,
         null
        ],
        [
         "18",
         "24600019",
         "1946-11-11 00:00:00",
         null,
         null
        ],
        [
         "19",
         "24600022",
         "1946-11-13 00:00:00",
         null,
         null
        ],
        [
         "20",
         "24600024",
         "1946-11-14 00:00:00",
         null,
         null
        ],
        [
         "21",
         "24600023",
         "1946-11-14 00:00:00",
         null,
         null
        ],
        [
         "22",
         "24600029",
         "1946-11-16 00:00:00",
         null,
         null
        ],
        [
         "23",
         "24600030",
         "1946-11-16 00:00:00",
         null,
         null
        ],
        [
         "24",
         "24600026",
         "1946-11-16 00:00:00",
         null,
         null
        ],
        [
         "25",
         "24600028",
         "1946-11-16 00:00:00",
         null,
         null
        ],
        [
         "26",
         "24600031",
         "1946-11-17 00:00:00",
         null,
         null
        ],
        [
         "27",
         "24600032",
         "1946-11-18 00:00:00",
         null,
         null
        ],
        [
         "28",
         "24600033",
         "1946-11-18 00:00:00",
         null,
         null
        ],
        [
         "29",
         "24600034",
         "1946-11-19 00:00:00",
         null,
         null
        ],
        [
         "30",
         "24600035",
         "1946-11-19 00:00:00",
         null,
         null
        ],
        [
         "31",
         "24600037",
         "1946-11-20 00:00:00",
         null,
         null
        ],
        [
         "32",
         "24600036",
         "1946-11-20 00:00:00",
         null,
         null
        ],
        [
         "33",
         "24600039",
         "1946-11-21 00:00:00",
         null,
         null
        ],
        [
         "34",
         "24600040",
         "1946-11-21 00:00:00",
         null,
         null
        ],
        [
         "35",
         "24600042",
         "1946-11-22 00:00:00",
         null,
         null
        ],
        [
         "36",
         "24600045",
         "1946-11-23 00:00:00",
         null,
         null
        ],
        [
         "37",
         "24600043",
         "1946-11-23 00:00:00",
         null,
         null
        ],
        [
         "38",
         "24600044",
         "1946-11-23 00:00:00",
         null,
         null
        ],
        [
         "39",
         "24600049",
         "1946-11-25 00:00:00",
         null,
         null
        ],
        [
         "40",
         "24600053",
         "1946-11-26 00:00:00",
         null,
         null
        ],
        [
         "41",
         "24600052",
         "1946-11-26 00:00:00",
         null,
         null
        ],
        [
         "42",
         "24600051",
         "1946-11-26 00:00:00",
         null,
         null
        ],
        [
         "43",
         "24600055",
         "1946-11-27 00:00:00",
         null,
         null
        ],
        [
         "44",
         "24600056",
         "1946-11-27 00:00:00",
         null,
         null
        ],
        [
         "45",
         "24600057",
         "1946-11-28 00:00:00",
         null,
         null
        ],
        [
         "46",
         "24600058",
         "1946-11-28 00:00:00",
         null,
         null
        ],
        [
         "47",
         "24600059",
         "1946-11-28 00:00:00",
         null,
         null
        ],
        [
         "48",
         "24600060",
         "1946-11-28 00:00:00",
         null,
         null
        ],
        [
         "49",
         "24600064",
         "1946-11-30 00:00:00",
         null,
         null
        ]
       ],
       "shape": {
        "columns": 4,
        "rows": 2000
       }
      },
      "text/html": [
       "<div>\n",
       "<style scoped>\n",
       "    .dataframe tbody tr th:only-of-type {\n",
       "        vertical-align: middle;\n",
       "    }\n",
       "\n",
       "    .dataframe tbody tr th {\n",
       "        vertical-align: top;\n",
       "    }\n",
       "\n",
       "    .dataframe thead th {\n",
       "        text-align: right;\n",
       "    }\n",
       "</style>\n",
       "<table border=\"1\" class=\"dataframe\">\n",
       "  <thead>\n",
       "    <tr style=\"text-align: right;\">\n",
       "      <th></th>\n",
       "      <th>game_id</th>\n",
       "      <th>game_date</th>\n",
       "      <th>attendance</th>\n",
       "      <th>game_time</th>\n",
       "    </tr>\n",
       "  </thead>\n",
       "  <tbody>\n",
       "    <tr>\n",
       "      <th>0</th>\n",
       "      <td>24600001</td>\n",
       "      <td>1946-11-01 00:00:00</td>\n",
       "      <td>NaN</td>\n",
       "      <td>NaN</td>\n",
       "    </tr>\n",
       "    <tr>\n",
       "      <th>1</th>\n",
       "      <td>24600003</td>\n",
       "      <td>1946-11-02 00:00:00</td>\n",
       "      <td>NaN</td>\n",
       "      <td>NaN</td>\n",
       "    </tr>\n",
       "    <tr>\n",
       "      <th>2</th>\n",
       "      <td>24600002</td>\n",
       "      <td>1946-11-02 00:00:00</td>\n",
       "      <td>NaN</td>\n",
       "      <td>NaN</td>\n",
       "    </tr>\n",
       "    <tr>\n",
       "      <th>3</th>\n",
       "      <td>24600004</td>\n",
       "      <td>1946-11-02 00:00:00</td>\n",
       "      <td>NaN</td>\n",
       "      <td>NaN</td>\n",
       "    </tr>\n",
       "    <tr>\n",
       "      <th>4</th>\n",
       "      <td>24600005</td>\n",
       "      <td>1946-11-02 00:00:00</td>\n",
       "      <td>NaN</td>\n",
       "      <td>NaN</td>\n",
       "    </tr>\n",
       "    <tr>\n",
       "      <th>...</th>\n",
       "      <td>...</td>\n",
       "      <td>...</td>\n",
       "      <td>...</td>\n",
       "      <td>...</td>\n",
       "    </tr>\n",
       "    <tr>\n",
       "      <th>1995</th>\n",
       "      <td>25200088</td>\n",
       "      <td>1952-12-05 00:00:00</td>\n",
       "      <td>NaN</td>\n",
       "      <td>NaN</td>\n",
       "    </tr>\n",
       "    <tr>\n",
       "      <th>1996</th>\n",
       "      <td>25200090</td>\n",
       "      <td>1952-12-06 00:00:00</td>\n",
       "      <td>NaN</td>\n",
       "      <td>NaN</td>\n",
       "    </tr>\n",
       "    <tr>\n",
       "      <th>1997</th>\n",
       "      <td>25200092</td>\n",
       "      <td>1952-12-06 00:00:00</td>\n",
       "      <td>NaN</td>\n",
       "      <td>NaN</td>\n",
       "    </tr>\n",
       "    <tr>\n",
       "      <th>1998</th>\n",
       "      <td>25200091</td>\n",
       "      <td>1952-12-06 00:00:00</td>\n",
       "      <td>NaN</td>\n",
       "      <td>NaN</td>\n",
       "    </tr>\n",
       "    <tr>\n",
       "      <th>1999</th>\n",
       "      <td>25200089</td>\n",
       "      <td>1952-12-06 00:00:00</td>\n",
       "      <td>NaN</td>\n",
       "      <td>NaN</td>\n",
       "    </tr>\n",
       "  </tbody>\n",
       "</table>\n",
       "<p>2000 rows × 4 columns</p>\n",
       "</div>"
      ],
      "text/plain": [
       "       game_id            game_date  attendance game_time\n",
       "0     24600001  1946-11-01 00:00:00         NaN       NaN\n",
       "1     24600003  1946-11-02 00:00:00         NaN       NaN\n",
       "2     24600002  1946-11-02 00:00:00         NaN       NaN\n",
       "3     24600004  1946-11-02 00:00:00         NaN       NaN\n",
       "4     24600005  1946-11-02 00:00:00         NaN       NaN\n",
       "...        ...                  ...         ...       ...\n",
       "1995  25200088  1952-12-05 00:00:00         NaN       NaN\n",
       "1996  25200090  1952-12-06 00:00:00         NaN       NaN\n",
       "1997  25200092  1952-12-06 00:00:00         NaN       NaN\n",
       "1998  25200091  1952-12-06 00:00:00         NaN       NaN\n",
       "1999  25200089  1952-12-06 00:00:00         NaN       NaN\n",
       "\n",
       "[2000 rows x 4 columns]"
      ]
     },
     "execution_count": 8,
     "metadata": {},
     "output_type": "execute_result"
    }
   ],
   "source": [
    "## Definimos la ruta donde se encuentra\n",
    "ruta_game_info = r'C:\\Users\\Fernando\\Desktop\\NBA Statvision\\archive\\csv\\game_info.csv' \n",
    "\n",
    "## Leemos el dataset\n",
    "df = pd.read_csv(ruta_game_info)\n",
    "\n",
    "## Lo mostramos \n",
    "df.head(2000)\n"
   ]
  },
  {
   "cell_type": "markdown",
   "id": "d98994ef",
   "metadata": {},
   "source": [
    "Como tiene columna de fechas, vamos a filtrar los id que estén entre 2013 y 2023"
   ]
  },
  {
   "cell_type": "code",
   "execution_count": 12,
   "id": "e54553d4",
   "metadata": {},
   "outputs": [
    {
     "name": "stdout",
     "output_type": "stream",
     "text": [
      "Cantidad de partidos entre 2013 y 2023: 11714\n"
     ]
    }
   ],
   "source": [
    "# Cargamos nuevamente el data set, para \"parsear\" la columna 'game_date'.\n",
    "df_games = pd.read_csv(ruta_game_info, parse_dates=['game_date'])\n",
    "\n",
    "# Filtrar por fechas:\n",
    "\n",
    "games_filtred = df_games [\n",
    "    (df_games['game_date'] >= '2013-01-01') &\n",
    "    (df_games['game_date'] <= '2023-01-01')\n",
    "]\n",
    "\n",
    "# obtener el set de 'game_id' válidos\n",
    "game_ids_validos = set(games_filtred['game_id'])\n",
    "print(f'Cantidad de partidos entre 2013 y 2023: {len(game_ids_validos)}')"
   ]
  },
  {
   "cell_type": "markdown",
   "id": "a0015773",
   "metadata": {},
   "source": [
    " Uso de Chunksize para filtrar el dataset de 'play_by_play' con los 'game_id' obtenidos"
   ]
  },
  {
   "cell_type": "code",
   "execution_count": 15,
   "id": "999e337e",
   "metadata": {},
   "outputs": [
    {
     "name": "stdout",
     "output_type": "stream",
     "text": [
      "(4940642, 34)\n"
     ]
    },
    {
     "data": {
      "application/vnd.microsoft.datawrangler.viewer.v0+json": {
       "columns": [
        {
         "name": "index",
         "rawType": "int64",
         "type": "integer"
        },
        {
         "name": "game_id",
         "rawType": "int64",
         "type": "integer"
        },
        {
         "name": "eventnum",
         "rawType": "int64",
         "type": "integer"
        },
        {
         "name": "eventmsgtype",
         "rawType": "int64",
         "type": "integer"
        },
        {
         "name": "eventmsgactiontype",
         "rawType": "int64",
         "type": "integer"
        },
        {
         "name": "period",
         "rawType": "int64",
         "type": "integer"
        },
        {
         "name": "wctimestring",
         "rawType": "object",
         "type": "string"
        },
        {
         "name": "pctimestring",
         "rawType": "object",
         "type": "string"
        },
        {
         "name": "homedescription",
         "rawType": "object",
         "type": "unknown"
        },
        {
         "name": "neutraldescription",
         "rawType": "object",
         "type": "unknown"
        },
        {
         "name": "visitordescription",
         "rawType": "object",
         "type": "unknown"
        },
        {
         "name": "score",
         "rawType": "object",
         "type": "unknown"
        },
        {
         "name": "scoremargin",
         "rawType": "object",
         "type": "unknown"
        },
        {
         "name": "person1type",
         "rawType": "float64",
         "type": "float"
        },
        {
         "name": "player1_id",
         "rawType": "int64",
         "type": "integer"
        },
        {
         "name": "player1_name",
         "rawType": "object",
         "type": "unknown"
        },
        {
         "name": "player1_team_id",
         "rawType": "float64",
         "type": "float"
        },
        {
         "name": "player1_team_city",
         "rawType": "object",
         "type": "unknown"
        },
        {
         "name": "player1_team_nickname",
         "rawType": "object",
         "type": "unknown"
        },
        {
         "name": "player1_team_abbreviation",
         "rawType": "object",
         "type": "unknown"
        },
        {
         "name": "person2type",
         "rawType": "float64",
         "type": "float"
        },
        {
         "name": "player2_id",
         "rawType": "int64",
         "type": "integer"
        },
        {
         "name": "player2_name",
         "rawType": "object",
         "type": "unknown"
        },
        {
         "name": "player2_team_id",
         "rawType": "float64",
         "type": "float"
        },
        {
         "name": "player2_team_city",
         "rawType": "object",
         "type": "unknown"
        },
        {
         "name": "player2_team_nickname",
         "rawType": "object",
         "type": "unknown"
        },
        {
         "name": "player2_team_abbreviation",
         "rawType": "object",
         "type": "unknown"
        },
        {
         "name": "person3type",
         "rawType": "float64",
         "type": "float"
        },
        {
         "name": "player3_id",
         "rawType": "int64",
         "type": "integer"
        },
        {
         "name": "player3_name",
         "rawType": "object",
         "type": "unknown"
        },
        {
         "name": "player3_team_id",
         "rawType": "float64",
         "type": "float"
        },
        {
         "name": "player3_team_city",
         "rawType": "object",
         "type": "unknown"
        },
        {
         "name": "player3_team_nickname",
         "rawType": "object",
         "type": "unknown"
        },
        {
         "name": "player3_team_abbreviation",
         "rawType": "object",
         "type": "unknown"
        },
        {
         "name": "video_available_flag",
         "rawType": "int64",
         "type": "integer"
        }
       ],
       "ref": "32f31334-144f-46bc-be4a-3ca2301c6122",
       "rows": [
        [
         "0",
         "41200161",
         "0",
         "12",
         "0",
         "1",
         "5:41 PM",
         "12:00",
         null,
         "Start of 1st Period (5:41 PM EST)",
         null,
         null,
         null,
         "0.0",
         "0",
         null,
         null,
         null,
         null,
         null,
         "0.0",
         "0",
         null,
         null,
         null,
         null,
         null,
         "0.0",
         "0",
         null,
         null,
         null,
         null,
         null,
         "0"
        ],
        [
         "1",
         "41200161",
         "1",
         "10",
         "0",
         "1",
         "5:41 PM",
         "12:00",
         "Jump Ball Koufos vs. Bogut: Tip to Lawson",
         null,
         null,
         null,
         null,
         "4.0",
         "201585",
         "Kosta Koufos",
         "1610612743.0",
         "Denver",
         "Nuggets",
         "DEN",
         "5.0",
         "101106",
         "Andrew Bogut",
         "1610612744.0",
         "Golden State",
         "Warriors",
         "GSW",
         "4.0",
         "201951",
         "Ty Lawson",
         "1610612743.0",
         "Denver",
         "Nuggets",
         "DEN",
         "0"
        ],
        [
         "2",
         "41200161",
         "2",
         "2",
         "42",
         "1",
         "5:42 PM",
         "11:40",
         "MISS Fournier  Driving Layup",
         null,
         "Bogut BLOCK (1 BLK)",
         null,
         null,
         "4.0",
         "203095",
         "Evan Fournier",
         "1610612743.0",
         "Denver",
         "Nuggets",
         "DEN",
         "0.0",
         "0",
         null,
         null,
         null,
         null,
         null,
         "5.0",
         "101106",
         "Andrew Bogut",
         "1610612744.0",
         "Golden State",
         "Warriors",
         "GSW",
         "0"
        ],
        [
         "3",
         "41200161",
         "3",
         "4",
         "0",
         "1",
         "5:42 PM",
         "11:39",
         null,
         null,
         "Bogut REBOUND (Off:0 Def:1)",
         null,
         null,
         "5.0",
         "101106",
         "Andrew Bogut",
         "1610612744.0",
         "Golden State",
         "Warriors",
         "GSW",
         "0.0",
         "0",
         null,
         null,
         null,
         null,
         null,
         "0.0",
         "0",
         null,
         null,
         null,
         null,
         null,
         "0"
        ],
        [
         "4",
         "41200161",
         "4",
         "2",
         "1",
         "1",
         "5:42 PM",
         "11:27",
         null,
         null,
         "MISS Lee 15' Jump Shot",
         null,
         null,
         "5.0",
         "101135",
         "David Lee",
         "1610612744.0",
         "Golden State",
         "Warriors",
         "GSW",
         "0.0",
         "0",
         null,
         null,
         null,
         null,
         null,
         "0.0",
         "0",
         null,
         null,
         null,
         null,
         null,
         "0"
        ]
       ],
       "shape": {
        "columns": 34,
        "rows": 5
       }
      },
      "text/html": [
       "<div>\n",
       "<style scoped>\n",
       "    .dataframe tbody tr th:only-of-type {\n",
       "        vertical-align: middle;\n",
       "    }\n",
       "\n",
       "    .dataframe tbody tr th {\n",
       "        vertical-align: top;\n",
       "    }\n",
       "\n",
       "    .dataframe thead th {\n",
       "        text-align: right;\n",
       "    }\n",
       "</style>\n",
       "<table border=\"1\" class=\"dataframe\">\n",
       "  <thead>\n",
       "    <tr style=\"text-align: right;\">\n",
       "      <th></th>\n",
       "      <th>game_id</th>\n",
       "      <th>eventnum</th>\n",
       "      <th>eventmsgtype</th>\n",
       "      <th>eventmsgactiontype</th>\n",
       "      <th>period</th>\n",
       "      <th>wctimestring</th>\n",
       "      <th>pctimestring</th>\n",
       "      <th>homedescription</th>\n",
       "      <th>neutraldescription</th>\n",
       "      <th>visitordescription</th>\n",
       "      <th>...</th>\n",
       "      <th>player2_team_nickname</th>\n",
       "      <th>player2_team_abbreviation</th>\n",
       "      <th>person3type</th>\n",
       "      <th>player3_id</th>\n",
       "      <th>player3_name</th>\n",
       "      <th>player3_team_id</th>\n",
       "      <th>player3_team_city</th>\n",
       "      <th>player3_team_nickname</th>\n",
       "      <th>player3_team_abbreviation</th>\n",
       "      <th>video_available_flag</th>\n",
       "    </tr>\n",
       "  </thead>\n",
       "  <tbody>\n",
       "    <tr>\n",
       "      <th>0</th>\n",
       "      <td>41200161</td>\n",
       "      <td>0</td>\n",
       "      <td>12</td>\n",
       "      <td>0</td>\n",
       "      <td>1</td>\n",
       "      <td>5:41 PM</td>\n",
       "      <td>12:00</td>\n",
       "      <td>NaN</td>\n",
       "      <td>Start of 1st Period (5:41 PM EST)</td>\n",
       "      <td>NaN</td>\n",
       "      <td>...</td>\n",
       "      <td>NaN</td>\n",
       "      <td>NaN</td>\n",
       "      <td>0.0</td>\n",
       "      <td>0</td>\n",
       "      <td>NaN</td>\n",
       "      <td>NaN</td>\n",
       "      <td>NaN</td>\n",
       "      <td>NaN</td>\n",
       "      <td>NaN</td>\n",
       "      <td>0</td>\n",
       "    </tr>\n",
       "    <tr>\n",
       "      <th>1</th>\n",
       "      <td>41200161</td>\n",
       "      <td>1</td>\n",
       "      <td>10</td>\n",
       "      <td>0</td>\n",
       "      <td>1</td>\n",
       "      <td>5:41 PM</td>\n",
       "      <td>12:00</td>\n",
       "      <td>Jump Ball Koufos vs. Bogut: Tip to Lawson</td>\n",
       "      <td>NaN</td>\n",
       "      <td>NaN</td>\n",
       "      <td>...</td>\n",
       "      <td>Warriors</td>\n",
       "      <td>GSW</td>\n",
       "      <td>4.0</td>\n",
       "      <td>201951</td>\n",
       "      <td>Ty Lawson</td>\n",
       "      <td>1.610613e+09</td>\n",
       "      <td>Denver</td>\n",
       "      <td>Nuggets</td>\n",
       "      <td>DEN</td>\n",
       "      <td>0</td>\n",
       "    </tr>\n",
       "    <tr>\n",
       "      <th>2</th>\n",
       "      <td>41200161</td>\n",
       "      <td>2</td>\n",
       "      <td>2</td>\n",
       "      <td>42</td>\n",
       "      <td>1</td>\n",
       "      <td>5:42 PM</td>\n",
       "      <td>11:40</td>\n",
       "      <td>MISS Fournier  Driving Layup</td>\n",
       "      <td>NaN</td>\n",
       "      <td>Bogut BLOCK (1 BLK)</td>\n",
       "      <td>...</td>\n",
       "      <td>NaN</td>\n",
       "      <td>NaN</td>\n",
       "      <td>5.0</td>\n",
       "      <td>101106</td>\n",
       "      <td>Andrew Bogut</td>\n",
       "      <td>1.610613e+09</td>\n",
       "      <td>Golden State</td>\n",
       "      <td>Warriors</td>\n",
       "      <td>GSW</td>\n",
       "      <td>0</td>\n",
       "    </tr>\n",
       "    <tr>\n",
       "      <th>3</th>\n",
       "      <td>41200161</td>\n",
       "      <td>3</td>\n",
       "      <td>4</td>\n",
       "      <td>0</td>\n",
       "      <td>1</td>\n",
       "      <td>5:42 PM</td>\n",
       "      <td>11:39</td>\n",
       "      <td>NaN</td>\n",
       "      <td>NaN</td>\n",
       "      <td>Bogut REBOUND (Off:0 Def:1)</td>\n",
       "      <td>...</td>\n",
       "      <td>NaN</td>\n",
       "      <td>NaN</td>\n",
       "      <td>0.0</td>\n",
       "      <td>0</td>\n",
       "      <td>NaN</td>\n",
       "      <td>NaN</td>\n",
       "      <td>NaN</td>\n",
       "      <td>NaN</td>\n",
       "      <td>NaN</td>\n",
       "      <td>0</td>\n",
       "    </tr>\n",
       "    <tr>\n",
       "      <th>4</th>\n",
       "      <td>41200161</td>\n",
       "      <td>4</td>\n",
       "      <td>2</td>\n",
       "      <td>1</td>\n",
       "      <td>1</td>\n",
       "      <td>5:42 PM</td>\n",
       "      <td>11:27</td>\n",
       "      <td>NaN</td>\n",
       "      <td>NaN</td>\n",
       "      <td>MISS Lee 15' Jump Shot</td>\n",
       "      <td>...</td>\n",
       "      <td>NaN</td>\n",
       "      <td>NaN</td>\n",
       "      <td>0.0</td>\n",
       "      <td>0</td>\n",
       "      <td>NaN</td>\n",
       "      <td>NaN</td>\n",
       "      <td>NaN</td>\n",
       "      <td>NaN</td>\n",
       "      <td>NaN</td>\n",
       "      <td>0</td>\n",
       "    </tr>\n",
       "  </tbody>\n",
       "</table>\n",
       "<p>5 rows × 34 columns</p>\n",
       "</div>"
      ],
      "text/plain": [
       "    game_id  eventnum  eventmsgtype  eventmsgactiontype  period wctimestring  \\\n",
       "0  41200161         0            12                   0       1      5:41 PM   \n",
       "1  41200161         1            10                   0       1      5:41 PM   \n",
       "2  41200161         2             2                  42       1      5:42 PM   \n",
       "3  41200161         3             4                   0       1      5:42 PM   \n",
       "4  41200161         4             2                   1       1      5:42 PM   \n",
       "\n",
       "  pctimestring                            homedescription  \\\n",
       "0        12:00                                        NaN   \n",
       "1        12:00  Jump Ball Koufos vs. Bogut: Tip to Lawson   \n",
       "2        11:40               MISS Fournier  Driving Layup   \n",
       "3        11:39                                        NaN   \n",
       "4        11:27                                        NaN   \n",
       "\n",
       "                  neutraldescription           visitordescription  ...  \\\n",
       "0  Start of 1st Period (5:41 PM EST)                          NaN  ...   \n",
       "1                                NaN                          NaN  ...   \n",
       "2                                NaN          Bogut BLOCK (1 BLK)  ...   \n",
       "3                                NaN  Bogut REBOUND (Off:0 Def:1)  ...   \n",
       "4                                NaN       MISS Lee 15' Jump Shot  ...   \n",
       "\n",
       "  player2_team_nickname player2_team_abbreviation  person3type  player3_id  \\\n",
       "0                   NaN                       NaN          0.0           0   \n",
       "1              Warriors                       GSW          4.0      201951   \n",
       "2                   NaN                       NaN          5.0      101106   \n",
       "3                   NaN                       NaN          0.0           0   \n",
       "4                   NaN                       NaN          0.0           0   \n",
       "\n",
       "   player3_name  player3_team_id player3_team_city player3_team_nickname  \\\n",
       "0           NaN              NaN               NaN                   NaN   \n",
       "1     Ty Lawson     1.610613e+09            Denver               Nuggets   \n",
       "2  Andrew Bogut     1.610613e+09      Golden State              Warriors   \n",
       "3           NaN              NaN               NaN                   NaN   \n",
       "4           NaN              NaN               NaN                   NaN   \n",
       "\n",
       "  player3_team_abbreviation  video_available_flag  \n",
       "0                       NaN                     0  \n",
       "1                       DEN                     0  \n",
       "2                       GSW                     0  \n",
       "3                       NaN                     0  \n",
       "4                       NaN                     0  \n",
       "\n",
       "[5 rows x 34 columns]"
      ]
     },
     "execution_count": 15,
     "metadata": {},
     "output_type": "execute_result"
    }
   ],
   "source": [
    "# Creamos una lista para los Chunks\n",
    "\n",
    "chunks = []\n",
    "\n",
    "for chunk in pd.read_csv(r'C:\\Users\\Fernando\\Desktop\\NBA Statvision\\archive\\csv\\play_by_play.csv', chunksize=100000):\n",
    "    chunk_filtrado = chunk[chunk['game_id'].isin(game_ids_validos)]\n",
    "    chunks.append(chunk_filtrado) ## llena la lista \n",
    "\n",
    "# Concatenamos los chunks\n",
    "play_by_play_filtrado = pd.concat(chunks, ignore_index=True)\n",
    "\n",
    "# mostramos el dataset filtrado\n",
    "print(play_by_play_filtrado.shape)\n",
    "play_by_play_filtrado.head()\n",
    "\n",
    "\n",
    "\n"
   ]
  },
  {
   "cell_type": "markdown",
   "id": "2d0cf1e4",
   "metadata": {},
   "source": [
    "Guardamos el dataset en un archivo nuevo de .CSV \n"
   ]
  },
  {
   "cell_type": "code",
   "execution_count": 16,
   "id": "368f84cf",
   "metadata": {},
   "outputs": [],
   "source": [
    "play_by_play_filtrado.to_csv('juego_por_juevo.csv', index=False)\n",
    "#Se guarda el archivo nuevo ya con los id de juego pertenecientes al rango de fecha que especificamos.\n"
   ]
  }
 ],
 "metadata": {
  "kernelspec": {
   "display_name": "Python 3",
   "language": "python",
   "name": "python3"
  },
  "language_info": {
   "codemirror_mode": {
    "name": "ipython",
    "version": 3
   },
   "file_extension": ".py",
   "mimetype": "text/x-python",
   "name": "python",
   "nbconvert_exporter": "python",
   "pygments_lexer": "ipython3",
   "version": "3.13.5"
  }
 },
 "nbformat": 4,
 "nbformat_minor": 5
}
