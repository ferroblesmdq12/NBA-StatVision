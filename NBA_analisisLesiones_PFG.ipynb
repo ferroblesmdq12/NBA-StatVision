{
 "cells": [
  {
   "cell_type": "markdown",
   "id": "6e192a06",
   "metadata": {},
   "source": [
    "# PROYECTO FINAL GRUPAL  - NBA-StatVision - Lesiones\n"
   ]
  },
  {
   "cell_type": "markdown",
   "id": "7be4d95a",
   "metadata": {},
   "source": []
  },
  {
   "cell_type": "markdown",
   "id": "987699b5",
   "metadata": {},
   "source": [
    "### Importacion de librerias\n"
   ]
  },
  {
   "cell_type": "code",
   "execution_count": 14,
   "id": "58216170",
   "metadata": {},
   "outputs": [],
   "source": [
    "import pandas as pd\n",
    "import numpy as np\n",
    "import matplotlib.pyplot as plt\n",
    "import seaborn as sns\n",
    "import os"
   ]
  },
  {
   "cell_type": "markdown",
   "id": "0a3df260",
   "metadata": {},
   "source": [
    "Cargo el archivo asignado de jugadas Play_by_play y el archivo Games"
   ]
  },
  {
   "cell_type": "code",
   "execution_count": 3,
   "id": "848a5d01",
   "metadata": {},
   "outputs": [],
   "source": [
    "play_by_play = pd.read_csv(r\"D:\\Proyecto Final\\archive\\csv\\play_by_play.csv\",sep=',')\n",
    "games = pd.read_csv(r\"D:\\Proyecto Final\\archive\\csv\\game.csv\",sep=',')"
   ]
  },
  {
   "cell_type": "markdown",
   "id": "443f54bc",
   "metadata": {},
   "source": [
    "Verifico las tablas que tienen el archivo Plays y el archivo games. "
   ]
  },
  {
   "cell_type": "code",
   "execution_count": 4,
   "id": "d537accf",
   "metadata": {},
   "outputs": [
    {
     "data": {
      "text/plain": [
       "Index(['game_id', 'eventnum', 'eventmsgtype', 'eventmsgactiontype', 'period',\n",
       "       'wctimestring', 'pctimestring', 'homedescription', 'neutraldescription',\n",
       "       'visitordescription', 'score', 'scoremargin', 'person1type',\n",
       "       'player1_id', 'player1_name', 'player1_team_id', 'player1_team_city',\n",
       "       'player1_team_nickname', 'player1_team_abbreviation', 'person2type',\n",
       "       'player2_id', 'player2_name', 'player2_team_id', 'player2_team_city',\n",
       "       'player2_team_nickname', 'player2_team_abbreviation', 'person3type',\n",
       "       'player3_id', 'player3_name', 'player3_team_id', 'player3_team_city',\n",
       "       'player3_team_nickname', 'player3_team_abbreviation',\n",
       "       'video_available_flag'],\n",
       "      dtype='object')"
      ]
     },
     "execution_count": 4,
     "metadata": {},
     "output_type": "execute_result"
    }
   ],
   "source": [
    "play_by_play.columns"
   ]
  },
  {
   "cell_type": "code",
   "execution_count": 5,
   "id": "c94a3d76",
   "metadata": {},
   "outputs": [
    {
     "data": {
      "text/plain": [
       "Index(['season_id', 'team_id_home', 'team_abbreviation_home', 'team_name_home',\n",
       "       'game_id', 'game_date', 'matchup_home', 'wl_home', 'min', 'fgm_home',\n",
       "       'fga_home', 'fg_pct_home', 'fg3m_home', 'fg3a_home', 'fg3_pct_home',\n",
       "       'ftm_home', 'fta_home', 'ft_pct_home', 'oreb_home', 'dreb_home',\n",
       "       'reb_home', 'ast_home', 'stl_home', 'blk_home', 'tov_home', 'pf_home',\n",
       "       'pts_home', 'plus_minus_home', 'video_available_home', 'team_id_away',\n",
       "       'team_abbreviation_away', 'team_name_away', 'matchup_away', 'wl_away',\n",
       "       'fgm_away', 'fga_away', 'fg_pct_away', 'fg3m_away', 'fg3a_away',\n",
       "       'fg3_pct_away', 'ftm_away', 'fta_away', 'ft_pct_away', 'oreb_away',\n",
       "       'dreb_away', 'reb_away', 'ast_away', 'stl_away', 'blk_away', 'tov_away',\n",
       "       'pf_away', 'pts_away', 'plus_minus_away', 'video_available_away',\n",
       "       'season_type'],\n",
       "      dtype='object')"
      ]
     },
     "execution_count": 5,
     "metadata": {},
     "output_type": "execute_result"
    }
   ],
   "source": [
    "games.columns"
   ]
  },
  {
   "cell_type": "markdown",
   "id": "bea5281c",
   "metadata": {},
   "source": [
    "Observo que la columna que comparten las dos tablas es la columna game_id, esta sera mi llave de conexión entre las tablas.\n",
    "\n",
    "En la tabla games veo una tabla de fechas game_date voy a filtar primero por esa tabla los juegos que hacen parte de nuestra muestra veamos las fechas que componen la columna."
   ]
  },
  {
   "cell_type": "code",
   "execution_count": 6,
   "id": "0797e457",
   "metadata": {},
   "outputs": [],
   "source": [
    "games.sort_values(by='game_date', ascending=True, inplace=True)"
   ]
  },
  {
   "cell_type": "code",
   "execution_count": 7,
   "id": "7b38b521",
   "metadata": {},
   "outputs": [
    {
     "name": "stdout",
     "output_type": "stream",
     "text": [
      "<class 'pandas.core.series.Series'>\n",
      "Index: 65698 entries, 0 to 65695\n",
      "Series name: game_date\n",
      "Non-Null Count  Dtype \n",
      "--------------  ----- \n",
      "65698 non-null  object\n",
      "dtypes: object(1)\n",
      "memory usage: 1.0+ MB\n",
      "None\n",
      "1946-11-01 00:00:00\n",
      "2023-06-12 00:00:00\n"
     ]
    }
   ],
   "source": [
    "print(games[\"game_date\"].info())\n",
    "print(games[\"game_date\"].min())\n",
    "print(games[\"game_date\"].max())"
   ]
  },
  {
   "cell_type": "markdown",
   "id": "ef045fe8",
   "metadata": {},
   "source": [
    "Filto por las muestras escogidas 2010-2020 "
   ]
  },
  {
   "cell_type": "code",
   "execution_count": 42,
   "id": "d509adc0",
   "metadata": {},
   "outputs": [],
   "source": [
    "games_2010_2020 = games[(games[\"game_date\"] >= \"2010-10-3\") & (games[\"game_date\"] <= \"2020-10-6\")]"
   ]
  },
  {
   "cell_type": "markdown",
   "id": "75a6714a",
   "metadata": {},
   "source": [
    "Ahora que tengo el ID de los juegos dentro de las fechas que necesito filtro el archivo Play_by_play por el juego con ID más bajo y el juego con id más alto."
   ]
  },
  {
   "cell_type": "code",
   "execution_count": 43,
   "id": "c7499880",
   "metadata": {},
   "outputs": [
    {
     "ename": "KeyboardInterrupt",
     "evalue": "",
     "output_type": "error",
     "traceback": [
      "\u001b[31m---------------------------------------------------------------------------\u001b[39m",
      "\u001b[31mKeyboardInterrupt\u001b[39m                         Traceback (most recent call last)",
      "\u001b[36mCell\u001b[39m\u001b[36m \u001b[39m\u001b[32mIn[43]\u001b[39m\u001b[32m, line 1\u001b[39m\n\u001b[32m----> \u001b[39m\u001b[32m1\u001b[39m play_by_play.describe\n",
      "\u001b[36mFile \u001b[39m\u001b[32m~\\AppData\\Roaming\\Python\\Python313\\site-packages\\IPython\\core\\displayhook.py:279\u001b[39m, in \u001b[36mDisplayHook.__call__\u001b[39m\u001b[34m(self, result)\u001b[39m\n\u001b[32m    277\u001b[39m \u001b[38;5;28mself\u001b[39m.start_displayhook()\n\u001b[32m    278\u001b[39m \u001b[38;5;28mself\u001b[39m.write_output_prompt()\n\u001b[32m--> \u001b[39m\u001b[32m279\u001b[39m format_dict, md_dict = \u001b[38;5;28;43mself\u001b[39;49m\u001b[43m.\u001b[49m\u001b[43mcompute_format_data\u001b[49m\u001b[43m(\u001b[49m\u001b[43mresult\u001b[49m\u001b[43m)\u001b[49m\n\u001b[32m    280\u001b[39m \u001b[38;5;28mself\u001b[39m.update_user_ns(result)\n\u001b[32m    281\u001b[39m \u001b[38;5;28mself\u001b[39m.fill_exec_result(result)\n",
      "\u001b[36mFile \u001b[39m\u001b[32m~\\AppData\\Roaming\\Python\\Python313\\site-packages\\IPython\\core\\displayhook.py:164\u001b[39m, in \u001b[36mDisplayHook.compute_format_data\u001b[39m\u001b[34m(self, result)\u001b[39m\n\u001b[32m    134\u001b[39m \u001b[38;5;28;01mdef\u001b[39;00m\u001b[38;5;250m \u001b[39m\u001b[34mcompute_format_data\u001b[39m(\u001b[38;5;28mself\u001b[39m, result):\n\u001b[32m    135\u001b[39m \u001b[38;5;250m    \u001b[39m\u001b[33;03m\"\"\"Compute format data of the object to be displayed.\u001b[39;00m\n\u001b[32m    136\u001b[39m \n\u001b[32m    137\u001b[39m \u001b[33;03m    The format data is a generalization of the :func:`repr` of an object.\u001b[39;00m\n\u001b[32m   (...)\u001b[39m\u001b[32m    162\u001b[39m \n\u001b[32m    163\u001b[39m \u001b[33;03m    \"\"\"\u001b[39;00m\n\u001b[32m--> \u001b[39m\u001b[32m164\u001b[39m     \u001b[38;5;28;01mreturn\u001b[39;00m \u001b[38;5;28;43mself\u001b[39;49m\u001b[43m.\u001b[49m\u001b[43mshell\u001b[49m\u001b[43m.\u001b[49m\u001b[43mdisplay_formatter\u001b[49m\u001b[43m.\u001b[49m\u001b[43mformat\u001b[49m\u001b[43m(\u001b[49m\u001b[43mresult\u001b[49m\u001b[43m)\u001b[49m\n",
      "\u001b[36mFile \u001b[39m\u001b[32m~\\AppData\\Roaming\\Python\\Python313\\site-packages\\IPython\\core\\formatters.py:238\u001b[39m, in \u001b[36mDisplayFormatter.format\u001b[39m\u001b[34m(self, obj, include, exclude)\u001b[39m\n\u001b[32m    236\u001b[39m md = \u001b[38;5;28;01mNone\u001b[39;00m\n\u001b[32m    237\u001b[39m \u001b[38;5;28;01mtry\u001b[39;00m:\n\u001b[32m--> \u001b[39m\u001b[32m238\u001b[39m     data = \u001b[43mformatter\u001b[49m\u001b[43m(\u001b[49m\u001b[43mobj\u001b[49m\u001b[43m)\u001b[49m\n\u001b[32m    239\u001b[39m \u001b[38;5;28;01mexcept\u001b[39;00m:\n\u001b[32m    240\u001b[39m     \u001b[38;5;66;03m# FIXME: log the exception\u001b[39;00m\n\u001b[32m    241\u001b[39m     \u001b[38;5;28;01mraise\u001b[39;00m\n",
      "\u001b[36mFile \u001b[39m\u001b[32m~\\AppData\\Roaming\\Python\\Python313\\site-packages\\decorator.py:235\u001b[39m, in \u001b[36mdecorate.<locals>.fun\u001b[39m\u001b[34m(*args, **kw)\u001b[39m\n\u001b[32m    233\u001b[39m \u001b[38;5;28;01mif\u001b[39;00m \u001b[38;5;129;01mnot\u001b[39;00m kwsyntax:\n\u001b[32m    234\u001b[39m     args, kw = fix(args, kw, sig)\n\u001b[32m--> \u001b[39m\u001b[32m235\u001b[39m \u001b[38;5;28;01mreturn\u001b[39;00m \u001b[43mcaller\u001b[49m\u001b[43m(\u001b[49m\u001b[43mfunc\u001b[49m\u001b[43m,\u001b[49m\u001b[43m \u001b[49m\u001b[43m*\u001b[49m\u001b[43m(\u001b[49m\u001b[43mextras\u001b[49m\u001b[43m \u001b[49m\u001b[43m+\u001b[49m\u001b[43m \u001b[49m\u001b[43margs\u001b[49m\u001b[43m)\u001b[49m\u001b[43m,\u001b[49m\u001b[43m \u001b[49m\u001b[43m*\u001b[49m\u001b[43m*\u001b[49m\u001b[43mkw\u001b[49m\u001b[43m)\u001b[49m\n",
      "\u001b[36mFile \u001b[39m\u001b[32m~\\AppData\\Roaming\\Python\\Python313\\site-packages\\IPython\\core\\formatters.py:282\u001b[39m, in \u001b[36mcatch_format_error\u001b[39m\u001b[34m(method, self, *args, **kwargs)\u001b[39m\n\u001b[32m    280\u001b[39m \u001b[38;5;250m\u001b[39m\u001b[33;03m\"\"\"show traceback on failed format call\"\"\"\u001b[39;00m\n\u001b[32m    281\u001b[39m \u001b[38;5;28;01mtry\u001b[39;00m:\n\u001b[32m--> \u001b[39m\u001b[32m282\u001b[39m     r = \u001b[43mmethod\u001b[49m\u001b[43m(\u001b[49m\u001b[38;5;28;43mself\u001b[39;49m\u001b[43m,\u001b[49m\u001b[43m \u001b[49m\u001b[43m*\u001b[49m\u001b[43margs\u001b[49m\u001b[43m,\u001b[49m\u001b[43m \u001b[49m\u001b[43m*\u001b[49m\u001b[43m*\u001b[49m\u001b[43mkwargs\u001b[49m\u001b[43m)\u001b[49m\n\u001b[32m    283\u001b[39m \u001b[38;5;28;01mexcept\u001b[39;00m \u001b[38;5;167;01mNotImplementedError\u001b[39;00m:\n\u001b[32m    284\u001b[39m     \u001b[38;5;66;03m# don't warn on NotImplementedErrors\u001b[39;00m\n\u001b[32m    285\u001b[39m     \u001b[38;5;28;01mreturn\u001b[39;00m \u001b[38;5;28mself\u001b[39m._check_return(\u001b[38;5;28;01mNone\u001b[39;00m, args[\u001b[32m0\u001b[39m])\n",
      "\u001b[36mFile \u001b[39m\u001b[32m~\\AppData\\Roaming\\Python\\Python313\\site-packages\\IPython\\core\\formatters.py:770\u001b[39m, in \u001b[36mPlainTextFormatter.__call__\u001b[39m\u001b[34m(self, obj)\u001b[39m\n\u001b[32m    763\u001b[39m stream = StringIO()\n\u001b[32m    764\u001b[39m printer = pretty.RepresentationPrinter(stream, \u001b[38;5;28mself\u001b[39m.verbose,\n\u001b[32m    765\u001b[39m     \u001b[38;5;28mself\u001b[39m.max_width, \u001b[38;5;28mself\u001b[39m.newline,\n\u001b[32m    766\u001b[39m     max_seq_length=\u001b[38;5;28mself\u001b[39m.max_seq_length,\n\u001b[32m    767\u001b[39m     singleton_pprinters=\u001b[38;5;28mself\u001b[39m.singleton_printers,\n\u001b[32m    768\u001b[39m     type_pprinters=\u001b[38;5;28mself\u001b[39m.type_printers,\n\u001b[32m    769\u001b[39m     deferred_pprinters=\u001b[38;5;28mself\u001b[39m.deferred_printers)\n\u001b[32m--> \u001b[39m\u001b[32m770\u001b[39m \u001b[43mprinter\u001b[49m\u001b[43m.\u001b[49m\u001b[43mpretty\u001b[49m\u001b[43m(\u001b[49m\u001b[43mobj\u001b[49m\u001b[43m)\u001b[49m\n\u001b[32m    771\u001b[39m printer.flush()\n\u001b[32m    772\u001b[39m \u001b[38;5;28;01mreturn\u001b[39;00m stream.getvalue()\n",
      "\u001b[36mFile \u001b[39m\u001b[32m~\\AppData\\Roaming\\Python\\Python313\\site-packages\\IPython\\lib\\pretty.py:386\u001b[39m, in \u001b[36mRepresentationPrinter.pretty\u001b[39m\u001b[34m(self, obj)\u001b[39m\n\u001b[32m    383\u001b[39m \u001b[38;5;28;01mfor\u001b[39;00m \u001b[38;5;28mcls\u001b[39m \u001b[38;5;129;01min\u001b[39;00m _get_mro(obj_class):\n\u001b[32m    384\u001b[39m     \u001b[38;5;28;01mif\u001b[39;00m \u001b[38;5;28mcls\u001b[39m \u001b[38;5;129;01min\u001b[39;00m \u001b[38;5;28mself\u001b[39m.type_pprinters:\n\u001b[32m    385\u001b[39m         \u001b[38;5;66;03m# printer registered in self.type_pprinters\u001b[39;00m\n\u001b[32m--> \u001b[39m\u001b[32m386\u001b[39m         \u001b[38;5;28;01mreturn\u001b[39;00m \u001b[38;5;28;43mself\u001b[39;49m\u001b[43m.\u001b[49m\u001b[43mtype_pprinters\u001b[49m\u001b[43m[\u001b[49m\u001b[38;5;28;43mcls\u001b[39;49m\u001b[43m]\u001b[49m\u001b[43m(\u001b[49m\u001b[43mobj\u001b[49m\u001b[43m,\u001b[49m\u001b[43m \u001b[49m\u001b[38;5;28;43mself\u001b[39;49m\u001b[43m,\u001b[49m\u001b[43m \u001b[49m\u001b[43mcycle\u001b[49m\u001b[43m)\u001b[49m\n\u001b[32m    387\u001b[39m     \u001b[38;5;28;01melse\u001b[39;00m:\n\u001b[32m    388\u001b[39m         \u001b[38;5;66;03m# deferred printer\u001b[39;00m\n\u001b[32m    389\u001b[39m         printer = \u001b[38;5;28mself\u001b[39m._in_deferred_types(\u001b[38;5;28mcls\u001b[39m)\n",
      "\u001b[36mFile \u001b[39m\u001b[32m~\\AppData\\Roaming\\Python\\Python313\\site-packages\\IPython\\lib\\pretty.py:786\u001b[39m, in \u001b[36m_repr_pprint\u001b[39m\u001b[34m(obj, p, cycle)\u001b[39m\n\u001b[32m    784\u001b[39m \u001b[38;5;250m\u001b[39m\u001b[33;03m\"\"\"A pprint that just redirects to the normal repr function.\"\"\"\u001b[39;00m\n\u001b[32m    785\u001b[39m \u001b[38;5;66;03m# Find newlines and replace them with p.break_()\u001b[39;00m\n\u001b[32m--> \u001b[39m\u001b[32m786\u001b[39m output = \u001b[38;5;28;43mrepr\u001b[39;49m\u001b[43m(\u001b[49m\u001b[43mobj\u001b[49m\u001b[43m)\u001b[49m\n\u001b[32m    787\u001b[39m lines = output.splitlines()\n\u001b[32m    788\u001b[39m \u001b[38;5;28;01mwith\u001b[39;00m p.group():\n",
      "\u001b[36mFile \u001b[39m\u001b[32mc:\\Users\\Andres Gonzalez\\AppData\\Local\\Programs\\Python\\Python313\\Lib\\site-packages\\pandas\\core\\frame.py:1214\u001b[39m, in \u001b[36mDataFrame.__repr__\u001b[39m\u001b[34m(self)\u001b[39m\n\u001b[32m   1211\u001b[39m     \u001b[38;5;28;01mreturn\u001b[39;00m buf.getvalue()\n\u001b[32m   1213\u001b[39m repr_params = fmt.get_dataframe_repr_params()\n\u001b[32m-> \u001b[39m\u001b[32m1214\u001b[39m \u001b[38;5;28;01mreturn\u001b[39;00m \u001b[38;5;28;43mself\u001b[39;49m\u001b[43m.\u001b[49m\u001b[43mto_string\u001b[49m\u001b[43m(\u001b[49m\u001b[43m*\u001b[49m\u001b[43m*\u001b[49m\u001b[43mrepr_params\u001b[49m\u001b[43m)\u001b[49m\n",
      "\u001b[36mFile \u001b[39m\u001b[32mc:\\Users\\Andres Gonzalez\\AppData\\Local\\Programs\\Python\\Python313\\Lib\\site-packages\\pandas\\util\\_decorators.py:333\u001b[39m, in \u001b[36mdeprecate_nonkeyword_arguments.<locals>.decorate.<locals>.wrapper\u001b[39m\u001b[34m(*args, **kwargs)\u001b[39m\n\u001b[32m    327\u001b[39m \u001b[38;5;28;01mif\u001b[39;00m \u001b[38;5;28mlen\u001b[39m(args) > num_allow_args:\n\u001b[32m    328\u001b[39m     warnings.warn(\n\u001b[32m    329\u001b[39m         msg.format(arguments=_format_argument_list(allow_args)),\n\u001b[32m    330\u001b[39m         \u001b[38;5;167;01mFutureWarning\u001b[39;00m,\n\u001b[32m    331\u001b[39m         stacklevel=find_stack_level(),\n\u001b[32m    332\u001b[39m     )\n\u001b[32m--> \u001b[39m\u001b[32m333\u001b[39m \u001b[38;5;28;01mreturn\u001b[39;00m \u001b[43mfunc\u001b[49m\u001b[43m(\u001b[49m\u001b[43m*\u001b[49m\u001b[43margs\u001b[49m\u001b[43m,\u001b[49m\u001b[43m \u001b[49m\u001b[43m*\u001b[49m\u001b[43m*\u001b[49m\u001b[43mkwargs\u001b[49m\u001b[43m)\u001b[49m\n",
      "\u001b[36mFile \u001b[39m\u001b[32mc:\\Users\\Andres Gonzalez\\AppData\\Local\\Programs\\Python\\Python313\\Lib\\site-packages\\pandas\\core\\frame.py:1376\u001b[39m, in \u001b[36mDataFrame.to_string\u001b[39m\u001b[34m(self, buf, columns, col_space, header, index, na_rep, formatters, float_format, sparsify, index_names, justify, max_rows, max_cols, show_dimensions, decimal, line_width, min_rows, max_colwidth, encoding)\u001b[39m\n\u001b[32m   1373\u001b[39m \u001b[38;5;28;01mfrom\u001b[39;00m\u001b[38;5;250m \u001b[39m\u001b[34;01mpandas\u001b[39;00m\u001b[38;5;250m \u001b[39m\u001b[38;5;28;01mimport\u001b[39;00m option_context\n\u001b[32m   1375\u001b[39m \u001b[38;5;28;01mwith\u001b[39;00m option_context(\u001b[33m\"\u001b[39m\u001b[33mdisplay.max_colwidth\u001b[39m\u001b[33m\"\u001b[39m, max_colwidth):\n\u001b[32m-> \u001b[39m\u001b[32m1376\u001b[39m     formatter = \u001b[43mfmt\u001b[49m\u001b[43m.\u001b[49m\u001b[43mDataFrameFormatter\u001b[49m\u001b[43m(\u001b[49m\n\u001b[32m   1377\u001b[39m \u001b[43m        \u001b[49m\u001b[38;5;28;43mself\u001b[39;49m\u001b[43m,\u001b[49m\n\u001b[32m   1378\u001b[39m \u001b[43m        \u001b[49m\u001b[43mcolumns\u001b[49m\u001b[43m=\u001b[49m\u001b[43mcolumns\u001b[49m\u001b[43m,\u001b[49m\n\u001b[32m   1379\u001b[39m \u001b[43m        \u001b[49m\u001b[43mcol_space\u001b[49m\u001b[43m=\u001b[49m\u001b[43mcol_space\u001b[49m\u001b[43m,\u001b[49m\n\u001b[32m   1380\u001b[39m \u001b[43m        \u001b[49m\u001b[43mna_rep\u001b[49m\u001b[43m=\u001b[49m\u001b[43mna_rep\u001b[49m\u001b[43m,\u001b[49m\n\u001b[32m   1381\u001b[39m \u001b[43m        \u001b[49m\u001b[43mformatters\u001b[49m\u001b[43m=\u001b[49m\u001b[43mformatters\u001b[49m\u001b[43m,\u001b[49m\n\u001b[32m   1382\u001b[39m \u001b[43m        \u001b[49m\u001b[43mfloat_format\u001b[49m\u001b[43m=\u001b[49m\u001b[43mfloat_format\u001b[49m\u001b[43m,\u001b[49m\n\u001b[32m   1383\u001b[39m \u001b[43m        \u001b[49m\u001b[43msparsify\u001b[49m\u001b[43m=\u001b[49m\u001b[43msparsify\u001b[49m\u001b[43m,\u001b[49m\n\u001b[32m   1384\u001b[39m \u001b[43m        \u001b[49m\u001b[43mjustify\u001b[49m\u001b[43m=\u001b[49m\u001b[43mjustify\u001b[49m\u001b[43m,\u001b[49m\n\u001b[32m   1385\u001b[39m \u001b[43m        \u001b[49m\u001b[43mindex_names\u001b[49m\u001b[43m=\u001b[49m\u001b[43mindex_names\u001b[49m\u001b[43m,\u001b[49m\n\u001b[32m   1386\u001b[39m \u001b[43m        \u001b[49m\u001b[43mheader\u001b[49m\u001b[43m=\u001b[49m\u001b[43mheader\u001b[49m\u001b[43m,\u001b[49m\n\u001b[32m   1387\u001b[39m \u001b[43m        \u001b[49m\u001b[43mindex\u001b[49m\u001b[43m=\u001b[49m\u001b[43mindex\u001b[49m\u001b[43m,\u001b[49m\n\u001b[32m   1388\u001b[39m \u001b[43m        \u001b[49m\u001b[43mmin_rows\u001b[49m\u001b[43m=\u001b[49m\u001b[43mmin_rows\u001b[49m\u001b[43m,\u001b[49m\n\u001b[32m   1389\u001b[39m \u001b[43m        \u001b[49m\u001b[43mmax_rows\u001b[49m\u001b[43m=\u001b[49m\u001b[43mmax_rows\u001b[49m\u001b[43m,\u001b[49m\n\u001b[32m   1390\u001b[39m \u001b[43m        \u001b[49m\u001b[43mmax_cols\u001b[49m\u001b[43m=\u001b[49m\u001b[43mmax_cols\u001b[49m\u001b[43m,\u001b[49m\n\u001b[32m   1391\u001b[39m \u001b[43m        \u001b[49m\u001b[43mshow_dimensions\u001b[49m\u001b[43m=\u001b[49m\u001b[43mshow_dimensions\u001b[49m\u001b[43m,\u001b[49m\n\u001b[32m   1392\u001b[39m \u001b[43m        \u001b[49m\u001b[43mdecimal\u001b[49m\u001b[43m=\u001b[49m\u001b[43mdecimal\u001b[49m\u001b[43m,\u001b[49m\n\u001b[32m   1393\u001b[39m \u001b[43m    \u001b[49m\u001b[43m)\u001b[49m\n\u001b[32m   1394\u001b[39m     \u001b[38;5;28;01mreturn\u001b[39;00m fmt.DataFrameRenderer(formatter).to_string(\n\u001b[32m   1395\u001b[39m         buf=buf,\n\u001b[32m   1396\u001b[39m         encoding=encoding,\n\u001b[32m   1397\u001b[39m         line_width=line_width,\n\u001b[32m   1398\u001b[39m     )\n",
      "\u001b[36mFile \u001b[39m\u001b[32mc:\\Users\\Andres Gonzalez\\AppData\\Local\\Programs\\Python\\Python313\\Lib\\site-packages\\pandas\\io\\formats\\format.py:469\u001b[39m, in \u001b[36mDataFrameFormatter.__init__\u001b[39m\u001b[34m(self, frame, columns, col_space, header, index, na_rep, formatters, justify, float_format, sparsify, index_names, max_rows, min_rows, max_cols, show_dimensions, decimal, bold_rows, escape)\u001b[39m\n\u001b[32m    466\u001b[39m \u001b[38;5;28mself\u001b[39m.max_rows_fitted = \u001b[38;5;28mself\u001b[39m._calc_max_rows_fitted()\n\u001b[32m    468\u001b[39m \u001b[38;5;28mself\u001b[39m.tr_frame = \u001b[38;5;28mself\u001b[39m.frame\n\u001b[32m--> \u001b[39m\u001b[32m469\u001b[39m \u001b[38;5;28;43mself\u001b[39;49m\u001b[43m.\u001b[49m\u001b[43mtruncate\u001b[49m\u001b[43m(\u001b[49m\u001b[43m)\u001b[49m\n\u001b[32m    470\u001b[39m \u001b[38;5;28mself\u001b[39m.adj = printing.get_adjustment()\n",
      "\u001b[36mFile \u001b[39m\u001b[32mc:\\Users\\Andres Gonzalez\\AppData\\Local\\Programs\\Python\\Python313\\Lib\\site-packages\\pandas\\io\\formats\\format.py:655\u001b[39m, in \u001b[36mDataFrameFormatter.truncate\u001b[39m\u001b[34m(self)\u001b[39m\n\u001b[32m    651\u001b[39m \u001b[38;5;250m\u001b[39m\u001b[33;03m\"\"\"\u001b[39;00m\n\u001b[32m    652\u001b[39m \u001b[33;03mCheck whether the frame should be truncated. If so, slice the frame up.\u001b[39;00m\n\u001b[32m    653\u001b[39m \u001b[33;03m\"\"\"\u001b[39;00m\n\u001b[32m    654\u001b[39m \u001b[38;5;28;01mif\u001b[39;00m \u001b[38;5;28mself\u001b[39m.is_truncated_horizontally:\n\u001b[32m--> \u001b[39m\u001b[32m655\u001b[39m     \u001b[38;5;28;43mself\u001b[39;49m\u001b[43m.\u001b[49m\u001b[43m_truncate_horizontally\u001b[49m\u001b[43m(\u001b[49m\u001b[43m)\u001b[49m\n\u001b[32m    657\u001b[39m \u001b[38;5;28;01mif\u001b[39;00m \u001b[38;5;28mself\u001b[39m.is_truncated_vertically:\n\u001b[32m    658\u001b[39m     \u001b[38;5;28mself\u001b[39m._truncate_vertically()\n",
      "\u001b[36mFile \u001b[39m\u001b[32mc:\\Users\\Andres Gonzalez\\AppData\\Local\\Programs\\Python\\Python313\\Lib\\site-packages\\pandas\\io\\formats\\format.py:672\u001b[39m, in \u001b[36mDataFrameFormatter._truncate_horizontally\u001b[39m\u001b[34m(self)\u001b[39m\n\u001b[32m    670\u001b[39m \u001b[38;5;28;01mif\u001b[39;00m col_num >= \u001b[32m1\u001b[39m:\n\u001b[32m    671\u001b[39m     left = \u001b[38;5;28mself\u001b[39m.tr_frame.iloc[:, :col_num]\n\u001b[32m--> \u001b[39m\u001b[32m672\u001b[39m     right = \u001b[38;5;28;43mself\u001b[39;49m\u001b[43m.\u001b[49m\u001b[43mtr_frame\u001b[49m\u001b[43m.\u001b[49m\u001b[43miloc\u001b[49m\u001b[43m[\u001b[49m\u001b[43m:\u001b[49m\u001b[43m,\u001b[49m\u001b[43m \u001b[49m\u001b[43m-\u001b[49m\u001b[43mcol_num\u001b[49m\u001b[43m:\u001b[49m\u001b[43m]\u001b[49m\n\u001b[32m    673\u001b[39m     \u001b[38;5;28mself\u001b[39m.tr_frame = concat((left, right), axis=\u001b[32m1\u001b[39m)\n\u001b[32m    675\u001b[39m     \u001b[38;5;66;03m# truncate formatter\u001b[39;00m\n",
      "\u001b[36mFile \u001b[39m\u001b[32mc:\\Users\\Andres Gonzalez\\AppData\\Local\\Programs\\Python\\Python313\\Lib\\site-packages\\pandas\\core\\indexing.py:1184\u001b[39m, in \u001b[36m_LocationIndexer.__getitem__\u001b[39m\u001b[34m(self, key)\u001b[39m\n\u001b[32m   1182\u001b[39m     \u001b[38;5;28;01mif\u001b[39;00m \u001b[38;5;28mself\u001b[39m._is_scalar_access(key):\n\u001b[32m   1183\u001b[39m         \u001b[38;5;28;01mreturn\u001b[39;00m \u001b[38;5;28mself\u001b[39m.obj._get_value(*key, takeable=\u001b[38;5;28mself\u001b[39m._takeable)\n\u001b[32m-> \u001b[39m\u001b[32m1184\u001b[39m     \u001b[38;5;28;01mreturn\u001b[39;00m \u001b[38;5;28;43mself\u001b[39;49m\u001b[43m.\u001b[49m\u001b[43m_getitem_tuple\u001b[49m\u001b[43m(\u001b[49m\u001b[43mkey\u001b[49m\u001b[43m)\u001b[49m\n\u001b[32m   1185\u001b[39m \u001b[38;5;28;01melse\u001b[39;00m:\n\u001b[32m   1186\u001b[39m     \u001b[38;5;66;03m# we by definition only have the 0th axis\u001b[39;00m\n\u001b[32m   1187\u001b[39m     axis = \u001b[38;5;28mself\u001b[39m.axis \u001b[38;5;129;01mor\u001b[39;00m \u001b[32m0\u001b[39m\n",
      "\u001b[36mFile \u001b[39m\u001b[32mc:\\Users\\Andres Gonzalez\\AppData\\Local\\Programs\\Python\\Python313\\Lib\\site-packages\\pandas\\core\\indexing.py:1694\u001b[39m, in \u001b[36m_iLocIndexer._getitem_tuple\u001b[39m\u001b[34m(self, tup)\u001b[39m\n\u001b[32m   1691\u001b[39m \u001b[38;5;28;01mwith\u001b[39;00m suppress(IndexingError):\n\u001b[32m   1692\u001b[39m     \u001b[38;5;28;01mreturn\u001b[39;00m \u001b[38;5;28mself\u001b[39m._getitem_lowerdim(tup)\n\u001b[32m-> \u001b[39m\u001b[32m1694\u001b[39m \u001b[38;5;28;01mreturn\u001b[39;00m \u001b[38;5;28;43mself\u001b[39;49m\u001b[43m.\u001b[49m\u001b[43m_getitem_tuple_same_dim\u001b[49m\u001b[43m(\u001b[49m\u001b[43mtup\u001b[49m\u001b[43m)\u001b[49m\n",
      "\u001b[36mFile \u001b[39m\u001b[32mc:\\Users\\Andres Gonzalez\\AppData\\Local\\Programs\\Python\\Python313\\Lib\\site-packages\\pandas\\core\\indexing.py:1020\u001b[39m, in \u001b[36m_LocationIndexer._getitem_tuple_same_dim\u001b[39m\u001b[34m(self, tup)\u001b[39m\n\u001b[32m   1017\u001b[39m \u001b[38;5;28;01mif\u001b[39;00m com.is_null_slice(key):\n\u001b[32m   1018\u001b[39m     \u001b[38;5;28;01mcontinue\u001b[39;00m\n\u001b[32m-> \u001b[39m\u001b[32m1020\u001b[39m retval = \u001b[38;5;28;43mgetattr\u001b[39;49m\u001b[43m(\u001b[49m\u001b[43mretval\u001b[49m\u001b[43m,\u001b[49m\u001b[43m \u001b[49m\u001b[38;5;28;43mself\u001b[39;49m\u001b[43m.\u001b[49m\u001b[43mname\u001b[49m\u001b[43m)\u001b[49m\u001b[43m.\u001b[49m\u001b[43m_getitem_axis\u001b[49m\u001b[43m(\u001b[49m\u001b[43mkey\u001b[49m\u001b[43m,\u001b[49m\u001b[43m \u001b[49m\u001b[43maxis\u001b[49m\u001b[43m=\u001b[49m\u001b[43mi\u001b[49m\u001b[43m)\u001b[49m\n\u001b[32m   1021\u001b[39m \u001b[38;5;66;03m# We should never have retval.ndim < self.ndim, as that should\u001b[39;00m\n\u001b[32m   1022\u001b[39m \u001b[38;5;66;03m#  be handled by the _getitem_lowerdim call above.\u001b[39;00m\n\u001b[32m   1023\u001b[39m \u001b[38;5;28;01massert\u001b[39;00m retval.ndim == \u001b[38;5;28mself\u001b[39m.ndim\n",
      "\u001b[36mFile \u001b[39m\u001b[32mc:\\Users\\Andres Gonzalez\\AppData\\Local\\Programs\\Python\\Python313\\Lib\\site-packages\\pandas\\core\\indexing.py:1729\u001b[39m, in \u001b[36m_iLocIndexer._getitem_axis\u001b[39m\u001b[34m(self, key, axis)\u001b[39m\n\u001b[32m   1723\u001b[39m     \u001b[38;5;28;01mraise\u001b[39;00m \u001b[38;5;167;01mIndexError\u001b[39;00m(\n\u001b[32m   1724\u001b[39m         \u001b[33m\"\u001b[39m\u001b[33mDataFrame indexer is not allowed for .iloc\u001b[39m\u001b[38;5;130;01m\\n\u001b[39;00m\u001b[33m\"\u001b[39m\n\u001b[32m   1725\u001b[39m         \u001b[33m\"\u001b[39m\u001b[33mConsider using .loc for automatic alignment.\u001b[39m\u001b[33m\"\u001b[39m\n\u001b[32m   1726\u001b[39m     )\n\u001b[32m   1728\u001b[39m \u001b[38;5;28;01mif\u001b[39;00m \u001b[38;5;28misinstance\u001b[39m(key, \u001b[38;5;28mslice\u001b[39m):\n\u001b[32m-> \u001b[39m\u001b[32m1729\u001b[39m     \u001b[38;5;28;01mreturn\u001b[39;00m \u001b[38;5;28;43mself\u001b[39;49m\u001b[43m.\u001b[49m\u001b[43m_get_slice_axis\u001b[49m\u001b[43m(\u001b[49m\u001b[43mkey\u001b[49m\u001b[43m,\u001b[49m\u001b[43m \u001b[49m\u001b[43maxis\u001b[49m\u001b[43m=\u001b[49m\u001b[43maxis\u001b[49m\u001b[43m)\u001b[49m\n\u001b[32m   1731\u001b[39m \u001b[38;5;28;01mif\u001b[39;00m is_iterator(key):\n\u001b[32m   1732\u001b[39m     key = \u001b[38;5;28mlist\u001b[39m(key)\n",
      "\u001b[36mFile \u001b[39m\u001b[32mc:\\Users\\Andres Gonzalez\\AppData\\Local\\Programs\\Python\\Python313\\Lib\\site-packages\\pandas\\core\\indexing.py:1765\u001b[39m, in \u001b[36m_iLocIndexer._get_slice_axis\u001b[39m\u001b[34m(self, slice_obj, axis)\u001b[39m\n\u001b[32m   1763\u001b[39m labels = obj._get_axis(axis)\n\u001b[32m   1764\u001b[39m labels._validate_positional_slice(slice_obj)\n\u001b[32m-> \u001b[39m\u001b[32m1765\u001b[39m \u001b[38;5;28;01mreturn\u001b[39;00m \u001b[38;5;28;43mself\u001b[39;49m\u001b[43m.\u001b[49m\u001b[43mobj\u001b[49m\u001b[43m.\u001b[49m\u001b[43m_slice\u001b[49m\u001b[43m(\u001b[49m\u001b[43mslice_obj\u001b[49m\u001b[43m,\u001b[49m\u001b[43m \u001b[49m\u001b[43maxis\u001b[49m\u001b[43m=\u001b[49m\u001b[43maxis\u001b[49m\u001b[43m)\u001b[49m\n",
      "\u001b[36mFile \u001b[39m\u001b[32mc:\\Users\\Andres Gonzalez\\AppData\\Local\\Programs\\Python\\Python313\\Lib\\site-packages\\pandas\\core\\generic.py:4369\u001b[39m, in \u001b[36mNDFrame._slice\u001b[39m\u001b[34m(self, slobj, axis)\u001b[39m\n\u001b[32m   4367\u001b[39m \u001b[38;5;28;01massert\u001b[39;00m \u001b[38;5;28misinstance\u001b[39m(slobj, \u001b[38;5;28mslice\u001b[39m), \u001b[38;5;28mtype\u001b[39m(slobj)\n\u001b[32m   4368\u001b[39m axis = \u001b[38;5;28mself\u001b[39m._get_block_manager_axis(axis)\n\u001b[32m-> \u001b[39m\u001b[32m4369\u001b[39m new_mgr = \u001b[38;5;28;43mself\u001b[39;49m\u001b[43m.\u001b[49m\u001b[43m_mgr\u001b[49m\u001b[43m.\u001b[49m\u001b[43mget_slice\u001b[49m\u001b[43m(\u001b[49m\u001b[43mslobj\u001b[49m\u001b[43m,\u001b[49m\u001b[43m \u001b[49m\u001b[43maxis\u001b[49m\u001b[43m=\u001b[49m\u001b[43maxis\u001b[49m\u001b[43m)\u001b[49m\n\u001b[32m   4370\u001b[39m result = \u001b[38;5;28mself\u001b[39m._constructor_from_mgr(new_mgr, axes=new_mgr.axes)\n\u001b[32m   4371\u001b[39m result = result.__finalize__(\u001b[38;5;28mself\u001b[39m)\n",
      "\u001b[36mFile \u001b[39m\u001b[32minternals.pyx:869\u001b[39m, in \u001b[36mpandas._libs.internals.BlockManager.get_slice\u001b[39m\u001b[34m()\u001b[39m\n",
      "\u001b[36mFile \u001b[39m\u001b[32mc:\\Users\\Andres Gonzalez\\AppData\\Local\\Programs\\Python\\Python313\\Lib\\site-packages\\pandas\\core\\internals\\managers.py:843\u001b[39m, in \u001b[36mBaseBlockManager._slice_take_blocks_ax0\u001b[39m\u001b[34m(self, slice_or_indexer, fill_value, only_slice, use_na_proxy, ref_inplace_op)\u001b[39m\n\u001b[32m    841\u001b[39m                     blocks.append(nb)\n\u001b[32m    842\u001b[39m             \u001b[38;5;28;01melse\u001b[39;00m:\n\u001b[32m--> \u001b[39m\u001b[32m843\u001b[39m                 nb = \u001b[43mblk\u001b[49m\u001b[43m.\u001b[49m\u001b[43mtake_nd\u001b[49m\u001b[43m(\u001b[49m\u001b[43mtaker\u001b[49m\u001b[43m,\u001b[49m\u001b[43m \u001b[49m\u001b[43maxis\u001b[49m\u001b[43m=\u001b[49m\u001b[32;43m0\u001b[39;49m\u001b[43m,\u001b[49m\u001b[43m \u001b[49m\u001b[43mnew_mgr_locs\u001b[49m\u001b[43m=\u001b[49m\u001b[43mmgr_locs\u001b[49m\u001b[43m)\u001b[49m\n\u001b[32m    844\u001b[39m                 blocks.append(nb)\n\u001b[32m    846\u001b[39m \u001b[38;5;28;01mreturn\u001b[39;00m blocks\n",
      "\u001b[36mFile \u001b[39m\u001b[32mc:\\Users\\Andres Gonzalez\\AppData\\Local\\Programs\\Python\\Python313\\Lib\\site-packages\\pandas\\core\\internals\\blocks.py:1325\u001b[39m, in \u001b[36mBlock.take_nd\u001b[39m\u001b[34m(self, indexer, axis, new_mgr_locs, fill_value)\u001b[39m\n\u001b[32m   1323\u001b[39m     \u001b[38;5;28;01mreturn\u001b[39;00m \u001b[38;5;28mself\u001b[39m.make_block(new_values, new_mgr_locs)\n\u001b[32m   1324\u001b[39m \u001b[38;5;28;01melse\u001b[39;00m:\n\u001b[32m-> \u001b[39m\u001b[32m1325\u001b[39m     \u001b[38;5;28;01mreturn\u001b[39;00m \u001b[38;5;28;43mself\u001b[39;49m\u001b[43m.\u001b[49m\u001b[43mmake_block_same_class\u001b[49m\u001b[43m(\u001b[49m\u001b[43mnew_values\u001b[49m\u001b[43m,\u001b[49m\u001b[43m \u001b[49m\u001b[43mnew_mgr_locs\u001b[49m\u001b[43m)\u001b[49m\n",
      "\u001b[36mFile \u001b[39m\u001b[32mc:\\Users\\Andres Gonzalez\\AppData\\Local\\Programs\\Python\\Python313\\Lib\\site-packages\\pandas\\core\\internals\\blocks.py:292\u001b[39m, in \u001b[36mBlock.make_block_same_class\u001b[39m\u001b[34m(self, values, placement, refs)\u001b[39m\n\u001b[32m    288\u001b[39m         values = ensure_block_shape(values, ndim=\u001b[38;5;28mself\u001b[39m.ndim)\n\u001b[32m    290\u001b[39m     \u001b[38;5;28;01mreturn\u001b[39;00m new_block(values, placement=placement, ndim=\u001b[38;5;28mself\u001b[39m.ndim, refs=refs)\n\u001b[32m--> \u001b[39m\u001b[32m292\u001b[39m \u001b[38;5;129m@final\u001b[39m\n\u001b[32m    293\u001b[39m \u001b[38;5;28;01mdef\u001b[39;00m\u001b[38;5;250m \u001b[39m\u001b[34mmake_block_same_class\u001b[39m(\n\u001b[32m    294\u001b[39m     \u001b[38;5;28mself\u001b[39m,\n\u001b[32m    295\u001b[39m     values,\n\u001b[32m    296\u001b[39m     placement: BlockPlacement | \u001b[38;5;28;01mNone\u001b[39;00m = \u001b[38;5;28;01mNone\u001b[39;00m,\n\u001b[32m    297\u001b[39m     refs: BlockValuesRefs | \u001b[38;5;28;01mNone\u001b[39;00m = \u001b[38;5;28;01mNone\u001b[39;00m,\n\u001b[32m    298\u001b[39m ) -> Self:\n\u001b[32m    299\u001b[39m \u001b[38;5;250m    \u001b[39m\u001b[33;03m\"\"\"Wrap given values in a block of same type as self.\"\"\"\u001b[39;00m\n\u001b[32m    300\u001b[39m     \u001b[38;5;66;03m# Pre-2.0 we called ensure_wrapped_if_datetimelike because fastparquet\u001b[39;00m\n\u001b[32m    301\u001b[39m     \u001b[38;5;66;03m#  relied on it, as of 2.0 the caller is responsible for this.\u001b[39;00m\n",
      "\u001b[31mKeyboardInterrupt\u001b[39m: "
     ]
    }
   ],
   "source": [
    "play_by_play.describe"
   ]
  },
  {
   "cell_type": "code",
   "execution_count": 44,
   "id": "0547cc36",
   "metadata": {},
   "outputs": [
    {
     "name": "stdout",
     "output_type": "stream",
     "text": [
      "11300001\n",
      "49800087\n"
     ]
    }
   ],
   "source": [
    "print(play_by_play[\"game_id\"].min())\n",
    "print(play_by_play[\"game_id\"].max())"
   ]
  },
  {
   "cell_type": "code",
   "execution_count": 45,
   "id": "5e5b9a03",
   "metadata": {},
   "outputs": [
    {
     "name": "stdout",
     "output_type": "stream",
     "text": [
      "11100001\n",
      "41900406\n"
     ]
    }
   ],
   "source": [
    "print(games_2010_2020[\"game_id\"].min())\n",
    "print(games_2010_2020[\"game_id\"].max())"
   ]
  },
  {
   "cell_type": "code",
   "execution_count": 12,
   "id": "601966cd",
   "metadata": {},
   "outputs": [],
   "source": [
    "play_by_play_2013_2023 = play_by_play[play_by_play[\"game_id\"] <= 42200405]"
   ]
  },
  {
   "cell_type": "code",
   "execution_count": 13,
   "id": "e803c6a5",
   "metadata": {},
   "outputs": [
    {
     "data": {
      "text/plain": [
       "<bound method NDFrame.describe of            game_id  eventnum  eventmsgtype  eventmsgactiontype  period  \\\n",
       "0         29600012         0            12                   0       1   \n",
       "1         29600012         2            10                   0       1   \n",
       "2         29600012         3             2                   1       1   \n",
       "3         29600012         4             4                   0       1   \n",
       "4         29600012         5             2                   1       1   \n",
       "...            ...       ...           ...                 ...     ...   \n",
       "13592894  32200001       638             1                  79       4   \n",
       "13592895  32200001       639             2                   1       4   \n",
       "13592896  32200001       640             4                   0       4   \n",
       "13592897  32200001       641             1                  79       4   \n",
       "13592898  32200001       642            13                   0       4   \n",
       "\n",
       "         wctimestring pctimestring  \\\n",
       "0            14:43 PM        12:00   \n",
       "1            14:50 PM        12:00   \n",
       "2            14:51 PM        11:45   \n",
       "3            14:51 PM        11:43   \n",
       "4            14:51 PM        11:29   \n",
       "...               ...          ...   \n",
       "13592894     10:54 PM         0:00   \n",
       "13592895     10:54 PM         0:00   \n",
       "13592896     10:54 PM         0:00   \n",
       "13592897     10:54 PM         0:00   \n",
       "13592898     10:55 PM         0:00   \n",
       "\n",
       "                                      homedescription  \\\n",
       "0                                                 NaN   \n",
       "1         Jump Ball O'Neal vs. Kleine: Tip to Cassell   \n",
       "2                                                 NaN   \n",
       "3                        O'Neal REBOUND (Off:0 Def:1)   \n",
       "4                     MISS Ceballos 26' 3PT Jump Shot   \n",
       "...                                               ...   \n",
       "13592894      Brown 30' 3PT Pullup Jump Shot (35 PTS)   \n",
       "13592895                                          NaN   \n",
       "13592896                                          NaN   \n",
       "13592897                                          NaN   \n",
       "13592898                                          NaN   \n",
       "\n",
       "                          neutraldescription  \\\n",
       "0         Start of 1st Period (14:43 PM EST)   \n",
       "1                                        NaN   \n",
       "2                                        NaN   \n",
       "3                                        NaN   \n",
       "4                                        NaN   \n",
       "...                                      ...   \n",
       "13592894                                 NaN   \n",
       "13592895                                 NaN   \n",
       "13592896                                 NaN   \n",
       "13592897                                 NaN   \n",
       "13592898    End of 4th Period (10:55 PM EST)   \n",
       "\n",
       "                                 visitordescription  ...  \\\n",
       "0                                               NaN  ...   \n",
       "1                                               NaN  ...   \n",
       "2                        MISS Cassell 15' Jump Shot  ...   \n",
       "3                                               NaN  ...   \n",
       "4                                               NaN  ...   \n",
       "...                                             ...  ...   \n",
       "13592894                                        NaN  ...   \n",
       "13592895           MISS Markkanen 24' 3PT Jump Shot  ...   \n",
       "13592896              Lillard REBOUND (Off:1 Def:2)  ...   \n",
       "13592897  Lillard 30' 3PT Pullup Jump Shot (26 PTS)  ...   \n",
       "13592898                                        NaN  ...   \n",
       "\n",
       "         player2_team_nickname player2_team_abbreviation  person3type  \\\n",
       "0                          NaN                       NaN          0.0   \n",
       "1                         Suns                       PHX          5.0   \n",
       "2                          NaN                       NaN          0.0   \n",
       "3                          NaN                       NaN          0.0   \n",
       "4                          NaN                       NaN          0.0   \n",
       "...                        ...                       ...          ...   \n",
       "13592894                   NaN                       NaN          0.0   \n",
       "13592895                   NaN                       NaN          0.0   \n",
       "13592896                   NaN                       NaN          0.0   \n",
       "13592897                   NaN                       NaN          0.0   \n",
       "13592898                   NaN                       NaN          0.0   \n",
       "\n",
       "          player3_id player3_name  player3_team_id player3_team_city  \\\n",
       "0                  0          NaN              NaN               NaN   \n",
       "1                208  Sam Cassell     1.610613e+09           Phoenix   \n",
       "2                  0          NaN              NaN               NaN   \n",
       "3                  0          NaN              NaN               NaN   \n",
       "4                  0          NaN              NaN               NaN   \n",
       "...              ...          ...              ...               ...   \n",
       "13592894           0          NaN              NaN               NaN   \n",
       "13592895           0          NaN              NaN               NaN   \n",
       "13592896           0          NaN              NaN               NaN   \n",
       "13592897           0          NaN              NaN               NaN   \n",
       "13592898           0          NaN              NaN               NaN   \n",
       "\n",
       "         player3_team_nickname player3_team_abbreviation  video_available_flag  \n",
       "0                          NaN                       NaN                     0  \n",
       "1                         Suns                       PHX                     0  \n",
       "2                          NaN                       NaN                     0  \n",
       "3                          NaN                       NaN                     0  \n",
       "4                          NaN                       NaN                     0  \n",
       "...                        ...                       ...                   ...  \n",
       "13592894                   NaN                       NaN                     1  \n",
       "13592895                   NaN                       NaN                     1  \n",
       "13592896                   NaN                       NaN                     1  \n",
       "13592897                   NaN                       NaN                     1  \n",
       "13592898                   NaN                       NaN                     1  \n",
       "\n",
       "[13510450 rows x 34 columns]>"
      ]
     },
     "execution_count": 13,
     "metadata": {},
     "output_type": "execute_result"
    }
   ],
   "source": [
    "play_by_play_2013_2023.describe"
   ]
  },
  {
   "cell_type": "markdown",
   "id": "080c32ac",
   "metadata": {},
   "source": [
    "Aquí las concluciones son que el archivo Play_by_play tenia ya las jugadas registradas desde el mismo partido que filtramos en el archivo games de manera que aún contamos con una gran cantidad de datos de jugadas de los partidos entre 2010 a 2020. "
   ]
  },
  {
   "cell_type": "markdown",
   "id": "17497952",
   "metadata": {},
   "source": [
    "Aqui tengo un desafio y es entender por que los juegos del archivo games al cambiarlos al archivo games_2013 se redujo el Game_id no tiene sentido que el game_id de juegos más viejos sea mayor al de juegos más nuevos.\n",
    "\n",
    "AL volver y hacer un sort me di cuenta que el id de los juegos no tiene una correlación acendente acorde a la fecha en realidad juegos del 2005 tienen un id menor que juegos del 2001 y cosas así de forma que no es un delimitador confiable así que debo seguir verificando por medio de un filtro."
   ]
  },
  {
   "cell_type": "code",
   "execution_count": 46,
   "id": "412d60d3",
   "metadata": {},
   "outputs": [
    {
     "ename": "KeyError",
     "evalue": "\"None of [Index([29600012, 29600012, 29600012, 29600012, 29600012, 29600012, 29600012,\\n       29600012, 29600012, 29600012,\\n       ...\\n       32200001, 32200001, 32200001, 32200001, 32200001, 32200001, 32200001,\\n       32200001, 32200001, 32200001],\\n      dtype='int64', length=13592899)] are in the [columns]\"",
     "output_type": "error",
     "traceback": [
      "\u001b[31m---------------------------------------------------------------------------\u001b[39m",
      "\u001b[31mKeyError\u001b[39m                                  Traceback (most recent call last)",
      "\u001b[36mCell\u001b[39m\u001b[36m \u001b[39m\u001b[32mIn[46]\u001b[39m\u001b[32m, line 1\u001b[39m\n\u001b[32m----> \u001b[39m\u001b[32m1\u001b[39m Play_by_play_Filtrado = \u001b[43mplay_by_play\u001b[49m\u001b[43m[\u001b[49m\u001b[43mplay_by_play\u001b[49m\u001b[43m[\u001b[49m\u001b[33;43m\"\u001b[39;49m\u001b[33;43mgame_id\u001b[39;49m\u001b[33;43m\"\u001b[39;49m\u001b[43m]\u001b[49m\u001b[43m]\u001b[49m.isin(games_2010_2020[\u001b[33m\"\u001b[39m\u001b[33mgame_id\u001b[39m\u001b[33m\"\u001b[39m])\n",
      "\u001b[36mFile \u001b[39m\u001b[32mc:\\Users\\Andres Gonzalez\\AppData\\Local\\Programs\\Python\\Python313\\Lib\\site-packages\\pandas\\core\\frame.py:4108\u001b[39m, in \u001b[36mDataFrame.__getitem__\u001b[39m\u001b[34m(self, key)\u001b[39m\n\u001b[32m   4106\u001b[39m     \u001b[38;5;28;01mif\u001b[39;00m is_iterator(key):\n\u001b[32m   4107\u001b[39m         key = \u001b[38;5;28mlist\u001b[39m(key)\n\u001b[32m-> \u001b[39m\u001b[32m4108\u001b[39m     indexer = \u001b[38;5;28;43mself\u001b[39;49m\u001b[43m.\u001b[49m\u001b[43mcolumns\u001b[49m\u001b[43m.\u001b[49m\u001b[43m_get_indexer_strict\u001b[49m\u001b[43m(\u001b[49m\u001b[43mkey\u001b[49m\u001b[43m,\u001b[49m\u001b[43m \u001b[49m\u001b[33;43m\"\u001b[39;49m\u001b[33;43mcolumns\u001b[39;49m\u001b[33;43m\"\u001b[39;49m\u001b[43m)\u001b[49m[\u001b[32m1\u001b[39m]\n\u001b[32m   4110\u001b[39m \u001b[38;5;66;03m# take() does not accept boolean indexers\u001b[39;00m\n\u001b[32m   4111\u001b[39m \u001b[38;5;28;01mif\u001b[39;00m \u001b[38;5;28mgetattr\u001b[39m(indexer, \u001b[33m\"\u001b[39m\u001b[33mdtype\u001b[39m\u001b[33m\"\u001b[39m, \u001b[38;5;28;01mNone\u001b[39;00m) == \u001b[38;5;28mbool\u001b[39m:\n",
      "\u001b[36mFile \u001b[39m\u001b[32mc:\\Users\\Andres Gonzalez\\AppData\\Local\\Programs\\Python\\Python313\\Lib\\site-packages\\pandas\\core\\indexes\\base.py:6200\u001b[39m, in \u001b[36mIndex._get_indexer_strict\u001b[39m\u001b[34m(self, key, axis_name)\u001b[39m\n\u001b[32m   6197\u001b[39m \u001b[38;5;28;01melse\u001b[39;00m:\n\u001b[32m   6198\u001b[39m     keyarr, indexer, new_indexer = \u001b[38;5;28mself\u001b[39m._reindex_non_unique(keyarr)\n\u001b[32m-> \u001b[39m\u001b[32m6200\u001b[39m \u001b[38;5;28;43mself\u001b[39;49m\u001b[43m.\u001b[49m\u001b[43m_raise_if_missing\u001b[49m\u001b[43m(\u001b[49m\u001b[43mkeyarr\u001b[49m\u001b[43m,\u001b[49m\u001b[43m \u001b[49m\u001b[43mindexer\u001b[49m\u001b[43m,\u001b[49m\u001b[43m \u001b[49m\u001b[43maxis_name\u001b[49m\u001b[43m)\u001b[49m\n\u001b[32m   6202\u001b[39m keyarr = \u001b[38;5;28mself\u001b[39m.take(indexer)\n\u001b[32m   6203\u001b[39m \u001b[38;5;28;01mif\u001b[39;00m \u001b[38;5;28misinstance\u001b[39m(key, Index):\n\u001b[32m   6204\u001b[39m     \u001b[38;5;66;03m# GH 42790 - Preserve name from an Index\u001b[39;00m\n",
      "\u001b[36mFile \u001b[39m\u001b[32mc:\\Users\\Andres Gonzalez\\AppData\\Local\\Programs\\Python\\Python313\\Lib\\site-packages\\pandas\\core\\indexes\\base.py:6249\u001b[39m, in \u001b[36mIndex._raise_if_missing\u001b[39m\u001b[34m(self, key, indexer, axis_name)\u001b[39m\n\u001b[32m   6247\u001b[39m \u001b[38;5;28;01mif\u001b[39;00m nmissing:\n\u001b[32m   6248\u001b[39m     \u001b[38;5;28;01mif\u001b[39;00m nmissing == \u001b[38;5;28mlen\u001b[39m(indexer):\n\u001b[32m-> \u001b[39m\u001b[32m6249\u001b[39m         \u001b[38;5;28;01mraise\u001b[39;00m \u001b[38;5;167;01mKeyError\u001b[39;00m(\u001b[33mf\u001b[39m\u001b[33m\"\u001b[39m\u001b[33mNone of [\u001b[39m\u001b[38;5;132;01m{\u001b[39;00mkey\u001b[38;5;132;01m}\u001b[39;00m\u001b[33m] are in the [\u001b[39m\u001b[38;5;132;01m{\u001b[39;00maxis_name\u001b[38;5;132;01m}\u001b[39;00m\u001b[33m]\u001b[39m\u001b[33m\"\u001b[39m)\n\u001b[32m   6251\u001b[39m     not_found = \u001b[38;5;28mlist\u001b[39m(ensure_index(key)[missing_mask.nonzero()[\u001b[32m0\u001b[39m]].unique())\n\u001b[32m   6252\u001b[39m     \u001b[38;5;28;01mraise\u001b[39;00m \u001b[38;5;167;01mKeyError\u001b[39;00m(\u001b[33mf\u001b[39m\u001b[33m\"\u001b[39m\u001b[38;5;132;01m{\u001b[39;00mnot_found\u001b[38;5;132;01m}\u001b[39;00m\u001b[33m not in index\u001b[39m\u001b[33m\"\u001b[39m)\n",
      "\u001b[31mKeyError\u001b[39m: \"None of [Index([29600012, 29600012, 29600012, 29600012, 29600012, 29600012, 29600012,\\n       29600012, 29600012, 29600012,\\n       ...\\n       32200001, 32200001, 32200001, 32200001, 32200001, 32200001, 32200001,\\n       32200001, 32200001, 32200001],\\n      dtype='int64', length=13592899)] are in the [columns]\""
     ]
    }
   ],
   "source": [
    "Play_by_play_Filtrado = play_by_play[play_by_play[\"game_id\"]].isin(games_2010_2020[\"game_id\"])"
   ]
  },
  {
   "cell_type": "markdown",
   "id": "b4831f6f",
   "metadata": {},
   "source": []
  },
  {
   "cell_type": "markdown",
   "id": "6b41affd",
   "metadata": {},
   "source": [
    "Ahora verificar por que da este error."
   ]
  },
  {
   "cell_type": "code",
   "execution_count": 47,
   "id": "5c7aacae",
   "metadata": {},
   "outputs": [
    {
     "name": "stdout",
     "output_type": "stream",
     "text": [
      "int64\n",
      "int64\n"
     ]
    }
   ],
   "source": [
    "print(play_by_play['game_id'].dtype)\n",
    "print(games_2010_2020['game_id'].dtype)"
   ]
  },
  {
   "cell_type": "code",
   "execution_count": 48,
   "id": "02a26e60",
   "metadata": {},
   "outputs": [
    {
     "name": "stdout",
     "output_type": "stream",
     "text": [
      "           game_id  eventnum  eventmsgtype  eventmsgactiontype  period  \\\n",
      "6904349   21000034         0            12                   0       1   \n",
      "6904350   21000034         1            10                   0       1   \n",
      "6904351   21000034         2             6                   1       1   \n",
      "6904352   21000034         3             1                   5       1   \n",
      "6904353   21000034         4             6                   1       1   \n",
      "...            ...       ...           ...                 ...     ...   \n",
      "11909157  31900001       841            18                   4       4   \n",
      "11909158  31900001       842             3                  11       4   \n",
      "11909159  31900001       843             4                   1       4   \n",
      "11909160  31900001       844             3                  12       4   \n",
      "11909161  31900001       845            13                   0       4   \n",
      "\n",
      "         wctimestring pctimestring  \\\n",
      "6904349       8:14 PM        12:00   \n",
      "6904350       8:14 PM        12:00   \n",
      "6904351       8:15 PM        11:46   \n",
      "6904352       8:15 PM        11:37   \n",
      "6904353       8:15 PM        11:23   \n",
      "...               ...          ...   \n",
      "11909157     11:29 PM         0:00   \n",
      "11909158     11:31 PM         0:00   \n",
      "11909159     11:31 PM         0:00   \n",
      "11909160     11:31 PM         0:00   \n",
      "11909161     11:35 PM         0:00   \n",
      "\n",
      "                                         homedescription  \\\n",
      "6904349                                              NaN   \n",
      "6904350   Jump Ball McRoberts vs. Hawes: Tip to Collison   \n",
      "6904351                                              NaN   \n",
      "6904352         Hibbert 1' Layup (2 PTS) (Granger 1 AST)   \n",
      "6904353                         McRoberts P.FOUL (P1.T1)   \n",
      "...                                                  ...   \n",
      "11909157                                             NaN   \n",
      "11909158                                             NaN   \n",
      "11909159                                             NaN   \n",
      "11909160                                             NaN   \n",
      "11909161                                             NaN   \n",
      "\n",
      "                               neutraldescription  \\\n",
      "6904349         Start of 1st Period (8:14 PM EST)   \n",
      "6904350                                       NaN   \n",
      "6904351                                       NaN   \n",
      "6904352                                       NaN   \n",
      "6904353                                       NaN   \n",
      "...                                           ...   \n",
      "11909157  Instant Replay4th Period (11:29 PM EST)   \n",
      "11909158                                      NaN   \n",
      "11909159                                      NaN   \n",
      "11909160                                      NaN   \n",
      "11909161         End of 4th Period (11:35 PM EST)   \n",
      "\n",
      "                        visitordescription  ... player2_team_nickname  \\\n",
      "6904349                                NaN  ...                   NaN   \n",
      "6904350                                NaN  ...                 76ers   \n",
      "6904351               Brand P.FOUL (P1.T1)  ...                Pacers   \n",
      "6904352                                NaN  ...                Pacers   \n",
      "6904353                                NaN  ...                 76ers   \n",
      "...                                    ...  ...                   ...   \n",
      "11909157                               NaN  ...                   NaN   \n",
      "11909158      MISS Davis Free Throw 1 of 2  ...                   NaN   \n",
      "11909159                    LeBron Rebound  ...                   NaN   \n",
      "11909160  Davis Free Throw 2 of 2 (20 PTS)  ...                   NaN   \n",
      "11909161                               NaN  ...                   NaN   \n",
      "\n",
      "         player2_team_abbreviation  person3type  player3_id     player3_name  \\\n",
      "6904349                        NaN          0.0           0              NaN   \n",
      "6904350                        PHI          4.0      201954  Darren Collison   \n",
      "6904351                        IND          1.0           0              NaN   \n",
      "6904352                        IND          0.0           0              NaN   \n",
      "6904353                        PHI          1.0           0              NaN   \n",
      "...                            ...          ...         ...              ...   \n",
      "11909157                       NaN          1.0           0              NaN   \n",
      "11909158                       NaN          0.0           0              NaN   \n",
      "11909159                       NaN          0.0           0              NaN   \n",
      "11909160                       NaN          0.0           0              NaN   \n",
      "11909161                       NaN          0.0           0              NaN   \n",
      "\n",
      "          player3_team_id player3_team_city player3_team_nickname  \\\n",
      "6904349               NaN               NaN                   NaN   \n",
      "6904350      1.610613e+09           Indiana                Pacers   \n",
      "6904351               NaN               NaN                   NaN   \n",
      "6904352               NaN               NaN                   NaN   \n",
      "6904353               NaN               NaN                   NaN   \n",
      "...                   ...               ...                   ...   \n",
      "11909157              NaN               NaN                   NaN   \n",
      "11909158              NaN               NaN                   NaN   \n",
      "11909159              NaN               NaN                   NaN   \n",
      "11909160              NaN               NaN                   NaN   \n",
      "11909161              NaN               NaN                   NaN   \n",
      "\n",
      "         player3_team_abbreviation  video_available_flag  \n",
      "6904349                        NaN                     0  \n",
      "6904350                        IND                     0  \n",
      "6904351                        NaN                     0  \n",
      "6904352                        NaN                     0  \n",
      "6904353                        NaN                     0  \n",
      "...                            ...                   ...  \n",
      "11909157                       NaN                     1  \n",
      "11909158                       NaN                     1  \n",
      "11909159                       NaN                     0  \n",
      "11909160                       NaN                     1  \n",
      "11909161                       NaN                     1  \n",
      "\n",
      "[5004813 rows x 34 columns]\n"
     ]
    }
   ],
   "source": [
    "# Me aseguro de que 'game_id' existe en ambos DataFrames\n",
    "if 'game_id' in play_by_play.columns and 'game_id' in games_2010_2020.columns:\n",
    "    # Filtrar el segundo DataFrame\n",
    "    play_by_play_filtrado = play_by_play[play_by_play['game_id'].isin(games_2010_2020['game_id'])]\n",
    "    print(play_by_play_filtrado)\n",
    "else:\n",
    "    print(\"La columna 'game_id' no se encuentra en uno de los DataFrames.\")"
   ]
  },
  {
   "cell_type": "code",
   "execution_count": 49,
   "id": "aa3b041a",
   "metadata": {},
   "outputs": [
    {
     "data": {
      "text/plain": [
       "Index(['game_id', 'eventnum', 'eventmsgtype', 'eventmsgactiontype', 'period',\n",
       "       'wctimestring', 'pctimestring', 'homedescription', 'neutraldescription',\n",
       "       'visitordescription', 'score', 'scoremargin', 'person1type',\n",
       "       'player1_id', 'player1_name', 'player1_team_id', 'player1_team_city',\n",
       "       'player1_team_nickname', 'player1_team_abbreviation', 'person2type',\n",
       "       'player2_id', 'player2_name', 'player2_team_id', 'player2_team_city',\n",
       "       'player2_team_nickname', 'player2_team_abbreviation', 'person3type',\n",
       "       'player3_id', 'player3_name', 'player3_team_id', 'player3_team_city',\n",
       "       'player3_team_nickname', 'player3_team_abbreviation',\n",
       "       'video_available_flag'],\n",
       "      dtype='object')"
      ]
     },
     "execution_count": 49,
     "metadata": {},
     "output_type": "execute_result"
    }
   ],
   "source": [
    "play_by_play_filtrado.columns"
   ]
  },
  {
   "cell_type": "markdown",
   "id": "4ab469c0",
   "metadata": {},
   "source": [
    "Al fin tengo el archivo filtrado por los las jugadas realizadas en los juegos que ocurrieron entre 2012-10-30 hasta 2023\n",
    "\n",
    "Tengo games_2013_2023 filtrada por fechas y tengo play_by_play_filtrado con las jugadas de los juegos ocurridos en esas fechas. "
   ]
  },
  {
   "cell_type": "markdown",
   "id": "a8b2dbe5",
   "metadata": {},
   "source": [
    "Ahora voy a intentar unir los dos dataframes para que las jugadas tengan una fecha guia. "
   ]
  },
  {
   "cell_type": "code",
   "execution_count": 50,
   "id": "4c2995b8",
   "metadata": {},
   "outputs": [],
   "source": [
    "Plays_resultado = pd.merge(play_by_play_filtrado, games_2010_2020[['game_id', 'game_date']], on='game_id', how='left')"
   ]
  },
  {
   "cell_type": "markdown",
   "id": "6c3d8fa1",
   "metadata": {},
   "source": [
    "Verifico en Data wrangler y efectivamnete los game_id no están organizados por acendencia así que organizo mi archivo por fechas."
   ]
  },
  {
   "cell_type": "code",
   "execution_count": 51,
   "id": "87af10f4",
   "metadata": {},
   "outputs": [],
   "source": [
    "Plays_resultado.sort_values(by='game_date', ascending=True, inplace=True)\n",
    "\n",
    "Plays_ordenado = ['game_date'] + [col for col in Plays_resultado.columns if col != 'game_date']\n",
    "Plays_resultado = Plays_resultado[Plays_ordenado]"
   ]
  },
  {
   "cell_type": "markdown",
   "id": "74ffa54f",
   "metadata": {},
   "source": [
    "Ahora al fin tengo el archivo de jugadas de los partidos entre 2010 a 2020 organizados por fecha en orden acendente y soy feliz!!!"
   ]
  },
  {
   "cell_type": "code",
   "execution_count": 53,
   "id": "48ffc287",
   "metadata": {},
   "outputs": [
    {
     "name": "stdout",
     "output_type": "stream",
     "text": [
      "                   game_date   game_id  eventnum  eventmsgtype  \\\n",
      "0        2010-10-30 00:00:00  21000034         0            12   \n",
      "2201     2010-10-30 00:00:00  21000039       354             5   \n",
      "2202     2010-10-30 00:00:00  21000039       355             6   \n",
      "2203     2010-10-30 00:00:00  21000039       356             2   \n",
      "2204     2010-10-30 00:00:00  21000039       357             4   \n",
      "...                      ...       ...       ...           ...   \n",
      "5011593  2020-10-11 00:00:00  41900406       427             2   \n",
      "5011594  2020-10-11 00:00:00  41900406       428             4   \n",
      "5011595  2020-10-11 00:00:00  41900406       429             2   \n",
      "5011584  2020-10-11 00:00:00  41900406       413             1   \n",
      "5011418  2020-10-11 00:00:00  41900406       185             1   \n",
      "\n",
      "         eventmsgactiontype  period wctimestring pctimestring  \\\n",
      "0                         0       1      8:14 PM        12:00   \n",
      "2201                      1       3     10:19 PM         2:31   \n",
      "2202                      1       3     10:19 PM         2:30   \n",
      "2203                      1       3     10:19 PM         2:08   \n",
      "2204                      0       3     10:19 PM         2:06   \n",
      "...                     ...     ...          ...          ...   \n",
      "5011593                   1       3      9:18 PM         5:04   \n",
      "5011594                   0       3      9:18 PM         5:03   \n",
      "5011595                   1       3      9:18 PM         4:55   \n",
      "5011584                 102       3      9:16 PM         6:11   \n",
      "5011418                   6       2      8:18 PM        10:00   \n",
      "\n",
      "                         homedescription                 neutraldescription  \\\n",
      "0                                    NaN  Start of 1st Period (8:14 PM EST)   \n",
      "2201                 Blair STEAL (2 STL)                                NaN   \n",
      "2202                                 NaN                                NaN   \n",
      "2203           MISS Parker 18' Jump Shot                                NaN   \n",
      "2204                                 NaN                                NaN   \n",
      "...                                  ...                                ...   \n",
      "5011593  MISS Robinson 24' 3PT Jump Shot                                NaN   \n",
      "5011594    Crowder REBOUND (Off:1 Def:3)                                NaN   \n",
      "5011595    MISS Dragic 26' 3PT Jump Shot                                NaN   \n",
      "5011584                              NaN                                NaN   \n",
      "5011418                              NaN                                NaN   \n",
      "\n",
      "         ... player2_team_nickname player2_team_abbreviation person3type  \\\n",
      "0        ...                   NaN                       NaN         0.0   \n",
      "2201     ...                 Spurs                       SAS         0.0   \n",
      "2202     ...                 Spurs                       SAS         1.0   \n",
      "2203     ...                   NaN                       NaN         0.0   \n",
      "2204     ...                   NaN                       NaN         0.0   \n",
      "...      ...                   ...                       ...         ...   \n",
      "5011593  ...                   NaN                       NaN         0.0   \n",
      "5011594  ...                   NaN                       NaN         0.0   \n",
      "5011595  ...                   NaN                       NaN         0.0   \n",
      "5011584  ...                Lakers                       LAL         0.0   \n",
      "5011418  ...                   NaN                       NaN         0.0   \n",
      "\n",
      "         player3_id  player3_name player3_team_id  player3_team_city  \\\n",
      "0                 0           NaN             NaN                NaN   \n",
      "2201              0           NaN             NaN                NaN   \n",
      "2202              0           NaN             NaN                NaN   \n",
      "2203              0           NaN             NaN                NaN   \n",
      "2204              0           NaN             NaN                NaN   \n",
      "...             ...           ...             ...                ...   \n",
      "5011593           0           NaN             NaN                NaN   \n",
      "5011594           0           NaN             NaN                NaN   \n",
      "5011595           0           NaN             NaN                NaN   \n",
      "5011584           0           NaN             NaN                NaN   \n",
      "5011418           0           NaN             NaN                NaN   \n",
      "\n",
      "        player3_team_nickname player3_team_abbreviation video_available_flag  \n",
      "0                         NaN                       NaN                    0  \n",
      "2201                      NaN                       NaN                    0  \n",
      "2202                      NaN                       NaN                    0  \n",
      "2203                      NaN                       NaN                    0  \n",
      "2204                      NaN                       NaN                    0  \n",
      "...                       ...                       ...                  ...  \n",
      "5011593                   NaN                       NaN                    1  \n",
      "5011594                   NaN                       NaN                    1  \n",
      "5011595                   NaN                       NaN                    1  \n",
      "5011584                   NaN                       NaN                    1  \n",
      "5011418                   NaN                       NaN                    1  \n",
      "\n",
      "[5012301 rows x 35 columns]\n"
     ]
    }
   ],
   "source": [
    "print(Plays_resultado)"
   ]
  },
  {
   "cell_type": "markdown",
   "id": "c4d71cb1",
   "metadata": {},
   "source": [
    "El siguiente filtro que necesitamos es el de los tipos de acción de juego para poder verificar pero voy a exportar el archivo que llevo hasta ahora para trabajar de aquí en  adelante."
   ]
  },
  {
   "cell_type": "code",
   "execution_count": 54,
   "id": "afb5b5a4",
   "metadata": {},
   "outputs": [],
   "source": [
    "Plays_resultado.to_csv('play_by_play_filtrado_fecha.csv', index=False)"
   ]
  },
  {
   "cell_type": "markdown",
   "id": "2bb3f741",
   "metadata": {},
   "source": [
    "AVANCE DÍA 2 FECHA 22 DE Julio."
   ]
  },
  {
   "cell_type": "markdown",
   "id": "d0e84eb5",
   "metadata": {},
   "source": [
    "Voy a cargar las librerias y mi archivo ya más liviano para trabajar desde este punto. "
   ]
  },
  {
   "cell_type": "code",
   "execution_count": 1,
   "id": "414587f4",
   "metadata": {},
   "outputs": [],
   "source": [
    "import pandas as pd\n",
    "import numpy as np\n",
    "import matplotlib.pyplot as plt\n",
    "import seaborn as sns\n",
    "import os"
   ]
  },
  {
   "cell_type": "code",
   "execution_count": 2,
   "id": "fd18937a",
   "metadata": {},
   "outputs": [],
   "source": [
    "Juagadas_filtradas = pd.read_csv(r\"D:\\Proyecto Final\\NBA-StatVision\\play_by_play_filtrado_fecha.csv\",sep=',')"
   ]
  },
  {
   "cell_type": "markdown",
   "id": "a8ea3251",
   "metadata": {},
   "source": [
    "Ahora el siguiente paso es analisar la columna eventmsgtype: observo que los identificadores del 1 al 12 tienen tanto jugadas de acción como jugadas de momento cómo los tiempos fuera, substituciones y otras acciones que no nos sirven para el analisis. Voy a filtrar esas acciones no relevantes."
   ]
  },
  {
   "cell_type": "code",
   "execution_count": 3,
   "id": "e224e909",
   "metadata": {},
   "outputs": [],
   "source": [
    "FiltrarMSG_7 = Juagadas_filtradas[Juagadas_filtradas[\"eventmsgtype\"] == 7]\n",
    "FiltrarMSG_11 = Juagadas_filtradas[Juagadas_filtradas[\"eventmsgtype\"] == 11]\n",
    "FiltrarMSG_14 = Juagadas_filtradas[Juagadas_filtradas[\"eventmsgtype\"] == 14]\n",
    "FiltrarMSG_15 = Juagadas_filtradas[Juagadas_filtradas[\"eventmsgtype\"] == 15]\n",
    "FiltrarMSG_16 = Juagadas_filtradas[Juagadas_filtradas[\"eventmsgtype\"] == 16]\n",
    "FiltrarMSG_17 = Juagadas_filtradas[Juagadas_filtradas[\"eventmsgtype\"] == 17]\n",
    "FiltrarMSG_19 = Juagadas_filtradas[Juagadas_filtradas[\"eventmsgtype\"] == 19]"
   ]
  },
  {
   "cell_type": "markdown",
   "id": "025b6e87",
   "metadata": {},
   "source": [
    "Al tener claro cuales son los MSG types puedo escoger cuales nos sirven y cuales no para nuestro analisis. \n",
    "Voy a eliminar los siguientes:\n",
    "\n",
    "7    violation of rules and fairplay\n",
    "8     Sub\n",
    "9    Timeout\n",
    "11    ejection: sacado del juego por faltas o comportamiento.\n",
    "12    Start of period\n",
    "13    End of the Period\n",
    "18    Support Ruling\n"
   ]
  },
  {
   "cell_type": "code",
   "execution_count": 8,
   "id": "53230685",
   "metadata": {},
   "outputs": [],
   "source": [
    "msg_consevar = [1,2,3,4,5,6,10,]\n",
    "\n",
    "Filtrado_MSG = Juagadas_filtradas[Juagadas_filtradas[\"eventmsgtype\"].isin(msg_consevar)]"
   ]
  },
  {
   "cell_type": "markdown",
   "id": "a66d0a70",
   "metadata": {},
   "source": [
    "Organizar archivo por fecha, luego partido y luego la hora que se realizo la acción."
   ]
  },
  {
   "cell_type": "code",
   "execution_count": 9,
   "id": "23a40a07",
   "metadata": {},
   "outputs": [],
   "source": [
    "msg_consevar_ordenado = Filtrado_MSG.sort_values(by=['game_date', 'game_id', 'wctimestring'])"
   ]
  },
  {
   "cell_type": "markdown",
   "id": "042217b7",
   "metadata": {},
   "source": [
    "Elimino las columnas que no nos sirven."
   ]
  },
  {
   "cell_type": "code",
   "execution_count": 10,
   "id": "7faf1939",
   "metadata": {},
   "outputs": [
    {
     "name": "stderr",
     "output_type": "stream",
     "text": [
      "C:\\Users\\Andres Gonzalez\\AppData\\Local\\Temp\\ipykernel_191056\\3197850944.py:3: SettingWithCopyWarning: \n",
      "A value is trying to be set on a copy of a slice from a DataFrame\n",
      "\n",
      "See the caveats in the documentation: https://pandas.pydata.org/pandas-docs/stable/user_guide/indexing.html#returning-a-view-versus-a-copy\n",
      "  Filtrado_MSG.drop(columns=Columnas_a_borrar, inplace=True )\n"
     ]
    }
   ],
   "source": [
    "Columnas_a_borrar = [\"scoremargin\", \"person1type\", \"player1_team_abbreviation\", \"person2type\", \"player2_team_abbreviation\",\"person3type\", \"player3_team_abbreviation\", \"video_available_flag\", \"eventnum\", \"pctimestring\", \"score\", \"player1_team_city\", \"player1_team_nickname\", \"player2_team_city\", \"player2_team_nickname\", \"player3_team_city\", \"player3_team_nickname\"]\n",
    "\n",
    "Filtrado_MSG.drop(columns=Columnas_a_borrar, inplace=True )"
   ]
  },
  {
   "cell_type": "markdown",
   "id": "a24df19e",
   "metadata": {},
   "source": [
    "Aquí ya llegamos a un archivo más depurado para trabajar las jugadas que se realizaron en los partidos de estas fechas."
   ]
  },
  {
   "cell_type": "code",
   "execution_count": 18,
   "id": "23892b76",
   "metadata": {},
   "outputs": [],
   "source": [
    "##renombro las columnas a los nombre que pensamos en grupo.\n",
    "\n",
    "Filtrado_MSG = Filtrado_MSG.rename(columns={'game_date': 'fecha_del_partido', 'game_id': 'id_del_partido', 'eventmsgtype': 'tipo_de_evento', 'eventmsgactiontype': 'tipo_de_accion_evento', \"period\": \"periodo\", \"wctimestring\": \"hora_de_acción\", \"homedescription\": \"acción_del_local\", \"neutraldescription\": \"acción_neutral\", \"visitordescription\": \"acción_del_visitante\", \"player1_id\": \"id_jugador1\", \"player1_name\": \"nombre_jugador1\", \"player1_team_id\": \"id_equipo_jugador1\", \"player2_id\": \"id_jugador2\", \"player2_name\": \"nombre_jugador2\", \"player2_team_id\": \"id_equipo_jugador2\", \"player3_id\": \"id_jugador3\", \"player3_name\": \"nombre_jugador3\", \"player3_team_id\": \"id_equipo_jugador3\"})\n",
    "\n"
   ]
  },
  {
   "cell_type": "markdown",
   "id": "358cea4a",
   "metadata": {},
   "source": [
    "Exporto archivo filtrado a CSV."
   ]
  },
  {
   "cell_type": "code",
   "execution_count": null,
   "id": "aa3b9e68",
   "metadata": {},
   "outputs": [],
   "source": []
  },
  {
   "cell_type": "code",
   "execution_count": 19,
   "id": "e43424b6",
   "metadata": {},
   "outputs": [],
   "source": [
    "Filtrado_MSG.to_csv('jugadas.csv', index=False)"
   ]
  }
 ],
 "metadata": {
  "kernelspec": {
   "display_name": "Python 3",
   "language": "python",
   "name": "python3"
  },
  "language_info": {
   "codemirror_mode": {
    "name": "ipython",
    "version": 3
   },
   "file_extension": ".py",
   "mimetype": "text/x-python",
   "name": "python",
   "nbconvert_exporter": "python",
   "pygments_lexer": "ipython3",
   "version": "3.13.3"
  }
 },
 "nbformat": 4,
 "nbformat_minor": 5
}
