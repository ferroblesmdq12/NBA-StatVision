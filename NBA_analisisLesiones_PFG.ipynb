{
 "cells": [
  {
   "cell_type": "markdown",
   "id": "6e192a06",
   "metadata": {},
   "source": [
    "# PROYECTO FINAL GRUPAL  - NBA-StatVision - Lesiones\n"
   ]
  },
  {
   "cell_type": "markdown",
   "id": "7be4d95a",
   "metadata": {},
   "source": []
  },
  {
   "cell_type": "markdown",
   "id": "987699b5",
   "metadata": {},
   "source": [
    "### Importacion de librerias\n"
   ]
  },
  {
   "cell_type": "code",
   "execution_count": 14,
   "id": "58216170",
   "metadata": {},
   "outputs": [],
   "source": [
    "import pandas as pd\n",
    "import numpy as np\n",
    "import matplotlib.pyplot as plt\n",
    "import seaborn as sns\n",
    "import os"
   ]
  },
  {
   "cell_type": "markdown",
   "id": "0a3df260",
   "metadata": {},
   "source": [
    "Cargo el archivo asignado de jugadas Play_by_play y el archivo Games"
   ]
  },
  {
   "cell_type": "code",
   "execution_count": 3,
   "id": "848a5d01",
   "metadata": {},
   "outputs": [],
   "source": [
    "play_by_play = pd.read_csv(r\"D:\\Proyecto Final\\archive\\csv\\play_by_play.csv\",sep=',')\n",
    "games = pd.read_csv(r\"D:\\Proyecto Final\\archive\\csv\\game.csv\",sep=',')"
   ]
  },
  {
   "cell_type": "markdown",
   "id": "443f54bc",
   "metadata": {},
   "source": [
    "Verifico las tablas que tienen el archivo Plays y el archivo games. "
   ]
  },
  {
   "cell_type": "code",
   "execution_count": 4,
   "id": "d537accf",
   "metadata": {},
   "outputs": [
    {
     "data": {
      "text/plain": [
       "Index(['game_id', 'eventnum', 'eventmsgtype', 'eventmsgactiontype', 'period',\n",
       "       'wctimestring', 'pctimestring', 'homedescription', 'neutraldescription',\n",
       "       'visitordescription', 'score', 'scoremargin', 'person1type',\n",
       "       'player1_id', 'player1_name', 'player1_team_id', 'player1_team_city',\n",
       "       'player1_team_nickname', 'player1_team_abbreviation', 'person2type',\n",
       "       'player2_id', 'player2_name', 'player2_team_id', 'player2_team_city',\n",
       "       'player2_team_nickname', 'player2_team_abbreviation', 'person3type',\n",
       "       'player3_id', 'player3_name', 'player3_team_id', 'player3_team_city',\n",
       "       'player3_team_nickname', 'player3_team_abbreviation',\n",
       "       'video_available_flag'],\n",
       "      dtype='object')"
      ]
     },
     "execution_count": 4,
     "metadata": {},
     "output_type": "execute_result"
    }
   ],
   "source": [
    "play_by_play.columns"
   ]
  },
  {
   "cell_type": "code",
   "execution_count": 5,
   "id": "c94a3d76",
   "metadata": {},
   "outputs": [
    {
     "data": {
      "text/plain": [
       "Index(['season_id', 'team_id_home', 'team_abbreviation_home', 'team_name_home',\n",
       "       'game_id', 'game_date', 'matchup_home', 'wl_home', 'min', 'fgm_home',\n",
       "       'fga_home', 'fg_pct_home', 'fg3m_home', 'fg3a_home', 'fg3_pct_home',\n",
       "       'ftm_home', 'fta_home', 'ft_pct_home', 'oreb_home', 'dreb_home',\n",
       "       'reb_home', 'ast_home', 'stl_home', 'blk_home', 'tov_home', 'pf_home',\n",
       "       'pts_home', 'plus_minus_home', 'video_available_home', 'team_id_away',\n",
       "       'team_abbreviation_away', 'team_name_away', 'matchup_away', 'wl_away',\n",
       "       'fgm_away', 'fga_away', 'fg_pct_away', 'fg3m_away', 'fg3a_away',\n",
       "       'fg3_pct_away', 'ftm_away', 'fta_away', 'ft_pct_away', 'oreb_away',\n",
       "       'dreb_away', 'reb_away', 'ast_away', 'stl_away', 'blk_away', 'tov_away',\n",
       "       'pf_away', 'pts_away', 'plus_minus_away', 'video_available_away',\n",
       "       'season_type'],\n",
       "      dtype='object')"
      ]
     },
     "execution_count": 5,
     "metadata": {},
     "output_type": "execute_result"
    }
   ],
   "source": [
    "games.columns"
   ]
  },
  {
   "cell_type": "markdown",
   "id": "bea5281c",
   "metadata": {},
   "source": [
    "Observo que la columna que comparten las dos tablas es la columna game_id, esta sera mi llave de conexión entre las tablas.\n",
    "\n",
    "En la tabla games veo una tabla de fechas game_date voy a filtar primero por esa tabla los juegos que hacen parte de nuestra muestra veamos las fechas que componen la columna."
   ]
  },
  {
   "cell_type": "code",
   "execution_count": 6,
   "id": "0797e457",
   "metadata": {},
   "outputs": [],
   "source": [
    "games.sort_values(by='game_date', ascending=True, inplace=True)"
   ]
  },
  {
   "cell_type": "code",
   "execution_count": 7,
   "id": "7b38b521",
   "metadata": {},
   "outputs": [
    {
     "name": "stdout",
     "output_type": "stream",
     "text": [
      "<class 'pandas.core.series.Series'>\n",
      "Index: 65698 entries, 0 to 65695\n",
      "Series name: game_date\n",
      "Non-Null Count  Dtype \n",
      "--------------  ----- \n",
      "65698 non-null  object\n",
      "dtypes: object(1)\n",
      "memory usage: 1.0+ MB\n",
      "None\n",
      "1946-11-01 00:00:00\n",
      "2023-06-12 00:00:00\n"
     ]
    }
   ],
   "source": [
    "print(games[\"game_date\"].info())\n",
    "print(games[\"game_date\"].min())\n",
    "print(games[\"game_date\"].max())"
   ]
  },
  {
   "cell_type": "markdown",
   "id": "ef045fe8",
   "metadata": {},
   "source": [
    "Filto por el comienzo de la temporada 2012-2013 "
   ]
  },
  {
   "cell_type": "code",
   "execution_count": 8,
   "id": "d509adc0",
   "metadata": {},
   "outputs": [],
   "source": [
    "games_2013_2023 = games[games[\"game_date\"] >= \"2012-10-30\"]"
   ]
  },
  {
   "cell_type": "markdown",
   "id": "75a6714a",
   "metadata": {},
   "source": [
    "Ahora que tengo el ID de los juegos dentro de las fechas que necesito filtro el archivo Play_by_play por el juego con ID más bajo y el juego con id más alto."
   ]
  },
  {
   "cell_type": "code",
   "execution_count": 9,
   "id": "c7499880",
   "metadata": {},
   "outputs": [
    {
     "data": {
      "text/plain": [
       "<bound method NDFrame.describe of            game_id  eventnum  eventmsgtype  eventmsgactiontype  period  \\\n",
       "0         29600012         0            12                   0       1   \n",
       "1         29600012         2            10                   0       1   \n",
       "2         29600012         3             2                   1       1   \n",
       "3         29600012         4             4                   0       1   \n",
       "4         29600012         5             2                   1       1   \n",
       "...            ...       ...           ...                 ...     ...   \n",
       "13592894  32200001       638             1                  79       4   \n",
       "13592895  32200001       639             2                   1       4   \n",
       "13592896  32200001       640             4                   0       4   \n",
       "13592897  32200001       641             1                  79       4   \n",
       "13592898  32200001       642            13                   0       4   \n",
       "\n",
       "         wctimestring pctimestring  \\\n",
       "0            14:43 PM        12:00   \n",
       "1            14:50 PM        12:00   \n",
       "2            14:51 PM        11:45   \n",
       "3            14:51 PM        11:43   \n",
       "4            14:51 PM        11:29   \n",
       "...               ...          ...   \n",
       "13592894     10:54 PM         0:00   \n",
       "13592895     10:54 PM         0:00   \n",
       "13592896     10:54 PM         0:00   \n",
       "13592897     10:54 PM         0:00   \n",
       "13592898     10:55 PM         0:00   \n",
       "\n",
       "                                      homedescription  \\\n",
       "0                                                 NaN   \n",
       "1         Jump Ball O'Neal vs. Kleine: Tip to Cassell   \n",
       "2                                                 NaN   \n",
       "3                        O'Neal REBOUND (Off:0 Def:1)   \n",
       "4                     MISS Ceballos 26' 3PT Jump Shot   \n",
       "...                                               ...   \n",
       "13592894      Brown 30' 3PT Pullup Jump Shot (35 PTS)   \n",
       "13592895                                          NaN   \n",
       "13592896                                          NaN   \n",
       "13592897                                          NaN   \n",
       "13592898                                          NaN   \n",
       "\n",
       "                          neutraldescription  \\\n",
       "0         Start of 1st Period (14:43 PM EST)   \n",
       "1                                        NaN   \n",
       "2                                        NaN   \n",
       "3                                        NaN   \n",
       "4                                        NaN   \n",
       "...                                      ...   \n",
       "13592894                                 NaN   \n",
       "13592895                                 NaN   \n",
       "13592896                                 NaN   \n",
       "13592897                                 NaN   \n",
       "13592898    End of 4th Period (10:55 PM EST)   \n",
       "\n",
       "                                 visitordescription  ...  \\\n",
       "0                                               NaN  ...   \n",
       "1                                               NaN  ...   \n",
       "2                        MISS Cassell 15' Jump Shot  ...   \n",
       "3                                               NaN  ...   \n",
       "4                                               NaN  ...   \n",
       "...                                             ...  ...   \n",
       "13592894                                        NaN  ...   \n",
       "13592895           MISS Markkanen 24' 3PT Jump Shot  ...   \n",
       "13592896              Lillard REBOUND (Off:1 Def:2)  ...   \n",
       "13592897  Lillard 30' 3PT Pullup Jump Shot (26 PTS)  ...   \n",
       "13592898                                        NaN  ...   \n",
       "\n",
       "         player2_team_nickname player2_team_abbreviation  person3type  \\\n",
       "0                          NaN                       NaN          0.0   \n",
       "1                         Suns                       PHX          5.0   \n",
       "2                          NaN                       NaN          0.0   \n",
       "3                          NaN                       NaN          0.0   \n",
       "4                          NaN                       NaN          0.0   \n",
       "...                        ...                       ...          ...   \n",
       "13592894                   NaN                       NaN          0.0   \n",
       "13592895                   NaN                       NaN          0.0   \n",
       "13592896                   NaN                       NaN          0.0   \n",
       "13592897                   NaN                       NaN          0.0   \n",
       "13592898                   NaN                       NaN          0.0   \n",
       "\n",
       "          player3_id player3_name  player3_team_id player3_team_city  \\\n",
       "0                  0          NaN              NaN               NaN   \n",
       "1                208  Sam Cassell     1.610613e+09           Phoenix   \n",
       "2                  0          NaN              NaN               NaN   \n",
       "3                  0          NaN              NaN               NaN   \n",
       "4                  0          NaN              NaN               NaN   \n",
       "...              ...          ...              ...               ...   \n",
       "13592894           0          NaN              NaN               NaN   \n",
       "13592895           0          NaN              NaN               NaN   \n",
       "13592896           0          NaN              NaN               NaN   \n",
       "13592897           0          NaN              NaN               NaN   \n",
       "13592898           0          NaN              NaN               NaN   \n",
       "\n",
       "         player3_team_nickname player3_team_abbreviation  video_available_flag  \n",
       "0                          NaN                       NaN                     0  \n",
       "1                         Suns                       PHX                     0  \n",
       "2                          NaN                       NaN                     0  \n",
       "3                          NaN                       NaN                     0  \n",
       "4                          NaN                       NaN                     0  \n",
       "...                        ...                       ...                   ...  \n",
       "13592894                   NaN                       NaN                     1  \n",
       "13592895                   NaN                       NaN                     1  \n",
       "13592896                   NaN                       NaN                     1  \n",
       "13592897                   NaN                       NaN                     1  \n",
       "13592898                   NaN                       NaN                     1  \n",
       "\n",
       "[13592899 rows x 34 columns]>"
      ]
     },
     "execution_count": 9,
     "metadata": {},
     "output_type": "execute_result"
    }
   ],
   "source": [
    "play_by_play.describe"
   ]
  },
  {
   "cell_type": "code",
   "execution_count": 10,
   "id": "0547cc36",
   "metadata": {},
   "outputs": [
    {
     "name": "stdout",
     "output_type": "stream",
     "text": [
      "11300001\n",
      "49800087\n"
     ]
    }
   ],
   "source": [
    "print(play_by_play[\"game_id\"].min())\n",
    "print(play_by_play[\"game_id\"].max())"
   ]
  },
  {
   "cell_type": "code",
   "execution_count": 11,
   "id": "5e5b9a03",
   "metadata": {},
   "outputs": [
    {
     "name": "stdout",
     "output_type": "stream",
     "text": [
      "11300001\n",
      "42200405\n"
     ]
    }
   ],
   "source": [
    "print(games_2013_2023[\"game_id\"].min())\n",
    "print(games_2013_2023[\"game_id\"].max())"
   ]
  },
  {
   "cell_type": "code",
   "execution_count": 12,
   "id": "601966cd",
   "metadata": {},
   "outputs": [],
   "source": [
    "play_by_play_2013_2023 = play_by_play[play_by_play[\"game_id\"] <= 42200405]"
   ]
  },
  {
   "cell_type": "code",
   "execution_count": 13,
   "id": "e803c6a5",
   "metadata": {},
   "outputs": [
    {
     "data": {
      "text/plain": [
       "<bound method NDFrame.describe of            game_id  eventnum  eventmsgtype  eventmsgactiontype  period  \\\n",
       "0         29600012         0            12                   0       1   \n",
       "1         29600012         2            10                   0       1   \n",
       "2         29600012         3             2                   1       1   \n",
       "3         29600012         4             4                   0       1   \n",
       "4         29600012         5             2                   1       1   \n",
       "...            ...       ...           ...                 ...     ...   \n",
       "13592894  32200001       638             1                  79       4   \n",
       "13592895  32200001       639             2                   1       4   \n",
       "13592896  32200001       640             4                   0       4   \n",
       "13592897  32200001       641             1                  79       4   \n",
       "13592898  32200001       642            13                   0       4   \n",
       "\n",
       "         wctimestring pctimestring  \\\n",
       "0            14:43 PM        12:00   \n",
       "1            14:50 PM        12:00   \n",
       "2            14:51 PM        11:45   \n",
       "3            14:51 PM        11:43   \n",
       "4            14:51 PM        11:29   \n",
       "...               ...          ...   \n",
       "13592894     10:54 PM         0:00   \n",
       "13592895     10:54 PM         0:00   \n",
       "13592896     10:54 PM         0:00   \n",
       "13592897     10:54 PM         0:00   \n",
       "13592898     10:55 PM         0:00   \n",
       "\n",
       "                                      homedescription  \\\n",
       "0                                                 NaN   \n",
       "1         Jump Ball O'Neal vs. Kleine: Tip to Cassell   \n",
       "2                                                 NaN   \n",
       "3                        O'Neal REBOUND (Off:0 Def:1)   \n",
       "4                     MISS Ceballos 26' 3PT Jump Shot   \n",
       "...                                               ...   \n",
       "13592894      Brown 30' 3PT Pullup Jump Shot (35 PTS)   \n",
       "13592895                                          NaN   \n",
       "13592896                                          NaN   \n",
       "13592897                                          NaN   \n",
       "13592898                                          NaN   \n",
       "\n",
       "                          neutraldescription  \\\n",
       "0         Start of 1st Period (14:43 PM EST)   \n",
       "1                                        NaN   \n",
       "2                                        NaN   \n",
       "3                                        NaN   \n",
       "4                                        NaN   \n",
       "...                                      ...   \n",
       "13592894                                 NaN   \n",
       "13592895                                 NaN   \n",
       "13592896                                 NaN   \n",
       "13592897                                 NaN   \n",
       "13592898    End of 4th Period (10:55 PM EST)   \n",
       "\n",
       "                                 visitordescription  ...  \\\n",
       "0                                               NaN  ...   \n",
       "1                                               NaN  ...   \n",
       "2                        MISS Cassell 15' Jump Shot  ...   \n",
       "3                                               NaN  ...   \n",
       "4                                               NaN  ...   \n",
       "...                                             ...  ...   \n",
       "13592894                                        NaN  ...   \n",
       "13592895           MISS Markkanen 24' 3PT Jump Shot  ...   \n",
       "13592896              Lillard REBOUND (Off:1 Def:2)  ...   \n",
       "13592897  Lillard 30' 3PT Pullup Jump Shot (26 PTS)  ...   \n",
       "13592898                                        NaN  ...   \n",
       "\n",
       "         player2_team_nickname player2_team_abbreviation  person3type  \\\n",
       "0                          NaN                       NaN          0.0   \n",
       "1                         Suns                       PHX          5.0   \n",
       "2                          NaN                       NaN          0.0   \n",
       "3                          NaN                       NaN          0.0   \n",
       "4                          NaN                       NaN          0.0   \n",
       "...                        ...                       ...          ...   \n",
       "13592894                   NaN                       NaN          0.0   \n",
       "13592895                   NaN                       NaN          0.0   \n",
       "13592896                   NaN                       NaN          0.0   \n",
       "13592897                   NaN                       NaN          0.0   \n",
       "13592898                   NaN                       NaN          0.0   \n",
       "\n",
       "          player3_id player3_name  player3_team_id player3_team_city  \\\n",
       "0                  0          NaN              NaN               NaN   \n",
       "1                208  Sam Cassell     1.610613e+09           Phoenix   \n",
       "2                  0          NaN              NaN               NaN   \n",
       "3                  0          NaN              NaN               NaN   \n",
       "4                  0          NaN              NaN               NaN   \n",
       "...              ...          ...              ...               ...   \n",
       "13592894           0          NaN              NaN               NaN   \n",
       "13592895           0          NaN              NaN               NaN   \n",
       "13592896           0          NaN              NaN               NaN   \n",
       "13592897           0          NaN              NaN               NaN   \n",
       "13592898           0          NaN              NaN               NaN   \n",
       "\n",
       "         player3_team_nickname player3_team_abbreviation  video_available_flag  \n",
       "0                          NaN                       NaN                     0  \n",
       "1                         Suns                       PHX                     0  \n",
       "2                          NaN                       NaN                     0  \n",
       "3                          NaN                       NaN                     0  \n",
       "4                          NaN                       NaN                     0  \n",
       "...                        ...                       ...                   ...  \n",
       "13592894                   NaN                       NaN                     1  \n",
       "13592895                   NaN                       NaN                     1  \n",
       "13592896                   NaN                       NaN                     1  \n",
       "13592897                   NaN                       NaN                     1  \n",
       "13592898                   NaN                       NaN                     1  \n",
       "\n",
       "[13510450 rows x 34 columns]>"
      ]
     },
     "execution_count": 13,
     "metadata": {},
     "output_type": "execute_result"
    }
   ],
   "source": [
    "play_by_play_2013_2023.describe"
   ]
  },
  {
   "cell_type": "markdown",
   "id": "080c32ac",
   "metadata": {},
   "source": [
    "Aquí las concluciones son que el archivo Play_by_play tenia ya las jugadas registradas desde el mismo partido que filtramos en el archivo games de manera que aún contamos con una gran cantidad de datos de jugadas de los partidos entre 2013 a 2023. "
   ]
  },
  {
   "cell_type": "markdown",
   "id": "17497952",
   "metadata": {},
   "source": [
    "Aqui tengo un desafio y es entender por que los juegos del archivo games al cambiarlos al archivo games_2013 se redujo el Game_id no tiene sentido que el game_id de juegos más viejos sea mayor al de juegos más nuevos.\n",
    "\n",
    "AL volver y hacer un sort me di cuenta que el id de los juegos no tiene una correlación acendente acorde a la fecha en realidad juegos del 2005 tienen un id menor que juegos del 2001 y cosas así de forma que no es un delimitador confiable así que debo seguir verificando por medio de un filtro."
   ]
  },
  {
   "cell_type": "code",
   "execution_count": null,
   "id": "412d60d3",
   "metadata": {},
   "outputs": [],
   "source": [
    "Play_by_play_Filtrado = play_by_play[play_by_play[\"game_id\"]].isin(games_2013_2023[\"game_id\"])"
   ]
  },
  {
   "cell_type": "markdown",
   "id": "6b41affd",
   "metadata": {},
   "source": [
    "Ahora verificar por que da este error."
   ]
  },
  {
   "cell_type": "code",
   "execution_count": null,
   "id": "5c7aacae",
   "metadata": {},
   "outputs": [],
   "source": [
    "print(play_by_play['game_id'].dtype)\n",
    "print(games_2013_2023['game_id'].dtype)"
   ]
  },
  {
   "cell_type": "code",
   "execution_count": null,
   "id": "02a26e60",
   "metadata": {},
   "outputs": [],
   "source": [
    "# Me aseguro de que 'game_id' existe en ambos DataFrames\n",
    "if 'game_id' in play_by_play.columns and 'game_id' in games_2013_2023.columns:\n",
    "    # Filtrar el segundo DataFrame\n",
    "    play_by_play_filtrado = play_by_play[play_by_play['game_id'].isin(games_2013_2023['game_id'])]\n",
    "    print(play_by_play_filtrado)\n",
    "else:\n",
    "    print(\"La columna 'game_id' no se encuentra en uno de los DataFrames.\")"
   ]
  },
  {
   "cell_type": "code",
   "execution_count": null,
   "id": "aa3b041a",
   "metadata": {},
   "outputs": [],
   "source": [
    "play_by_play_filtrado.columns"
   ]
  },
  {
   "cell_type": "markdown",
   "id": "4ab469c0",
   "metadata": {},
   "source": [
    "Al fin tengo el archivo filtrado por los las jugadas realizadas en los juegos que ocurrieron entre 2012-10-30 hasta 2023\n",
    "\n",
    "Tengo games_2013_2023 filtrada por fechas y tengo play_by_play_filtrado con las jugadas de los juegos ocurridos en esas fechas. "
   ]
  },
  {
   "cell_type": "markdown",
   "id": "a8b2dbe5",
   "metadata": {},
   "source": [
    "Ahora voy a intentar unir los dos dataframes para que las jugadas tengan una fecha guia. "
   ]
  },
  {
   "cell_type": "code",
   "execution_count": null,
   "id": "4c2995b8",
   "metadata": {},
   "outputs": [],
   "source": [
    "Plays_resultado = pd.merge(play_by_play_filtrado, games_2013_2023[['game_id', 'game_date']], on='game_id', how='left')"
   ]
  },
  {
   "cell_type": "markdown",
   "id": "6c3d8fa1",
   "metadata": {},
   "source": [
    "Verifico en Data wrangler y efectivamnete los game_id no están organizados por acendencia así que organizo mi archivo por fechas."
   ]
  },
  {
   "cell_type": "code",
   "execution_count": null,
   "id": "87af10f4",
   "metadata": {},
   "outputs": [],
   "source": [
    "Plays_resultado.sort_values(by='game_date', ascending=True, inplace=True)\n",
    "\n",
    "Plays_ordenado = ['game_date'] + [col for col in Plays_resultado.columns if col != 'game_date']\n",
    "Plays_resultado = Plays_resultado[Plays_ordenado]"
   ]
  },
  {
   "cell_type": "markdown",
   "id": "74ffa54f",
   "metadata": {},
   "source": [
    "Ahora al fin tengo el archivo de jugadas de los partidos entre 2013 a 2023 organizados por fecha en orden acendente y soy feliz!!!"
   ]
  },
  {
   "cell_type": "code",
   "execution_count": null,
   "id": "48ffc287",
   "metadata": {},
   "outputs": [],
   "source": [
    "print(Plays_resultado)"
   ]
  },
  {
   "cell_type": "markdown",
   "id": "c4d71cb1",
   "metadata": {},
   "source": [
    "El siguiente filtro que necesitamos es el de los tipos de acción de juego para poder verificar pero voy a exportar el archivo que llevo hasta ahora para trabajar de aquí en  adelante."
   ]
  },
  {
   "cell_type": "code",
   "execution_count": null,
   "id": "afb5b5a4",
   "metadata": {},
   "outputs": [],
   "source": [
    "Plays_resultado.to_csv('play_by_play_filtrado_fecha.csv', index=False)"
   ]
  },
  {
   "cell_type": "markdown",
   "id": "2bb3f741",
   "metadata": {},
   "source": [
    "AVANCE DÍA 2 FECHA 22 DE Julio."
   ]
  },
  {
   "cell_type": "markdown",
   "id": "d0e84eb5",
   "metadata": {},
   "source": [
    "Voy a cargar las librerias y mi archivo ya más liviano para trabajar desde este punto. "
   ]
  },
  {
   "cell_type": "code",
   "execution_count": 15,
   "id": "414587f4",
   "metadata": {},
   "outputs": [],
   "source": [
    "import pandas as pd\n",
    "import numpy as np\n",
    "import matplotlib.pyplot as plt\n",
    "import seaborn as sns\n",
    "import os"
   ]
  },
  {
   "cell_type": "code",
   "execution_count": 22,
   "id": "fd18937a",
   "metadata": {},
   "outputs": [],
   "source": [
    "Juagadas_filtradas = pd.read_csv(r\"D:\\Proyecto Final\\NBA-StatVision\\play_by_play_filtrado_fecha.csv\",sep=',')"
   ]
  },
  {
   "cell_type": "markdown",
   "id": "a8ea3251",
   "metadata": {},
   "source": [
    "Ahora el siguiente paso es analisar la columna eventmsgtype: observo que los identificadores del 1 al 12 tienen tanto jugadas de acción como jugadas de momento cómo los tiempos fuera, substituciones y otras acciones que no nos sirven para el analisis. Voy a filtrar esas acciones no relevantes."
   ]
  },
  {
   "cell_type": "code",
   "execution_count": 37,
   "id": "e224e909",
   "metadata": {},
   "outputs": [],
   "source": [
    "FiltrarMSG_7 = Juagadas_filtradas[Juagadas_filtradas[\"eventmsgtype\"] == 7]\n",
    "FiltrarMSG_11 = Juagadas_filtradas[Juagadas_filtradas[\"eventmsgtype\"] == 11]\n",
    "FiltrarMSG_14 = Juagadas_filtradas[Juagadas_filtradas[\"eventmsgtype\"] == 14]\n",
    "FiltrarMSG_15 = Juagadas_filtradas[Juagadas_filtradas[\"eventmsgtype\"] == 15]\n",
    "FiltrarMSG_16 = Juagadas_filtradas[Juagadas_filtradas[\"eventmsgtype\"] == 16]\n",
    "FiltrarMSG_17 = Juagadas_filtradas[Juagadas_filtradas[\"eventmsgtype\"] == 17]\n",
    "FiltrarMSG_19 = Juagadas_filtradas[Juagadas_filtradas[\"eventmsgtype\"] == 19]"
   ]
  },
  {
   "cell_type": "code",
   "execution_count": null,
   "id": "694c94a9",
   "metadata": {},
   "outputs": [],
   "source": []
  },
  {
   "cell_type": "markdown",
   "id": "025b6e87",
   "metadata": {},
   "source": [
    "Al tener claro cuales son los MSG types puedo escoger cuales nos sirven y cuales no para nuestro analisis. "
   ]
  }
 ],
 "metadata": {
  "kernelspec": {
   "display_name": "Python 3",
   "language": "python",
   "name": "python3"
  },
  "language_info": {
   "codemirror_mode": {
    "name": "ipython",
    "version": 3
   },
   "file_extension": ".py",
   "mimetype": "text/x-python",
   "name": "python",
   "nbconvert_exporter": "python",
   "pygments_lexer": "ipython3",
   "version": "3.13.3"
  }
 },
 "nbformat": 4,
 "nbformat_minor": 5
}
