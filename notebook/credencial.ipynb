{
 "cells": [
  {
   "cell_type": "markdown",
   "id": "3e3b6586",
   "metadata": {},
   "source": [
    "Creamos una credencial "
   ]
  },
  {
   "cell_type": "code",
   "execution_count": 2,
   "id": "6902f0a7",
   "metadata": {},
   "outputs": [],
   "source": [
    "import os\n",
    "from dotenv import load_dotenv\n",
    "from sqlalchemy import create_engine\n",
    "\n",
    "# Cargar variables desde .env\n",
    "load_dotenv()\n",
    "\n",
    "usuario = os.getenv(\"MYSQL_USER\")\n",
    "password = os.getenv(\"MYSQL_PASSWORD\")\n",
    "host = os.getenv(\"MYSQL_HOST\")\n",
    "db = os.getenv(\"MYSQL_DATABASE\")\n",
    "puerto = os.getenv(\"MYSQL_PORT\")\n",
    "\n",
    "engine = create_engine(f'mysql+mysqlconnector://{usuario}:{password}@{host}:{puerto}/{db}')\n"
   ]
  },
  {
   "cell_type": "markdown",
   "id": "c2534002",
   "metadata": {},
   "source": [
    "Esta credencial la usaremos en otros archivos .ipynb para conectarnos al servicio en la nube. \n",
    "ES MAS SEGURO"
   ]
  }
 ],
 "metadata": {
  "kernelspec": {
   "display_name": "Python 3",
   "language": "python",
   "name": "python3"
  },
  "language_info": {
   "codemirror_mode": {
    "name": "ipython",
    "version": 3
   },
   "file_extension": ".py",
   "mimetype": "text/x-python",
   "name": "python",
   "nbconvert_exporter": "python",
   "pygments_lexer": "ipython3",
   "version": "3.13.5"
  }
 },
 "nbformat": 4,
 "nbformat_minor": 5
}
