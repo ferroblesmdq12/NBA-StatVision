{
 "cells": [
  {
   "cell_type": "markdown",
   "id": "3e3b6586",
   "metadata": {},
   "source": [
    "Creamos una credencial "
   ]
  },
  {
   "cell_type": "code",
   "execution_count": null,
   "id": "6902f0a7",
   "metadata": {},
   "outputs": [],
   "source": [
    "import os\n",
    "from dotenv import load_dotenv\n",
    "from sqlalchemy import create_engine\n",
    "\n",
    "# Cargar variables desde .env\n",
    "load_dotenv()\n",
    "\n",
    "usuario = os.getenv(\"MYSQL_USER\")\n",
    "password = os.getenv(\"MYSQL_PASSWORD\")\n",
    "host = os.getenv(\"MYSQL_HOST\")\n",
    "db = os.getenv(\"MYSQL_DATABASE\")\n",
    "puerto = os.getenv(\"MYSQL_PORT\")\n",
    "\n",
    "engine = create_engine(f'mysql+mysqlconnector://{usuario}:{password}@{host}:{puerto}/{db}')\n"
   ]
  },
  {
   "cell_type": "markdown",
   "id": "c2534002",
   "metadata": {},
   "source": [
    "Esta credencial la usaremos en otros archivos .ipynb para conectarnos al servicio en la nube. \n",
    "ES MAS SEGURO"
   ]
  }
 ],
 "metadata": {
  "language_info": {
   "name": "python"
  }
 },
 "nbformat": 4,
 "nbformat_minor": 5
}
