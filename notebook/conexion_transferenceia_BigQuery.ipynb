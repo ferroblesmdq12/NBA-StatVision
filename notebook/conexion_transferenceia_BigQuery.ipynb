{
 "cells": [
  {
   "cell_type": "markdown",
   "id": "dec6eb0e",
   "metadata": {},
   "source": [
    "Creando migracion de tabla 'lesiones' desde Cloud SQL (MySql) a BigQuery"
   ]
  },
  {
   "cell_type": "markdown",
   "id": "a8cf0d09",
   "metadata": {},
   "source": [
    "La conexion a Cloud"
   ]
  },
  {
   "cell_type": "code",
   "execution_count": null,
   "id": "b69f2717",
   "metadata": {},
   "outputs": [
    {
     "name": "stdout",
     "output_type": "stream",
     "text": [
      "✔ Filas leídas desde MySQL: 27105\n",
      "Please visit this URL to authorize this application: https://accounts.google.com/o/oauth2/auth?response_type=code&client_id=262006177488-3425ks60hkk80fssi9vpohv88g6q1iqd.apps.googleusercontent.com&redirect_uri=http%3A%2F%2Flocalhost%3A8080%2F&scope=https%3A%2F%2Fwww.googleapis.com%2Fauth%2Fbigquery&state=1DIfvddUalUgeCr7k99THkD2mF7IBa&prompt=consent&access_type=offline\n"
     ]
    }
   ],
   "source": [
    "import os\n",
    "from dotenv import load_dotenv\n",
    "import pandas as pd\n",
    "from sqlalchemy import create_engine\n",
    "from pandas_gbq import to_gbq\n",
    "\n",
    "# Cargar variables\n",
    "load_dotenv()\n",
    "\n",
    "# MYSQL\n",
    "usuario = os.getenv(\"MYSQL_USER\")\n",
    "password = os.getenv(\"MYSQL_PASSWORD\")\n",
    "host = os.getenv(\"MYSQL_HOST\")\n",
    "db = os.getenv(\"MYSQL_DATABASE\")\n",
    "puerto = os.getenv(\"MYSQL_PORT\")\n",
    "\n",
    "# GCP\n",
    "proyecto_id = os.getenv(\"GCP_PROJECT_ID\")\n",
    "dataset_bq = \"nba_dataset\"        # Cambiar si tenés otro dataset\n",
    "tabla_bq = \"lesiones\"             # Nombre de tabla destino en BigQuery\n",
    "ruta_credenciales = \"credenciales.json\"\n",
    "\n",
    "# Autenticación con GCP\n",
    "os.environ[\"GOOGLE_APPLICATION_CREDENTIALS\"] = ruta_credenciales\n",
    "\n",
    "# Crear conexión a MySQL\n",
    "engine = create_engine(f'mysql+mysqlconnector://{usuario}:{password}@{host}:{puerto}/{db}')\n",
    "\n",
    "# Leer tabla desde MySQL\n",
    "df = pd.read_sql(\"SELECT * FROM lesiones\", con=engine)\n",
    "print(f\"✔ Filas leídas desde MySQL: {df.shape[0]}\")\n",
    "\n",
    "# Enviar a BigQuery\n",
    "to_gbq(\n",
    "    dataframe=df,\n",
    "    destination_table=f\"{dataset_bq}.{tabla_bq}\",\n",
    "    project_id=proyecto_id,\n",
    "    if_exists='replace'\n",
    ")\n",
    "\n",
    "print(\"✅ Tabla 'lesiones' cargada correctamente en BigQuery.\")\n"
   ]
  }
 ],
 "metadata": {
  "kernelspec": {
   "display_name": "Python 3",
   "language": "python",
   "name": "python3"
  },
  "language_info": {
   "codemirror_mode": {
    "name": "ipython",
    "version": 3
   },
   "file_extension": ".py",
   "mimetype": "text/x-python",
   "name": "python",
   "nbconvert_exporter": "python",
   "pygments_lexer": "ipython3",
   "version": "3.13.5"
  }
 },
 "nbformat": 4,
 "nbformat_minor": 5
}
