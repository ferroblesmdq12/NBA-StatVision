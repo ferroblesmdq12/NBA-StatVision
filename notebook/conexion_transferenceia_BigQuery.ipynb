{
 "cells": [
  {
   "cell_type": "markdown",
   "id": "dec6eb0e",
   "metadata": {},
   "source": [
    "Creando migracion de tabla 'lesiones' desde Cloud SQL (MySql) a BigQuery"
   ]
  },
  {
   "cell_type": "markdown",
   "id": "a8cf0d09",
   "metadata": {},
   "source": [
    "La conexion a Cloud"
   ]
  },
  {
   "cell_type": "code",
   "execution_count": null,
   "id": "b69f2717",
   "metadata": {},
   "outputs": [
    {
     "name": "stdout",
     "output_type": "stream",
     "text": [
      "✔ Filas leídas desde MySQL: 27105\n",
      "Please visit this URL to authorize this application: https://accounts.google.com/o/oauth2/auth?response_type=code&client_id=262006177488-3425ks60hkk80fssi9vpohv88g6q1iqd.apps.googleusercontent.com&redirect_uri=http%3A%2F%2Flocalhost%3A8080%2F&scope=https%3A%2F%2Fwww.googleapis.com%2Fauth%2Fbigquery&state=1DIfvddUalUgeCr7k99THkD2mF7IBa&prompt=consent&access_type=offline\n"
     ]
    }
   ],
   "source": [
    "import os\n",
    "from dotenv import load_dotenv\n",
    "import pandas as pd\n",
    "from sqlalchemy import create_engine\n",
    "from pandas_gbq import to_gbq\n",
    "\n",
    "# Cargar variables\n",
    "load_dotenv()\n",
    "print(f\"🔍 Proyecto GCP: {os.getenv('GCP_PROJECT_ID')}\")\n",
    "\n",
    "# MYSQL\n",
    "usuario = os.getenv(\"MYSQL_USER\")\n",
    "password = os.getenv(\"MYSQL_PASSWORD\")\n",
    "host = os.getenv(\"MYSQL_HOST\")\n",
    "db = os.getenv(\"MYSQL_DATABASE\")\n",
    "puerto = os.getenv(\"MYSQL_PORT\")\n",
    "\n",
    "# GCP\n",
    "proyecto_id = os.getenv(\"GCP_PROJECT_ID\")\n",
    "dataset_bq = \"nba_dataset\"        # Cambiar si tenés otro dataset\n",
    "tabla_bq = \"lesiones\"             # Nombre de tabla destino en BigQuery\n",
    "ruta_credenciales = \"credenciales.json\"\n",
    "\n",
    "# Autenticación con GCP\n",
    "os.environ[\"GOOGLE_APPLICATION_CREDENTIALS\"] = ruta_credenciales\n",
    "\n",
    "# Crear conexión a MySQL\n",
    "engine = create_engine(f'mysql+mysqlconnector://{usuario}:{password}@{host}:{puerto}/{db}')\n",
    "\n",
    "# Leer tabla desde MySQL\n",
    "df = pd.read_sql(\"SELECT * FROM lesiones\", con=engine)\n",
    "print(f\"✔ Filas leídas desde MySQL: {df.shape[0]}\")\n",
    "\n",
    "# Enviar a BigQuery\n",
    "to_gbq(\n",
    "    dataframe=df,\n",
    "    destination_table=f\"{dataset_bq}.{tabla_bq}\",\n",
    "    project_id=proyecto_id,\n",
    "    if_exists='replace'\n",
    ")\n",
    "\n",
    "print(\"✅ Tabla 'lesiones' cargada correctamente en BigQuery.\")\n"
   ]
  },
  {
   "cell_type": "markdown",
   "id": "0b8c29fe",
   "metadata": {},
   "source": [
    "Migracion 'estadistico_juego_info'"
   ]
  },
  {
   "cell_type": "code",
   "execution_count": 17,
   "id": "6a72e28f",
   "metadata": {},
   "outputs": [
    {
     "name": "stdout",
     "output_type": "stream",
     "text": [
      "🧪 Project ID: sylvan-server-466715\n",
      "🧪 Dataset: nba_dataset\n",
      "🧪 Tabla: estadistica_juego_info\n",
      "✔ Filas leídas: 28271\n"
     ]
    },
    {
     "ename": "GenericGBQException",
     "evalue": "Reason: 404 POST https://bigquery.googleapis.com/bigquery/v2/projects/sylvan-server-466715/datasets?prettyPrint=false: Project sylvan-server-466715 is not found. Make sure it references valid GCP project that hasn't been deleted.; Project id: sylvan-server-466715",
     "output_type": "error",
     "traceback": [
      "\u001b[31m---------------------------------------------------------------------------\u001b[39m",
      "\u001b[31mNotFound\u001b[39m                                  Traceback (most recent call last)",
      "\u001b[36mFile \u001b[39m\u001b[32mc:\\Users\\Fernando\\AppData\\Local\\Programs\\Python\\Python313\\Lib\\site-packages\\pandas_gbq\\gbq.py:857\u001b[39m, in \u001b[36m_Dataset.create\u001b[39m\u001b[34m(self, dataset_id)\u001b[39m\n\u001b[32m    856\u001b[39m \u001b[38;5;28;01mtry\u001b[39;00m:\n\u001b[32m--> \u001b[39m\u001b[32m857\u001b[39m     \u001b[38;5;28;43mself\u001b[39;49m\u001b[43m.\u001b[49m\u001b[43mclient\u001b[49m\u001b[43m.\u001b[49m\u001b[43mcreate_dataset\u001b[49m\u001b[43m(\u001b[49m\u001b[43mdataset\u001b[49m\u001b[43m)\u001b[49m\n\u001b[32m    858\u001b[39m \u001b[38;5;28;01mexcept\u001b[39;00m \u001b[38;5;28mself\u001b[39m.http_error \u001b[38;5;28;01mas\u001b[39;00m ex:\n",
      "\u001b[36mFile \u001b[39m\u001b[32mc:\\Users\\Fernando\\AppData\\Local\\Programs\\Python\\Python313\\Lib\\site-packages\\google\\cloud\\bigquery\\client.py:709\u001b[39m, in \u001b[36mClient.create_dataset\u001b[39m\u001b[34m(self, dataset, exists_ok, retry, timeout)\u001b[39m\n\u001b[32m    707\u001b[39m span_attributes = {\u001b[33m\"\u001b[39m\u001b[33mpath\u001b[39m\u001b[33m\"\u001b[39m: path}\n\u001b[32m--> \u001b[39m\u001b[32m709\u001b[39m api_response = \u001b[38;5;28;43mself\u001b[39;49m\u001b[43m.\u001b[49m\u001b[43m_call_api\u001b[49m\u001b[43m(\u001b[49m\n\u001b[32m    710\u001b[39m \u001b[43m    \u001b[49m\u001b[43mretry\u001b[49m\u001b[43m,\u001b[49m\n\u001b[32m    711\u001b[39m \u001b[43m    \u001b[49m\u001b[43mspan_name\u001b[49m\u001b[43m=\u001b[49m\u001b[33;43m\"\u001b[39;49m\u001b[33;43mBigQuery.createDataset\u001b[39;49m\u001b[33;43m\"\u001b[39;49m\u001b[43m,\u001b[49m\n\u001b[32m    712\u001b[39m \u001b[43m    \u001b[49m\u001b[43mspan_attributes\u001b[49m\u001b[43m=\u001b[49m\u001b[43mspan_attributes\u001b[49m\u001b[43m,\u001b[49m\n\u001b[32m    713\u001b[39m \u001b[43m    \u001b[49m\u001b[43mmethod\u001b[49m\u001b[43m=\u001b[49m\u001b[33;43m\"\u001b[39;49m\u001b[33;43mPOST\u001b[39;49m\u001b[33;43m\"\u001b[39;49m\u001b[43m,\u001b[49m\n\u001b[32m    714\u001b[39m \u001b[43m    \u001b[49m\u001b[43mpath\u001b[49m\u001b[43m=\u001b[49m\u001b[43mpath\u001b[49m\u001b[43m,\u001b[49m\n\u001b[32m    715\u001b[39m \u001b[43m    \u001b[49m\u001b[43mdata\u001b[49m\u001b[43m=\u001b[49m\u001b[43mdata\u001b[49m\u001b[43m,\u001b[49m\n\u001b[32m    716\u001b[39m \u001b[43m    \u001b[49m\u001b[43mtimeout\u001b[49m\u001b[43m=\u001b[49m\u001b[43mtimeout\u001b[49m\u001b[43m,\u001b[49m\n\u001b[32m    717\u001b[39m \u001b[43m\u001b[49m\u001b[43m)\u001b[49m\n\u001b[32m    718\u001b[39m \u001b[38;5;28;01mreturn\u001b[39;00m Dataset.from_api_repr(api_response)\n",
      "\u001b[36mFile \u001b[39m\u001b[32mc:\\Users\\Fernando\\AppData\\Local\\Programs\\Python\\Python313\\Lib\\site-packages\\google\\cloud\\bigquery\\client.py:859\u001b[39m, in \u001b[36mClient._call_api\u001b[39m\u001b[34m(self, retry, span_name, span_attributes, job_ref, headers, **kwargs)\u001b[39m\n\u001b[32m    856\u001b[39m     \u001b[38;5;28;01mwith\u001b[39;00m create_span(\n\u001b[32m    857\u001b[39m         name=span_name, attributes=span_attributes, client=\u001b[38;5;28mself\u001b[39m, job_ref=job_ref\n\u001b[32m    858\u001b[39m     ):\n\u001b[32m--> \u001b[39m\u001b[32m859\u001b[39m         \u001b[38;5;28;01mreturn\u001b[39;00m \u001b[43mcall\u001b[49m\u001b[43m(\u001b[49m\u001b[43m)\u001b[49m\n\u001b[32m    861\u001b[39m \u001b[38;5;28;01mreturn\u001b[39;00m call()\n",
      "\u001b[36mFile \u001b[39m\u001b[32mc:\\Users\\Fernando\\AppData\\Local\\Programs\\Python\\Python313\\Lib\\site-packages\\google\\api_core\\retry\\retry_unary.py:294\u001b[39m, in \u001b[36mRetry.__call__.<locals>.retry_wrapped_func\u001b[39m\u001b[34m(*args, **kwargs)\u001b[39m\n\u001b[32m    291\u001b[39m sleep_generator = exponential_sleep_generator(\n\u001b[32m    292\u001b[39m     \u001b[38;5;28mself\u001b[39m._initial, \u001b[38;5;28mself\u001b[39m._maximum, multiplier=\u001b[38;5;28mself\u001b[39m._multiplier\n\u001b[32m    293\u001b[39m )\n\u001b[32m--> \u001b[39m\u001b[32m294\u001b[39m \u001b[38;5;28;01mreturn\u001b[39;00m \u001b[43mretry_target\u001b[49m\u001b[43m(\u001b[49m\n\u001b[32m    295\u001b[39m \u001b[43m    \u001b[49m\u001b[43mtarget\u001b[49m\u001b[43m,\u001b[49m\n\u001b[32m    296\u001b[39m \u001b[43m    \u001b[49m\u001b[38;5;28;43mself\u001b[39;49m\u001b[43m.\u001b[49m\u001b[43m_predicate\u001b[49m\u001b[43m,\u001b[49m\n\u001b[32m    297\u001b[39m \u001b[43m    \u001b[49m\u001b[43msleep_generator\u001b[49m\u001b[43m,\u001b[49m\n\u001b[32m    298\u001b[39m \u001b[43m    \u001b[49m\u001b[43mtimeout\u001b[49m\u001b[43m=\u001b[49m\u001b[38;5;28;43mself\u001b[39;49m\u001b[43m.\u001b[49m\u001b[43m_timeout\u001b[49m\u001b[43m,\u001b[49m\n\u001b[32m    299\u001b[39m \u001b[43m    \u001b[49m\u001b[43mon_error\u001b[49m\u001b[43m=\u001b[49m\u001b[43mon_error\u001b[49m\u001b[43m,\u001b[49m\n\u001b[32m    300\u001b[39m \u001b[43m\u001b[49m\u001b[43m)\u001b[49m\n",
      "\u001b[36mFile \u001b[39m\u001b[32mc:\\Users\\Fernando\\AppData\\Local\\Programs\\Python\\Python313\\Lib\\site-packages\\google\\api_core\\retry\\retry_unary.py:156\u001b[39m, in \u001b[36mretry_target\u001b[39m\u001b[34m(target, predicate, sleep_generator, timeout, on_error, exception_factory, **kwargs)\u001b[39m\n\u001b[32m    154\u001b[39m \u001b[38;5;28;01mexcept\u001b[39;00m \u001b[38;5;167;01mException\u001b[39;00m \u001b[38;5;28;01mas\u001b[39;00m exc:\n\u001b[32m    155\u001b[39m     \u001b[38;5;66;03m# defer to shared logic for handling errors\u001b[39;00m\n\u001b[32m--> \u001b[39m\u001b[32m156\u001b[39m     next_sleep = \u001b[43m_retry_error_helper\u001b[49m\u001b[43m(\u001b[49m\n\u001b[32m    157\u001b[39m \u001b[43m        \u001b[49m\u001b[43mexc\u001b[49m\u001b[43m,\u001b[49m\n\u001b[32m    158\u001b[39m \u001b[43m        \u001b[49m\u001b[43mdeadline\u001b[49m\u001b[43m,\u001b[49m\n\u001b[32m    159\u001b[39m \u001b[43m        \u001b[49m\u001b[43msleep_iter\u001b[49m\u001b[43m,\u001b[49m\n\u001b[32m    160\u001b[39m \u001b[43m        \u001b[49m\u001b[43merror_list\u001b[49m\u001b[43m,\u001b[49m\n\u001b[32m    161\u001b[39m \u001b[43m        \u001b[49m\u001b[43mpredicate\u001b[49m\u001b[43m,\u001b[49m\n\u001b[32m    162\u001b[39m \u001b[43m        \u001b[49m\u001b[43mon_error\u001b[49m\u001b[43m,\u001b[49m\n\u001b[32m    163\u001b[39m \u001b[43m        \u001b[49m\u001b[43mexception_factory\u001b[49m\u001b[43m,\u001b[49m\n\u001b[32m    164\u001b[39m \u001b[43m        \u001b[49m\u001b[43mtimeout\u001b[49m\u001b[43m,\u001b[49m\n\u001b[32m    165\u001b[39m \u001b[43m    \u001b[49m\u001b[43m)\u001b[49m\n\u001b[32m    166\u001b[39m     \u001b[38;5;66;03m# if exception not raised, sleep before next attempt\u001b[39;00m\n",
      "\u001b[36mFile \u001b[39m\u001b[32mc:\\Users\\Fernando\\AppData\\Local\\Programs\\Python\\Python313\\Lib\\site-packages\\google\\api_core\\retry\\retry_base.py:214\u001b[39m, in \u001b[36m_retry_error_helper\u001b[39m\u001b[34m(exc, deadline, sleep_iterator, error_list, predicate_fn, on_error_fn, exc_factory_fn, original_timeout)\u001b[39m\n\u001b[32m    209\u001b[39m     final_exc, source_exc = exc_factory_fn(\n\u001b[32m    210\u001b[39m         error_list,\n\u001b[32m    211\u001b[39m         RetryFailureReason.NON_RETRYABLE_ERROR,\n\u001b[32m    212\u001b[39m         original_timeout,\n\u001b[32m    213\u001b[39m     )\n\u001b[32m--> \u001b[39m\u001b[32m214\u001b[39m     \u001b[38;5;28;01mraise\u001b[39;00m final_exc \u001b[38;5;28;01mfrom\u001b[39;00m\u001b[38;5;250m \u001b[39m\u001b[34;01msource_exc\u001b[39;00m\n\u001b[32m    215\u001b[39m \u001b[38;5;28;01mif\u001b[39;00m on_error_fn \u001b[38;5;129;01mis\u001b[39;00m \u001b[38;5;129;01mnot\u001b[39;00m \u001b[38;5;28;01mNone\u001b[39;00m:\n",
      "\u001b[36mFile \u001b[39m\u001b[32mc:\\Users\\Fernando\\AppData\\Local\\Programs\\Python\\Python313\\Lib\\site-packages\\google\\api_core\\retry\\retry_unary.py:147\u001b[39m, in \u001b[36mretry_target\u001b[39m\u001b[34m(target, predicate, sleep_generator, timeout, on_error, exception_factory, **kwargs)\u001b[39m\n\u001b[32m    146\u001b[39m \u001b[38;5;28;01mtry\u001b[39;00m:\n\u001b[32m--> \u001b[39m\u001b[32m147\u001b[39m     result = \u001b[43mtarget\u001b[49m\u001b[43m(\u001b[49m\u001b[43m)\u001b[49m\n\u001b[32m    148\u001b[39m     \u001b[38;5;28;01mif\u001b[39;00m inspect.isawaitable(result):\n",
      "\u001b[36mFile \u001b[39m\u001b[32mc:\\Users\\Fernando\\AppData\\Local\\Programs\\Python\\Python313\\Lib\\site-packages\\google\\cloud\\_http\\__init__.py:494\u001b[39m, in \u001b[36mJSONConnection.api_request\u001b[39m\u001b[34m(self, method, path, query_params, data, content_type, headers, api_base_url, api_version, expect_json, _target_object, timeout, extra_api_info)\u001b[39m\n\u001b[32m    493\u001b[39m \u001b[38;5;28;01mif\u001b[39;00m \u001b[38;5;129;01mnot\u001b[39;00m \u001b[32m200\u001b[39m <= response.status_code < \u001b[32m300\u001b[39m:\n\u001b[32m--> \u001b[39m\u001b[32m494\u001b[39m     \u001b[38;5;28;01mraise\u001b[39;00m exceptions.from_http_response(response)\n\u001b[32m    496\u001b[39m \u001b[38;5;28;01mif\u001b[39;00m expect_json \u001b[38;5;129;01mand\u001b[39;00m response.content:\n",
      "\u001b[31mNotFound\u001b[39m: 404 POST https://bigquery.googleapis.com/bigquery/v2/projects/sylvan-server-466715/datasets?prettyPrint=false: Project sylvan-server-466715 is not found. Make sure it references valid GCP project that hasn't been deleted.; Project id: sylvan-server-466715",
      "\nThe above exception was the direct cause of the following exception:\n",
      "\u001b[31mGenericGBQException\u001b[39m                       Traceback (most recent call last)",
      "\u001b[36mCell\u001b[39m\u001b[36m \u001b[39m\u001b[32mIn[17]\u001b[39m\u001b[32m, line 37\u001b[39m\n\u001b[32m     34\u001b[39m \u001b[38;5;28mprint\u001b[39m(\u001b[33mf\u001b[39m\u001b[33m\"\u001b[39m\u001b[33m✔ Filas leídas: \u001b[39m\u001b[38;5;132;01m{\u001b[39;00mdf.shape[\u001b[32m0\u001b[39m]\u001b[38;5;132;01m}\u001b[39;00m\u001b[33m\"\u001b[39m)\n\u001b[32m     36\u001b[39m \u001b[38;5;66;03m# Transferencia\u001b[39;00m\n\u001b[32m---> \u001b[39m\u001b[32m37\u001b[39m \u001b[43mto_gbq\u001b[49m\u001b[43m(\u001b[49m\n\u001b[32m     38\u001b[39m \u001b[43m    \u001b[49m\u001b[43mdataframe\u001b[49m\u001b[43m=\u001b[49m\u001b[43mdf\u001b[49m\u001b[43m,\u001b[49m\n\u001b[32m     39\u001b[39m \u001b[43m    \u001b[49m\u001b[43mdestination_table\u001b[49m\u001b[43m=\u001b[49m\u001b[33;43mf\u001b[39;49m\u001b[33;43m\"\u001b[39;49m\u001b[38;5;132;43;01m{\u001b[39;49;00m\u001b[43mdataset_bq\u001b[49m\u001b[38;5;132;43;01m}\u001b[39;49;00m\u001b[33;43m.\u001b[39;49m\u001b[38;5;132;43;01m{\u001b[39;49;00m\u001b[43mtabla_bq\u001b[49m\u001b[38;5;132;43;01m}\u001b[39;49;00m\u001b[33;43m\"\u001b[39;49m\u001b[43m,\u001b[49m\n\u001b[32m     40\u001b[39m \u001b[43m    \u001b[49m\u001b[43mproject_id\u001b[49m\u001b[43m=\u001b[49m\u001b[43mproyecto_id\u001b[49m\u001b[43m,\u001b[49m\n\u001b[32m     41\u001b[39m \u001b[43m    \u001b[49m\u001b[43mif_exists\u001b[49m\u001b[43m=\u001b[49m\u001b[33;43m'\u001b[39;49m\u001b[33;43mreplace\u001b[39;49m\u001b[33;43m'\u001b[39;49m\n\u001b[32m     42\u001b[39m \u001b[43m)\u001b[49m\n\u001b[32m     44\u001b[39m \u001b[38;5;28mprint\u001b[39m(\u001b[33m\"\u001b[39m\u001b[33m✅ ¡Datos cargados en BigQuery exitosamente!\u001b[39m\u001b[33m\"\u001b[39m)\n",
      "\u001b[36mFile \u001b[39m\u001b[32mc:\\Users\\Fernando\\AppData\\Local\\Programs\\Python\\Python313\\Lib\\site-packages\\pandas_gbq\\gbq.py:613\u001b[39m, in \u001b[36mto_gbq\u001b[39m\u001b[34m(dataframe, destination_table, project_id, chunksize, reauth, if_exists, auth_local_webserver, table_schema, location, progress_bar, credentials, api_method, verbose, private_key, auth_redirect_uri, client_id, client_secret, user_agent, rfc9110_delimiter, bigquery_client)\u001b[39m\n\u001b[32m    605\u001b[39m \u001b[38;5;28;01mexcept\u001b[39;00m google_exceptions.NotFound:\n\u001b[32m    606\u001b[39m     \u001b[38;5;66;03m# If the table doesn't already exist, create it\u001b[39;00m\n\u001b[32m    607\u001b[39m     table_connector = _Table(\n\u001b[32m    608\u001b[39m         project_id_table,\n\u001b[32m    609\u001b[39m         dataset_id,\n\u001b[32m    610\u001b[39m         location=location,\n\u001b[32m    611\u001b[39m         credentials=connector.credentials,\n\u001b[32m    612\u001b[39m     )\n\u001b[32m--> \u001b[39m\u001b[32m613\u001b[39m     \u001b[43mtable_connector\u001b[49m\u001b[43m.\u001b[49m\u001b[43mcreate\u001b[49m\u001b[43m(\u001b[49m\u001b[43mtable_id\u001b[49m\u001b[43m,\u001b[49m\u001b[43m \u001b[49m\u001b[43mtable_schema\u001b[49m\u001b[43m)\u001b[49m\n\u001b[32m    614\u001b[39m \u001b[38;5;28;01melse\u001b[39;00m:\n\u001b[32m    615\u001b[39m     \u001b[38;5;28;01mif\u001b[39;00m if_exists == \u001b[33m\"\u001b[39m\u001b[33mappend\u001b[39m\u001b[33m\"\u001b[39m:\n\u001b[32m    616\u001b[39m         \u001b[38;5;66;03m# Convert original schema (the schema that already exists) to pandas-gbq API format\u001b[39;00m\n",
      "\u001b[36mFile \u001b[39m\u001b[32mc:\\Users\\Fernando\\AppData\\Local\\Programs\\Python\\Python313\\Lib\\site-packages\\pandas_gbq\\gbq.py:757\u001b[39m, in \u001b[36m_Table.create\u001b[39m\u001b[34m(self, table_id, schema)\u001b[39m\n\u001b[32m    748\u001b[39m     \u001b[38;5;28;01mraise\u001b[39;00m TableCreationError(\u001b[33m\"\u001b[39m\u001b[33mTable \u001b[39m\u001b[38;5;132;01m{0}\u001b[39;00m\u001b[33m already exists\u001b[39m\u001b[33m\"\u001b[39m.format(table_id))\n\u001b[32m    750\u001b[39m \u001b[38;5;28;01mif\u001b[39;00m \u001b[38;5;129;01mnot\u001b[39;00m _Dataset(\u001b[38;5;28mself\u001b[39m.project_id, credentials=\u001b[38;5;28mself\u001b[39m.credentials).exists(\n\u001b[32m    751\u001b[39m     \u001b[38;5;28mself\u001b[39m.dataset_id\n\u001b[32m    752\u001b[39m ):\n\u001b[32m    753\u001b[39m     \u001b[43m_Dataset\u001b[49m\u001b[43m(\u001b[49m\n\u001b[32m    754\u001b[39m \u001b[43m        \u001b[49m\u001b[38;5;28;43mself\u001b[39;49m\u001b[43m.\u001b[49m\u001b[43mproject_id\u001b[49m\u001b[43m,\u001b[49m\n\u001b[32m    755\u001b[39m \u001b[43m        \u001b[49m\u001b[43mcredentials\u001b[49m\u001b[43m=\u001b[49m\u001b[38;5;28;43mself\u001b[39;49m\u001b[43m.\u001b[49m\u001b[43mcredentials\u001b[49m\u001b[43m,\u001b[49m\n\u001b[32m    756\u001b[39m \u001b[43m        \u001b[49m\u001b[43mlocation\u001b[49m\u001b[43m=\u001b[49m\u001b[38;5;28;43mself\u001b[39;49m\u001b[43m.\u001b[49m\u001b[43mlocation\u001b[49m\u001b[43m,\u001b[49m\n\u001b[32m--> \u001b[39m\u001b[32m757\u001b[39m \u001b[43m    \u001b[49m\u001b[43m)\u001b[49m\u001b[43m.\u001b[49m\u001b[43mcreate\u001b[49m\u001b[43m(\u001b[49m\u001b[38;5;28;43mself\u001b[39;49m\u001b[43m.\u001b[49m\u001b[43mdataset_id\u001b[49m\u001b[43m)\u001b[49m\n\u001b[32m    759\u001b[39m table_ref = TableReference(\n\u001b[32m    760\u001b[39m     DatasetReference(\u001b[38;5;28mself\u001b[39m.project_id, \u001b[38;5;28mself\u001b[39m.dataset_id), table_id\n\u001b[32m    761\u001b[39m )\n\u001b[32m    762\u001b[39m table = Table(table_ref)\n",
      "\u001b[36mFile \u001b[39m\u001b[32mc:\\Users\\Fernando\\AppData\\Local\\Programs\\Python\\Python313\\Lib\\site-packages\\pandas_gbq\\gbq.py:859\u001b[39m, in \u001b[36m_Dataset.create\u001b[39m\u001b[34m(self, dataset_id)\u001b[39m\n\u001b[32m    857\u001b[39m     \u001b[38;5;28mself\u001b[39m.client.create_dataset(dataset)\n\u001b[32m    858\u001b[39m \u001b[38;5;28;01mexcept\u001b[39;00m \u001b[38;5;28mself\u001b[39m.http_error \u001b[38;5;28;01mas\u001b[39;00m ex:\n\u001b[32m--> \u001b[39m\u001b[32m859\u001b[39m     \u001b[38;5;28;43mself\u001b[39;49m\u001b[43m.\u001b[49m\u001b[43mprocess_http_error\u001b[49m\u001b[43m(\u001b[49m\u001b[43mex\u001b[49m\u001b[43m)\u001b[49m\n",
      "\u001b[36mFile \u001b[39m\u001b[32mc:\\Users\\Fernando\\AppData\\Local\\Programs\\Python\\Python313\\Lib\\site-packages\\pandas_gbq\\gbq_connector.py:174\u001b[39m, in \u001b[36mGbqConnector.process_http_error\u001b[39m\u001b[34m(ex)\u001b[39m\n\u001b[32m    172\u001b[39m     \u001b[38;5;28;01mraise\u001b[39;00m TableCreationError(\u001b[33mf\u001b[39m\u001b[33m\"\u001b[39m\u001b[33mReason: \u001b[39m\u001b[38;5;132;01m{\u001b[39;00merror_message\u001b[38;5;132;01m}\u001b[39;00m\u001b[33m\"\u001b[39m)\n\u001b[32m    173\u001b[39m \u001b[38;5;28;01melse\u001b[39;00m:\n\u001b[32m--> \u001b[39m\u001b[32m174\u001b[39m     \u001b[38;5;28;01mraise\u001b[39;00m GenericGBQException(\u001b[33m\"\u001b[39m\u001b[33mReason: \u001b[39m\u001b[38;5;132;01m{0}\u001b[39;00m\u001b[33m\"\u001b[39m.format(ex)) \u001b[38;5;28;01mfrom\u001b[39;00m\u001b[38;5;250m \u001b[39m\u001b[34;01mex\u001b[39;00m\n",
      "\u001b[31mGenericGBQException\u001b[39m: Reason: 404 POST https://bigquery.googleapis.com/bigquery/v2/projects/sylvan-server-466715/datasets?prettyPrint=false: Project sylvan-server-466715 is not found. Make sure it references valid GCP project that hasn't been deleted.; Project id: sylvan-server-466715"
     ]
    }
   ],
   "source": [
    "import os\n",
    "from dotenv import load_dotenv\n",
    "import pandas as pd\n",
    "from sqlalchemy import create_engine\n",
    "from pandas_gbq import to_gbq\n",
    "\n",
    "# Cargar variables de entorno\n",
    "load_dotenv()\n",
    "\n",
    "# MYSQL\n",
    "usuario = os.getenv(\"MYSQL_USER\")\n",
    "password = os.getenv(\"MYSQL_PASSWORD\")\n",
    "host = os.getenv(\"MYSQL_HOST\")\n",
    "db = os.getenv(\"MYSQL_DATABASE\")\n",
    "puerto = os.getenv(\"MYSQL_PORT\")\n",
    "\n",
    "# GCP - ¡CORRECTO!\n",
    "proyecto_id = \"sylvan-server-466715\"        # ← Este debe ser TU VERDADERO project_id\n",
    "dataset_bq = \"nba_dataset\"                  # ← Dataset que creaste en BigQuery\n",
    "tabla_bq = \"estadistica_juego_info\"\n",
    "ruta_credenciales = \"credenciales.json\"\n",
    "\n",
    "# Autenticación con GCP\n",
    "os.environ[\"GOOGLE_APPLICATION_CREDENTIALS\"] = ruta_credenciales\n",
    "\n",
    "# Confirmación previa\n",
    "print(\"🧪 Project ID:\", proyecto_id)\n",
    "print(\"🧪 Dataset:\", dataset_bq)\n",
    "print(\"🧪 Tabla:\", tabla_bq)\n",
    "\n",
    "# Conexión y transferencia\n",
    "engine = create_engine(f'mysql+mysqlconnector://{usuario}:{password}@{host}:{puerto}/{db}')\n",
    "df = pd.read_sql(\"SELECT * FROM estadistica_juego_info\", con=engine)\n",
    "print(f\"✔ Filas leídas: {df.shape[0]}\")\n",
    "\n",
    "# Transferencia\n",
    "to_gbq(\n",
    "    dataframe=df,\n",
    "    destination_table=f\"{dataset_bq}.{tabla_bq}\",\n",
    "    project_id=proyecto_id,\n",
    "    if_exists='replace'\n",
    ")\n",
    "\n",
    "print(\"✅ ¡Datos cargados en BigQuery exitosamente!\")\n"
   ]
  }
 ],
 "metadata": {
  "kernelspec": {
   "display_name": "Python 3",
   "language": "python",
   "name": "python3"
  },
  "language_info": {
   "codemirror_mode": {
    "name": "ipython",
    "version": 3
   },
   "file_extension": ".py",
   "mimetype": "text/x-python",
   "name": "python",
   "nbconvert_exporter": "python",
   "pygments_lexer": "ipython3",
   "version": "3.13.5"
  }
 },
 "nbformat": 4,
 "nbformat_minor": 5
}
