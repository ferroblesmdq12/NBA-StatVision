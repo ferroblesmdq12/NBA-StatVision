{
 "cells": [
  {
   "cell_type": "markdown",
   "id": "bf6c88a1",
   "metadata": {},
   "source": [
    "# Machine Learnning - Ejemplo - Modelo Arbol de Desición"
   ]
  },
  {
   "cell_type": "code",
   "execution_count": 1,
   "id": "96a15c30",
   "metadata": {},
   "outputs": [],
   "source": [
    "import pandas as pd\n",
    "import re as re"
   ]
  },
  {
   "cell_type": "markdown",
   "id": "a93cc4f2",
   "metadata": {},
   "source": []
  },
  {
   "cell_type": "code",
   "execution_count": null,
   "id": "bff89bf5",
   "metadata": {},
   "outputs": [],
   "source": [
    "## Definimos un lexico\n",
    "positivas = {'bueno', 'exelente','mejor','comodo', 'genial', 'fantastico', 'divertido', 'limpio'}\n",
    "negativas = {'malo ','horrible','sucio','deficiente', 'basura'}\n",
    "\n",
    "def sentiment_es(texto):\n",
    "    #tokeniza palabras basicas\n",
    "    tokens = re.findall(r\"\\w+\", texto.lower())\n",
    "    score = sum(1 for w in tokens if w in positivas) \\\n",
    "          - sum(1 for w in tokens if w in negativas)\n",
    "    if score > 0 : return 'pos'\n",
    "    if score > 0 : return 'neg'\n",
    "    return 'neutro'\n",
    "\n",
    "## Aplicamos la funcion en la columna 'lo que menos te gusta del cine' y lo devuelve\n",
    "#  en columna 'sentimiento' como 'pos' o 'neg'.\n",
    "\n",
    " df['sentimento'] = (\n",
    "    df['lo que menos te gusta del cine'].astype(str).apply(sentiment_es)\n",
    " )\n",
    "\n"
   ]
  },
  {
   "cell_type": "markdown",
   "id": "18e73ef5",
   "metadata": {},
   "source": [
    "Concepto de 'TOKEN', en Machine Learnning , procesamiento de texto: se da a partir de Token, que son como sílabas, particiona el texto en pequeños fragmentos. De esa manera va comprendiendo el texto. el token es unidad minima de procesamiento\n",
    "\n"
   ]
  },
  {
   "cell_type": "markdown",
   "id": "8d11ac33",
   "metadata": {},
   "source": [
    "Este codigo fue realizado en el scrip de Python en Power Bi, ya con la tabla creada."
   ]
  }
 ],
 "metadata": {
  "kernelspec": {
   "display_name": "Python 3",
   "language": "python",
   "name": "python3"
  },
  "language_info": {
   "codemirror_mode": {
    "name": "ipython",
    "version": 3
   },
   "file_extension": ".py",
   "mimetype": "text/x-python",
   "name": "python",
   "nbconvert_exporter": "python",
   "pygments_lexer": "ipython3",
   "version": "3.13.5"
  }
 },
 "nbformat": 4,
 "nbformat_minor": 5
}
