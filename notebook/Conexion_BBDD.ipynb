{
 "cells": [
  {
   "cell_type": "markdown",
   "id": "0915b268",
   "metadata": {},
   "source": [
    "Generaremos la conexion a la BBDD alojada en Google Cloud"
   ]
  },
  {
   "cell_type": "markdown",
   "id": "38c649da",
   "metadata": {},
   "source": [
    "Importamos librerias"
   ]
  },
  {
   "cell_type": "markdown",
   "id": "76e9b3f2",
   "metadata": {},
   "source": [
    "Conexion"
   ]
  },
  {
   "cell_type": "code",
   "execution_count": 1,
   "id": "496426bd",
   "metadata": {},
   "outputs": [
    {
     "name": "stdout",
     "output_type": "stream",
     "text": [
      "¡Conexión exitosa a MySQL en Google Cloud!\n"
     ]
    }
   ],
   "source": [
    "\n",
    "import mysql.connector\n",
    "import sqlalchemy\n",
    "import pandas as pd\n",
    "import numpy as np\n",
    "\n",
    "# Reemplaza estos valores por los datos de tu instancia\n",
    "\n",
    "# 'host': 'TU_IP_PUBLICA'\n",
    "# ¿Qué va acá?\n",
    "# La IP pública de tu instancia de MySQL en Google Cloud SQL.\n",
    "\n",
    "# Ejemplo: 'host': '35.199.111.222'\n",
    "\n",
    "# ¿Dónde la encuentro?\n",
    "\n",
    "# Google Cloud Console > SQL > Instancias > [tu instancia]. en este la IP es: 34.95.187.212\n",
    "\n",
    "# En “Información general” te aparece la IP pública.\n",
    "\n",
    "\n",
    "config = {\n",
    "    'user': 'fernando.robles.mdq@gmail.com',\n",
    "    'password': 'Ferdata25',\n",
    "    'host': '34.95.187.212',\n",
    "    'database': 'nba-statvision',\n",
    "    'port': 3306\n",
    "}\n",
    "\n",
    "try:\n",
    "    conn = mysql.connector.connect(**config)\n",
    "    print(\"¡Conexión exitosa a MySQL en Google Cloud!\")\n",
    "except Exception as e:\n",
    "    print(\"Error al conectar:\", e)"
   ]
  },
  {
   "cell_type": "markdown",
   "id": "07403622",
   "metadata": {},
   "source": [
    "# -------------------------------------------------"
   ]
  },
  {
   "cell_type": "markdown",
   "id": "e72aca49",
   "metadata": {},
   "source": [
    "Leer datos y mostrarlos en un DataFrame de pandas\n"
   ]
  },
  {
   "cell_type": "code",
   "execution_count": 4,
   "id": "ba9cc8b7",
   "metadata": {},
   "outputs": [
    {
     "name": "stderr",
     "output_type": "stream",
     "text": [
      "C:\\Users\\Fernando\\AppData\\Local\\Temp\\ipykernel_9788\\89752371.py:5: UserWarning: pandas only supports SQLAlchemy connectable (engine/connection) or database string URI or sqlite3 DBAPI2 connection. Other DBAPI2 objects are not tested. Please consider using SQLAlchemy.\n",
      "  df = pd.read_sql(query, conn)\n"
     ]
    },
    {
     "data": {
      "application/vnd.microsoft.datawrangler.viewer.v0+json": {
       "columns": [
        {
         "name": "index",
         "rawType": "int64",
         "type": "integer"
        },
        {
         "name": "person_id",
         "rawType": "int64",
         "type": "integer"
        },
        {
         "name": "first_name",
         "rawType": "object",
         "type": "string"
        },
        {
         "name": "last_name",
         "rawType": "object",
         "type": "string"
        },
        {
         "name": "display_first_last",
         "rawType": "object",
         "type": "string"
        },
        {
         "name": "display_last_comma_first",
         "rawType": "object",
         "type": "string"
        },
        {
         "name": "display_fi_last",
         "rawType": "object",
         "type": "string"
        },
        {
         "name": "player_slug",
         "rawType": "object",
         "type": "string"
        },
        {
         "name": "birthdate",
         "rawType": "object",
         "type": "string"
        },
        {
         "name": "school",
         "rawType": "object",
         "type": "string"
        },
        {
         "name": "country",
         "rawType": "object",
         "type": "string"
        },
        {
         "name": "last_affiliation",
         "rawType": "object",
         "type": "string"
        },
        {
         "name": "height",
         "rawType": "object",
         "type": "string"
        },
        {
         "name": "weight",
         "rawType": "int64",
         "type": "integer"
        },
        {
         "name": "season_exp",
         "rawType": "int64",
         "type": "integer"
        },
        {
         "name": "jersey",
         "rawType": "object",
         "type": "string"
        },
        {
         "name": "position",
         "rawType": "object",
         "type": "string"
        },
        {
         "name": "rosterstatus",
         "rawType": "object",
         "type": "string"
        },
        {
         "name": "games_played_current_season_flag",
         "rawType": "object",
         "type": "string"
        },
        {
         "name": "team_id",
         "rawType": "int64",
         "type": "integer"
        },
        {
         "name": "team_name",
         "rawType": "object",
         "type": "string"
        },
        {
         "name": "team_abbreviation",
         "rawType": "object",
         "type": "string"
        },
        {
         "name": "team_code",
         "rawType": "object",
         "type": "string"
        },
        {
         "name": "team_city",
         "rawType": "object",
         "type": "string"
        },
        {
         "name": "playercode",
         "rawType": "object",
         "type": "string"
        },
        {
         "name": "from_year",
         "rawType": "int64",
         "type": "integer"
        },
        {
         "name": "to_year",
         "rawType": "int64",
         "type": "integer"
        },
        {
         "name": "dleague_flag",
         "rawType": "object",
         "type": "string"
        },
        {
         "name": "nba_flag",
         "rawType": "object",
         "type": "string"
        },
        {
         "name": "games_played_flag",
         "rawType": "object",
         "type": "string"
        },
        {
         "name": "draft_year",
         "rawType": "int64",
         "type": "integer"
        },
        {
         "name": "draft_round",
         "rawType": "object",
         "type": "string"
        },
        {
         "name": "draft_number",
         "rawType": "object",
         "type": "string"
        },
        {
         "name": "greatest_75_flag",
         "rawType": "object",
         "type": "string"
        }
       ],
       "ref": "84826248-1d2b-48e3-ad4d-1106862a4942",
       "rows": [
        [
         "0",
         "76001",
         "Alaa",
         "Abdelnaby",
         "Alaa Abdelnaby",
         "Abdelnaby, Alaa",
         "A. Abdelnaby",
         "alaa-abdelnaby",
         "1968-06-24 0",
         "Duke",
         "USA",
         "Duke/USA",
         "6-10",
         "240",
         "5",
         "30",
         "Forward",
         "Inactive",
         "N",
         "1610612757",
         "Trail Blazers",
         "POR",
         "blazers",
         "Portland",
         "HISTADD_alaa_abdelna",
         "1990",
         "1994",
         "N",
         "Y",
         "Y",
         "1990",
         "1",
         "25",
         "N"
        ],
        [
         "1",
         "76003",
         "Kareem",
         "Abdul-Jabbar",
         "Kareem Abdul-Jabbar",
         "Abdul-Jabbar, Kareem",
         "K. Abdul-Jabbar",
         "kareem-abdul-jabbar",
         "1947-04-16 0",
         "UCLA",
         "USA",
         "UCLA/USA",
         "7-2",
         "225",
         "20",
         "33",
         "Center",
         "Inactive",
         "N",
         "1610612747",
         "Lakers",
         "LAL",
         "lakers",
         "Los Angeles",
         "HISTADD_kareem_abdul",
         "1969",
         "1988",
         "N",
         "Y",
         "Y",
         "1969",
         "1",
         "1",
         "Y"
        ],
        [
         "2",
         "1505",
         "Tariq",
         "Abdul-Wahad",
         "Tariq Abdul-Wahad",
         "Abdul-Wahad, Tariq",
         "T. Abdul-Wahad",
         "tariq-abdul-wahad",
         "1974-11-03 0",
         "San Jose State",
         "France",
         "San Jose State/France",
         "6-6",
         "235",
         "7",
         "9",
         "Forward-Gu",
         "Inactive",
         "N",
         "1610612758",
         "Kings",
         "SAC",
         "kings",
         "Sacramento",
         "tariq_abdul-wahad",
         "1997",
         "2003",
         "N",
         "Y",
         "Y",
         "1997",
         "1",
         "11",
         "N"
        ],
        [
         "3",
         "949",
         "Shareef",
         "Abdur-Rahim",
         "Shareef Abdur-Rahim",
         "Abdur-Rahim, Shareef",
         "S. Abdur-Rahim",
         "shareef-abdur-rahim",
         "1976-12-11 0",
         "California",
         "USA",
         "California/USA",
         "6-9",
         "245",
         "13",
         "3",
         "Forward",
         "Inactive",
         "N",
         "1610612763",
         "Grizzlies",
         "VAN",
         "grizzlies",
         "Vancouver",
         "shareef_abdur-rahim",
         "1996",
         "2007",
         "N",
         "Y",
         "Y",
         "1996",
         "1",
         "3",
         "N"
        ],
        [
         "4",
         "76005",
         "Tom",
         "Abernethy",
         "Tom Abernethy",
         "Abernethy, Tom",
         "T. Abernethy",
         "tom-abernethy",
         "1954-05-06 0",
         "Indiana",
         "USA",
         "Indiana/USA",
         "6-7",
         "220",
         "5",
         "5",
         "Forward",
         "Inactive",
         "N",
         "1610612744",
         "Warriors",
         "GOS",
         "warriors",
         "Golden State",
         "HISTADD_tom_aberneth",
         "1976",
         "1980",
         "N",
         "Y",
         "Y",
         "1976",
         "3",
         "43",
         "N"
        ]
       ],
       "shape": {
        "columns": 33,
        "rows": 5
       }
      },
      "text/html": [
       "<div>\n",
       "<style scoped>\n",
       "    .dataframe tbody tr th:only-of-type {\n",
       "        vertical-align: middle;\n",
       "    }\n",
       "\n",
       "    .dataframe tbody tr th {\n",
       "        vertical-align: top;\n",
       "    }\n",
       "\n",
       "    .dataframe thead th {\n",
       "        text-align: right;\n",
       "    }\n",
       "</style>\n",
       "<table border=\"1\" class=\"dataframe\">\n",
       "  <thead>\n",
       "    <tr style=\"text-align: right;\">\n",
       "      <th></th>\n",
       "      <th>person_id</th>\n",
       "      <th>first_name</th>\n",
       "      <th>last_name</th>\n",
       "      <th>display_first_last</th>\n",
       "      <th>display_last_comma_first</th>\n",
       "      <th>display_fi_last</th>\n",
       "      <th>player_slug</th>\n",
       "      <th>birthdate</th>\n",
       "      <th>school</th>\n",
       "      <th>country</th>\n",
       "      <th>...</th>\n",
       "      <th>playercode</th>\n",
       "      <th>from_year</th>\n",
       "      <th>to_year</th>\n",
       "      <th>dleague_flag</th>\n",
       "      <th>nba_flag</th>\n",
       "      <th>games_played_flag</th>\n",
       "      <th>draft_year</th>\n",
       "      <th>draft_round</th>\n",
       "      <th>draft_number</th>\n",
       "      <th>greatest_75_flag</th>\n",
       "    </tr>\n",
       "  </thead>\n",
       "  <tbody>\n",
       "    <tr>\n",
       "      <th>0</th>\n",
       "      <td>76001</td>\n",
       "      <td>Alaa</td>\n",
       "      <td>Abdelnaby</td>\n",
       "      <td>Alaa Abdelnaby</td>\n",
       "      <td>Abdelnaby, Alaa</td>\n",
       "      <td>A. Abdelnaby</td>\n",
       "      <td>alaa-abdelnaby</td>\n",
       "      <td>1968-06-24 0</td>\n",
       "      <td>Duke</td>\n",
       "      <td>USA</td>\n",
       "      <td>...</td>\n",
       "      <td>HISTADD_alaa_abdelna</td>\n",
       "      <td>1990</td>\n",
       "      <td>1994</td>\n",
       "      <td>N</td>\n",
       "      <td>Y</td>\n",
       "      <td>Y</td>\n",
       "      <td>1990</td>\n",
       "      <td>1</td>\n",
       "      <td>25</td>\n",
       "      <td>N</td>\n",
       "    </tr>\n",
       "    <tr>\n",
       "      <th>1</th>\n",
       "      <td>76003</td>\n",
       "      <td>Kareem</td>\n",
       "      <td>Abdul-Jabbar</td>\n",
       "      <td>Kareem Abdul-Jabbar</td>\n",
       "      <td>Abdul-Jabbar, Kareem</td>\n",
       "      <td>K. Abdul-Jabbar</td>\n",
       "      <td>kareem-abdul-jabbar</td>\n",
       "      <td>1947-04-16 0</td>\n",
       "      <td>UCLA</td>\n",
       "      <td>USA</td>\n",
       "      <td>...</td>\n",
       "      <td>HISTADD_kareem_abdul</td>\n",
       "      <td>1969</td>\n",
       "      <td>1988</td>\n",
       "      <td>N</td>\n",
       "      <td>Y</td>\n",
       "      <td>Y</td>\n",
       "      <td>1969</td>\n",
       "      <td>1</td>\n",
       "      <td>1</td>\n",
       "      <td>Y</td>\n",
       "    </tr>\n",
       "    <tr>\n",
       "      <th>2</th>\n",
       "      <td>1505</td>\n",
       "      <td>Tariq</td>\n",
       "      <td>Abdul-Wahad</td>\n",
       "      <td>Tariq Abdul-Wahad</td>\n",
       "      <td>Abdul-Wahad, Tariq</td>\n",
       "      <td>T. Abdul-Wahad</td>\n",
       "      <td>tariq-abdul-wahad</td>\n",
       "      <td>1974-11-03 0</td>\n",
       "      <td>San Jose State</td>\n",
       "      <td>France</td>\n",
       "      <td>...</td>\n",
       "      <td>tariq_abdul-wahad</td>\n",
       "      <td>1997</td>\n",
       "      <td>2003</td>\n",
       "      <td>N</td>\n",
       "      <td>Y</td>\n",
       "      <td>Y</td>\n",
       "      <td>1997</td>\n",
       "      <td>1</td>\n",
       "      <td>11</td>\n",
       "      <td>N</td>\n",
       "    </tr>\n",
       "    <tr>\n",
       "      <th>3</th>\n",
       "      <td>949</td>\n",
       "      <td>Shareef</td>\n",
       "      <td>Abdur-Rahim</td>\n",
       "      <td>Shareef Abdur-Rahim</td>\n",
       "      <td>Abdur-Rahim, Shareef</td>\n",
       "      <td>S. Abdur-Rahim</td>\n",
       "      <td>shareef-abdur-rahim</td>\n",
       "      <td>1976-12-11 0</td>\n",
       "      <td>California</td>\n",
       "      <td>USA</td>\n",
       "      <td>...</td>\n",
       "      <td>shareef_abdur-rahim</td>\n",
       "      <td>1996</td>\n",
       "      <td>2007</td>\n",
       "      <td>N</td>\n",
       "      <td>Y</td>\n",
       "      <td>Y</td>\n",
       "      <td>1996</td>\n",
       "      <td>1</td>\n",
       "      <td>3</td>\n",
       "      <td>N</td>\n",
       "    </tr>\n",
       "    <tr>\n",
       "      <th>4</th>\n",
       "      <td>76005</td>\n",
       "      <td>Tom</td>\n",
       "      <td>Abernethy</td>\n",
       "      <td>Tom Abernethy</td>\n",
       "      <td>Abernethy, Tom</td>\n",
       "      <td>T. Abernethy</td>\n",
       "      <td>tom-abernethy</td>\n",
       "      <td>1954-05-06 0</td>\n",
       "      <td>Indiana</td>\n",
       "      <td>USA</td>\n",
       "      <td>...</td>\n",
       "      <td>HISTADD_tom_aberneth</td>\n",
       "      <td>1976</td>\n",
       "      <td>1980</td>\n",
       "      <td>N</td>\n",
       "      <td>Y</td>\n",
       "      <td>Y</td>\n",
       "      <td>1976</td>\n",
       "      <td>3</td>\n",
       "      <td>43</td>\n",
       "      <td>N</td>\n",
       "    </tr>\n",
       "  </tbody>\n",
       "</table>\n",
       "<p>5 rows × 33 columns</p>\n",
       "</div>"
      ],
      "text/plain": [
       "   person_id first_name     last_name   display_first_last  \\\n",
       "0      76001       Alaa     Abdelnaby       Alaa Abdelnaby   \n",
       "1      76003     Kareem  Abdul-Jabbar  Kareem Abdul-Jabbar   \n",
       "2       1505      Tariq   Abdul-Wahad    Tariq Abdul-Wahad   \n",
       "3        949    Shareef   Abdur-Rahim  Shareef Abdur-Rahim   \n",
       "4      76005        Tom     Abernethy        Tom Abernethy   \n",
       "\n",
       "  display_last_comma_first  display_fi_last          player_slug  \\\n",
       "0          Abdelnaby, Alaa     A. Abdelnaby       alaa-abdelnaby   \n",
       "1     Abdul-Jabbar, Kareem  K. Abdul-Jabbar  kareem-abdul-jabbar   \n",
       "2       Abdul-Wahad, Tariq   T. Abdul-Wahad    tariq-abdul-wahad   \n",
       "3     Abdur-Rahim, Shareef   S. Abdur-Rahim  shareef-abdur-rahim   \n",
       "4           Abernethy, Tom     T. Abernethy        tom-abernethy   \n",
       "\n",
       "      birthdate          school country  ...            playercode from_year  \\\n",
       "0  1968-06-24 0            Duke     USA  ...  HISTADD_alaa_abdelna      1990   \n",
       "1  1947-04-16 0            UCLA     USA  ...  HISTADD_kareem_abdul      1969   \n",
       "2  1974-11-03 0  San Jose State  France  ...     tariq_abdul-wahad      1997   \n",
       "3  1976-12-11 0      California     USA  ...   shareef_abdur-rahim      1996   \n",
       "4  1954-05-06 0         Indiana     USA  ...  HISTADD_tom_aberneth      1976   \n",
       "\n",
       "   to_year  dleague_flag nba_flag games_played_flag draft_year draft_round  \\\n",
       "0     1994             N        Y                 Y       1990           1   \n",
       "1     1988             N        Y                 Y       1969           1   \n",
       "2     2003             N        Y                 Y       1997           1   \n",
       "3     2007             N        Y                 Y       1996           1   \n",
       "4     1980             N        Y                 Y       1976           3   \n",
       "\n",
       "   draft_number greatest_75_flag  \n",
       "0            25                N  \n",
       "1             1                Y  \n",
       "2            11                N  \n",
       "3             3                N  \n",
       "4            43                N  \n",
       "\n",
       "[5 rows x 33 columns]"
      ]
     },
     "execution_count": 4,
     "metadata": {},
     "output_type": "execute_result"
    }
   ],
   "source": [
    "# Consulta SQL\n",
    "query = \"SELECT * FROM common_player_info LIMIT 10;\"  # Cambiá el nombre de tabla si querés\n",
    "\n",
    "# Ejecutá la consulta y traé los datos a Pandas\n",
    "df = pd.read_sql(query, conn)\n",
    "\n",
    "# Mostrá los primeros registros\n",
    "df.head()\n"
   ]
  },
  {
   "cell_type": "code",
   "execution_count": 17,
   "id": "afdbd35b",
   "metadata": {},
   "outputs": [],
   "source": [
    "# Cerramos la conexion.\n",
    "#"
   ]
  },
  {
   "cell_type": "markdown",
   "id": "07c268f2",
   "metadata": {},
   "source": [
    "# ---------------------------------------"
   ]
  },
  {
   "cell_type": "markdown",
   "id": "e7daa33c",
   "metadata": {},
   "source": [
    "Cargar un archivo CSV a MySQL desde Python"
   ]
  },
  {
   "cell_type": "code",
   "execution_count": 12,
   "id": "f91d1732",
   "metadata": {},
   "outputs": [
    {
     "ename": "StatementError",
     "evalue": "(builtins.MemoryError) \n[SQL: INSERT INTO nombre_tabla_destino (game_id, eventnum, eventmsgtype, eventmsgactiontype, period, wctimestring, pctimestring, homedescription, neutraldescription, visitordescription, score, scoremargin, person1type, player1_id, player1_name, player1_team_id, player1_team_city, player1_team_nickname, player1_team_abbreviation, person2type, player2_id, player2_name, player2_team_id, player2_team_city, player2_team_nickname, player2_team_abbreviation, person3type, player3_id, player3_name, player3_team_id, player3_team_city, player3_team_nickname, player3_team_abbreviation, video_available_flag) VALUES (%(game_id)s, %(eventnum)s, %(eventmsgtype)s, %(eventmsgactiontype)s, %(period)s, %(wctimestring)s, %(pctimestring)s, %(homedescription)s, %(neutraldescription)s, %(visitordescription)s, %(score)s, %(scoremargin)s, %(person1type)s, %(player1_id)s, %(player1_name)s, %(player1_team_id)s, %(player1_team_city)s, %(player1_team_nickname)s, %(player1_team_abbreviation)s, %(person2type)s, %(player2_id)s, %(player2_name)s, %(player2_team_id)s, %(player2_team_city)s, %(player2_team_nickname)s, %(player2_team_abbreviation)s, %(person3type)s, %(player3_id)s, %(player3_name)s, %(player3_team_id)s, %(player3_team_city)s, %(player3_team_nickname)s, %(player3_team_abbreviation)s, %(video_available_flag)s)]\n[parameters: [{'game_id': 21000003, 'eventnum': 0, 'eventmsgtype': 12, 'eventmsgactiontype': 0, 'period': 1, 'wctimestring': '10:52 PM', 'pctimestring': '12:00', 'h ... (554 characters truncated) ... None, 'player3_team_id': None, 'player3_team_city': None, 'player3_team_nickname': None, 'player3_team_abbreviation': None, 'video_available_flag': 0}, {'game_id': 21000003, 'eventnum': 1, 'eventmsgtype': 10, 'eventmsgactiontype': 0, 'period': 1, 'wctimestring': '10:52 PM', 'pctimestring': '12:00', 'h ... (663 characters truncated) ... ': 1610612747.0, 'player3_team_city': 'Los Angeles', 'player3_team_nickname': 'Lakers', 'player3_team_abbreviation': 'LAL', 'video_available_flag': 0}, {'game_id': 21000003, 'eventnum': 2, 'eventmsgtype': 2, 'eventmsgactiontype': 52, 'period': 1, 'wctimestring': '10:53 PM', 'pctimestring': '11:47', 'h ... (580 characters truncated) ... None, 'player3_team_id': None, 'player3_team_city': None, 'player3_team_nickname': None, 'player3_team_abbreviation': None, 'video_available_flag': 0}, {'game_id': 21000003, 'eventnum': 3, 'eventmsgtype': 4, 'eventmsgactiontype': 0, 'period': 1, 'wctimestring': '10:53 PM', 'pctimestring': '11:44', 'ho ... (576 characters truncated) ... None, 'player3_team_id': None, 'player3_team_city': None, 'player3_team_nickname': None, 'player3_team_abbreviation': None, 'video_available_flag': 0}, {'game_id': 21000003, 'eventnum': 4, 'eventmsgtype': 2, 'eventmsgactiontype': 42, 'period': 1, 'wctimestring': '10:53 PM', 'pctimestring': '11:41', 'h ... (582 characters truncated) ... None, 'player3_team_id': None, 'player3_team_city': None, 'player3_team_nickname': None, 'player3_team_abbreviation': None, 'video_available_flag': 0}, {'game_id': 21000003, 'eventnum': 5, 'eventmsgtype': 4, 'eventmsgactiontype': 0, 'period': 1, 'wctimestring': '10:53 PM', 'pctimestring': '11:39', 'ho ... (543 characters truncated) ... None, 'player3_team_id': None, 'player3_team_city': None, 'player3_team_nickname': None, 'player3_team_abbreviation': None, 'video_available_flag': 0}, {'game_id': 21000003, 'eventnum': 6, 'eventmsgtype': 6, 'eventmsgactiontype': 3, 'period': 1, 'wctimestring': '10:53 PM', 'pctimestring': '11:39', 'ho ... (605 characters truncated) ... None, 'player3_team_id': None, 'player3_team_city': None, 'player3_team_nickname': None, 'player3_team_abbreviation': None, 'video_available_flag': 0}, {'game_id': 21000003, 'eventnum': 7, 'eventmsgtype': 2, 'eventmsgactiontype': 3, 'period': 1, 'wctimestring': '10:53 PM', 'pctimestring': '11:30', 'ho ... (569 characters truncated) ... None, 'player3_team_id': None, 'player3_team_city': None, 'player3_team_nickname': None, 'player3_team_abbreviation': None, 'video_available_flag': 0}, {'game_id': 21000003, 'eventnum': 8, 'eventmsgtype': 4, 'eventmsgactiontype': 0, 'period': 1, 'wctimestring': '10:53 PM', 'pctimestring': '11:28', 'ho ... (580 characters truncated) ... None, 'player3_team_id': None, 'player3_team_city': None, 'player3_team_nickname': None, 'player3_team_abbreviation': None, 'video_available_flag': 0}, {'game_id': 21000003, 'eventnum': 9, 'eventmsgtype': 1, 'eventmsgactiontype': 8, 'period': 1, 'wctimestring': '10:54 PM', 'pctimestring': '11:21', 'ho ... (625 characters truncated) ... None, 'player3_team_id': None, 'player3_team_city': None, 'player3_team_nickname': None, 'player3_team_abbreviation': None, 'video_available_flag': 0}, {'game_id': 21000003, 'eventnum': 10, 'eventmsgtype': 2, 'eventmsgactiontype': 5, 'period': 1, 'wctimestring': '10:54 PM', 'pctimestring': '11:08', 'h ... (572 characters truncated) ... None, 'player3_team_id': None, 'player3_team_city': None, 'player3_team_nickname': None, 'player3_team_abbreviation': None, 'video_available_flag': 0}, {'game_id': 21000003, 'eventnum': 11, 'eventmsgtype': 4, 'eventmsgactiontype': 0, 'period': 1, 'wctimestring': '10:54 PM', 'pctimestring': '11:07', 'h ... (579 characters truncated) ... None, 'player3_team_id': None, 'player3_team_city': None, 'player3_team_nickname': None, 'player3_team_abbreviation': None, 'video_available_flag': 0}, {'game_id': 21000003, 'eventnum': 13, 'eventmsgtype': 1, 'eventmsgactiontype': 1, 'period': 1, 'wctimestring': '10:54 PM', 'pctimestring': '10:53', 'h ... (581 characters truncated) ... None, 'player3_team_id': None, 'player3_team_city': None, 'player3_team_nickname': None, 'player3_team_abbreviation': None, 'video_available_flag': 0}, {'game_id': 21000003, 'eventnum': 14, 'eventmsgtype': 2, 'eventmsgactiontype': 1, 'period': 1, 'wctimestring': '10:54 PM', 'pctimestring': '10:33', 'h ... (627 characters truncated) ... ': 1610612747.0, 'player3_team_city': 'Los Angeles', 'player3_team_nickname': 'Lakers', 'player3_team_abbreviation': 'LAL', 'video_available_flag': 0}, {'game_id': 21000003, 'eventnum': 15, 'eventmsgtype': 4, 'eventmsgactiontype': 0, 'period': 1, 'wctimestring': '10:54 PM', 'pctimestring': '10:33', 'h ... (544 characters truncated) ... None, 'player3_team_id': None, 'player3_team_city': None, 'player3_team_nickname': None, 'player3_team_abbreviation': None, 'video_available_flag': 0}, {'game_id': 21000003, 'eventnum': 16, 'eventmsgtype': 1, 'eventmsgactiontype': 1, 'period': 1, 'wctimestring': '10:55 PM', 'pctimestring': '10:30', 'h ... (631 characters truncated) ... None, 'player3_team_id': None, 'player3_team_city': None, 'player3_team_nickname': None, 'player3_team_abbreviation': None, 'video_available_flag': 0}, {'game_id': 21000003, 'eventnum': 17, 'eventmsgtype': 1, 'eventmsgactiontype': 1, 'period': 1, 'wctimestring': '10:55 PM', 'pctimestring': '10:13', 'h ... (647 characters truncated) ... None, 'player3_team_id': None, 'player3_team_city': None, 'player3_team_nickname': None, 'player3_team_abbreviation': None, 'video_available_flag': 0}, {'game_id': 21000003, 'eventnum': 18, 'eventmsgtype': 6, 'eventmsgactiontype': 1, 'period': 1, 'wctimestring': '10:55 PM', 'pctimestring': '10:03', 'h ... (600 characters truncated) ... None, 'player3_team_id': None, 'player3_team_city': None, 'player3_team_nickname': None, 'player3_team_abbreviation': None, 'video_available_flag': 0}, {'game_id': 21000003, 'eventnum': 19, 'eventmsgtype': 1, 'eventmsgactiontype': 1, 'period': 1, 'wctimestring': '10:55 PM', 'pctimestring': '9:55', 'ho ... (623 characters truncated) ... None, 'player3_team_id': None, 'player3_team_city': None, 'player3_team_nickname': None, 'player3_team_abbreviation': None, 'video_available_flag': 0}, {'game_id': 21000003, 'eventnum': 20, 'eventmsgtype': 1, 'eventmsgactiontype': 86, 'period': 1, 'wctimestring': '10:56 PM', 'pctimestring': '9:38', 'h ... (593 characters truncated) ... None, 'player3_team_id': None, 'player3_team_city': None, 'player3_team_nickname': None, 'player3_team_abbreviation': None, 'video_available_flag': 0}, {'game_id': 21000003, 'eventnum': 22, 'eventmsgtype': 1, 'eventmsgactiontype': 1, 'period': 1, 'wctimestring': '10:56 PM', 'pctimestring': '9:27', 'ho ... (631 characters truncated) ... None, 'player3_team_id': None, 'player3_team_city': None, 'player3_team_nickname': None, 'player3_team_abbreviation': None, 'video_available_flag': 0}, {'game_id': 21000003, 'eventnum': 24, 'eventmsgtype': 2, 'eventmsgactiontype': 1, 'period': 1, 'wctimestring': '10:56 PM', 'pctimestring': '9:12', 'ho ... (578 characters truncated) ... None, 'player3_team_id': None, 'player3_team_city': None, 'player3_team_nickname': None, 'player3_team_abbreviation': None, 'video_available_flag': 0}, {'game_id': 21000003, 'eventnum': 25, 'eventmsgtype': 4, 'eventmsgactiontype': 0, 'period': 1, 'wctimestring': '10:56 PM', 'pctimestring': '9:12', 'ho ... (543 characters truncated) ... None, 'player3_team_id': None, 'player3_team_city': None, 'player3_team_nickname': None, 'player3_team_abbreviation': None, 'video_available_flag': 0}, {'game_id': 21000003, 'eventnum': 26, 'eventmsgtype': 6, 'eventmsgactiontype': 3, 'period': 1, 'wctimestring': '10:56 PM', 'pctimestring': '9:12', 'ho ... (606 characters truncated) ... None, 'player3_team_id': None, 'player3_team_city': None, 'player3_team_nickname': None, 'player3_team_abbreviation': None, 'video_available_flag': 0}, {'game_id': 21000003, 'eventnum': 27, 'eventmsgtype': 5, 'eventmsgactiontype': 1, 'period': 1, 'wctimestring': '10:57 PM', 'pctimestring': '9:07', 'ho ... (648 characters truncated) ... None, 'player3_team_id': None, 'player3_team_city': None, 'player3_team_nickname': None, 'player3_team_abbreviation': None, 'video_available_flag': 0}, {'game_id': 21000003, 'eventnum': 28, 'eventmsgtype': 2, 'eventmsgactiontype': 42, 'period': 1, 'wctimestring': '10:57 PM', 'pctimestring': '9:04', 'h ... (593 characters truncated) ... None, 'player3_team_id': None, 'player3_team_city': None, 'player3_team_nickname': None, 'player3_team_abbreviation': None, 'video_available_flag': 0}, {'game_id': 21000003, 'eventnum': 29, 'eventmsgtype': 4, 'eventmsgactiontype': 0, 'period': 1, 'wctimestring': '10:57 PM', 'pctimestring': '9:00', 'ho ... (581 characters truncated) ... None, 'player3_team_id': None, 'player3_team_city': None, 'player3_team_nickname': None, 'player3_team_abbreviation': None, 'video_available_flag': 0}, {'game_id': 21000003, 'eventnum': 30, 'eventmsgtype': 2, 'eventmsgactiontype': 1, 'period': 1, 'wctimestring': '10:57 PM', 'pctimestring': '8:55', 'ho ... (568 characters truncated) ... None, 'player3_team_id': None, 'player3_team_city': None, 'player3_team_nickname': None, 'player3_team_abbreviation': None, 'video_available_flag': 0}, {'game_id': 21000003, 'eventnum': 32, 'eventmsgtype': 4, 'eventmsgactiontype': 0, 'period': 1, 'wctimestring': '10:57 PM', 'pctimestring': '8:54', 'ho ... (572 characters truncated) ... None, 'player3_team_id': None, 'player3_team_city': None, 'player3_team_nickname': None, 'player3_team_abbreviation': None, 'video_available_flag': 0}, {'game_id': 21000003, 'eventnum': 31, 'eventmsgtype': 2, 'eventmsgactiontype': 4, 'period': 1, 'wctimestring': '10:57 PM', 'pctimestring': '8:54', 'ho ... (567 characters truncated) ... None, 'player3_team_id': None, 'player3_team_city': None, 'player3_team_nickname': None, 'player3_team_abbreviation': None, 'video_available_flag': 0}, {'game_id': 21000003, 'eventnum': 33, 'eventmsgtype': 4, 'eventmsgactiontype': 0, 'period': 1, 'wctimestring': '10:57 PM', 'pctimestring': '8:52', 'ho ... (580 characters truncated) ... None, 'player3_team_id': None, 'player3_team_city': None, 'player3_team_nickname': None, 'player3_team_abbreviation': None, 'video_available_flag': 0}, {'game_id': 21000003, 'eventnum': 34, 'eventmsgtype': 6, 'eventmsgactiontype': 26, 'period': 1, 'wctimestring': '10:57 PM', 'pctimestring': '8:46', 'h ... (621 characters truncated) ... None, 'player3_team_id': None, 'player3_team_city': None, 'player3_team_nickname': None, 'player3_team_abbreviation': None, 'video_available_flag': 0}, {'game_id': 21000003, 'eventnum': 35, 'eventmsgtype': 5, 'eventmsgactiontype': 5, 'period': 1, 'wctimestring': '10:57 PM', 'pctimestring': '8:46', 'ho ... (578 characters truncated) ... None, 'player3_team_id': None, 'player3_team_city': None, 'player3_team_nickname': None, 'player3_team_abbreviation': None, 'video_available_flag': 0}, {'game_id': 21000003, 'eventnum': 36, 'eventmsgtype': 8, 'eventmsgactiontype': 0, 'period': 1, 'wctimestring': '10:57 PM', 'pctimestring': '8:46', 'ho ... (615 characters truncated) ... None, 'player3_team_id': None, 'player3_team_city': None, 'player3_team_nickname': None, 'player3_team_abbreviation': None, 'video_available_flag': 0}, {'game_id': 21000003, 'eventnum': 38, 'eventmsgtype': 2, 'eventmsgactiontype': 1, 'period': 1, 'wctimestring': '10:58 PM', 'pctimestring': '8:28', 'ho ... (582 characters truncated) ... None, 'player3_team_id': None, 'player3_team_city': None, 'player3_team_nickname': None, 'player3_team_abbreviation': None, 'video_available_flag': 0}, {'game_id': 21000003, 'eventnum': 39, 'eventmsgtype': 4, 'eventmsgactiontype': 0, 'period': 1, 'wctimestring': '10:58 PM', 'pctimestring': '8:27', 'ho ... (592 characters truncated) ... None, 'player3_team_id': None, 'player3_team_city': None, 'player3_team_nickname': None, 'player3_team_abbreviation': None, 'video_available_flag': 0}, {'game_id': 21000003, 'eventnum': 40, 'eventmsgtype': 2, 'eventmsgactiontype': 1, 'period': 1, 'wctimestring': '10:58 PM', 'pctimestring': '8:16', 'ho ... (593 characters truncated) ... None, 'player3_team_id': None, 'player3_team_city': None, 'player3_team_nickname': None, 'player3_team_abbreviation': None, 'video_available_flag': 0}, {'game_id': 21000003, 'eventnum': 41, 'eventmsgtype': 4, 'eventmsgactiontype': 0, 'period': 1, 'wctimestring': '10:58 PM', 'pctimestring': '8:14', 'ho ... (581 characters truncated) ... None, 'player3_team_id': None, 'player3_team_city': None, 'player3_team_nickname': None, 'player3_team_abbreviation': None, 'video_available_flag': 0}, {'game_id': 21000003, 'eventnum': 44, 'eventmsgtype': 6, 'eventmsgactiontype': 2, 'period': 1, 'wctimestring': '10:59 PM', 'pctimestring': '7:53', 'ho ... (617 characters truncated) ... None, 'player3_team_id': None, 'player3_team_city': None, 'player3_team_nickname': None, 'player3_team_abbreviation': None, 'video_available_flag': 0}, {'game_id': 21000003, 'eventnum': 45, 'eventmsgtype': 3, 'eventmsgactiontype': 11, 'period': 1, 'wctimestring': '10:59 PM', 'pctimestring': '7:53', 'h ... (588 characters truncated) ... None, 'player3_team_id': None, 'player3_team_city': None, 'player3_team_nickname': None, 'player3_team_abbreviation': None, 'video_available_flag': 0}, {'game_id': 21000003, 'eventnum': 47, 'eventmsgtype': 3, 'eventmsgactiontype': 12, 'period': 1, 'wctimestring': '10:59 PM', 'pctimestring': '7:53', 'h ... (590 characters truncated) ... None, 'player3_team_id': None, 'player3_team_city': None, 'player3_team_nickname': None, 'player3_team_abbreviation': None, 'video_available_flag': 0}, {'game_id': 21000003, 'eventnum': 49, 'eventmsgtype': 2, 'eventmsgactiontype': 1, 'period': 1, 'wctimestring': '11:00 PM', 'pctimestring': '7:41', 'ho ... (577 characters truncated) ... None, 'player3_team_id': None, 'player3_team_city': None, 'player3_team_nickname': None, 'player3_team_abbreviation': None, 'video_available_flag': 0}, {'game_id': 21000003, 'eventnum': 50, 'eventmsgtype': 4, 'eventmsgactiontype': 0, 'period': 1, 'wctimestring': '11:00 PM', 'pctimestring': '7:40', 'ho ... (572 characters truncated) ... None, 'player3_team_id': None, 'player3_team_city': None, 'player3_team_nickname': None, 'player3_team_abbreviation': None, 'video_available_flag': 0}, {'game_id': 21000003, 'eventnum': 51, 'eventmsgtype': 2, 'eventmsgactiontype': 58, 'period': 1, 'wctimestring': '11:00 PM', 'pctimestring': '7:31', 'h ... (584 characters truncated) ... None, 'player3_team_id': None, 'player3_team_city': None, 'player3_team_nickname': None, 'player3_team_abbreviation': None, 'video_available_flag': 0}, {'game_id': 21000003, 'eventnum': 52, 'eventmsgtype': 4, 'eventmsgactiontype': 0, 'period': 1, 'wctimestring': '11:00 PM', 'pctimestring': '7:30', 'ho ... (542 characters truncated) ... None, 'player3_team_id': None, 'player3_team_city': None, 'player3_team_nickname': None, 'player3_team_abbreviation': None, 'video_available_flag': 0}, {'game_id': 21000003, 'eventnum': 53, 'eventmsgtype': 6, 'eventmsgactiontype': 3, 'period': 1, 'wctimestring': '11:00 PM', 'pctimestring': '7:30', 'ho ... (599 characters truncated) ... None, 'player3_team_id': None, 'player3_team_city': None, 'player3_team_nickname': None, 'player3_team_abbreviation': None, 'video_available_flag': 0}, {'game_id': 21000003, 'eventnum': 54, 'eventmsgtype': 2, 'eventmsgactiontype': 1, 'period': 1, 'wctimestring': '11:00 PM', 'pctimestring': '7:14', 'ho ... (574 characters truncated) ... None, 'player3_team_id': None, 'player3_team_city': None, 'player3_team_nickname': None, 'player3_team_abbreviation': None, 'video_available_flag': 0}, {'game_id': 21000003, 'eventnum': 55, 'eventmsgtype': 4, 'eventmsgactiontype': 0, 'period': 1, 'wctimestring': '11:00 PM', 'pctimestring': '7:13', 'ho ... (576 characters truncated) ... None, 'player3_team_id': None, 'player3_team_city': None, 'player3_team_nickname': None, 'player3_team_abbreviation': None, 'video_available_flag': 0}, {'game_id': 21000003, 'eventnum': 56, 'eventmsgtype': 1, 'eventmsgactiontype': 1, 'period': 1, 'wctimestring': '11:01 PM', 'pctimestring': '7:07', 'ho ... (631 characters truncated) ... None, 'player3_team_id': None, 'player3_team_city': None, 'player3_team_nickname': None, 'player3_team_abbreviation': None, 'video_available_flag': 0}, {'game_id': 21000003, 'eventnum': 57, 'eventmsgtype': 2, 'eventmsgactiontype': 1, 'period': 1, 'wctimestring': '11:01 PM', 'pctimestring': '6:50', 'ho ... (586 characters truncated) ... None, 'player3_team_id': None, 'player3_team_city': None, 'player3_team_nickname': None, 'player3_team_abbreviation': None, 'video_available_flag': 0} ... 4564834 parameters truncated ... {'game_id': 31900001, 'eventnum': 775, 'eventmsgtype': 1, 'eventmsgactiontype': 86, 'period': 4, 'wctimestring': '11:10 PM', 'pctimestring': '0:00', ' ... (598 characters truncated) ... None, 'player3_team_id': None, 'player3_team_city': None, 'player3_team_nickname': None, 'player3_team_abbreviation': None, 'video_available_flag': 1}, {'game_id': 31900001, 'eventnum': 776, 'eventmsgtype': 2, 'eventmsgactiontype': 80, 'period': 4, 'wctimestring': '11:11 PM', 'pctimestring': '0:00', ' ... (587 characters truncated) ... None, 'player3_team_id': None, 'player3_team_city': None, 'player3_team_nickname': None, 'player3_team_abbreviation': None, 'video_available_flag': 1}, {'game_id': 31900001, 'eventnum': 777, 'eventmsgtype': 4, 'eventmsgactiontype': 0, 'period': 4, 'wctimestring': '11:11 PM', 'pctimestring': '0:00', 'h ... (581 characters truncated) ... None, 'player3_team_id': None, 'player3_team_city': None, 'player3_team_nickname': None, 'player3_team_abbreviation': None, 'video_available_flag': 1}, {'game_id': 31900001, 'eventnum': 786, 'eventmsgtype': 2, 'eventmsgactiontype': 6, 'period': 4, 'wctimestring': '11:11 PM', 'pctimestring': '0:00', 'h ... (626 characters truncated) ... team_id': 1610616834.0, 'player3_team_city': 'Team', 'player3_team_nickname': 'LeBron', 'player3_team_abbreviation': 'LBN', 'video_available_flag': 0}, {'game_id': 31900001, 'eventnum': 788, 'eventmsgtype': 4, 'eventmsgactiontype': 0, 'period': 4, 'wctimestring': '11:11 PM', 'pctimestring': '0:00', 'h ... (543 characters truncated) ... None, 'player3_team_id': None, 'player3_team_city': None, 'player3_team_nickname': None, 'player3_team_abbreviation': None, 'video_available_flag': 0}, {'game_id': 31900001, 'eventnum': 809, 'eventmsgtype': 9, 'eventmsgactiontype': 7, 'period': 4, 'wctimestring': '11:11 PM', 'pctimestring': '0:00', 'h ... (576 characters truncated) ... None, 'player3_team_id': None, 'player3_team_city': None, 'player3_team_nickname': None, 'player3_team_abbreviation': None, 'video_available_flag': 0}, {'game_id': 31900001, 'eventnum': 781, 'eventmsgtype': 18, 'eventmsgactiontype': 5, 'period': 4, 'wctimestring': '11:12 PM', 'pctimestring': '0:00', ' ... (570 characters truncated) ... None, 'player3_team_id': None, 'player3_team_city': None, 'player3_team_nickname': None, 'player3_team_abbreviation': None, 'video_available_flag': 1}, {'game_id': 31900001, 'eventnum': 782, 'eventmsgtype': 2, 'eventmsgactiontype': 1, 'period': 4, 'wctimestring': '11:14 PM', 'pctimestring': '0:00', 'h ... (576 characters truncated) ... None, 'player3_team_id': None, 'player3_team_city': None, 'player3_team_nickname': None, 'player3_team_abbreviation': None, 'video_available_flag': 1}, {'game_id': 31900001, 'eventnum': 783, 'eventmsgtype': 4, 'eventmsgactiontype': 0, 'period': 4, 'wctimestring': '11:14 PM', 'pctimestring': '0:00', 'h ... (578 characters truncated) ... None, 'player3_team_id': None, 'player3_team_city': None, 'player3_team_nickname': None, 'player3_team_abbreviation': None, 'video_available_flag': 1}, {'game_id': 31900001, 'eventnum': 784, 'eventmsgtype': 5, 'eventmsgactiontype': 1, 'period': 4, 'wctimestring': '11:14 PM', 'pctimestring': '0:00', 'h ... (633 characters truncated) ... None, 'player3_team_id': None, 'player3_team_city': None, 'player3_team_nickname': None, 'player3_team_abbreviation': None, 'video_available_flag': 1}, {'game_id': 31900001, 'eventnum': 789, 'eventmsgtype': 6, 'eventmsgactiontype': 1, 'period': 4, 'wctimestring': '11:15 PM', 'pctimestring': '0:00', 'h ... (631 characters truncated) ... None, 'player3_team_id': None, 'player3_team_city': None, 'player3_team_nickname': None, 'player3_team_abbreviation': None, 'video_available_flag': 1}, {'game_id': 31900001, 'eventnum': 791, 'eventmsgtype': 3, 'eventmsgactiontype': 11, 'period': 4, 'wctimestring': '11:15 PM', 'pctimestring': '0:00', ' ... (591 characters truncated) ... None, 'player3_team_id': None, 'player3_team_city': None, 'player3_team_nickname': None, 'player3_team_abbreviation': None, 'video_available_flag': 1}, {'game_id': 31900001, 'eventnum': 792, 'eventmsgtype': 10, 'eventmsgactiontype': 1, 'period': 4, 'wctimestring': '11:15 PM', 'pctimestring': '0:00', ' ... (606 characters truncated) ... None, 'player3_team_id': None, 'player3_team_city': None, 'player3_team_nickname': None, 'player3_team_abbreviation': None, 'video_available_flag': 0}, {'game_id': 31900001, 'eventnum': 795, 'eventmsgtype': 3, 'eventmsgactiontype': 12, 'period': 4, 'wctimestring': '11:15 PM', 'pctimestring': '0:00', ' ... (591 characters truncated) ... None, 'player3_team_id': None, 'player3_team_city': None, 'player3_team_nickname': None, 'player3_team_abbreviation': None, 'video_available_flag': 1}, {'game_id': 31900001, 'eventnum': 796, 'eventmsgtype': 6, 'eventmsgactiontype': 2, 'period': 4, 'wctimestring': '11:16 PM', 'pctimestring': '0:00', 'h ... (614 characters truncated) ... None, 'player3_team_id': None, 'player3_team_city': None, 'player3_team_nickname': None, 'player3_team_abbreviation': None, 'video_available_flag': 1}, {'game_id': 31900001, 'eventnum': 798, 'eventmsgtype': 3, 'eventmsgactiontype': 11, 'period': 4, 'wctimestring': '11:16 PM', 'pctimestring': '0:00', ' ... (594 characters truncated) ... None, 'player3_team_id': None, 'player3_team_city': None, 'player3_team_nickname': None, 'player3_team_abbreviation': None, 'video_available_flag': 1}, {'game_id': 31900001, 'eventnum': 801, 'eventmsgtype': 3, 'eventmsgactiontype': 12, 'period': 4, 'wctimestring': '11:16 PM', 'pctimestring': '0:00', ' ... (583 characters truncated) ... None, 'player3_team_id': None, 'player3_team_city': None, 'player3_team_nickname': None, 'player3_team_abbreviation': None, 'video_available_flag': 1}, {'game_id': 31900001, 'eventnum': 802, 'eventmsgtype': 4, 'eventmsgactiontype': 0, 'period': 4, 'wctimestring': '11:16 PM', 'pctimestring': '0:00', 'h ... (574 characters truncated) ... None, 'player3_team_id': None, 'player3_team_city': None, 'player3_team_nickname': None, 'player3_team_abbreviation': None, 'video_available_flag': 1}, {'game_id': 31900001, 'eventnum': 803, 'eventmsgtype': 2, 'eventmsgactiontype': 1, 'period': 4, 'wctimestring': '11:17 PM', 'pctimestring': '0:00', 'h ... (581 characters truncated) ... None, 'player3_team_id': None, 'player3_team_city': None, 'player3_team_nickname': None, 'player3_team_abbreviation': None, 'video_available_flag': 1}, {'game_id': 31900001, 'eventnum': 804, 'eventmsgtype': 4, 'eventmsgactiontype': 0, 'period': 4, 'wctimestring': '11:17 PM', 'pctimestring': '0:00', 'h ... (578 characters truncated) ... None, 'player3_team_id': None, 'player3_team_city': None, 'player3_team_nickname': None, 'player3_team_abbreviation': None, 'video_available_flag': 1}, {'game_id': 31900001, 'eventnum': 805, 'eventmsgtype': 5, 'eventmsgactiontype': 40, 'period': 4, 'wctimestring': '11:17 PM', 'pctimestring': '0:00', ' ... (600 characters truncated) ... None, 'player3_team_id': None, 'player3_team_city': None, 'player3_team_nickname': None, 'player3_team_abbreviation': None, 'video_available_flag': 1}, {'game_id': 31900001, 'eventnum': 806, 'eventmsgtype': 2, 'eventmsgactiontype': 6, 'period': 4, 'wctimestring': '11:18 PM', 'pctimestring': '0:00', 'h ... (640 characters truncated) ... eam_id': 1610616833.0, 'player3_team_city': 'Team', 'player3_team_nickname': 'Giannis', 'player3_team_abbreviation': 'GNS', 'video_available_flag': 1}, {'game_id': 31900001, 'eventnum': 810, 'eventmsgtype': 4, 'eventmsgactiontype': 0, 'period': 4, 'wctimestring': '11:18 PM', 'pctimestring': '0:00', 'h ... (543 characters truncated) ... None, 'player3_team_id': None, 'player3_team_city': None, 'player3_team_nickname': None, 'player3_team_abbreviation': None, 'video_available_flag': 0}, {'game_id': 31900001, 'eventnum': 808, 'eventmsgtype': 18, 'eventmsgactiontype': 1, 'period': 4, 'wctimestring': '11:18 PM', 'pctimestring': '0:00', ' ... (569 characters truncated) ... None, 'player3_team_id': None, 'player3_team_city': None, 'player3_team_nickname': None, 'player3_team_abbreviation': None, 'video_available_flag': 0}, {'game_id': 31900001, 'eventnum': 812, 'eventmsgtype': 10, 'eventmsgactiontype': 0, 'period': 4, 'wctimestring': '11:21 PM', 'pctimestring': '0:00', ' ... (670 characters truncated) ... team_id': 1610616834.0, 'player3_team_city': 'Team', 'player3_team_nickname': 'LeBron', 'player3_team_abbreviation': 'LBN', 'video_available_flag': 1}, {'game_id': 31900001, 'eventnum': 815, 'eventmsgtype': 2, 'eventmsgactiontype': 79, 'period': 4, 'wctimestring': '11:21 PM', 'pctimestring': '0:00', ' ... (584 characters truncated) ... None, 'player3_team_id': None, 'player3_team_city': None, 'player3_team_nickname': None, 'player3_team_abbreviation': None, 'video_available_flag': 1}, {'game_id': 31900001, 'eventnum': 816, 'eventmsgtype': 4, 'eventmsgactiontype': 0, 'period': 4, 'wctimestring': '11:21 PM', 'pctimestring': '0:00', 'h ... (578 characters truncated) ... None, 'player3_team_id': None, 'player3_team_city': None, 'player3_team_nickname': None, 'player3_team_abbreviation': None, 'video_available_flag': 1}, {'game_id': 31900001, 'eventnum': 817, 'eventmsgtype': 2, 'eventmsgactiontype': 63, 'period': 4, 'wctimestring': '11:21 PM', 'pctimestring': '0:00', ' ... (579 characters truncated) ... None, 'player3_team_id': None, 'player3_team_city': None, 'player3_team_nickname': None, 'player3_team_abbreviation': None, 'video_available_flag': 1}, {'game_id': 31900001, 'eventnum': 818, 'eventmsgtype': 4, 'eventmsgactiontype': 0, 'period': 4, 'wctimestring': '11:21 PM', 'pctimestring': '0:00', 'h ... (578 characters truncated) ... None, 'player3_team_id': None, 'player3_team_city': None, 'player3_team_nickname': None, 'player3_team_abbreviation': None, 'video_available_flag': 1}, {'game_id': 31900001, 'eventnum': 819, 'eventmsgtype': 6, 'eventmsgactiontype': 4, 'period': 4, 'wctimestring': '11:21 PM', 'pctimestring': '0:00', 'h ... (609 characters truncated) ... None, 'player3_team_id': None, 'player3_team_city': None, 'player3_team_nickname': None, 'player3_team_abbreviation': None, 'video_available_flag': 1}, {'game_id': 31900001, 'eventnum': 821, 'eventmsgtype': 5, 'eventmsgactiontype': 37, 'period': 4, 'wctimestring': '11:21 PM', 'pctimestring': '0:00', ' ... (590 characters truncated) ... None, 'player3_team_id': None, 'player3_team_city': None, 'player3_team_nickname': None, 'player3_team_abbreviation': None, 'video_available_flag': 1}, {'game_id': 31900001, 'eventnum': 822, 'eventmsgtype': 9, 'eventmsgactiontype': 1, 'period': 4, 'wctimestring': '11:22 PM', 'pctimestring': '0:00', 'h ... (570 characters truncated) ... None, 'player3_team_id': None, 'player3_team_city': None, 'player3_team_nickname': None, 'player3_team_abbreviation': None, 'video_available_flag': 0}, {'game_id': 31900001, 'eventnum': 823, 'eventmsgtype': 6, 'eventmsgactiontype': 26, 'period': 4, 'wctimestring': '11:24 PM', 'pctimestring': '0:00', ' ... (629 characters truncated) ... None, 'player3_team_id': None, 'player3_team_city': None, 'player3_team_nickname': None, 'player3_team_abbreviation': None, 'video_available_flag': 0}, {'game_id': 31900001, 'eventnum': 825, 'eventmsgtype': 5, 'eventmsgactiontype': 37, 'period': 4, 'wctimestring': '11:24 PM', 'pctimestring': '0:00', ' ... (588 characters truncated) ... None, 'player3_team_id': None, 'player3_team_city': None, 'player3_team_nickname': None, 'player3_team_abbreviation': None, 'video_available_flag': 0}, {'game_id': 31900001, 'eventnum': 826, 'eventmsgtype': 1, 'eventmsgactiontype': 9, 'period': 4, 'wctimestring': '11:24 PM', 'pctimestring': '0:00', 'h ... (585 characters truncated) ... None, 'player3_team_id': None, 'player3_team_city': None, 'player3_team_nickname': None, 'player3_team_abbreviation': None, 'video_available_flag': 1}, {'game_id': 31900001, 'eventnum': 827, 'eventmsgtype': 2, 'eventmsgactiontype': 6, 'period': 4, 'wctimestring': '11:24 PM', 'pctimestring': '0:00', 'h ... (629 characters truncated) ... team_id': 1610616834.0, 'player3_team_city': 'Team', 'player3_team_nickname': 'LeBron', 'player3_team_abbreviation': 'LBN', 'video_available_flag': 1}, {'game_id': 31900001, 'eventnum': 829, 'eventmsgtype': 4, 'eventmsgactiontype': 0, 'period': 4, 'wctimestring': '11:24 PM', 'pctimestring': '0:00', 'h ... (543 characters truncated) ... None, 'player3_team_id': None, 'player3_team_city': None, 'player3_team_nickname': None, 'player3_team_abbreviation': None, 'video_available_flag': 0}, {'game_id': 31900001, 'eventnum': 831, 'eventmsgtype': 2, 'eventmsgactiontype': 79, 'period': 4, 'wctimestring': '11:25 PM', 'pctimestring': '0:00', ' ... (583 characters truncated) ... None, 'player3_team_id': None, 'player3_team_city': None, 'player3_team_nickname': None, 'player3_team_abbreviation': None, 'video_available_flag': 1}, {'game_id': 31900001, 'eventnum': 832, 'eventmsgtype': 4, 'eventmsgactiontype': 0, 'period': 4, 'wctimestring': '11:25 PM', 'pctimestring': '0:00', 'h ... (576 characters truncated) ... None, 'player3_team_id': None, 'player3_team_city': None, 'player3_team_nickname': None, 'player3_team_abbreviation': None, 'video_available_flag': 1}, {'game_id': 31900001, 'eventnum': 833, 'eventmsgtype': 6, 'eventmsgactiontype': 1, 'period': 4, 'wctimestring': '11:25 PM', 'pctimestring': '0:00', 'h ... (608 characters truncated) ... None, 'player3_team_id': None, 'player3_team_city': None, 'player3_team_nickname': None, 'player3_team_abbreviation': None, 'video_available_flag': 1}, {'game_id': 31900001, 'eventnum': 835, 'eventmsgtype': 3, 'eventmsgactiontype': 11, 'period': 4, 'wctimestring': '11:26 PM', 'pctimestring': '0:00', ' ... (591 characters truncated) ... None, 'player3_team_id': None, 'player3_team_city': None, 'player3_team_nickname': None, 'player3_team_abbreviation': None, 'video_available_flag': 1}, {'game_id': 31900001, 'eventnum': 836, 'eventmsgtype': 3, 'eventmsgactiontype': 12, 'period': 4, 'wctimestring': '11:26 PM', 'pctimestring': '0:00', ' ... (591 characters truncated) ... None, 'player3_team_id': None, 'player3_team_city': None, 'player3_team_nickname': None, 'player3_team_abbreviation': None, 'video_available_flag': 1}, {'game_id': 31900001, 'eventnum': 837, 'eventmsgtype': 9, 'eventmsgactiontype': 1, 'period': 4, 'wctimestring': '11:26 PM', 'pctimestring': '0:00', 'h ... (568 characters truncated) ... None, 'player3_team_id': None, 'player3_team_city': None, 'player3_team_nickname': None, 'player3_team_abbreviation': None, 'video_available_flag': 0}, {'game_id': 31900001, 'eventnum': 838, 'eventmsgtype': 6, 'eventmsgactiontype': 1, 'period': 4, 'wctimestring': '11:28 PM', 'pctimestring': '0:00', 'h ... (610 characters truncated) ... None, 'player3_team_id': None, 'player3_team_city': None, 'player3_team_nickname': None, 'player3_team_abbreviation': None, 'video_available_flag': 1}, {'game_id': 31900001, 'eventnum': 840, 'eventmsgtype': 9, 'eventmsgactiontype': 1, 'period': 4, 'wctimestring': '11:29 PM', 'pctimestring': '0:00', 'h ... (570 characters truncated) ... None, 'player3_team_id': None, 'player3_team_city': None, 'player3_team_nickname': None, 'player3_team_abbreviation': None, 'video_available_flag': 0}, {'game_id': 31900001, 'eventnum': 841, 'eventmsgtype': 18, 'eventmsgactiontype': 4, 'period': 4, 'wctimestring': '11:29 PM', 'pctimestring': '0:00', ' ... (569 characters truncated) ... None, 'player3_team_id': None, 'player3_team_city': None, 'player3_team_nickname': None, 'player3_team_abbreviation': None, 'video_available_flag': 1}, {'game_id': 31900001, 'eventnum': 842, 'eventmsgtype': 3, 'eventmsgactiontype': 11, 'period': 4, 'wctimestring': '11:31 PM', 'pctimestring': '0:00', ' ... (580 characters truncated) ... None, 'player3_team_id': None, 'player3_team_city': None, 'player3_team_nickname': None, 'player3_team_abbreviation': None, 'video_available_flag': 1}, {'game_id': 31900001, 'eventnum': 843, 'eventmsgtype': 4, 'eventmsgactiontype': 1, 'period': 4, 'wctimestring': '11:31 PM', 'pctimestring': '0:00', 'h ... (543 characters truncated) ... None, 'player3_team_id': None, 'player3_team_city': None, 'player3_team_nickname': None, 'player3_team_abbreviation': None, 'video_available_flag': 0}, {'game_id': 31900001, 'eventnum': 844, 'eventmsgtype': 3, 'eventmsgactiontype': 12, 'period': 4, 'wctimestring': '11:31 PM', 'pctimestring': '0:00', ' ... (591 characters truncated) ... None, 'player3_team_id': None, 'player3_team_city': None, 'player3_team_nickname': None, 'player3_team_abbreviation': None, 'video_available_flag': 1}, {'game_id': 31900001, 'eventnum': 845, 'eventmsgtype': 13, 'eventmsgactiontype': 0, 'period': 4, 'wctimestring': '11:35 PM', 'pctimestring': '0:00', ' ... (560 characters truncated) ... None, 'player3_team_id': None, 'player3_team_city': None, 'player3_team_nickname': None, 'player3_team_abbreviation': None, 'video_available_flag': 1}]]",
     "output_type": "error",
     "traceback": [
      "\u001b[31m---------------------------------------------------------------------------\u001b[39m",
      "\u001b[31mMemoryError\u001b[39m                               Traceback (most recent call last)",
      "\u001b[36mFile \u001b[39m\u001b[32mc:\\Users\\Fernando\\AppData\\Local\\Programs\\Python\\Python313\\Lib\\site-packages\\sqlalchemy\\engine\\base.py:1811\u001b[39m, in \u001b[36mConnection._execute_context\u001b[39m\u001b[34m(self, dialect, constructor, statement, parameters, execution_options, *args, **kw)\u001b[39m\n\u001b[32m   1809\u001b[39m         conn = \u001b[38;5;28mself\u001b[39m._revalidate_connection()\n\u001b[32m-> \u001b[39m\u001b[32m1811\u001b[39m     context = \u001b[43mconstructor\u001b[49m\u001b[43m(\u001b[49m\n\u001b[32m   1812\u001b[39m \u001b[43m        \u001b[49m\u001b[43mdialect\u001b[49m\u001b[43m,\u001b[49m\u001b[43m \u001b[49m\u001b[38;5;28;43mself\u001b[39;49m\u001b[43m,\u001b[49m\u001b[43m \u001b[49m\u001b[43mconn\u001b[49m\u001b[43m,\u001b[49m\u001b[43m \u001b[49m\u001b[43mexecution_options\u001b[49m\u001b[43m,\u001b[49m\u001b[43m \u001b[49m\u001b[43m*\u001b[49m\u001b[43margs\u001b[49m\u001b[43m,\u001b[49m\u001b[43m \u001b[49m\u001b[43m*\u001b[49m\u001b[43m*\u001b[49m\u001b[43mkw\u001b[49m\n\u001b[32m   1813\u001b[39m \u001b[43m    \u001b[49m\u001b[43m)\u001b[49m\n\u001b[32m   1814\u001b[39m \u001b[38;5;28;01mexcept\u001b[39;00m (exc.PendingRollbackError, exc.ResourceClosedError):\n",
      "\u001b[36mFile \u001b[39m\u001b[32mc:\\Users\\Fernando\\AppData\\Local\\Programs\\Python\\Python313\\Lib\\site-packages\\sqlalchemy\\engine\\default.py:1406\u001b[39m, in \u001b[36mDefaultExecutionContext._init_compiled\u001b[39m\u001b[34m(cls, dialect, connection, dbapi_connection, execution_options, compiled, parameters, invoked_statement, extracted_parameters, cache_hit)\u001b[39m\n\u001b[32m   1404\u001b[39m \u001b[38;5;28;01melse\u001b[39;00m:\n\u001b[32m   1405\u001b[39m     \u001b[38;5;28mself\u001b[39m.compiled_parameters = [\n\u001b[32m-> \u001b[39m\u001b[32m1406\u001b[39m         compiled.construct_params(\n\u001b[32m   1407\u001b[39m             m,\n\u001b[32m   1408\u001b[39m             escape_names=\u001b[38;5;28;01mFalse\u001b[39;00m,\n\u001b[32m   1409\u001b[39m             _group_number=grp,\n\u001b[32m   1410\u001b[39m             extracted_parameters=extracted_parameters,\n\u001b[32m   1411\u001b[39m         )\n\u001b[32m   1412\u001b[39m         \u001b[38;5;28;01mfor\u001b[39;00m grp, m \u001b[38;5;129;01min\u001b[39;00m \u001b[38;5;28menumerate\u001b[39m(parameters)\n\u001b[32m   1413\u001b[39m     ]\n\u001b[32m   1415\u001b[39m     \u001b[38;5;28;01mif\u001b[39;00m \u001b[38;5;28mlen\u001b[39m(parameters) > \u001b[32m1\u001b[39m:\n",
      "\u001b[31mMemoryError\u001b[39m: ",
      "\nThe above exception was the direct cause of the following exception:\n",
      "\u001b[31mStatementError\u001b[39m                            Traceback (most recent call last)",
      "\u001b[36mCell\u001b[39m\u001b[36m \u001b[39m\u001b[32mIn[12]\u001b[39m\u001b[32m, line 16\u001b[39m\n\u001b[32m     13\u001b[39m \u001b[38;5;66;03m#Crecion de motor de conexión.\u001b[39;00m\n\u001b[32m     14\u001b[39m engine = create_engine(\u001b[33mf\u001b[39m\u001b[33m'\u001b[39m\u001b[33mmysql+mysqlconnector://\u001b[39m\u001b[38;5;132;01m{\u001b[39;00musuario\u001b[38;5;132;01m}\u001b[39;00m\u001b[33m:\u001b[39m\u001b[38;5;132;01m{\u001b[39;00mpassword\u001b[38;5;132;01m}\u001b[39;00m\u001b[33m@\u001b[39m\u001b[38;5;132;01m{\u001b[39;00mhost\u001b[38;5;132;01m}\u001b[39;00m\u001b[33m:\u001b[39m\u001b[38;5;132;01m{\u001b[39;00mpuerto\u001b[38;5;132;01m}\u001b[39;00m\u001b[33m/\u001b[39m\u001b[38;5;132;01m{\u001b[39;00mdb\u001b[38;5;132;01m}\u001b[39;00m\u001b[33m'\u001b[39m)\n\u001b[32m---> \u001b[39m\u001b[32m16\u001b[39m \u001b[43mdf\u001b[49m\u001b[43m.\u001b[49m\u001b[43mto_sql\u001b[49m\u001b[43m(\u001b[49m\u001b[33;43m'\u001b[39;49m\u001b[33;43mnombre_tabla_destino\u001b[39;49m\u001b[33;43m'\u001b[39;49m\u001b[43m,\u001b[49m\u001b[43m \u001b[49m\u001b[43mcon\u001b[49m\u001b[43m=\u001b[49m\u001b[43mengine\u001b[49m\u001b[43m,\u001b[49m\u001b[43m \u001b[49m\u001b[43mif_exists\u001b[49m\u001b[43m=\u001b[49m\u001b[33;43m'\u001b[39;49m\u001b[33;43mappend\u001b[39;49m\u001b[33;43m'\u001b[39;49m\u001b[43m,\u001b[49m\u001b[43m \u001b[49m\u001b[43mindex\u001b[49m\u001b[43m=\u001b[49m\u001b[38;5;28;43;01mFalse\u001b[39;49;00m\u001b[43m)\u001b[49m\n",
      "\u001b[36mFile \u001b[39m\u001b[32mc:\\Users\\Fernando\\AppData\\Local\\Programs\\Python\\Python313\\Lib\\site-packages\\pandas\\util\\_decorators.py:333\u001b[39m, in \u001b[36mdeprecate_nonkeyword_arguments.<locals>.decorate.<locals>.wrapper\u001b[39m\u001b[34m(*args, **kwargs)\u001b[39m\n\u001b[32m    327\u001b[39m \u001b[38;5;28;01mif\u001b[39;00m \u001b[38;5;28mlen\u001b[39m(args) > num_allow_args:\n\u001b[32m    328\u001b[39m     warnings.warn(\n\u001b[32m    329\u001b[39m         msg.format(arguments=_format_argument_list(allow_args)),\n\u001b[32m    330\u001b[39m         \u001b[38;5;167;01mFutureWarning\u001b[39;00m,\n\u001b[32m    331\u001b[39m         stacklevel=find_stack_level(),\n\u001b[32m    332\u001b[39m     )\n\u001b[32m--> \u001b[39m\u001b[32m333\u001b[39m \u001b[38;5;28;01mreturn\u001b[39;00m \u001b[43mfunc\u001b[49m\u001b[43m(\u001b[49m\u001b[43m*\u001b[49m\u001b[43margs\u001b[49m\u001b[43m,\u001b[49m\u001b[43m \u001b[49m\u001b[43m*\u001b[49m\u001b[43m*\u001b[49m\u001b[43mkwargs\u001b[49m\u001b[43m)\u001b[49m\n",
      "\u001b[36mFile \u001b[39m\u001b[32mc:\\Users\\Fernando\\AppData\\Local\\Programs\\Python\\Python313\\Lib\\site-packages\\pandas\\core\\generic.py:3106\u001b[39m, in \u001b[36mNDFrame.to_sql\u001b[39m\u001b[34m(self, name, con, schema, if_exists, index, index_label, chunksize, dtype, method)\u001b[39m\n\u001b[32m   2908\u001b[39m \u001b[38;5;250m\u001b[39m\u001b[33;03m\"\"\"\u001b[39;00m\n\u001b[32m   2909\u001b[39m \u001b[33;03mWrite records stored in a DataFrame to a SQL database.\u001b[39;00m\n\u001b[32m   2910\u001b[39m \n\u001b[32m   (...)\u001b[39m\u001b[32m   3102\u001b[39m \u001b[33;03m[(1,), (None,), (2,)]\u001b[39;00m\n\u001b[32m   3103\u001b[39m \u001b[33;03m\"\"\"\u001b[39;00m  \u001b[38;5;66;03m# noqa: E501\u001b[39;00m\n\u001b[32m   3104\u001b[39m \u001b[38;5;28;01mfrom\u001b[39;00m\u001b[38;5;250m \u001b[39m\u001b[34;01mpandas\u001b[39;00m\u001b[34;01m.\u001b[39;00m\u001b[34;01mio\u001b[39;00m\u001b[38;5;250m \u001b[39m\u001b[38;5;28;01mimport\u001b[39;00m sql\n\u001b[32m-> \u001b[39m\u001b[32m3106\u001b[39m \u001b[38;5;28;01mreturn\u001b[39;00m \u001b[43msql\u001b[49m\u001b[43m.\u001b[49m\u001b[43mto_sql\u001b[49m\u001b[43m(\u001b[49m\n\u001b[32m   3107\u001b[39m \u001b[43m    \u001b[49m\u001b[38;5;28;43mself\u001b[39;49m\u001b[43m,\u001b[49m\n\u001b[32m   3108\u001b[39m \u001b[43m    \u001b[49m\u001b[43mname\u001b[49m\u001b[43m,\u001b[49m\n\u001b[32m   3109\u001b[39m \u001b[43m    \u001b[49m\u001b[43mcon\u001b[49m\u001b[43m,\u001b[49m\n\u001b[32m   3110\u001b[39m \u001b[43m    \u001b[49m\u001b[43mschema\u001b[49m\u001b[43m=\u001b[49m\u001b[43mschema\u001b[49m\u001b[43m,\u001b[49m\n\u001b[32m   3111\u001b[39m \u001b[43m    \u001b[49m\u001b[43mif_exists\u001b[49m\u001b[43m=\u001b[49m\u001b[43mif_exists\u001b[49m\u001b[43m,\u001b[49m\n\u001b[32m   3112\u001b[39m \u001b[43m    \u001b[49m\u001b[43mindex\u001b[49m\u001b[43m=\u001b[49m\u001b[43mindex\u001b[49m\u001b[43m,\u001b[49m\n\u001b[32m   3113\u001b[39m \u001b[43m    \u001b[49m\u001b[43mindex_label\u001b[49m\u001b[43m=\u001b[49m\u001b[43mindex_label\u001b[49m\u001b[43m,\u001b[49m\n\u001b[32m   3114\u001b[39m \u001b[43m    \u001b[49m\u001b[43mchunksize\u001b[49m\u001b[43m=\u001b[49m\u001b[43mchunksize\u001b[49m\u001b[43m,\u001b[49m\n\u001b[32m   3115\u001b[39m \u001b[43m    \u001b[49m\u001b[43mdtype\u001b[49m\u001b[43m=\u001b[49m\u001b[43mdtype\u001b[49m\u001b[43m,\u001b[49m\n\u001b[32m   3116\u001b[39m \u001b[43m    \u001b[49m\u001b[43mmethod\u001b[49m\u001b[43m=\u001b[49m\u001b[43mmethod\u001b[49m\u001b[43m,\u001b[49m\n\u001b[32m   3117\u001b[39m \u001b[43m\u001b[49m\u001b[43m)\u001b[49m\n",
      "\u001b[36mFile \u001b[39m\u001b[32mc:\\Users\\Fernando\\AppData\\Local\\Programs\\Python\\Python313\\Lib\\site-packages\\pandas\\io\\sql.py:844\u001b[39m, in \u001b[36mto_sql\u001b[39m\u001b[34m(frame, name, con, schema, if_exists, index, index_label, chunksize, dtype, method, engine, **engine_kwargs)\u001b[39m\n\u001b[32m    839\u001b[39m     \u001b[38;5;28;01mraise\u001b[39;00m \u001b[38;5;167;01mNotImplementedError\u001b[39;00m(\n\u001b[32m    840\u001b[39m         \u001b[33m\"\u001b[39m\u001b[33m'\u001b[39m\u001b[33mframe\u001b[39m\u001b[33m'\u001b[39m\u001b[33m argument should be either a Series or a DataFrame\u001b[39m\u001b[33m\"\u001b[39m\n\u001b[32m    841\u001b[39m     )\n\u001b[32m    843\u001b[39m \u001b[38;5;28;01mwith\u001b[39;00m pandasSQL_builder(con, schema=schema, need_transaction=\u001b[38;5;28;01mTrue\u001b[39;00m) \u001b[38;5;28;01mas\u001b[39;00m pandas_sql:\n\u001b[32m--> \u001b[39m\u001b[32m844\u001b[39m     \u001b[38;5;28;01mreturn\u001b[39;00m \u001b[43mpandas_sql\u001b[49m\u001b[43m.\u001b[49m\u001b[43mto_sql\u001b[49m\u001b[43m(\u001b[49m\n\u001b[32m    845\u001b[39m \u001b[43m        \u001b[49m\u001b[43mframe\u001b[49m\u001b[43m,\u001b[49m\n\u001b[32m    846\u001b[39m \u001b[43m        \u001b[49m\u001b[43mname\u001b[49m\u001b[43m,\u001b[49m\n\u001b[32m    847\u001b[39m \u001b[43m        \u001b[49m\u001b[43mif_exists\u001b[49m\u001b[43m=\u001b[49m\u001b[43mif_exists\u001b[49m\u001b[43m,\u001b[49m\n\u001b[32m    848\u001b[39m \u001b[43m        \u001b[49m\u001b[43mindex\u001b[49m\u001b[43m=\u001b[49m\u001b[43mindex\u001b[49m\u001b[43m,\u001b[49m\n\u001b[32m    849\u001b[39m \u001b[43m        \u001b[49m\u001b[43mindex_label\u001b[49m\u001b[43m=\u001b[49m\u001b[43mindex_label\u001b[49m\u001b[43m,\u001b[49m\n\u001b[32m    850\u001b[39m \u001b[43m        \u001b[49m\u001b[43mschema\u001b[49m\u001b[43m=\u001b[49m\u001b[43mschema\u001b[49m\u001b[43m,\u001b[49m\n\u001b[32m    851\u001b[39m \u001b[43m        \u001b[49m\u001b[43mchunksize\u001b[49m\u001b[43m=\u001b[49m\u001b[43mchunksize\u001b[49m\u001b[43m,\u001b[49m\n\u001b[32m    852\u001b[39m \u001b[43m        \u001b[49m\u001b[43mdtype\u001b[49m\u001b[43m=\u001b[49m\u001b[43mdtype\u001b[49m\u001b[43m,\u001b[49m\n\u001b[32m    853\u001b[39m \u001b[43m        \u001b[49m\u001b[43mmethod\u001b[49m\u001b[43m=\u001b[49m\u001b[43mmethod\u001b[49m\u001b[43m,\u001b[49m\n\u001b[32m    854\u001b[39m \u001b[43m        \u001b[49m\u001b[43mengine\u001b[49m\u001b[43m=\u001b[49m\u001b[43mengine\u001b[49m\u001b[43m,\u001b[49m\n\u001b[32m    855\u001b[39m \u001b[43m        \u001b[49m\u001b[43m*\u001b[49m\u001b[43m*\u001b[49m\u001b[43mengine_kwargs\u001b[49m\u001b[43m,\u001b[49m\n\u001b[32m    856\u001b[39m \u001b[43m    \u001b[49m\u001b[43m)\u001b[49m\n",
      "\u001b[36mFile \u001b[39m\u001b[32mc:\\Users\\Fernando\\AppData\\Local\\Programs\\Python\\Python313\\Lib\\site-packages\\pandas\\io\\sql.py:2030\u001b[39m, in \u001b[36mSQLDatabase.to_sql\u001b[39m\u001b[34m(self, frame, name, if_exists, index, index_label, schema, chunksize, dtype, method, engine, **engine_kwargs)\u001b[39m\n\u001b[32m   2018\u001b[39m sql_engine = get_engine(engine)\n\u001b[32m   2020\u001b[39m table = \u001b[38;5;28mself\u001b[39m.prep_table(\n\u001b[32m   2021\u001b[39m     frame=frame,\n\u001b[32m   2022\u001b[39m     name=name,\n\u001b[32m   (...)\u001b[39m\u001b[32m   2027\u001b[39m     dtype=dtype,\n\u001b[32m   2028\u001b[39m )\n\u001b[32m-> \u001b[39m\u001b[32m2030\u001b[39m total_inserted = \u001b[43msql_engine\u001b[49m\u001b[43m.\u001b[49m\u001b[43minsert_records\u001b[49m\u001b[43m(\u001b[49m\n\u001b[32m   2031\u001b[39m \u001b[43m    \u001b[49m\u001b[43mtable\u001b[49m\u001b[43m=\u001b[49m\u001b[43mtable\u001b[49m\u001b[43m,\u001b[49m\n\u001b[32m   2032\u001b[39m \u001b[43m    \u001b[49m\u001b[43mcon\u001b[49m\u001b[43m=\u001b[49m\u001b[38;5;28;43mself\u001b[39;49m\u001b[43m.\u001b[49m\u001b[43mcon\u001b[49m\u001b[43m,\u001b[49m\n\u001b[32m   2033\u001b[39m \u001b[43m    \u001b[49m\u001b[43mframe\u001b[49m\u001b[43m=\u001b[49m\u001b[43mframe\u001b[49m\u001b[43m,\u001b[49m\n\u001b[32m   2034\u001b[39m \u001b[43m    \u001b[49m\u001b[43mname\u001b[49m\u001b[43m=\u001b[49m\u001b[43mname\u001b[49m\u001b[43m,\u001b[49m\n\u001b[32m   2035\u001b[39m \u001b[43m    \u001b[49m\u001b[43mindex\u001b[49m\u001b[43m=\u001b[49m\u001b[43mindex\u001b[49m\u001b[43m,\u001b[49m\n\u001b[32m   2036\u001b[39m \u001b[43m    \u001b[49m\u001b[43mschema\u001b[49m\u001b[43m=\u001b[49m\u001b[43mschema\u001b[49m\u001b[43m,\u001b[49m\n\u001b[32m   2037\u001b[39m \u001b[43m    \u001b[49m\u001b[43mchunksize\u001b[49m\u001b[43m=\u001b[49m\u001b[43mchunksize\u001b[49m\u001b[43m,\u001b[49m\n\u001b[32m   2038\u001b[39m \u001b[43m    \u001b[49m\u001b[43mmethod\u001b[49m\u001b[43m=\u001b[49m\u001b[43mmethod\u001b[49m\u001b[43m,\u001b[49m\n\u001b[32m   2039\u001b[39m \u001b[43m    \u001b[49m\u001b[43m*\u001b[49m\u001b[43m*\u001b[49m\u001b[43mengine_kwargs\u001b[49m\u001b[43m,\u001b[49m\n\u001b[32m   2040\u001b[39m \u001b[43m\u001b[49m\u001b[43m)\u001b[49m\n\u001b[32m   2042\u001b[39m \u001b[38;5;28mself\u001b[39m.check_case_sensitive(name=name, schema=schema)\n\u001b[32m   2043\u001b[39m \u001b[38;5;28;01mreturn\u001b[39;00m total_inserted\n",
      "\u001b[36mFile \u001b[39m\u001b[32mc:\\Users\\Fernando\\AppData\\Local\\Programs\\Python\\Python313\\Lib\\site-packages\\pandas\\io\\sql.py:1579\u001b[39m, in \u001b[36mSQLAlchemyEngine.insert_records\u001b[39m\u001b[34m(self, table, con, frame, name, index, schema, chunksize, method, **engine_kwargs)\u001b[39m\n\u001b[32m   1577\u001b[39m \u001b[38;5;28;01mif\u001b[39;00m re.search(msg, err_text):\n\u001b[32m   1578\u001b[39m     \u001b[38;5;28;01mraise\u001b[39;00m \u001b[38;5;167;01mValueError\u001b[39;00m(\u001b[33m\"\u001b[39m\u001b[33minf cannot be used with MySQL\u001b[39m\u001b[33m\"\u001b[39m) \u001b[38;5;28;01mfrom\u001b[39;00m\u001b[38;5;250m \u001b[39m\u001b[34;01merr\u001b[39;00m\n\u001b[32m-> \u001b[39m\u001b[32m1579\u001b[39m \u001b[38;5;28;01mraise\u001b[39;00m err\n",
      "\u001b[36mFile \u001b[39m\u001b[32mc:\\Users\\Fernando\\AppData\\Local\\Programs\\Python\\Python313\\Lib\\site-packages\\pandas\\io\\sql.py:1570\u001b[39m, in \u001b[36mSQLAlchemyEngine.insert_records\u001b[39m\u001b[34m(self, table, con, frame, name, index, schema, chunksize, method, **engine_kwargs)\u001b[39m\n\u001b[32m   1567\u001b[39m \u001b[38;5;28;01mfrom\u001b[39;00m\u001b[38;5;250m \u001b[39m\u001b[34;01msqlalchemy\u001b[39;00m\u001b[38;5;250m \u001b[39m\u001b[38;5;28;01mimport\u001b[39;00m exc\n\u001b[32m   1569\u001b[39m \u001b[38;5;28;01mtry\u001b[39;00m:\n\u001b[32m-> \u001b[39m\u001b[32m1570\u001b[39m     \u001b[38;5;28;01mreturn\u001b[39;00m \u001b[43mtable\u001b[49m\u001b[43m.\u001b[49m\u001b[43minsert\u001b[49m\u001b[43m(\u001b[49m\u001b[43mchunksize\u001b[49m\u001b[43m=\u001b[49m\u001b[43mchunksize\u001b[49m\u001b[43m,\u001b[49m\u001b[43m \u001b[49m\u001b[43mmethod\u001b[49m\u001b[43m=\u001b[49m\u001b[43mmethod\u001b[49m\u001b[43m)\u001b[49m\n\u001b[32m   1571\u001b[39m \u001b[38;5;28;01mexcept\u001b[39;00m exc.StatementError \u001b[38;5;28;01mas\u001b[39;00m err:\n\u001b[32m   1572\u001b[39m     \u001b[38;5;66;03m# GH34431\u001b[39;00m\n\u001b[32m   1573\u001b[39m     \u001b[38;5;66;03m# https://stackoverflow.com/a/67358288/6067848\u001b[39;00m\n\u001b[32m   1574\u001b[39m     msg = \u001b[33mr\u001b[39m\u001b[33m\"\"\"\u001b[39m\u001b[33m(\u001b[39m\u001b[33m\\\u001b[39m\u001b[33m(1054, \u001b[39m\u001b[33m\"\u001b[39m\u001b[33mUnknown column \u001b[39m\u001b[33m'\u001b[39m\u001b[33minf(e0)?\u001b[39m\u001b[33m'\u001b[39m\u001b[33m in \u001b[39m\u001b[33m'\u001b[39m\u001b[33mfield list\u001b[39m\u001b[33m'\u001b[39m\u001b[33m\"\u001b[39m\u001b[33m\\\u001b[39m\u001b[33m))(?#\u001b[39m\n\u001b[32m   1575\u001b[39m \u001b[33m    )|inf can not be used with MySQL\u001b[39m\u001b[33m\"\"\"\u001b[39m\n",
      "\u001b[36mFile \u001b[39m\u001b[32mc:\\Users\\Fernando\\AppData\\Local\\Programs\\Python\\Python313\\Lib\\site-packages\\pandas\\io\\sql.py:1121\u001b[39m, in \u001b[36mSQLTable.insert\u001b[39m\u001b[34m(self, chunksize, method)\u001b[39m\n\u001b[32m   1118\u001b[39m     \u001b[38;5;28;01mbreak\u001b[39;00m\n\u001b[32m   1120\u001b[39m chunk_iter = \u001b[38;5;28mzip\u001b[39m(*(arr[start_i:end_i] \u001b[38;5;28;01mfor\u001b[39;00m arr \u001b[38;5;129;01min\u001b[39;00m data_list))\n\u001b[32m-> \u001b[39m\u001b[32m1121\u001b[39m num_inserted = \u001b[43mexec_insert\u001b[49m\u001b[43m(\u001b[49m\u001b[43mconn\u001b[49m\u001b[43m,\u001b[49m\u001b[43m \u001b[49m\u001b[43mkeys\u001b[49m\u001b[43m,\u001b[49m\u001b[43m \u001b[49m\u001b[43mchunk_iter\u001b[49m\u001b[43m)\u001b[49m\n\u001b[32m   1122\u001b[39m \u001b[38;5;66;03m# GH 46891\u001b[39;00m\n\u001b[32m   1123\u001b[39m \u001b[38;5;28;01mif\u001b[39;00m num_inserted \u001b[38;5;129;01mis\u001b[39;00m \u001b[38;5;129;01mnot\u001b[39;00m \u001b[38;5;28;01mNone\u001b[39;00m:\n",
      "\u001b[36mFile \u001b[39m\u001b[32mc:\\Users\\Fernando\\AppData\\Local\\Programs\\Python\\Python313\\Lib\\site-packages\\pandas\\io\\sql.py:1012\u001b[39m, in \u001b[36mSQLTable._execute_insert\u001b[39m\u001b[34m(self, conn, keys, data_iter)\u001b[39m\n\u001b[32m   1000\u001b[39m \u001b[38;5;250m\u001b[39m\u001b[33;03m\"\"\"\u001b[39;00m\n\u001b[32m   1001\u001b[39m \u001b[33;03mExecute SQL statement inserting data\u001b[39;00m\n\u001b[32m   1002\u001b[39m \n\u001b[32m   (...)\u001b[39m\u001b[32m   1009\u001b[39m \u001b[33;03m   Each item contains a list of values to be inserted\u001b[39;00m\n\u001b[32m   1010\u001b[39m \u001b[33;03m\"\"\"\u001b[39;00m\n\u001b[32m   1011\u001b[39m data = [\u001b[38;5;28mdict\u001b[39m(\u001b[38;5;28mzip\u001b[39m(keys, row)) \u001b[38;5;28;01mfor\u001b[39;00m row \u001b[38;5;129;01min\u001b[39;00m data_iter]\n\u001b[32m-> \u001b[39m\u001b[32m1012\u001b[39m result = \u001b[43mconn\u001b[49m\u001b[43m.\u001b[49m\u001b[43mexecute\u001b[49m\u001b[43m(\u001b[49m\u001b[38;5;28;43mself\u001b[39;49m\u001b[43m.\u001b[49m\u001b[43mtable\u001b[49m\u001b[43m.\u001b[49m\u001b[43minsert\u001b[49m\u001b[43m(\u001b[49m\u001b[43m)\u001b[49m\u001b[43m,\u001b[49m\u001b[43m \u001b[49m\u001b[43mdata\u001b[49m\u001b[43m)\u001b[49m\n\u001b[32m   1013\u001b[39m \u001b[38;5;28;01mreturn\u001b[39;00m result.rowcount\n",
      "\u001b[36mFile \u001b[39m\u001b[32mc:\\Users\\Fernando\\AppData\\Local\\Programs\\Python\\Python313\\Lib\\site-packages\\sqlalchemy\\engine\\base.py:1415\u001b[39m, in \u001b[36mConnection.execute\u001b[39m\u001b[34m(self, statement, parameters, execution_options)\u001b[39m\n\u001b[32m   1413\u001b[39m     \u001b[38;5;28;01mraise\u001b[39;00m exc.ObjectNotExecutableError(statement) \u001b[38;5;28;01mfrom\u001b[39;00m\u001b[38;5;250m \u001b[39m\u001b[34;01merr\u001b[39;00m\n\u001b[32m   1414\u001b[39m \u001b[38;5;28;01melse\u001b[39;00m:\n\u001b[32m-> \u001b[39m\u001b[32m1415\u001b[39m     \u001b[38;5;28;01mreturn\u001b[39;00m \u001b[43mmeth\u001b[49m\u001b[43m(\u001b[49m\n\u001b[32m   1416\u001b[39m \u001b[43m        \u001b[49m\u001b[38;5;28;43mself\u001b[39;49m\u001b[43m,\u001b[49m\n\u001b[32m   1417\u001b[39m \u001b[43m        \u001b[49m\u001b[43mdistilled_parameters\u001b[49m\u001b[43m,\u001b[49m\n\u001b[32m   1418\u001b[39m \u001b[43m        \u001b[49m\u001b[43mexecution_options\u001b[49m\u001b[43m \u001b[49m\u001b[38;5;129;43;01mor\u001b[39;49;00m\u001b[43m \u001b[49m\u001b[43mNO_OPTIONS\u001b[49m\u001b[43m,\u001b[49m\n\u001b[32m   1419\u001b[39m \u001b[43m    \u001b[49m\u001b[43m)\u001b[49m\n",
      "\u001b[36mFile \u001b[39m\u001b[32mc:\\Users\\Fernando\\AppData\\Local\\Programs\\Python\\Python313\\Lib\\site-packages\\sqlalchemy\\sql\\elements.py:523\u001b[39m, in \u001b[36mClauseElement._execute_on_connection\u001b[39m\u001b[34m(self, connection, distilled_params, execution_options)\u001b[39m\n\u001b[32m    521\u001b[39m     \u001b[38;5;28;01mif\u001b[39;00m TYPE_CHECKING:\n\u001b[32m    522\u001b[39m         \u001b[38;5;28;01massert\u001b[39;00m \u001b[38;5;28misinstance\u001b[39m(\u001b[38;5;28mself\u001b[39m, Executable)\n\u001b[32m--> \u001b[39m\u001b[32m523\u001b[39m     \u001b[38;5;28;01mreturn\u001b[39;00m \u001b[43mconnection\u001b[49m\u001b[43m.\u001b[49m\u001b[43m_execute_clauseelement\u001b[49m\u001b[43m(\u001b[49m\n\u001b[32m    524\u001b[39m \u001b[43m        \u001b[49m\u001b[38;5;28;43mself\u001b[39;49m\u001b[43m,\u001b[49m\u001b[43m \u001b[49m\u001b[43mdistilled_params\u001b[49m\u001b[43m,\u001b[49m\u001b[43m \u001b[49m\u001b[43mexecution_options\u001b[49m\n\u001b[32m    525\u001b[39m \u001b[43m    \u001b[49m\u001b[43m)\u001b[49m\n\u001b[32m    526\u001b[39m \u001b[38;5;28;01melse\u001b[39;00m:\n\u001b[32m    527\u001b[39m     \u001b[38;5;28;01mraise\u001b[39;00m exc.ObjectNotExecutableError(\u001b[38;5;28mself\u001b[39m)\n",
      "\u001b[36mFile \u001b[39m\u001b[32mc:\\Users\\Fernando\\AppData\\Local\\Programs\\Python\\Python313\\Lib\\site-packages\\sqlalchemy\\engine\\base.py:1637\u001b[39m, in \u001b[36mConnection._execute_clauseelement\u001b[39m\u001b[34m(self, elem, distilled_parameters, execution_options)\u001b[39m\n\u001b[32m   1625\u001b[39m compiled_cache: Optional[CompiledCacheType] = execution_options.get(\n\u001b[32m   1626\u001b[39m     \u001b[33m\"\u001b[39m\u001b[33mcompiled_cache\u001b[39m\u001b[33m\"\u001b[39m, \u001b[38;5;28mself\u001b[39m.engine._compiled_cache\n\u001b[32m   1627\u001b[39m )\n\u001b[32m   1629\u001b[39m compiled_sql, extracted_params, cache_hit = elem._compile_w_cache(\n\u001b[32m   1630\u001b[39m     dialect=dialect,\n\u001b[32m   1631\u001b[39m     compiled_cache=compiled_cache,\n\u001b[32m   (...)\u001b[39m\u001b[32m   1635\u001b[39m     linting=\u001b[38;5;28mself\u001b[39m.dialect.compiler_linting | compiler.WARN_LINTING,\n\u001b[32m   1636\u001b[39m )\n\u001b[32m-> \u001b[39m\u001b[32m1637\u001b[39m ret = \u001b[38;5;28;43mself\u001b[39;49m\u001b[43m.\u001b[49m\u001b[43m_execute_context\u001b[49m\u001b[43m(\u001b[49m\n\u001b[32m   1638\u001b[39m \u001b[43m    \u001b[49m\u001b[43mdialect\u001b[49m\u001b[43m,\u001b[49m\n\u001b[32m   1639\u001b[39m \u001b[43m    \u001b[49m\u001b[43mdialect\u001b[49m\u001b[43m.\u001b[49m\u001b[43mexecution_ctx_cls\u001b[49m\u001b[43m.\u001b[49m\u001b[43m_init_compiled\u001b[49m\u001b[43m,\u001b[49m\n\u001b[32m   1640\u001b[39m \u001b[43m    \u001b[49m\u001b[43mcompiled_sql\u001b[49m\u001b[43m,\u001b[49m\n\u001b[32m   1641\u001b[39m \u001b[43m    \u001b[49m\u001b[43mdistilled_parameters\u001b[49m\u001b[43m,\u001b[49m\n\u001b[32m   1642\u001b[39m \u001b[43m    \u001b[49m\u001b[43mexecution_options\u001b[49m\u001b[43m,\u001b[49m\n\u001b[32m   1643\u001b[39m \u001b[43m    \u001b[49m\u001b[43mcompiled_sql\u001b[49m\u001b[43m,\u001b[49m\n\u001b[32m   1644\u001b[39m \u001b[43m    \u001b[49m\u001b[43mdistilled_parameters\u001b[49m\u001b[43m,\u001b[49m\n\u001b[32m   1645\u001b[39m \u001b[43m    \u001b[49m\u001b[43melem\u001b[49m\u001b[43m,\u001b[49m\n\u001b[32m   1646\u001b[39m \u001b[43m    \u001b[49m\u001b[43mextracted_params\u001b[49m\u001b[43m,\u001b[49m\n\u001b[32m   1647\u001b[39m \u001b[43m    \u001b[49m\u001b[43mcache_hit\u001b[49m\u001b[43m=\u001b[49m\u001b[43mcache_hit\u001b[49m\u001b[43m,\u001b[49m\n\u001b[32m   1648\u001b[39m \u001b[43m\u001b[49m\u001b[43m)\u001b[49m\n\u001b[32m   1649\u001b[39m \u001b[38;5;28;01mif\u001b[39;00m has_events:\n\u001b[32m   1650\u001b[39m     \u001b[38;5;28mself\u001b[39m.dispatch.after_execute(\n\u001b[32m   1651\u001b[39m         \u001b[38;5;28mself\u001b[39m,\n\u001b[32m   1652\u001b[39m         elem,\n\u001b[32m   (...)\u001b[39m\u001b[32m   1656\u001b[39m         ret,\n\u001b[32m   1657\u001b[39m     )\n",
      "\u001b[36mFile \u001b[39m\u001b[32mc:\\Users\\Fernando\\AppData\\Local\\Programs\\Python\\Python313\\Lib\\site-packages\\sqlalchemy\\engine\\base.py:1817\u001b[39m, in \u001b[36mConnection._execute_context\u001b[39m\u001b[34m(self, dialect, constructor, statement, parameters, execution_options, *args, **kw)\u001b[39m\n\u001b[32m   1815\u001b[39m     \u001b[38;5;28;01mraise\u001b[39;00m\n\u001b[32m   1816\u001b[39m \u001b[38;5;28;01mexcept\u001b[39;00m \u001b[38;5;167;01mBaseException\u001b[39;00m \u001b[38;5;28;01mas\u001b[39;00m e:\n\u001b[32m-> \u001b[39m\u001b[32m1817\u001b[39m     \u001b[38;5;28;43mself\u001b[39;49m\u001b[43m.\u001b[49m\u001b[43m_handle_dbapi_exception\u001b[49m\u001b[43m(\u001b[49m\n\u001b[32m   1818\u001b[39m \u001b[43m        \u001b[49m\u001b[43me\u001b[49m\u001b[43m,\u001b[49m\u001b[43m \u001b[49m\u001b[38;5;28;43mstr\u001b[39;49m\u001b[43m(\u001b[49m\u001b[43mstatement\u001b[49m\u001b[43m)\u001b[49m\u001b[43m,\u001b[49m\u001b[43m \u001b[49m\u001b[43mparameters\u001b[49m\u001b[43m,\u001b[49m\u001b[43m \u001b[49m\u001b[38;5;28;43;01mNone\u001b[39;49;00m\u001b[43m,\u001b[49m\u001b[43m \u001b[49m\u001b[38;5;28;43;01mNone\u001b[39;49;00m\n\u001b[32m   1819\u001b[39m \u001b[43m    \u001b[49m\u001b[43m)\u001b[49m\n\u001b[32m   1821\u001b[39m \u001b[38;5;28;01mif\u001b[39;00m (\n\u001b[32m   1822\u001b[39m     \u001b[38;5;28mself\u001b[39m._transaction\n\u001b[32m   1823\u001b[39m     \u001b[38;5;129;01mand\u001b[39;00m \u001b[38;5;129;01mnot\u001b[39;00m \u001b[38;5;28mself\u001b[39m._transaction.is_active\n\u001b[32m   (...)\u001b[39m\u001b[32m   1827\u001b[39m     )\n\u001b[32m   1828\u001b[39m ):\n\u001b[32m   1829\u001b[39m     \u001b[38;5;28mself\u001b[39m._invalid_transaction()\n",
      "\u001b[36mFile \u001b[39m\u001b[32mc:\\Users\\Fernando\\AppData\\Local\\Programs\\Python\\Python313\\Lib\\site-packages\\sqlalchemy\\engine\\base.py:2351\u001b[39m, in \u001b[36mConnection._handle_dbapi_exception\u001b[39m\u001b[34m(self, e, statement, parameters, cursor, context, is_sub_exec)\u001b[39m\n\u001b[32m   2349\u001b[39m \u001b[38;5;28;01melif\u001b[39;00m should_wrap:\n\u001b[32m   2350\u001b[39m     \u001b[38;5;28;01massert\u001b[39;00m sqlalchemy_exception \u001b[38;5;129;01mis\u001b[39;00m \u001b[38;5;129;01mnot\u001b[39;00m \u001b[38;5;28;01mNone\u001b[39;00m\n\u001b[32m-> \u001b[39m\u001b[32m2351\u001b[39m     \u001b[38;5;28;01mraise\u001b[39;00m sqlalchemy_exception.with_traceback(exc_info[\u001b[32m2\u001b[39m]) \u001b[38;5;28;01mfrom\u001b[39;00m\u001b[38;5;250m \u001b[39m\u001b[34;01me\u001b[39;00m\n\u001b[32m   2352\u001b[39m \u001b[38;5;28;01melse\u001b[39;00m:\n\u001b[32m   2353\u001b[39m     \u001b[38;5;28;01massert\u001b[39;00m exc_info[\u001b[32m1\u001b[39m] \u001b[38;5;129;01mis\u001b[39;00m \u001b[38;5;129;01mnot\u001b[39;00m \u001b[38;5;28;01mNone\u001b[39;00m\n",
      "\u001b[36mFile \u001b[39m\u001b[32mc:\\Users\\Fernando\\AppData\\Local\\Programs\\Python\\Python313\\Lib\\site-packages\\sqlalchemy\\engine\\base.py:1811\u001b[39m, in \u001b[36mConnection._execute_context\u001b[39m\u001b[34m(self, dialect, constructor, statement, parameters, execution_options, *args, **kw)\u001b[39m\n\u001b[32m   1808\u001b[39m     \u001b[38;5;28;01mif\u001b[39;00m conn \u001b[38;5;129;01mis\u001b[39;00m \u001b[38;5;28;01mNone\u001b[39;00m:\n\u001b[32m   1809\u001b[39m         conn = \u001b[38;5;28mself\u001b[39m._revalidate_connection()\n\u001b[32m-> \u001b[39m\u001b[32m1811\u001b[39m     context = \u001b[43mconstructor\u001b[49m\u001b[43m(\u001b[49m\n\u001b[32m   1812\u001b[39m \u001b[43m        \u001b[49m\u001b[43mdialect\u001b[49m\u001b[43m,\u001b[49m\u001b[43m \u001b[49m\u001b[38;5;28;43mself\u001b[39;49m\u001b[43m,\u001b[49m\u001b[43m \u001b[49m\u001b[43mconn\u001b[49m\u001b[43m,\u001b[49m\u001b[43m \u001b[49m\u001b[43mexecution_options\u001b[49m\u001b[43m,\u001b[49m\u001b[43m \u001b[49m\u001b[43m*\u001b[49m\u001b[43margs\u001b[49m\u001b[43m,\u001b[49m\u001b[43m \u001b[49m\u001b[43m*\u001b[49m\u001b[43m*\u001b[49m\u001b[43mkw\u001b[49m\n\u001b[32m   1813\u001b[39m \u001b[43m    \u001b[49m\u001b[43m)\u001b[49m\n\u001b[32m   1814\u001b[39m \u001b[38;5;28;01mexcept\u001b[39;00m (exc.PendingRollbackError, exc.ResourceClosedError):\n\u001b[32m   1815\u001b[39m     \u001b[38;5;28;01mraise\u001b[39;00m\n",
      "\u001b[36mFile \u001b[39m\u001b[32mc:\\Users\\Fernando\\AppData\\Local\\Programs\\Python\\Python313\\Lib\\site-packages\\sqlalchemy\\engine\\default.py:1406\u001b[39m, in \u001b[36mDefaultExecutionContext._init_compiled\u001b[39m\u001b[34m(cls, dialect, connection, dbapi_connection, execution_options, compiled, parameters, invoked_statement, extracted_parameters, cache_hit)\u001b[39m\n\u001b[32m   1398\u001b[39m     \u001b[38;5;28mself\u001b[39m.compiled_parameters = [\n\u001b[32m   1399\u001b[39m         compiled.construct_params(\n\u001b[32m   1400\u001b[39m             extracted_parameters=extracted_parameters,\n\u001b[32m   1401\u001b[39m             escape_names=\u001b[38;5;28;01mFalse\u001b[39;00m,\n\u001b[32m   1402\u001b[39m         )\n\u001b[32m   1403\u001b[39m     ]\n\u001b[32m   1404\u001b[39m \u001b[38;5;28;01melse\u001b[39;00m:\n\u001b[32m   1405\u001b[39m     \u001b[38;5;28mself\u001b[39m.compiled_parameters = [\n\u001b[32m-> \u001b[39m\u001b[32m1406\u001b[39m         compiled.construct_params(\n\u001b[32m   1407\u001b[39m             m,\n\u001b[32m   1408\u001b[39m             escape_names=\u001b[38;5;28;01mFalse\u001b[39;00m,\n\u001b[32m   1409\u001b[39m             _group_number=grp,\n\u001b[32m   1410\u001b[39m             extracted_parameters=extracted_parameters,\n\u001b[32m   1411\u001b[39m         )\n\u001b[32m   1412\u001b[39m         \u001b[38;5;28;01mfor\u001b[39;00m grp, m \u001b[38;5;129;01min\u001b[39;00m \u001b[38;5;28menumerate\u001b[39m(parameters)\n\u001b[32m   1413\u001b[39m     ]\n\u001b[32m   1415\u001b[39m     \u001b[38;5;28;01mif\u001b[39;00m \u001b[38;5;28mlen\u001b[39m(parameters) > \u001b[32m1\u001b[39m:\n\u001b[32m   1416\u001b[39m         \u001b[38;5;28;01mif\u001b[39;00m \u001b[38;5;28mself\u001b[39m.isinsert \u001b[38;5;129;01mand\u001b[39;00m compiled._insertmanyvalues:\n",
      "\u001b[31mStatementError\u001b[39m: (builtins.MemoryError) \n[SQL: INSERT INTO nombre_tabla_destino (game_id, eventnum, eventmsgtype, eventmsgactiontype, period, wctimestring, pctimestring, homedescription, neutraldescription, visitordescription, score, scoremargin, person1type, player1_id, player1_name, player1_team_id, player1_team_city, player1_team_nickname, player1_team_abbreviation, person2type, player2_id, player2_name, player2_team_id, player2_team_city, player2_team_nickname, player2_team_abbreviation, person3type, player3_id, player3_name, player3_team_id, player3_team_city, player3_team_nickname, player3_team_abbreviation, video_available_flag) VALUES (%(game_id)s, %(eventnum)s, %(eventmsgtype)s, %(eventmsgactiontype)s, %(period)s, %(wctimestring)s, %(pctimestring)s, %(homedescription)s, %(neutraldescription)s, %(visitordescription)s, %(score)s, %(scoremargin)s, %(person1type)s, %(player1_id)s, %(player1_name)s, %(player1_team_id)s, %(player1_team_city)s, %(player1_team_nickname)s, %(player1_team_abbreviation)s, %(person2type)s, %(player2_id)s, %(player2_name)s, %(player2_team_id)s, %(player2_team_city)s, %(player2_team_nickname)s, %(player2_team_abbreviation)s, %(person3type)s, %(player3_id)s, %(player3_name)s, %(player3_team_id)s, %(player3_team_city)s, %(player3_team_nickname)s, %(player3_team_abbreviation)s, %(video_available_flag)s)]\n[parameters: [{'game_id': 21000003, 'eventnum': 0, 'eventmsgtype': 12, 'eventmsgactiontype': 0, 'period': 1, 'wctimestring': '10:52 PM', 'pctimestring': '12:00', 'h ... (554 characters truncated) ... None, 'player3_team_id': None, 'player3_team_city': None, 'player3_team_nickname': None, 'player3_team_abbreviation': None, 'video_available_flag': 0}, {'game_id': 21000003, 'eventnum': 1, 'eventmsgtype': 10, 'eventmsgactiontype': 0, 'period': 1, 'wctimestring': '10:52 PM', 'pctimestring': '12:00', 'h ... (663 characters truncated) ... ': 1610612747.0, 'player3_team_city': 'Los Angeles', 'player3_team_nickname': 'Lakers', 'player3_team_abbreviation': 'LAL', 'video_available_flag': 0}, {'game_id': 21000003, 'eventnum': 2, 'eventmsgtype': 2, 'eventmsgactiontype': 52, 'period': 1, 'wctimestring': '10:53 PM', 'pctimestring': '11:47', 'h ... (580 characters truncated) ... None, 'player3_team_id': None, 'player3_team_city': None, 'player3_team_nickname': None, 'player3_team_abbreviation': None, 'video_available_flag': 0}, {'game_id': 21000003, 'eventnum': 3, 'eventmsgtype': 4, 'eventmsgactiontype': 0, 'period': 1, 'wctimestring': '10:53 PM', 'pctimestring': '11:44', 'ho ... (576 characters truncated) ... None, 'player3_team_id': None, 'player3_team_city': None, 'player3_team_nickname': None, 'player3_team_abbreviation': None, 'video_available_flag': 0}, {'game_id': 21000003, 'eventnum': 4, 'eventmsgtype': 2, 'eventmsgactiontype': 42, 'period': 1, 'wctimestring': '10:53 PM', 'pctimestring': '11:41', 'h ... (582 characters truncated) ... None, 'player3_team_id': None, 'player3_team_city': None, 'player3_team_nickname': None, 'player3_team_abbreviation': None, 'video_available_flag': 0}, {'game_id': 21000003, 'eventnum': 5, 'eventmsgtype': 4, 'eventmsgactiontype': 0, 'period': 1, 'wctimestring': '10:53 PM', 'pctimestring': '11:39', 'ho ... (543 characters truncated) ... None, 'player3_team_id': None, 'player3_team_city': None, 'player3_team_nickname': None, 'player3_team_abbreviation': None, 'video_available_flag': 0}, {'game_id': 21000003, 'eventnum': 6, 'eventmsgtype': 6, 'eventmsgactiontype': 3, 'period': 1, 'wctimestring': '10:53 PM', 'pctimestring': '11:39', 'ho ... (605 characters truncated) ... None, 'player3_team_id': None, 'player3_team_city': None, 'player3_team_nickname': None, 'player3_team_abbreviation': None, 'video_available_flag': 0}, {'game_id': 21000003, 'eventnum': 7, 'eventmsgtype': 2, 'eventmsgactiontype': 3, 'period': 1, 'wctimestring': '10:53 PM', 'pctimestring': '11:30', 'ho ... (569 characters truncated) ... None, 'player3_team_id': None, 'player3_team_city': None, 'player3_team_nickname': None, 'player3_team_abbreviation': None, 'video_available_flag': 0}, {'game_id': 21000003, 'eventnum': 8, 'eventmsgtype': 4, 'eventmsgactiontype': 0, 'period': 1, 'wctimestring': '10:53 PM', 'pctimestring': '11:28', 'ho ... (580 characters truncated) ... None, 'player3_team_id': None, 'player3_team_city': None, 'player3_team_nickname': None, 'player3_team_abbreviation': None, 'video_available_flag': 0}, {'game_id': 21000003, 'eventnum': 9, 'eventmsgtype': 1, 'eventmsgactiontype': 8, 'period': 1, 'wctimestring': '10:54 PM', 'pctimestring': '11:21', 'ho ... (625 characters truncated) ... None, 'player3_team_id': None, 'player3_team_city': None, 'player3_team_nickname': None, 'player3_team_abbreviation': None, 'video_available_flag': 0}, {'game_id': 21000003, 'eventnum': 10, 'eventmsgtype': 2, 'eventmsgactiontype': 5, 'period': 1, 'wctimestring': '10:54 PM', 'pctimestring': '11:08', 'h ... (572 characters truncated) ... None, 'player3_team_id': None, 'player3_team_city': None, 'player3_team_nickname': None, 'player3_team_abbreviation': None, 'video_available_flag': 0}, {'game_id': 21000003, 'eventnum': 11, 'eventmsgtype': 4, 'eventmsgactiontype': 0, 'period': 1, 'wctimestring': '10:54 PM', 'pctimestring': '11:07', 'h ... (579 characters truncated) ... None, 'player3_team_id': None, 'player3_team_city': None, 'player3_team_nickname': None, 'player3_team_abbreviation': None, 'video_available_flag': 0}, {'game_id': 21000003, 'eventnum': 13, 'eventmsgtype': 1, 'eventmsgactiontype': 1, 'period': 1, 'wctimestring': '10:54 PM', 'pctimestring': '10:53', 'h ... (581 characters truncated) ... None, 'player3_team_id': None, 'player3_team_city': None, 'player3_team_nickname': None, 'player3_team_abbreviation': None, 'video_available_flag': 0}, {'game_id': 21000003, 'eventnum': 14, 'eventmsgtype': 2, 'eventmsgactiontype': 1, 'period': 1, 'wctimestring': '10:54 PM', 'pctimestring': '10:33', 'h ... (627 characters truncated) ... ': 1610612747.0, 'player3_team_city': 'Los Angeles', 'player3_team_nickname': 'Lakers', 'player3_team_abbreviation': 'LAL', 'video_available_flag': 0}, {'game_id': 21000003, 'eventnum': 15, 'eventmsgtype': 4, 'eventmsgactiontype': 0, 'period': 1, 'wctimestring': '10:54 PM', 'pctimestring': '10:33', 'h ... (544 characters truncated) ... None, 'player3_team_id': None, 'player3_team_city': None, 'player3_team_nickname': None, 'player3_team_abbreviation': None, 'video_available_flag': 0}, {'game_id': 21000003, 'eventnum': 16, 'eventmsgtype': 1, 'eventmsgactiontype': 1, 'period': 1, 'wctimestring': '10:55 PM', 'pctimestring': '10:30', 'h ... (631 characters truncated) ... None, 'player3_team_id': None, 'player3_team_city': None, 'player3_team_nickname': None, 'player3_team_abbreviation': None, 'video_available_flag': 0}, {'game_id': 21000003, 'eventnum': 17, 'eventmsgtype': 1, 'eventmsgactiontype': 1, 'period': 1, 'wctimestring': '10:55 PM', 'pctimestring': '10:13', 'h ... (647 characters truncated) ... None, 'player3_team_id': None, 'player3_team_city': None, 'player3_team_nickname': None, 'player3_team_abbreviation': None, 'video_available_flag': 0}, {'game_id': 21000003, 'eventnum': 18, 'eventmsgtype': 6, 'eventmsgactiontype': 1, 'period': 1, 'wctimestring': '10:55 PM', 'pctimestring': '10:03', 'h ... (600 characters truncated) ... None, 'player3_team_id': None, 'player3_team_city': None, 'player3_team_nickname': None, 'player3_team_abbreviation': None, 'video_available_flag': 0}, {'game_id': 21000003, 'eventnum': 19, 'eventmsgtype': 1, 'eventmsgactiontype': 1, 'period': 1, 'wctimestring': '10:55 PM', 'pctimestring': '9:55', 'ho ... (623 characters truncated) ... None, 'player3_team_id': None, 'player3_team_city': None, 'player3_team_nickname': None, 'player3_team_abbreviation': None, 'video_available_flag': 0}, {'game_id': 21000003, 'eventnum': 20, 'eventmsgtype': 1, 'eventmsgactiontype': 86, 'period': 1, 'wctimestring': '10:56 PM', 'pctimestring': '9:38', 'h ... (593 characters truncated) ... None, 'player3_team_id': None, 'player3_team_city': None, 'player3_team_nickname': None, 'player3_team_abbreviation': None, 'video_available_flag': 0}, {'game_id': 21000003, 'eventnum': 22, 'eventmsgtype': 1, 'eventmsgactiontype': 1, 'period': 1, 'wctimestring': '10:56 PM', 'pctimestring': '9:27', 'ho ... (631 characters truncated) ... None, 'player3_team_id': None, 'player3_team_city': None, 'player3_team_nickname': None, 'player3_team_abbreviation': None, 'video_available_flag': 0}, {'game_id': 21000003, 'eventnum': 24, 'eventmsgtype': 2, 'eventmsgactiontype': 1, 'period': 1, 'wctimestring': '10:56 PM', 'pctimestring': '9:12', 'ho ... (578 characters truncated) ... None, 'player3_team_id': None, 'player3_team_city': None, 'player3_team_nickname': None, 'player3_team_abbreviation': None, 'video_available_flag': 0}, {'game_id': 21000003, 'eventnum': 25, 'eventmsgtype': 4, 'eventmsgactiontype': 0, 'period': 1, 'wctimestring': '10:56 PM', 'pctimestring': '9:12', 'ho ... (543 characters truncated) ... None, 'player3_team_id': None, 'player3_team_city': None, 'player3_team_nickname': None, 'player3_team_abbreviation': None, 'video_available_flag': 0}, {'game_id': 21000003, 'eventnum': 26, 'eventmsgtype': 6, 'eventmsgactiontype': 3, 'period': 1, 'wctimestring': '10:56 PM', 'pctimestring': '9:12', 'ho ... (606 characters truncated) ... None, 'player3_team_id': None, 'player3_team_city': None, 'player3_team_nickname': None, 'player3_team_abbreviation': None, 'video_available_flag': 0}, {'game_id': 21000003, 'eventnum': 27, 'eventmsgtype': 5, 'eventmsgactiontype': 1, 'period': 1, 'wctimestring': '10:57 PM', 'pctimestring': '9:07', 'ho ... (648 characters truncated) ... None, 'player3_team_id': None, 'player3_team_city': None, 'player3_team_nickname': None, 'player3_team_abbreviation': None, 'video_available_flag': 0}, {'game_id': 21000003, 'eventnum': 28, 'eventmsgtype': 2, 'eventmsgactiontype': 42, 'period': 1, 'wctimestring': '10:57 PM', 'pctimestring': '9:04', 'h ... (593 characters truncated) ... None, 'player3_team_id': None, 'player3_team_city': None, 'player3_team_nickname': None, 'player3_team_abbreviation': None, 'video_available_flag': 0}, {'game_id': 21000003, 'eventnum': 29, 'eventmsgtype': 4, 'eventmsgactiontype': 0, 'period': 1, 'wctimestring': '10:57 PM', 'pctimestring': '9:00', 'ho ... (581 characters truncated) ... None, 'player3_team_id': None, 'player3_team_city': None, 'player3_team_nickname': None, 'player3_team_abbreviation': None, 'video_available_flag': 0}, {'game_id': 21000003, 'eventnum': 30, 'eventmsgtype': 2, 'eventmsgactiontype': 1, 'period': 1, 'wctimestring': '10:57 PM', 'pctimestring': '8:55', 'ho ... (568 characters truncated) ... None, 'player3_team_id': None, 'player3_team_city': None, 'player3_team_nickname': None, 'player3_team_abbreviation': None, 'video_available_flag': 0}, {'game_id': 21000003, 'eventnum': 32, 'eventmsgtype': 4, 'eventmsgactiontype': 0, 'period': 1, 'wctimestring': '10:57 PM', 'pctimestring': '8:54', 'ho ... (572 characters truncated) ... None, 'player3_team_id': None, 'player3_team_city': None, 'player3_team_nickname': None, 'player3_team_abbreviation': None, 'video_available_flag': 0}, {'game_id': 21000003, 'eventnum': 31, 'eventmsgtype': 2, 'eventmsgactiontype': 4, 'period': 1, 'wctimestring': '10:57 PM', 'pctimestring': '8:54', 'ho ... (567 characters truncated) ... None, 'player3_team_id': None, 'player3_team_city': None, 'player3_team_nickname': None, 'player3_team_abbreviation': None, 'video_available_flag': 0}, {'game_id': 21000003, 'eventnum': 33, 'eventmsgtype': 4, 'eventmsgactiontype': 0, 'period': 1, 'wctimestring': '10:57 PM', 'pctimestring': '8:52', 'ho ... (580 characters truncated) ... None, 'player3_team_id': None, 'player3_team_city': None, 'player3_team_nickname': None, 'player3_team_abbreviation': None, 'video_available_flag': 0}, {'game_id': 21000003, 'eventnum': 34, 'eventmsgtype': 6, 'eventmsgactiontype': 26, 'period': 1, 'wctimestring': '10:57 PM', 'pctimestring': '8:46', 'h ... (621 characters truncated) ... None, 'player3_team_id': None, 'player3_team_city': None, 'player3_team_nickname': None, 'player3_team_abbreviation': None, 'video_available_flag': 0}, {'game_id': 21000003, 'eventnum': 35, 'eventmsgtype': 5, 'eventmsgactiontype': 5, 'period': 1, 'wctimestring': '10:57 PM', 'pctimestring': '8:46', 'ho ... (578 characters truncated) ... None, 'player3_team_id': None, 'player3_team_city': None, 'player3_team_nickname': None, 'player3_team_abbreviation': None, 'video_available_flag': 0}, {'game_id': 21000003, 'eventnum': 36, 'eventmsgtype': 8, 'eventmsgactiontype': 0, 'period': 1, 'wctimestring': '10:57 PM', 'pctimestring': '8:46', 'ho ... (615 characters truncated) ... None, 'player3_team_id': None, 'player3_team_city': None, 'player3_team_nickname': None, 'player3_team_abbreviation': None, 'video_available_flag': 0}, {'game_id': 21000003, 'eventnum': 38, 'eventmsgtype': 2, 'eventmsgactiontype': 1, 'period': 1, 'wctimestring': '10:58 PM', 'pctimestring': '8:28', 'ho ... (582 characters truncated) ... None, 'player3_team_id': None, 'player3_team_city': None, 'player3_team_nickname': None, 'player3_team_abbreviation': None, 'video_available_flag': 0}, {'game_id': 21000003, 'eventnum': 39, 'eventmsgtype': 4, 'eventmsgactiontype': 0, 'period': 1, 'wctimestring': '10:58 PM', 'pctimestring': '8:27', 'ho ... (592 characters truncated) ... None, 'player3_team_id': None, 'player3_team_city': None, 'player3_team_nickname': None, 'player3_team_abbreviation': None, 'video_available_flag': 0}, {'game_id': 21000003, 'eventnum': 40, 'eventmsgtype': 2, 'eventmsgactiontype': 1, 'period': 1, 'wctimestring': '10:58 PM', 'pctimestring': '8:16', 'ho ... (593 characters truncated) ... None, 'player3_team_id': None, 'player3_team_city': None, 'player3_team_nickname': None, 'player3_team_abbreviation': None, 'video_available_flag': 0}, {'game_id': 21000003, 'eventnum': 41, 'eventmsgtype': 4, 'eventmsgactiontype': 0, 'period': 1, 'wctimestring': '10:58 PM', 'pctimestring': '8:14', 'ho ... (581 characters truncated) ... None, 'player3_team_id': None, 'player3_team_city': None, 'player3_team_nickname': None, 'player3_team_abbreviation': None, 'video_available_flag': 0}, {'game_id': 21000003, 'eventnum': 44, 'eventmsgtype': 6, 'eventmsgactiontype': 2, 'period': 1, 'wctimestring': '10:59 PM', 'pctimestring': '7:53', 'ho ... (617 characters truncated) ... None, 'player3_team_id': None, 'player3_team_city': None, 'player3_team_nickname': None, 'player3_team_abbreviation': None, 'video_available_flag': 0}, {'game_id': 21000003, 'eventnum': 45, 'eventmsgtype': 3, 'eventmsgactiontype': 11, 'period': 1, 'wctimestring': '10:59 PM', 'pctimestring': '7:53', 'h ... (588 characters truncated) ... None, 'player3_team_id': None, 'player3_team_city': None, 'player3_team_nickname': None, 'player3_team_abbreviation': None, 'video_available_flag': 0}, {'game_id': 21000003, 'eventnum': 47, 'eventmsgtype': 3, 'eventmsgactiontype': 12, 'period': 1, 'wctimestring': '10:59 PM', 'pctimestring': '7:53', 'h ... (590 characters truncated) ... None, 'player3_team_id': None, 'player3_team_city': None, 'player3_team_nickname': None, 'player3_team_abbreviation': None, 'video_available_flag': 0}, {'game_id': 21000003, 'eventnum': 49, 'eventmsgtype': 2, 'eventmsgactiontype': 1, 'period': 1, 'wctimestring': '11:00 PM', 'pctimestring': '7:41', 'ho ... (577 characters truncated) ... None, 'player3_team_id': None, 'player3_team_city': None, 'player3_team_nickname': None, 'player3_team_abbreviation': None, 'video_available_flag': 0}, {'game_id': 21000003, 'eventnum': 50, 'eventmsgtype': 4, 'eventmsgactiontype': 0, 'period': 1, 'wctimestring': '11:00 PM', 'pctimestring': '7:40', 'ho ... (572 characters truncated) ... None, 'player3_team_id': None, 'player3_team_city': None, 'player3_team_nickname': None, 'player3_team_abbreviation': None, 'video_available_flag': 0}, {'game_id': 21000003, 'eventnum': 51, 'eventmsgtype': 2, 'eventmsgactiontype': 58, 'period': 1, 'wctimestring': '11:00 PM', 'pctimestring': '7:31', 'h ... (584 characters truncated) ... None, 'player3_team_id': None, 'player3_team_city': None, 'player3_team_nickname': None, 'player3_team_abbreviation': None, 'video_available_flag': 0}, {'game_id': 21000003, 'eventnum': 52, 'eventmsgtype': 4, 'eventmsgactiontype': 0, 'period': 1, 'wctimestring': '11:00 PM', 'pctimestring': '7:30', 'ho ... (542 characters truncated) ... None, 'player3_team_id': None, 'player3_team_city': None, 'player3_team_nickname': None, 'player3_team_abbreviation': None, 'video_available_flag': 0}, {'game_id': 21000003, 'eventnum': 53, 'eventmsgtype': 6, 'eventmsgactiontype': 3, 'period': 1, 'wctimestring': '11:00 PM', 'pctimestring': '7:30', 'ho ... (599 characters truncated) ... None, 'player3_team_id': None, 'player3_team_city': None, 'player3_team_nickname': None, 'player3_team_abbreviation': None, 'video_available_flag': 0}, {'game_id': 21000003, 'eventnum': 54, 'eventmsgtype': 2, 'eventmsgactiontype': 1, 'period': 1, 'wctimestring': '11:00 PM', 'pctimestring': '7:14', 'ho ... (574 characters truncated) ... None, 'player3_team_id': None, 'player3_team_city': None, 'player3_team_nickname': None, 'player3_team_abbreviation': None, 'video_available_flag': 0}, {'game_id': 21000003, 'eventnum': 55, 'eventmsgtype': 4, 'eventmsgactiontype': 0, 'period': 1, 'wctimestring': '11:00 PM', 'pctimestring': '7:13', 'ho ... (576 characters truncated) ... None, 'player3_team_id': None, 'player3_team_city': None, 'player3_team_nickname': None, 'player3_team_abbreviation': None, 'video_available_flag': 0}, {'game_id': 21000003, 'eventnum': 56, 'eventmsgtype': 1, 'eventmsgactiontype': 1, 'period': 1, 'wctimestring': '11:01 PM', 'pctimestring': '7:07', 'ho ... (631 characters truncated) ... None, 'player3_team_id': None, 'player3_team_city': None, 'player3_team_nickname': None, 'player3_team_abbreviation': None, 'video_available_flag': 0}, {'game_id': 21000003, 'eventnum': 57, 'eventmsgtype': 2, 'eventmsgactiontype': 1, 'period': 1, 'wctimestring': '11:01 PM', 'pctimestring': '6:50', 'ho ... (586 characters truncated) ... None, 'player3_team_id': None, 'player3_team_city': None, 'player3_team_nickname': None, 'player3_team_abbreviation': None, 'video_available_flag': 0} ... 4564834 parameters truncated ... {'game_id': 31900001, 'eventnum': 775, 'eventmsgtype': 1, 'eventmsgactiontype': 86, 'period': 4, 'wctimestring': '11:10 PM', 'pctimestring': '0:00', ' ... (598 characters truncated) ... None, 'player3_team_id': None, 'player3_team_city': None, 'player3_team_nickname': None, 'player3_team_abbreviation': None, 'video_available_flag': 1}, {'game_id': 31900001, 'eventnum': 776, 'eventmsgtype': 2, 'eventmsgactiontype': 80, 'period': 4, 'wctimestring': '11:11 PM', 'pctimestring': '0:00', ' ... (587 characters truncated) ... None, 'player3_team_id': None, 'player3_team_city': None, 'player3_team_nickname': None, 'player3_team_abbreviation': None, 'video_available_flag': 1}, {'game_id': 31900001, 'eventnum': 777, 'eventmsgtype': 4, 'eventmsgactiontype': 0, 'period': 4, 'wctimestring': '11:11 PM', 'pctimestring': '0:00', 'h ... (581 characters truncated) ... None, 'player3_team_id': None, 'player3_team_city': None, 'player3_team_nickname': None, 'player3_team_abbreviation': None, 'video_available_flag': 1}, {'game_id': 31900001, 'eventnum': 786, 'eventmsgtype': 2, 'eventmsgactiontype': 6, 'period': 4, 'wctimestring': '11:11 PM', 'pctimestring': '0:00', 'h ... (626 characters truncated) ... team_id': 1610616834.0, 'player3_team_city': 'Team', 'player3_team_nickname': 'LeBron', 'player3_team_abbreviation': 'LBN', 'video_available_flag': 0}, {'game_id': 31900001, 'eventnum': 788, 'eventmsgtype': 4, 'eventmsgactiontype': 0, 'period': 4, 'wctimestring': '11:11 PM', 'pctimestring': '0:00', 'h ... (543 characters truncated) ... None, 'player3_team_id': None, 'player3_team_city': None, 'player3_team_nickname': None, 'player3_team_abbreviation': None, 'video_available_flag': 0}, {'game_id': 31900001, 'eventnum': 809, 'eventmsgtype': 9, 'eventmsgactiontype': 7, 'period': 4, 'wctimestring': '11:11 PM', 'pctimestring': '0:00', 'h ... (576 characters truncated) ... None, 'player3_team_id': None, 'player3_team_city': None, 'player3_team_nickname': None, 'player3_team_abbreviation': None, 'video_available_flag': 0}, {'game_id': 31900001, 'eventnum': 781, 'eventmsgtype': 18, 'eventmsgactiontype': 5, 'period': 4, 'wctimestring': '11:12 PM', 'pctimestring': '0:00', ' ... (570 characters truncated) ... None, 'player3_team_id': None, 'player3_team_city': None, 'player3_team_nickname': None, 'player3_team_abbreviation': None, 'video_available_flag': 1}, {'game_id': 31900001, 'eventnum': 782, 'eventmsgtype': 2, 'eventmsgactiontype': 1, 'period': 4, 'wctimestring': '11:14 PM', 'pctimestring': '0:00', 'h ... (576 characters truncated) ... None, 'player3_team_id': None, 'player3_team_city': None, 'player3_team_nickname': None, 'player3_team_abbreviation': None, 'video_available_flag': 1}, {'game_id': 31900001, 'eventnum': 783, 'eventmsgtype': 4, 'eventmsgactiontype': 0, 'period': 4, 'wctimestring': '11:14 PM', 'pctimestring': '0:00', 'h ... (578 characters truncated) ... None, 'player3_team_id': None, 'player3_team_city': None, 'player3_team_nickname': None, 'player3_team_abbreviation': None, 'video_available_flag': 1}, {'game_id': 31900001, 'eventnum': 784, 'eventmsgtype': 5, 'eventmsgactiontype': 1, 'period': 4, 'wctimestring': '11:14 PM', 'pctimestring': '0:00', 'h ... (633 characters truncated) ... None, 'player3_team_id': None, 'player3_team_city': None, 'player3_team_nickname': None, 'player3_team_abbreviation': None, 'video_available_flag': 1}, {'game_id': 31900001, 'eventnum': 789, 'eventmsgtype': 6, 'eventmsgactiontype': 1, 'period': 4, 'wctimestring': '11:15 PM', 'pctimestring': '0:00', 'h ... (631 characters truncated) ... None, 'player3_team_id': None, 'player3_team_city': None, 'player3_team_nickname': None, 'player3_team_abbreviation': None, 'video_available_flag': 1}, {'game_id': 31900001, 'eventnum': 791, 'eventmsgtype': 3, 'eventmsgactiontype': 11, 'period': 4, 'wctimestring': '11:15 PM', 'pctimestring': '0:00', ' ... (591 characters truncated) ... None, 'player3_team_id': None, 'player3_team_city': None, 'player3_team_nickname': None, 'player3_team_abbreviation': None, 'video_available_flag': 1}, {'game_id': 31900001, 'eventnum': 792, 'eventmsgtype': 10, 'eventmsgactiontype': 1, 'period': 4, 'wctimestring': '11:15 PM', 'pctimestring': '0:00', ' ... (606 characters truncated) ... None, 'player3_team_id': None, 'player3_team_city': None, 'player3_team_nickname': None, 'player3_team_abbreviation': None, 'video_available_flag': 0}, {'game_id': 31900001, 'eventnum': 795, 'eventmsgtype': 3, 'eventmsgactiontype': 12, 'period': 4, 'wctimestring': '11:15 PM', 'pctimestring': '0:00', ' ... (591 characters truncated) ... None, 'player3_team_id': None, 'player3_team_city': None, 'player3_team_nickname': None, 'player3_team_abbreviation': None, 'video_available_flag': 1}, {'game_id': 31900001, 'eventnum': 796, 'eventmsgtype': 6, 'eventmsgactiontype': 2, 'period': 4, 'wctimestring': '11:16 PM', 'pctimestring': '0:00', 'h ... (614 characters truncated) ... None, 'player3_team_id': None, 'player3_team_city': None, 'player3_team_nickname': None, 'player3_team_abbreviation': None, 'video_available_flag': 1}, {'game_id': 31900001, 'eventnum': 798, 'eventmsgtype': 3, 'eventmsgactiontype': 11, 'period': 4, 'wctimestring': '11:16 PM', 'pctimestring': '0:00', ' ... (594 characters truncated) ... None, 'player3_team_id': None, 'player3_team_city': None, 'player3_team_nickname': None, 'player3_team_abbreviation': None, 'video_available_flag': 1}, {'game_id': 31900001, 'eventnum': 801, 'eventmsgtype': 3, 'eventmsgactiontype': 12, 'period': 4, 'wctimestring': '11:16 PM', 'pctimestring': '0:00', ' ... (583 characters truncated) ... None, 'player3_team_id': None, 'player3_team_city': None, 'player3_team_nickname': None, 'player3_team_abbreviation': None, 'video_available_flag': 1}, {'game_id': 31900001, 'eventnum': 802, 'eventmsgtype': 4, 'eventmsgactiontype': 0, 'period': 4, 'wctimestring': '11:16 PM', 'pctimestring': '0:00', 'h ... (574 characters truncated) ... None, 'player3_team_id': None, 'player3_team_city': None, 'player3_team_nickname': None, 'player3_team_abbreviation': None, 'video_available_flag': 1}, {'game_id': 31900001, 'eventnum': 803, 'eventmsgtype': 2, 'eventmsgactiontype': 1, 'period': 4, 'wctimestring': '11:17 PM', 'pctimestring': '0:00', 'h ... (581 characters truncated) ... None, 'player3_team_id': None, 'player3_team_city': None, 'player3_team_nickname': None, 'player3_team_abbreviation': None, 'video_available_flag': 1}, {'game_id': 31900001, 'eventnum': 804, 'eventmsgtype': 4, 'eventmsgactiontype': 0, 'period': 4, 'wctimestring': '11:17 PM', 'pctimestring': '0:00', 'h ... (578 characters truncated) ... None, 'player3_team_id': None, 'player3_team_city': None, 'player3_team_nickname': None, 'player3_team_abbreviation': None, 'video_available_flag': 1}, {'game_id': 31900001, 'eventnum': 805, 'eventmsgtype': 5, 'eventmsgactiontype': 40, 'period': 4, 'wctimestring': '11:17 PM', 'pctimestring': '0:00', ' ... (600 characters truncated) ... None, 'player3_team_id': None, 'player3_team_city': None, 'player3_team_nickname': None, 'player3_team_abbreviation': None, 'video_available_flag': 1}, {'game_id': 31900001, 'eventnum': 806, 'eventmsgtype': 2, 'eventmsgactiontype': 6, 'period': 4, 'wctimestring': '11:18 PM', 'pctimestring': '0:00', 'h ... (640 characters truncated) ... eam_id': 1610616833.0, 'player3_team_city': 'Team', 'player3_team_nickname': 'Giannis', 'player3_team_abbreviation': 'GNS', 'video_available_flag': 1}, {'game_id': 31900001, 'eventnum': 810, 'eventmsgtype': 4, 'eventmsgactiontype': 0, 'period': 4, 'wctimestring': '11:18 PM', 'pctimestring': '0:00', 'h ... (543 characters truncated) ... None, 'player3_team_id': None, 'player3_team_city': None, 'player3_team_nickname': None, 'player3_team_abbreviation': None, 'video_available_flag': 0}, {'game_id': 31900001, 'eventnum': 808, 'eventmsgtype': 18, 'eventmsgactiontype': 1, 'period': 4, 'wctimestring': '11:18 PM', 'pctimestring': '0:00', ' ... (569 characters truncated) ... None, 'player3_team_id': None, 'player3_team_city': None, 'player3_team_nickname': None, 'player3_team_abbreviation': None, 'video_available_flag': 0}, {'game_id': 31900001, 'eventnum': 812, 'eventmsgtype': 10, 'eventmsgactiontype': 0, 'period': 4, 'wctimestring': '11:21 PM', 'pctimestring': '0:00', ' ... (670 characters truncated) ... team_id': 1610616834.0, 'player3_team_city': 'Team', 'player3_team_nickname': 'LeBron', 'player3_team_abbreviation': 'LBN', 'video_available_flag': 1}, {'game_id': 31900001, 'eventnum': 815, 'eventmsgtype': 2, 'eventmsgactiontype': 79, 'period': 4, 'wctimestring': '11:21 PM', 'pctimestring': '0:00', ' ... (584 characters truncated) ... None, 'player3_team_id': None, 'player3_team_city': None, 'player3_team_nickname': None, 'player3_team_abbreviation': None, 'video_available_flag': 1}, {'game_id': 31900001, 'eventnum': 816, 'eventmsgtype': 4, 'eventmsgactiontype': 0, 'period': 4, 'wctimestring': '11:21 PM', 'pctimestring': '0:00', 'h ... (578 characters truncated) ... None, 'player3_team_id': None, 'player3_team_city': None, 'player3_team_nickname': None, 'player3_team_abbreviation': None, 'video_available_flag': 1}, {'game_id': 31900001, 'eventnum': 817, 'eventmsgtype': 2, 'eventmsgactiontype': 63, 'period': 4, 'wctimestring': '11:21 PM', 'pctimestring': '0:00', ' ... (579 characters truncated) ... None, 'player3_team_id': None, 'player3_team_city': None, 'player3_team_nickname': None, 'player3_team_abbreviation': None, 'video_available_flag': 1}, {'game_id': 31900001, 'eventnum': 818, 'eventmsgtype': 4, 'eventmsgactiontype': 0, 'period': 4, 'wctimestring': '11:21 PM', 'pctimestring': '0:00', 'h ... (578 characters truncated) ... None, 'player3_team_id': None, 'player3_team_city': None, 'player3_team_nickname': None, 'player3_team_abbreviation': None, 'video_available_flag': 1}, {'game_id': 31900001, 'eventnum': 819, 'eventmsgtype': 6, 'eventmsgactiontype': 4, 'period': 4, 'wctimestring': '11:21 PM', 'pctimestring': '0:00', 'h ... (609 characters truncated) ... None, 'player3_team_id': None, 'player3_team_city': None, 'player3_team_nickname': None, 'player3_team_abbreviation': None, 'video_available_flag': 1}, {'game_id': 31900001, 'eventnum': 821, 'eventmsgtype': 5, 'eventmsgactiontype': 37, 'period': 4, 'wctimestring': '11:21 PM', 'pctimestring': '0:00', ' ... (590 characters truncated) ... None, 'player3_team_id': None, 'player3_team_city': None, 'player3_team_nickname': None, 'player3_team_abbreviation': None, 'video_available_flag': 1}, {'game_id': 31900001, 'eventnum': 822, 'eventmsgtype': 9, 'eventmsgactiontype': 1, 'period': 4, 'wctimestring': '11:22 PM', 'pctimestring': '0:00', 'h ... (570 characters truncated) ... None, 'player3_team_id': None, 'player3_team_city': None, 'player3_team_nickname': None, 'player3_team_abbreviation': None, 'video_available_flag': 0}, {'game_id': 31900001, 'eventnum': 823, 'eventmsgtype': 6, 'eventmsgactiontype': 26, 'period': 4, 'wctimestring': '11:24 PM', 'pctimestring': '0:00', ' ... (629 characters truncated) ... None, 'player3_team_id': None, 'player3_team_city': None, 'player3_team_nickname': None, 'player3_team_abbreviation': None, 'video_available_flag': 0}, {'game_id': 31900001, 'eventnum': 825, 'eventmsgtype': 5, 'eventmsgactiontype': 37, 'period': 4, 'wctimestring': '11:24 PM', 'pctimestring': '0:00', ' ... (588 characters truncated) ... None, 'player3_team_id': None, 'player3_team_city': None, 'player3_team_nickname': None, 'player3_team_abbreviation': None, 'video_available_flag': 0}, {'game_id': 31900001, 'eventnum': 826, 'eventmsgtype': 1, 'eventmsgactiontype': 9, 'period': 4, 'wctimestring': '11:24 PM', 'pctimestring': '0:00', 'h ... (585 characters truncated) ... None, 'player3_team_id': None, 'player3_team_city': None, 'player3_team_nickname': None, 'player3_team_abbreviation': None, 'video_available_flag': 1}, {'game_id': 31900001, 'eventnum': 827, 'eventmsgtype': 2, 'eventmsgactiontype': 6, 'period': 4, 'wctimestring': '11:24 PM', 'pctimestring': '0:00', 'h ... (629 characters truncated) ... team_id': 1610616834.0, 'player3_team_city': 'Team', 'player3_team_nickname': 'LeBron', 'player3_team_abbreviation': 'LBN', 'video_available_flag': 1}, {'game_id': 31900001, 'eventnum': 829, 'eventmsgtype': 4, 'eventmsgactiontype': 0, 'period': 4, 'wctimestring': '11:24 PM', 'pctimestring': '0:00', 'h ... (543 characters truncated) ... None, 'player3_team_id': None, 'player3_team_city': None, 'player3_team_nickname': None, 'player3_team_abbreviation': None, 'video_available_flag': 0}, {'game_id': 31900001, 'eventnum': 831, 'eventmsgtype': 2, 'eventmsgactiontype': 79, 'period': 4, 'wctimestring': '11:25 PM', 'pctimestring': '0:00', ' ... (583 characters truncated) ... None, 'player3_team_id': None, 'player3_team_city': None, 'player3_team_nickname': None, 'player3_team_abbreviation': None, 'video_available_flag': 1}, {'game_id': 31900001, 'eventnum': 832, 'eventmsgtype': 4, 'eventmsgactiontype': 0, 'period': 4, 'wctimestring': '11:25 PM', 'pctimestring': '0:00', 'h ... (576 characters truncated) ... None, 'player3_team_id': None, 'player3_team_city': None, 'player3_team_nickname': None, 'player3_team_abbreviation': None, 'video_available_flag': 1}, {'game_id': 31900001, 'eventnum': 833, 'eventmsgtype': 6, 'eventmsgactiontype': 1, 'period': 4, 'wctimestring': '11:25 PM', 'pctimestring': '0:00', 'h ... (608 characters truncated) ... None, 'player3_team_id': None, 'player3_team_city': None, 'player3_team_nickname': None, 'player3_team_abbreviation': None, 'video_available_flag': 1}, {'game_id': 31900001, 'eventnum': 835, 'eventmsgtype': 3, 'eventmsgactiontype': 11, 'period': 4, 'wctimestring': '11:26 PM', 'pctimestring': '0:00', ' ... (591 characters truncated) ... None, 'player3_team_id': None, 'player3_team_city': None, 'player3_team_nickname': None, 'player3_team_abbreviation': None, 'video_available_flag': 1}, {'game_id': 31900001, 'eventnum': 836, 'eventmsgtype': 3, 'eventmsgactiontype': 12, 'period': 4, 'wctimestring': '11:26 PM', 'pctimestring': '0:00', ' ... (591 characters truncated) ... None, 'player3_team_id': None, 'player3_team_city': None, 'player3_team_nickname': None, 'player3_team_abbreviation': None, 'video_available_flag': 1}, {'game_id': 31900001, 'eventnum': 837, 'eventmsgtype': 9, 'eventmsgactiontype': 1, 'period': 4, 'wctimestring': '11:26 PM', 'pctimestring': '0:00', 'h ... (568 characters truncated) ... None, 'player3_team_id': None, 'player3_team_city': None, 'player3_team_nickname': None, 'player3_team_abbreviation': None, 'video_available_flag': 0}, {'game_id': 31900001, 'eventnum': 838, 'eventmsgtype': 6, 'eventmsgactiontype': 1, 'period': 4, 'wctimestring': '11:28 PM', 'pctimestring': '0:00', 'h ... (610 characters truncated) ... None, 'player3_team_id': None, 'player3_team_city': None, 'player3_team_nickname': None, 'player3_team_abbreviation': None, 'video_available_flag': 1}, {'game_id': 31900001, 'eventnum': 840, 'eventmsgtype': 9, 'eventmsgactiontype': 1, 'period': 4, 'wctimestring': '11:29 PM', 'pctimestring': '0:00', 'h ... (570 characters truncated) ... None, 'player3_team_id': None, 'player3_team_city': None, 'player3_team_nickname': None, 'player3_team_abbreviation': None, 'video_available_flag': 0}, {'game_id': 31900001, 'eventnum': 841, 'eventmsgtype': 18, 'eventmsgactiontype': 4, 'period': 4, 'wctimestring': '11:29 PM', 'pctimestring': '0:00', ' ... (569 characters truncated) ... None, 'player3_team_id': None, 'player3_team_city': None, 'player3_team_nickname': None, 'player3_team_abbreviation': None, 'video_available_flag': 1}, {'game_id': 31900001, 'eventnum': 842, 'eventmsgtype': 3, 'eventmsgactiontype': 11, 'period': 4, 'wctimestring': '11:31 PM', 'pctimestring': '0:00', ' ... (580 characters truncated) ... None, 'player3_team_id': None, 'player3_team_city': None, 'player3_team_nickname': None, 'player3_team_abbreviation': None, 'video_available_flag': 1}, {'game_id': 31900001, 'eventnum': 843, 'eventmsgtype': 4, 'eventmsgactiontype': 1, 'period': 4, 'wctimestring': '11:31 PM', 'pctimestring': '0:00', 'h ... (543 characters truncated) ... None, 'player3_team_id': None, 'player3_team_city': None, 'player3_team_nickname': None, 'player3_team_abbreviation': None, 'video_available_flag': 0}, {'game_id': 31900001, 'eventnum': 844, 'eventmsgtype': 3, 'eventmsgactiontype': 12, 'period': 4, 'wctimestring': '11:31 PM', 'pctimestring': '0:00', ' ... (591 characters truncated) ... None, 'player3_team_id': None, 'player3_team_city': None, 'player3_team_nickname': None, 'player3_team_abbreviation': None, 'video_available_flag': 1}, {'game_id': 31900001, 'eventnum': 845, 'eventmsgtype': 13, 'eventmsgactiontype': 0, 'period': 4, 'wctimestring': '11:35 PM', 'pctimestring': '0:00', ' ... (560 characters truncated) ... None, 'player3_team_id': None, 'player3_team_city': None, 'player3_team_nickname': None, 'player3_team_abbreviation': None, 'video_available_flag': 1}]]"
     ]
    }
   ],
   "source": [
    "from sqlalchemy import create_engine\n",
    "\n",
    "# Creamos las variables de conexion\n",
    "usuario = 'fernando.robles.mdq@gmail.com'\n",
    "password = 'Ferdata25'\n",
    "host = '34.95.187.212'\n",
    "db = 'nba-statvision'\n",
    "puerto = '3306'\n",
    "\n",
    "# leemos el archivo csv:\n",
    "df = pd.read_csv(r'C:\\Users\\Fernando\\Desktop\\CSV de NBA\\archive\\csv\\juego_por_juego.csv')\n",
    "\n",
    "#Crecion de motor de conexión.\n",
    "engine = create_engine(f'mysql+mysqlconnector://{usuario}:{password}@{host}:{puerto}/{db}')\n",
    "\n",
    "df.to_sql('nombre_tabla_destino', con=engine, if_exists='append', index=False)\n"
   ]
  },
  {
   "cell_type": "markdown",
   "id": "eabd2ba4",
   "metadata": {},
   "source": [
    "Aqui Creó la tabla en la base de datos de Google Cloude, pero no llevo ningun dato, porque el archivo .csv, \n",
    "es muy grande y se deve realizar con 'CHUNK'. Pero se pudo comprobar de que si hay conexion y se puede crear una tabla desde Python, exportando el archivo .csv, sin necesidad de crear la tabla en Google Cloud."
   ]
  },
  {
   "cell_type": "markdown",
   "id": "3374cba3",
   "metadata": {},
   "source": [
    "# ------------------------------------"
   ]
  },
  {
   "cell_type": "markdown",
   "id": "59ca313a",
   "metadata": {},
   "source": [
    "CARGA DE DATOS A UNA TABLA"
   ]
  },
  {
   "cell_type": "markdown",
   "id": "0718d471",
   "metadata": {},
   "source": [
    "Cargamos un dato a una tabla de la BBDD en Google Cloud por ejemplo: nombre_tabla_destino"
   ]
  },
  {
   "cell_type": "code",
   "execution_count": 1,
   "id": "080e90c7",
   "metadata": {},
   "outputs": [
    {
     "name": "stdout",
     "output_type": "stream",
     "text": [
      "Fila insertada correctamente.\n"
     ]
    }
   ],
   "source": [
    "import pandas as pd\n",
    "from sqlalchemy import create_engine\n",
    "\n",
    "# Configuración de conexión\n",
    "usuario = 'fernando.robles.mdq@gmail.com'\n",
    "password = 'Ferdata25'\n",
    "host = '34.95.187.212'\n",
    "db = 'nba-statvision'\n",
    "puerto = '3306'\n",
    "\n",
    "engine = create_engine(f'mysql+mysqlconnector://{usuario}:{password}@{host}:{puerto}/{db}')\n",
    "\n",
    "# Armo un diccionario con los datos de la fila a insertar \n",
    "nuevo_dato = {\n",
    "    'game_id': 99999999,\n",
    "    'eventnum': 1,\n",
    "    'eventmsgtype': 10,\n",
    "    'eventmsgactiontype': 5,\n",
    "    'period': 1,\n",
    "    'wctimestring': '08:00 PM',\n",
    "    'pctimestring': '12:00',\n",
    "    'homedescription': 'Ejemplo',\n",
    "    'neutraldescription': None,\n",
    "    'visitordescription': None,\n",
    "    'score': None,\n",
    "    'scoremargin': None,\n",
    "    'person1type': None,\n",
    "    'player1_id': 12345,\n",
    "    'player1_name': 'Jugador Ejemplo',\n",
    "    'player1_team_id': 1610612747,\n",
    "    'player1_team_city': 'Los Angeles',\n",
    "    'player1_team_nickname': 'Lakers',\n",
    "    'player1_team_abbreviation': 'LAL',\n",
    "    # ...completá con el resto de campos que tu tabla requiera\n",
    "    'video_available_flag': 1\n",
    "}\n",
    "\n",
    "# Convertí el diccionario en DataFrame de una sola fila\n",
    "df_fila = pd.DataFrame([nuevo_dato])\n",
    "\n",
    "# Subilo a la tabla\n",
    "df_fila.to_sql('nombre_tabla_destino', con=engine, if_exists='append', index=False)\n",
    "\n",
    "print(\"Fila insertada correctamente.\")\n"
   ]
  },
  {
   "cell_type": "markdown",
   "id": "f83a2c49",
   "metadata": {},
   "source": [
    "# ---------------------------------"
   ]
  },
  {
   "cell_type": "markdown",
   "id": "05fe5abd",
   "metadata": {},
   "source": [
    "Otra manera de subir un dato a una tabla es con query de SQL"
   ]
  },
  {
   "cell_type": "code",
   "execution_count": 6,
   "id": "eeeb18ee",
   "metadata": {},
   "outputs": [
    {
     "name": "stdout",
     "output_type": "stream",
     "text": [
      "1 fila insertada.\n"
     ]
    }
   ],
   "source": [
    "import mysql.connector\n",
    "\n",
    "config = {\n",
    "    'user': 'fernando.robles.mdq@gmail.com',\n",
    "    'password': 'Ferdata25',\n",
    "    'host': '34.95.187.212',\n",
    "    'database': 'nba-statvision',\n",
    "    'port': 3306\n",
    "}\n",
    "\n",
    "conn = mysql.connector.connect(**config)\n",
    "cursor = conn.cursor()\n",
    "\n",
    "sql = \"\"\"\n",
    "INSERT INTO nombre_tabla_destino (game_id, eventnum, eventmsgtype, eventmsgactiontype, period, wctimestring, pctimestring, homedescription, player1_id, player1_name, player1_team_id, player1_team_city, player1_team_nickname, player1_team_abbreviation, video_available_flag)\n",
    "VALUES (%s, %s, %s, %s, %s, %s, %s, %s, %s, %s, %s, %s, %s, %s, %s)\n",
    "\"\"\"\n",
    "val = (99999998, 2, 5, 7, 1, '09:00 PM', '12:00', 'Otra prueba', 54321, 'Jugador Prueba', 1610612747, 'Los Angeles', 'Lakers', 'LAL', 1)\n",
    "\n",
    "cursor.execute(sql, val)\n",
    "conn.commit()\n",
    "print(cursor.rowcount, \"fila insertada.\")\n",
    "\n",
    "cursor.close()\n",
    "conn.close()\n"
   ]
  },
  {
   "cell_type": "markdown",
   "id": "9cb3eec6",
   "metadata": {},
   "source": [
    "# ----"
   ]
  },
  {
   "cell_type": "markdown",
   "id": "ae114024",
   "metadata": {},
   "source": [
    "Carga de tabla lesiones desde csv (tabla creada en la nube)"
   ]
  },
  {
   "cell_type": "code",
   "execution_count": 7,
   "id": "2c6bedd9",
   "metadata": {},
   "outputs": [],
   "source": [
    "import pandas as pd\n",
    "from sqlalchemy import create_engine\n",
    "\n",
    "ruta_archivo_csv = r'C:\\Users\\Fernando\\Desktop\\CSV de NBA\\lesiones - lesiones.csv'\n",
    "df_lesiones= pd.read_csv(ruta_archivo_csv)\n",
    "\n",
    "df_lesiones['fecha'] = pd.to_datetime(df_lesiones['fecha'], format='%d/%m/%Y').dt.strftime('%Y-%m-%d')\n",
    "df_lesiones.to_csv(r'C:\\Users\\Fernando\\Desktop\\CSV de NBA\\lesiones - lesiones.csv', index=False)\n",
    "\n",
    "\n"
   ]
  },
  {
   "cell_type": "markdown",
   "id": "a1d79d68",
   "metadata": {},
   "source": [
    "CARGA de DATOS a tabla 'lesiones' en Google CLOUD"
   ]
  },
  {
   "cell_type": "code",
   "execution_count": 9,
   "id": "60338dd9",
   "metadata": {},
   "outputs": [
    {
     "data": {
      "text/plain": [
       "27105"
      ]
     },
     "execution_count": 9,
     "metadata": {},
     "output_type": "execute_result"
    }
   ],
   "source": [
    "import pandas as pd\n",
    "from sqlalchemy import create_engine\n",
    "\n",
    "# Leer el CSV limpio\n",
    "df = pd.read_csv(r'C:\\Users\\Fernando\\Desktop\\CSV de NBA\\lesiones - lesiones.csv')\n",
    "\n",
    "# Convertir columna ID a número, lo que no sea número va como NaN (NULL en MySQL)\n",
    "df['ID'] = pd.to_numeric(df['ID'], errors='coerce')\n",
    "\n",
    "# Corregir nombre de columnas si hace falta para que coincidan EXACTAMENTE con la tabla en MySQL\n",
    "\n",
    "\n",
    "# Configuración de conexión\n",
    "usuario = 'fernando.robles.mdq@gmail.com'\n",
    "password = 'Ferdata25'\n",
    "host = '34.95.187.212'\n",
    "db = 'nba-statvision'\n",
    "puerto = '3306'\n",
    "\n",
    "engine = create_engine(f'mysql+mysqlconnector://{usuario}:{password}@{host}:{puerto}/{db}')\n",
    "\n",
    "# Cargar los datos en la tabla (append = agrega, si ya hay datos no los borra)\n",
    "df.to_sql('lesiones', con=engine, if_exists='append', index=False)"
   ]
  },
  {
   "cell_type": "markdown",
   "id": "f3db0093",
   "metadata": {},
   "source": [
    "# -------"
   ]
  },
  {
   "cell_type": "markdown",
   "id": "2541b4cb",
   "metadata": {},
   "source": [
    "Dataset estadistica juego info"
   ]
  },
  {
   "cell_type": "code",
   "execution_count": 6,
   "id": "9f2ecfcb",
   "metadata": {},
   "outputs": [],
   "source": [
    "import pandas as pd\n",
    "from sqlalchemy import create_engine\n",
    "\n",
    "ruta_archivo_csv = r'C:\\Users\\Fernando\\Desktop\\CSV de NBA\\estadistica juego info.csv'\n",
    "df_est= pd.read_csv(ruta_archivo_csv)\n",
    "\n",
    "# # Convertir columna ID a número, lo que no sea número va como NaN (NULL en MySQL)\n",
    "# df_est['id_del_partido'] = pd.to_numeric(df_est['id_del_partido'], errors='coerce')\n",
    "# df_est['id_equipo_local'] = pd.to_numeric(df_est['id_equipo_local], errors='coerce')\n",
    "# df_est['pts_paint_home'] = pd.to_numeric(df_est['ID'], errors='coerce')\n",
    "# df_est['pts_2nd_chance_home'] = pd.to_numeric(df_est['ID'], errors='coerce')\n",
    "# df_est['pts_fb_home'] = pd.to_numeric(df_est['ID'], errors='coerce')\n",
    "# df_est['largest_lead_home'] = pd.to_numeric(df_est['ID'], errors='coerce')\n",
    "# df_est['lead_changes'] = pd.to_numeric(df_est['ID'], errors='coerce')\n",
    "# df_est['times_tied'] = pd.to_numeric(df_est['ID'], errors='coerce')\n",
    "# df_est['id_equipo_visitante'] = pd.to_numeric(df_est['ID'], errors='coerce')\n",
    "# df_est['pts_paint_away'] = pd.to_numeric(df_est['ID'], errors='coerce')\n",
    "# df_est['pts_2nd_chance_away'] = pd.to_numeric(df_est['ID'], errors='coerce')\n",
    "# df_est['pts_fb_away'] = pd.to_numeric(df_est['ID'], errors='coerce')\n",
    "# df_est['largest_lead_away'] = pd.to_numeric(df_est['ID'], errors='coerce')\n",
    "\n",
    "# # Convertir columna FLOAT a número, lo que no sea número va como NaN (NULL en MySQL)\n",
    "# df_est['team_turnovers_home'] = pd.to_numeric(df_est['FLOAT'], errors='coerce')\n",
    "# df_est['total_turnovers_home'] = pd.to_numeric(df_est['FLOAT'], errors='coerce')\n",
    "# df_est['team_rebounds_home'] = pd.to_numeric(df_est['FLOAT'], errors='coerce')\n",
    "# df_est['pts_off_to_home'] = pd.to_numeric(df_est['FLOAT'], errors='coerce')\n",
    "# df_est['team_turnovers_away'] = pd.to_numeric(df_est['FLOAT'], errors='coerce')\n",
    "# df_est['total_turnovers_away'] = pd.to_numeric(df_est['FLOAT'], errors='coerce')\n",
    "# df_est['team_rebounds_away'] = pd.to_numeric(df_est['FLOAT'], errors='coerce')\n",
    "# df_est['pts_off_to_away'] = pd.to_numeric(df_est['FLOAT'], errors='coerce')\n",
    "\n",
    "\n"
   ]
  },
  {
   "cell_type": "markdown",
   "id": "21282db4",
   "metadata": {},
   "source": [
    "Carga de datos a 'tabla estadistica juego info'  en CLOUD"
   ]
  },
  {
   "cell_type": "code",
   "execution_count": 8,
   "id": "a8157279",
   "metadata": {},
   "outputs": [
    {
     "name": "stdout",
     "output_type": "stream",
     "text": [
      "¡Datos insertados correctamente!\n"
     ]
    }
   ],
   "source": [
    "# Configuración de conexión\n",
    "usuario = 'fernando.robles.mdq@gmail.com'\n",
    "password = 'Ferdata25'\n",
    "host = '34.95.187.212'\n",
    "db = 'nba-statvision'\n",
    "puerto = '3306'\n",
    "\n",
    "engine = create_engine(f'mysql+mysqlconnector://{usuario}:{password}@{host}:{puerto}/{db}')\n",
    "\n",
    "df_est.to_sql(\n",
    "    name='estadistica_juego_info',\n",
    "    con=engine,\n",
    "    if_exists='append',  # Cambiar a 'replace' por si se quiere sobreescribir la tabla\n",
    "    index=False\n",
    ")\n",
    "\n",
    "print(\"¡Datos insertados correctamente!\")\n"
   ]
  }
 ],
 "metadata": {
  "kernelspec": {
   "display_name": "Python 3",
   "language": "python",
   "name": "python3"
  },
  "language_info": {
   "codemirror_mode": {
    "name": "ipython",
    "version": 3
   },
   "file_extension": ".py",
   "mimetype": "text/x-python",
   "name": "python",
   "nbconvert_exporter": "python",
   "pygments_lexer": "ipython3",
   "version": "3.13.5"
  }
 },
 "nbformat": 4,
 "nbformat_minor": 5
}
